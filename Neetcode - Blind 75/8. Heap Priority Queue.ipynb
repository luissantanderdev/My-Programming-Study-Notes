{
 "cells": [
  {
   "cell_type": "markdown",
   "metadata": {},
   "source": [
    "# Heap / Priority Queue (Neetcode Blind 75)"
   ]
  },
  {
   "cell_type": "markdown",
   "metadata": {},
   "source": [
    "### Find Median in a Data Stream\n",
    "\n",
    "#### HARD \n",
    "\n",
    "The median is the middle value in a sorted list of integers. For lists of even length, there is no middle value, so the median is the mean of the two middle values.\n",
    "\n",
    "For example:\n",
    "\n",
    "For arr = [1,2,3], the median is 2.\n",
    "For arr = [1,2], the median is (1 + 2) / 2 = 1.5\n",
    "Implement the MedianFinder class:\n",
    "\n",
    "MedianFinder() initializes the MedianFinder object.\n",
    "void addNum(int num) adds the integer num from the data stream to the data structure.\n",
    "double findMedian() returns the median of all elements so far.\n",
    "Example 1:\n",
    "\n",
    "Input:\n",
    "[\"MedianFinder\", \"addNum\", \"1\", \"findMedian\", \"addNum\", \"3\" \"findMedian\", \"addNum\", \"2\", \"findMedian\"]\n",
    "\n",
    "Output:\n",
    "[null, null, 1.0, null, 2.0, null, 2.0]\n",
    "\n",
    "Explanation:\n",
    "MedianFinder medianFinder = new MedianFinder();\n",
    "medianFinder.addNum(1);    // arr = [1]\n",
    "medianFinder.findMedian(); // return 1.0\n",
    "medianFinder.addNum(3);    // arr = [1, 3]\n",
    "medianFinder.findMedian(); // return 2.0\n",
    "medianFinder.addNum(2);    // arr[1, 2, 3]\n",
    "medianFinder.findMedian(); // return 2.0\n",
    "Constraints:\n",
    "\n",
    "-1000 <= num <= 1000\n",
    "findMedian will only be called after adding at least one integer to the data structure."
   ]
  },
  {
   "cell_type": "markdown",
   "metadata": {},
   "source": []
  }
 ],
 "metadata": {
  "language_info": {
   "name": "python"
  }
 },
 "nbformat": 4,
 "nbformat_minor": 2
}
