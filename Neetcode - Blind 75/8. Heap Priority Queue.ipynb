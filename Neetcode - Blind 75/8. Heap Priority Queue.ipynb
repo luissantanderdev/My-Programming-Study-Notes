{
 "cells": [
  {
   "cell_type": "markdown",
   "metadata": {},
   "source": [
    "# Heap / Priority Queue (Neetcode Blind 75)"
   ]
  },
  {
   "cell_type": "markdown",
   "metadata": {},
   "source": [
    "### Find Median in a Data Stream\n",
    "\n",
    "#### HARD \n",
    "\n",
    "The median is the middle value in a sorted list of integers. For lists of even length, there is no middle value, so the median is the mean of the two middle values.\n",
    "\n",
    "For example:\n",
    "\n",
    "For arr = [1,2,3], the median is 2.\n",
    "For arr = [1,2], the median is (1 + 2) / 2 = 1.5\n",
    "Implement the MedianFinder class:\n",
    "\n",
    "MedianFinder() initializes the MedianFinder object.\n",
    "void addNum(int num) adds the integer num from the data stream to the data structure.\n",
    "double findMedian() returns the median of all elements so far.\n",
    "Example 1:\n",
    "\n",
    "Input:\n",
    "[\"MedianFinder\", \"addNum\", \"1\", \"findMedian\", \"addNum\", \"3\" \"findMedian\", \"addNum\", \"2\", \"findMedian\"]\n",
    "\n",
    "Output:\n",
    "[null, null, 1.0, null, 2.0, null, 2.0]\n",
    "\n",
    "Explanation:\n",
    "MedianFinder medianFinder = new MedianFinder();\n",
    "medianFinder.addNum(1);    // arr = [1]\n",
    "medianFinder.findMedian(); // return 1.0\n",
    "medianFinder.addNum(3);    // arr = [1, 3]\n",
    "medianFinder.findMedian(); // return 2.0\n",
    "medianFinder.addNum(2);    // arr[1, 2, 3]\n",
    "medianFinder.findMedian(); // return 2.0\n",
    "Constraints:\n",
    "\n",
    "-1000 <= num <= 1000\n",
    "findMedian will only be called after adding at least one integer to the data structure.\n",
    "\n",
    "### Notes: \n",
    "https://en.wikipedia.org/wiki/Median"
   ]
  },
  {
   "cell_type": "markdown",
   "metadata": {},
   "source": []
  },
  {
   "cell_type": "code",
   "execution_count": 22,
   "metadata": {},
   "outputs": [
    {
     "name": "stdout",
     "output_type": "stream",
     "text": [
      "[1]\n",
      "1\n",
      "[1, 3]\n",
      "2.0\n",
      "[1, 2, 3]\n",
      "2\n"
     ]
    }
   ],
   "source": [
    "import heapq\n",
    "\n",
    "class MedianFinder:\n",
    "    def __init__(self): \n",
    "        self.store = []\n",
    "        self.left = 0\n",
    "        self.median = 0 \n",
    "        self.right = -1\n",
    "        self.size = 0\n",
    "\n",
    "    def heap_sort(self):\n",
    "        sorted_store = [] \n",
    "        for _ in range(self.size):\n",
    "            min_val = heapq.heappop(self.store) \n",
    "            sorted_store.append(min_val)\n",
    "        self.store = sorted_store\n",
    "\n",
    "    def addNum(self, num: int) -> None: \n",
    "        heapq.heappush(self.store, num) \n",
    "        self.size = self.size + 1 \n",
    "        self.right = self.right + 1 \n",
    "\n",
    "        self.heap_sort() \n",
    "\n",
    "        # # Data Set is Even \n",
    "        if (self.size % 2 == 0):\n",
    "            median_index = (self.right - self.left) // 2 \n",
    "            median_index_two = median_index + 1 \n",
    "            self.median = (self.store[median_index] + self.store[median_index_two]) / 2 \n",
    "        else: \n",
    "            median_index = (self.right - self.left) // 2\n",
    "            self.median = self.store[median_index]\n",
    "        print(self.store)\n",
    "\n",
    "    def findMedian(self) -> float: \n",
    "        return self.median \n",
    "\n",
    "input1 = [\"MedianFinder\", \"addNum\", \"1\", \"findMedian\", \"addNum\", \"3\", \"findMedian\", \"addNum\", \"2\", \"findMedian\"]\n",
    "\n",
    "# Problem Set Inputs \n",
    "# 1, 2, 3, 4, 5, 6, 8, 9\n",
    "\n",
    "result = [] \n",
    "m = MedianFinder() \n",
    "\n",
    "m.addNum(1)\n",
    "print(m.findMedian())\n",
    "m.addNum(3) \n",
    "print(m.findMedian())\n",
    "m.addNum(2)\n",
    "print(m.findMedian())"
   ]
  }
 ],
 "metadata": {
  "kernelspec": {
   "display_name": "Python 3",
   "language": "python",
   "name": "python3"
  },
  "language_info": {
   "codemirror_mode": {
    "name": "ipython",
    "version": 3
   },
   "file_extension": ".py",
   "mimetype": "text/x-python",
   "name": "python",
   "nbconvert_exporter": "python",
   "pygments_lexer": "ipython3",
   "version": "3.12.2"
  }
 },
 "nbformat": 4,
 "nbformat_minor": 2
}
