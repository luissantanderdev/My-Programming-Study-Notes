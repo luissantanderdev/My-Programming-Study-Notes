{
 "cells": [
  {
   "cell_type": "markdown",
   "metadata": {},
   "source": [
    "# Stack Problems (Neetcode Blind 75)\n",
    "\n",
    "### Validate Parentheses\n",
    "\n",
    "You are given a string s consisting of the following characters: '(', ')', '{', '}', '[' and ']'.\n",
    "\n",
    "The input string s is valid if and only if:\n",
    "\n",
    "Every open bracket is closed by the same type of close bracket.\n",
    "Open brackets are closed in the correct order.\n",
    "Every close bracket has a corresponding open bracket of the same type.\n",
    "Return true if s is a valid string, and false otherwise.\n",
    "\n",
    "Example 1:\n",
    "\n",
    "Input: s = \"[]\"\n",
    "\n",
    "Output: true\n",
    "Example 2:\n",
    "\n",
    "Input: s = \"([{}])\"\n",
    "\n",
    "Output: true\n",
    "Example 3:\n",
    "\n",
    "Input: s = \"[(])\"\n",
    "\n",
    "Output: false\n",
    "Explanation: The brackets are not closed in the correct order.\n",
    "\n",
    "Constraints:\n",
    "\n",
    "- 1 <= s.length <= 1000"
   ]
  },
  {
   "cell_type": "code",
   "execution_count": 33,
   "metadata": {},
   "outputs": [
    {
     "name": "stdout",
     "output_type": "stream",
     "text": [
      "True\n",
      "True\n",
      "False\n",
      "False\n"
     ]
    }
   ],
   "source": [
    "def is_valid(s: str) -> bool: \n",
    "    '''checks if the string of brackets are validly closed'''\n",
    "    stack = [] \n",
    "\n",
    "    for c in s: \n",
    "        # Bracket is open \n",
    "        if (c == '(' or c == '{' or c == '['):\n",
    "            stack.append(c) \n",
    "        # is a closed bracket so we compare with it's opposite \n",
    "        elif (len(stack) == 0):\n",
    "            return False \n",
    "        else:                \n",
    "            open_bracket = stack.pop()\n",
    "            if (c == ']' and open_bracket != '[' \n",
    "            or c == '}' and open_bracket != '{'\n",
    "            or c == ')' and open_bracket != '('):\n",
    "                return False \n",
    "\n",
    "    if (len(stack) > 0):\n",
    "        return False\n",
    "    \n",
    "    return True \n",
    "\n",
    "\n",
    "\n",
    "\n",
    "\n",
    "print(is_valid('[]'))\n",
    "print(is_valid(\"([{}])\"))\n",
    "print(is_valid('[(])]'))\n",
    "print(is_valid('['))"
   ]
  }
 ],
 "metadata": {
  "kernelspec": {
   "display_name": "Python 3",
   "language": "python",
   "name": "python3"
  },
  "language_info": {
   "codemirror_mode": {
    "name": "ipython",
    "version": 3
   },
   "file_extension": ".py",
   "mimetype": "text/x-python",
   "name": "python",
   "nbconvert_exporter": "python",
   "pygments_lexer": "ipython3",
   "version": "3.12.2"
  }
 },
 "nbformat": 4,
 "nbformat_minor": 2
}
