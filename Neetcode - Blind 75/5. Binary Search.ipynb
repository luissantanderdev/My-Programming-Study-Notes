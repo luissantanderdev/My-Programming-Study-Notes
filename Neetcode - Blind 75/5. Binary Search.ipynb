{
 "cells": [
  {
   "cell_type": "markdown",
   "metadata": {},
   "source": [
    "# Binary Search (Neetcode Blind 75)"
   ]
  },
  {
   "cell_type": "markdown",
   "metadata": {},
   "source": [
    "### Find Minimum in Rotated Sorted Array\n",
    "You are given an array of length n which was originally sorted in ascending order. It has now been rotated between 1 and n times. For example, the array nums = [1,2,3,4,5,6] might become:\n",
    "\n",
    "[3,4,5,6,1,2] if it was rotated 4 times.\n",
    "[1,2,3,4,5,6] if it was rotated 6 times.\n",
    "Notice that rotating the array 4 times moves the last four elements of the array to the beginning. Rotating the array 6 times produces the original array.\n",
    "\n",
    "Assuming all elements in the rotated sorted array nums are unique, return the minimum element of this array.\n",
    "\n",
    "A solution that runs in O(n) time is trivial, can you write an algorithm that runs in O(log n) time?\n",
    "\n",
    "Example 1:\n",
    "\n",
    "Input: nums = [3,4,5,6,1,2]\n",
    "\n",
    "Output: 1\n",
    "Example 2:\n",
    "\n",
    "Input: nums = [4,5,0,1,2,3]\n",
    "\n",
    "Output: 0\n",
    "Example 3:\n",
    "\n",
    "Input: nums = [4,5,6,7]\n",
    "\n",
    "Output: 4\n",
    "Constraints:\n",
    "\n",
    "- 1 <= nums.length <= 1000\n",
    "- -1000 <= nums[i] <= 1000"
   ]
  },
  {
   "cell_type": "code",
   "execution_count": 2,
   "metadata": {},
   "outputs": [
    {
     "name": "stdout",
     "output_type": "stream",
     "text": [
      "[3, 4, 5, 6, 1, 2]\n",
      "[6, 1, 2]\n",
      "[6, 1]\n",
      "[1]\n",
      "1\n"
     ]
    }
   ],
   "source": [
    "from typing import List \n",
    "\n",
    "def find_min(nums: List[int]) -> int: \n",
    "    start, middle, end = 0, 0, len(nums) - 1\n",
    "\n",
    "    while (start < end): \n",
    "        middle = (start + end) // 2 \n",
    "\n",
    "        print(nums[start:end+1])\n",
    "        \n",
    "        if (nums[middle] > nums[end]):\n",
    "            start = middle + 1\n",
    "        else:\n",
    "            end = middle \n",
    "    \n",
    "    print(nums[start:end+1])\n",
    "\n",
    "    return nums[start]\n",
    "\n",
    "print(find_min([3,4,5,6,1,2]))"
   ]
  }
 ],
 "metadata": {
  "kernelspec": {
   "display_name": "Python 3",
   "language": "python",
   "name": "python3"
  },
  "language_info": {
   "codemirror_mode": {
    "name": "ipython",
    "version": 3
   },
   "file_extension": ".py",
   "mimetype": "text/x-python",
   "name": "python",
   "nbconvert_exporter": "python",
   "pygments_lexer": "ipython3",
   "version": "3.12.2"
  }
 },
 "nbformat": 4,
 "nbformat_minor": 2
}
