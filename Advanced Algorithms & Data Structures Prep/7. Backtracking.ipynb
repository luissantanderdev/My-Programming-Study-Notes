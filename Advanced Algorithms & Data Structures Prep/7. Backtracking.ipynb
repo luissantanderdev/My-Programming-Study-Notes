{
 "cells": [
  {
   "cell_type": "markdown",
   "metadata": {},
   "source": [
    "### Backtracking \n",
    "\n",
    "What is backtracking? \n",
    "\n",
    "- backtracking is form of recursion.\n",
    "- general algorithm for finding all solutions to some computational problems.\n",
    "- these are called constraint satisfaction problems. \n",
    "- backtracking is also important when solving combinatorial optimization problems (traveling salesman problem etc.)\n",
    "- it is often much faster than brute force enumeration of all complete candidates because it can eliminate a large number of candidates with a single test. \n",
    "- N-Queens problem or Sudoku.\n",
    "\n",
    "BACKTRACKING IS CALLED DEPTH-FIRST SEARCH IF APPLIED ON TREES.\n",
    "\n",
    "<img src='./imgs/backtracking1.jpg' style='width:500px; height:600px;'>\n",
    "\n",
    "Backtracking is also called depth-first search (and vice versa)\n",
    "- 1. for every node the algorithm checks whether the given node can be completed to a valid solution.\n",
    "- 2. if it can not then the whole subtree is skipped (this is the key advantage of backtracking)\n",
    "- 3. it recursively enumerates all subtree of the node."
   ]
  },
  {
   "cell_type": "markdown",
   "metadata": {},
   "source": []
  },
  {
   "cell_type": "markdown",
   "metadata": {},
   "source": [
    "### What is the difference between Brute-Force Search and Backtracking.\n",
    "\n",
    "- Basically backtracking discards continuing a depth first search if the solution is not to be seeing further ahead in the tree and it recurses back to the parent node. "
   ]
  },
  {
   "cell_type": "markdown",
   "metadata": {},
   "source": [
    "### N-queens Problem (Backtracking)"
   ]
  }
 ],
 "metadata": {
  "language_info": {
   "name": "python"
  }
 },
 "nbformat": 4,
 "nbformat_minor": 2
}
