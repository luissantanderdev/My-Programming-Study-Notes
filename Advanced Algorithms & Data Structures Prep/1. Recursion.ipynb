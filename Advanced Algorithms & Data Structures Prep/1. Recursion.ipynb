{
 "cells": [
  {
   "cell_type": "markdown",
   "metadata": {},
   "source": [
    "### Recursion\n",
    "\n",
    "Stack Memory \n",
    "\n",
    "<img src='./imgs/recursion1.jpg' style='width:500px; height:600px;'>\n",
    "\n",
    "Heap Memory\n",
    "\n",
    "- heap memory is a special region in the RAM where dynamic memory allocation takes place.\n",
    "\n",
    "- the size of the heap is way larger than the size of the stack memory.\n",
    "\n",
    "- objects (referenc types) are stored in the heap memory.\n",
    "\n",
    "- it is large in size but slow to access.\n",
    "\n",
    "- FRAGMENTATION!!!\n",
    "\n",
    "In the C Language\n",
    "\n",
    "----------------\n",
    "// allocate memory dynamically\n",
    "- description = malloc(200 * sizeof(char)); \n",
    "\n",
    "// suppose you want to store bigger description \n",
    "- description = realloc(description, 100 * sizeof(char));\n"
   ]
  },
  {
   "cell_type": "markdown",
   "metadata": {},
   "source": [
    "### Memory Management \n",
    "\n",
    "- there are 2 main types of memory: stack memory and heap memory.\n",
    "- the stack memory is a special region in the RAM.\n",
    "- this is a special data type (stack) that store the active functions and local variables as well.\n",
    "- this is how Python knows where to return after finish execution of a given function. \n",
    "\n",
    "### How Function Calls work in memory. \n",
    "\n",
    "<img src='./imgs/recursion2.jpg' style='width:500px; height:600px;'>"
   ]
  },
  {
   "cell_type": "markdown",
   "metadata": {},
   "source": []
  }
 ],
 "metadata": {
  "language_info": {
   "name": "python"
  }
 },
 "nbformat": 4,
 "nbformat_minor": 2
}
