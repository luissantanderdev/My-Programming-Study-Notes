{
 "cells": [
  {
   "cell_type": "markdown",
   "metadata": {},
   "source": [
    "### Backtracking \n",
    "\n",
    "What is backtracking? \n",
    "\n",
    "- backtracking is form of recursion.\n",
    "- general algorithm for finding all solutions to some computational problems.\n",
    "- these are called constraint satisfaction problems. \n",
    "- backtracking is also important when solving combinatorial optimization problems (traveling salesman problem etc.)\n",
    "- it is often much faster than brute force enumeration of all complete candidates because it can eliminate a large number of candidates with a single test. \n",
    "- N-Queens problem or Sudoku.\n",
    "\n",
    "BACKTRACKING IS CALLED DEPTH-FIRST SEARCH IF APPLIED ON TREES.\n",
    "\n",
    "<img src='./imgs/backtracking1.jpg' style='width:500px; height:600px;'>\n",
    "\n",
    "Backtracking is also called depth-first search (and vice versa)\n",
    "- 1. for every node the algorithm checks whether the given node can be completed to a valid solution.\n",
    "- 2. if it can not then the whole subtree is skipped (this is the key advantage of backtracking)\n",
    "- 3. it recursively enumerates all subtree of the node."
   ]
  },
  {
   "cell_type": "markdown",
   "metadata": {},
   "source": []
  },
  {
   "cell_type": "markdown",
   "metadata": {},
   "source": [
    "### What is the difference between Brute-Force Search and Backtracking.\n",
    "\n",
    "- Basically backtracking discards continuing a depth first search if the solution is not to be seeing further ahead in the tree and it recurses back to the parent node. "
   ]
  },
  {
   "cell_type": "markdown",
   "metadata": {},
   "source": [
    "### N-queens Problem (Backtracking)\n",
    "\n",
    "- the problem of placing N chess queens on a NxN chessboard so that no two queens threaten each other. \n",
    "- queens can attack horizontally, vertically and we have to consider the diagonals too. \n",
    "- the original problem was designed for 8 queens (so N=8)\n",
    "- Gauss worked on this problem and Dijkstra used this problem to illustrate the power of what he called structured programming. \n",
    "\n",
    "-----------------------------------------------------------------------------------------\n",
    "- the problem of placing N chess queens on a N x N chessboard so that no two queens threatened each other.\n",
    "- how many possible states are there?\n",
    "- there are O(N^N) possible states - that is O(N!) factorial running time complexity with brute-force approach. \n",
    "- There are an extremely huge amount of states to consider. \n",
    "- we can use backtracking and eliminate bad states but the result will be O(2^N) which is still quite slow for large N values. \n",
    "\n",
    "\n",
    "<img src='./imgs/queens1.jpg' style='width:500px; height:600px;'>\n",
    "\n",
    "\n",
    "### N-queens Implementation "
   ]
  },
  {
   "cell_type": "code",
   "execution_count": 4,
   "metadata": {},
   "outputs": [
    {
     "name": "stdout",
     "output_type": "stream",
     "text": [
      "[[0, 0, 0, 0], [0, 0, 0, 0], [0, 0, 0, 0], [0, 0, 0, 0]]\n"
     ]
    }
   ],
   "source": [
    "class QueensProblem: \n",
    "    def __init__(self, n) -> None:\n",
    "        self.n = n \n",
    "        self.chess_table = [[0 for i in range(n)] for j in range(n)]\n",
    "\n",
    "    def solve_n_queens(self):\n",
    "        # we start with the first queen (with index 0)\n",
    "        if (self.solve(0)):\n",
    "            self.print_queens()\n",
    "        else:\n",
    "        # when we have considered all the possible configurations without a success \n",
    "        # then it means there is no solutions (3x3 with 3 queens)\n",
    "            print('There is no solution to the problem....')\n",
    "    \n",
    "    def solve(self, col_index: int) -> None: \n",
    "        # we have solved the problem. \n",
    "        if (col_index == self.n):\n",
    "            return True \n",
    "        \n",
    "        # let's try to find a position for queen (col_index) within a given column. \n",
    "        for row_index in range(self.n):\n",
    "            if (self.is_place_valid(row_index, col_index)):\n",
    "                # 1 means that there is a queen at the given location \n",
    "                self.chess_table[row_index][col_index] = 1 \n",
    "\n",
    "                # we call the same function with col_index + 1 \n",
    "                # we try to find the location of the next queen in the next column. \n",
    "                if (self.solve(col_index + 1)):\n",
    "                    return True \n",
    "\n",
    "                # BACKTRACK\n",
    "                self.chess_table[row_index][col_index] = 0 \n",
    "        \n",
    "        return False \n",
    "\n",
    "    def print_queens(self):\n",
    "        print(self.chess_table) \n",
    "\n",
    "queens = QueensProblem(4)\n",
    "queens.print_queens()"
   ]
  }
 ],
 "metadata": {
  "kernelspec": {
   "display_name": "Python 3",
   "language": "python",
   "name": "python3"
  },
  "language_info": {
   "codemirror_mode": {
    "name": "ipython",
    "version": 3
   },
   "file_extension": ".py",
   "mimetype": "text/x-python",
   "name": "python",
   "nbconvert_exporter": "python",
   "pygments_lexer": "ipython3",
   "version": "3.12.2"
  }
 },
 "nbformat": 4,
 "nbformat_minor": 2
}
