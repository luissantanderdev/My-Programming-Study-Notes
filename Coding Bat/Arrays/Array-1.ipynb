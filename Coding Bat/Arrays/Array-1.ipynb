{
 "cells": [
  {
   "cell_type": "markdown",
   "id": "c45b23ca",
   "metadata": {},
   "source": [
    "## Array-1\n",
    "\n",
    "Basic array problems -- no loops."
   ]
  },
  {
   "cell_type": "markdown",
   "id": "37271e64",
   "metadata": {},
   "source": [
    "<div style=\"border-bottom: 2px solid #555;\"></div>\n",
    "\n",
    "## Table of Contents\n",
    "* Array 1.1 - firstLast6\n",
    "* Array 1.2 - sameFirstLast\n",
    "* Array 1.3 - makePi\n",
    "\n",
    "<div style=\"border-bottom: 2px solid #555;\"></div>\n"
   ]
  },
  {
   "cell_type": "markdown",
   "id": "4830d277",
   "metadata": {},
   "source": [
    "## Array 1.1 - firstLast6\n",
    "\n",
    "### Problem:\n",
    "----------\n",
    "Given an array of ints, return true if 6 appears as either the first or last element in the array. The array will be length 1 or more.\n",
    "\n",
    "### Examples:\n",
    "-------\n",
    "firstLast6([1, 2, 6]) → true\n",
    "firstLast6([6, 1, 2, 3]) → true\n",
    "firstLast6([13, 6, 1, 2, 3]) → false"
   ]
  },
  {
   "cell_type": "code",
   "execution_count": 6,
   "id": "5f3a0a67",
   "metadata": {},
   "outputs": [],
   "source": [
    "def first_last6(nums):\n",
    "    return nums[0] == 6 or nums[-1] == 6"
   ]
  },
  {
   "cell_type": "markdown",
   "id": "95386794",
   "metadata": {},
   "source": [
    "## Array 1.2 - sameFirstLast\n",
    "\n",
    "### Problem:\n",
    "----------\n",
    "Given an array of ints, return true if the array is length 1 or more, and the first element and the last element are equal.\n",
    "\n",
    "### Examples:\n",
    "-------\n",
    "sameFirstLast([1, 2, 3]) → false\n",
    "sameFirstLast([1, 2, 3, 1]) → true\n",
    "sameFirstLast([1, 2, 1]) → true"
   ]
  },
  {
   "cell_type": "code",
   "execution_count": 12,
   "id": "9115c053",
   "metadata": {},
   "outputs": [],
   "source": [
    "def same_first_last(nums):\n",
    "    return len(nums) > 0 and (nums[0] == nums[-1])"
   ]
  },
  {
   "cell_type": "markdown",
   "id": "4a3152c8",
   "metadata": {},
   "source": [
    "## Array 1.3 - makePi\n",
    "\n",
    "### Problem:\n",
    "----------\n",
    "Return an int array length 3 containing the first 3 digits of pi, {3, 1, 4}.\n",
    "\n",
    "\n",
    "### Examples:\n",
    "-------\n",
    "makePi() -> [3,1,4]\n"
   ]
  },
  {
   "cell_type": "code",
   "execution_count": 13,
   "id": "3c0747b6",
   "metadata": {},
   "outputs": [],
   "source": [
    "def make_pi():\n",
    "    return [3,1,4]"
   ]
  },
  {
   "cell_type": "markdown",
   "id": "06cd259a",
   "metadata": {},
   "source": [
    "## Array 1.\n",
    "\n",
    "### Problem:\n",
    "----------\n",
    "\n",
    "### Examples:\n",
    "-------\n"
   ]
  }
 ],
 "metadata": {
  "kernelspec": {
   "display_name": "Python 3 (ipykernel)",
   "language": "python",
   "name": "python3"
  },
  "language_info": {
   "codemirror_mode": {
    "name": "ipython",
    "version": 3
   },
   "file_extension": ".py",
   "mimetype": "text/x-python",
   "name": "python",
   "nbconvert_exporter": "python",
   "pygments_lexer": "ipython3",
   "version": "3.11.3"
  }
 },
 "nbformat": 4,
 "nbformat_minor": 5
}
