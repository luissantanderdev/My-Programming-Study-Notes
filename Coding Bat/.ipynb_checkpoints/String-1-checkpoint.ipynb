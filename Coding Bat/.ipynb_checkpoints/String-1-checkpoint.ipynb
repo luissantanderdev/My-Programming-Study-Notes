{
 "cells": [
  {
   "cell_type": "markdown",
   "id": "018a4800",
   "metadata": {},
   "source": [
    "## String-1.1 - hello_name\n",
    "\n",
    "Given a string name e.g. \"Bob\", return a greeting of the form \"Hello Bob\""
   ]
  },
  {
   "cell_type": "code",
   "execution_count": 4,
   "id": "241532c4",
   "metadata": {},
   "outputs": [],
   "source": [
    "def hello_name(name):\n",
    "    return f\"Hello {name}\""
   ]
  },
  {
   "cell_type": "markdown",
   "id": "d842359f",
   "metadata": {},
   "source": [
    "## String 1.2 - make_abba"
   ]
  },
  {
   "cell_type": "code",
   "execution_count": 3,
   "id": "515156c2",
   "metadata": {},
   "outputs": [],
   "source": [
    "def make_abba(a, b):\n",
    "    return a + b + b + a"
   ]
  },
  {
   "cell_type": "markdown",
   "id": "1f864cd5",
   "metadata": {},
   "source": [
    "## String 1.3 - make_tags\n",
    "\n",
    "The web is build with HTML strings like \"<i>Yay</i>\" which draws Yay as italic\n",
    "\n",
    "Examples:\n",
    "make_tags('i', 'Yay') -> '<i>Yay</i>'"
   ]
  },
  {
   "cell_type": "code",
   "execution_count": 6,
   "id": "2e1f6363",
   "metadata": {},
   "outputs": [
    {
     "data": {
      "text/plain": [
       "'<i>Yay</i>'"
      ]
     },
     "execution_count": 6,
     "metadata": {},
     "output_type": "execute_result"
    }
   ],
   "source": [
    "def make_tags(tag, word):\n",
    "    return f\"<{tag}>{word}</{tag}>\"\n",
    "\n",
    "make_tags('i', 'Yay')"
   ]
  },
  {
   "cell_type": "markdown",
   "id": "a68c0c57",
   "metadata": {},
   "source": [
    "## String 1.4 - make_out_word\n",
    "\n",
    "Given an \"out\" string length 4, such as \"<<>>\", and a word, return a new string where the word is in the middle of the out string, e.g. \"<< word >>\"\n",
    "    \n",
    "Examples:\n",
    "---------\n",
    "make_out_word(\"<<>>\",'Yay') -> << Yay >>"
   ]
  },
  {
   "cell_type": "code",
   "execution_count": 10,
   "id": "d5b4e4bf",
   "metadata": {},
   "outputs": [
    {
     "data": {
      "text/plain": [
       "'<<Yay>>'"
      ]
     },
     "execution_count": 10,
     "metadata": {},
     "output_type": "execute_result"
    }
   ],
   "source": [
    "def make_out_word(out, word):\n",
    "    return f\"{out[:2]}{word}{out[2:]}\"\n",
    "\n",
    "make_out_word(\"<<>>\",\"Yay\")"
   ]
  },
  {
   "cell_type": "markdown",
   "id": "795cd963",
   "metadata": {},
   "source": [
    "## String 1.5 - extra_end"
   ]
  },
  {
   "cell_type": "markdown",
   "id": "3979b314",
   "metadata": {},
   "source": [
    "## String 1.6 - first_two"
   ]
  },
  {
   "cell_type": "markdown",
   "id": "ab91f1f5",
   "metadata": {},
   "source": [
    "## String 1.7 - first_half"
   ]
  },
  {
   "cell_type": "markdown",
   "id": "b1c2781c",
   "metadata": {},
   "source": [
    "## String 1.8 - without_end"
   ]
  },
  {
   "cell_type": "markdown",
   "id": "1d996a50",
   "metadata": {},
   "source": [
    "## String 1.9 - combo_string"
   ]
  },
  {
   "cell_type": "markdown",
   "id": "f2e75364",
   "metadata": {},
   "source": [
    "## String 1.10 - non_start"
   ]
  },
  {
   "cell_type": "markdown",
   "id": "0f69149c",
   "metadata": {},
   "source": [
    "## String 1.11 - left2"
   ]
  }
 ],
 "metadata": {
  "kernelspec": {
   "display_name": "Python 3 (ipykernel)",
   "language": "python",
   "name": "python3"
  },
  "language_info": {
   "codemirror_mode": {
    "name": "ipython",
    "version": 3
   },
   "file_extension": ".py",
   "mimetype": "text/x-python",
   "name": "python",
   "nbconvert_exporter": "python",
   "pygments_lexer": "ipython3",
   "version": "3.11.3"
  }
 },
 "nbformat": 4,
 "nbformat_minor": 5
}
