{
 "cells": [
  {
   "cell_type": "code",
   "execution_count": 20,
   "id": "8148cf71",
   "metadata": {},
   "outputs": [],
   "source": [
    "import unittest"
   ]
  },
  {
   "cell_type": "markdown",
   "id": "4190ca54",
   "metadata": {},
   "source": [
    "## Basic boolean logic puzzles -- if else and or not"
   ]
  },
  {
   "cell_type": "markdown",
   "id": "8519fa29",
   "metadata": {},
   "source": [
    "## Logic 1.1 - cigar_party\n",
    "\n",
    "### Problem:\n",
    "----------\n",
    "When Squirrels get together for a party, they like to have cigars. A squirrel party is \n",
    "successful when the number of cigars is between 40 and 60, inclusive. Unless it is the weekend, \n",
    "in which case there is no upper bound on the number of cigars. Return True if the party with the given values is successful, or False otherwise. \n",
    "\n",
    "### Examples:\n",
    "-------\n",
    "cigar_party(30, False) -> False"
   ]
  },
  {
   "cell_type": "code",
   "execution_count": 21,
   "id": "95ec75ce",
   "metadata": {},
   "outputs": [
    {
     "data": {
      "text/plain": [
       "False"
      ]
     },
     "execution_count": 21,
     "metadata": {},
     "output_type": "execute_result"
    }
   ],
   "source": [
    "def cigar_party(cigars, is_weekend):\n",
    "    if (is_weekend):\n",
    "        return cigars >= 40\n",
    "    else:\n",
    "        return cigars >= 40 and cigars <= 60\n",
    "\n",
    "cigar_party(61, False)"
   ]
  },
  {
   "cell_type": "markdown",
   "id": "ed83580a",
   "metadata": {},
   "source": [
    "## Logic 1.2 - date_fashion\n",
    "\n",
    "### Problem:\n",
    "\n",
    "You and your date are trying to get a table at a restaurant. The parameter \"you\" is the stylishness of your clothes, in the range 0..10, and \"date\" is the stylishness of your date's clothes. The result getting the table is encoded as an int value with 0=no, 1=maybe, 2=yes. If either of you is very stylish, 8 or more, then the result is 2 (yes). With the exception that if either of you has style of 2 or less, then the result is 0 (no). Otherwise the result is 1 (maybe).\n",
    "\n",
    "### Examples:\n",
    "\n",
    "date_fashion(5, 10) → 2\n",
    "date_fashion(5, 2) → 0\n",
    "date_fashion(5, 5) → 1"
   ]
  },
  {
   "cell_type": "code",
   "execution_count": 22,
   "id": "84fc11aa",
   "metadata": {},
   "outputs": [],
   "source": [
    "def date_fashion(you, date):\n",
    "    stylish = 0\n",
    "    if you > 2 or date > 2:\n",
    "        stylish = 1\n",
    "    if you >= 8 or date >= 8:\n",
    "        stylish = 2\n",
    "    if you <= 2 or date <= 2:\n",
    "        stylish = 0\n",
    "    return stylish"
   ]
  },
  {
   "cell_type": "markdown",
   "id": "1606bde2",
   "metadata": {},
   "source": [
    "## Logic 1.3 - squirrel_play\n",
    "\n",
    "\n",
    "### Problem: \n",
    "\n",
    "The squirrels in Palo Alto spend most of the day playing. In particular, they play if the temperature is between 60 and 90 (inclusive). Unless it is summer, then the upper limit is 100 instead of 90. Given an int temperature and a boolean is_summer, return True if the squirrels play and False otherwise.\n",
    "\n",
    "### Examples:\n",
    "\n",
    "squirrel_play(70, False) → True\n",
    "squirrel_play(95, False) → False\n",
    "squirrel_play(95, True) → True"
   ]
  },
  {
   "cell_type": "code",
   "execution_count": 23,
   "id": "344024fb",
   "metadata": {},
   "outputs": [],
   "source": [
    "def squirrel_play(temp, is_summer):\n",
    "    upper_bound = 100 if is_summer else 90    \n",
    "    return temp >= 60 and temp <= upper_bound\n",
    "        "
   ]
  },
  {
   "cell_type": "markdown",
   "id": "490f3b59",
   "metadata": {},
   "source": [
    "## Logic 1.4 - caught_speeding\n",
    "\n",
    "### Problem:\n",
    "\n",
    "You are driving a little too fast, and a police officer stops you. Write code to compute the result, encoded as an int value: 0=no ticket, 1=small ticket, 2=big ticket. If speed is 60 or less, the result is 0. If speed is between 61 and 80 inclusive, the result is 1. If speed is 81 or more, the result is 2. Unless it is your birthday -- on that day, your speed can be 5 higher in all cases.\n",
    "\n",
    "### Examples:\n",
    "\n",
    "caught_speeding(60, False) → 0\n",
    "caught_speeding(65, False) → 1\n",
    "caught_speeding(65, True) → 0"
   ]
  },
  {
   "cell_type": "code",
   "execution_count": 24,
   "id": "900e0824",
   "metadata": {},
   "outputs": [],
   "source": [
    "def caught_speeding(speed, is_birthday):\n",
    "    ticket = 0\n",
    "    if (is_birthday):\n",
    "        speed = speed - 5\n",
    "    if (speed >= 61 and speed <= 80):\n",
    "        ticket = 1\n",
    "    if (speed > 80):\n",
    "        ticket = 2\n",
    "    return ticket\n",
    "        "
   ]
  },
  {
   "cell_type": "markdown",
   "id": "cde72276",
   "metadata": {},
   "source": [
    "## Logic 1.5 - sorta_sum\n",
    "\n",
    "### Problem: \n",
    "\n",
    "Given 2 ints, a and b, return their sum. However, sums in the range 10..19 inclusive, are forbidden, so in that case just return 20.\n",
    "\n",
    "### Examples:\n",
    "\n",
    "sorta_sum(3, 4) → 7\n",
    "sorta_sum(9, 4) → 20\n",
    "sorta_sum(10, 11) → 21"
   ]
  },
  {
   "cell_type": "code",
   "execution_count": 25,
   "id": "354637ba",
   "metadata": {},
   "outputs": [],
   "source": [
    "def sorta_sum(a,b):\n",
    "    result = a + b\n",
    "    return result if result < 10 or result > 19 else 20"
   ]
  },
  {
   "cell_type": "markdown",
   "id": "f9acf5b6",
   "metadata": {},
   "source": [
    "## Logic 1.6 - alarm_clock\n",
    "\n",
    "### Problem: \n",
    "\n",
    "Given a day of the week encoded as 0=Sun, 1=Mon, 2=Tue, ...6=Sat, and a boolean indicating if we are on vacation, return a string of the form \"7:00\" indicating when the alarm clock should ring. Weekdays, the alarm should be \"7:00\" and on the weekend it should be \"10:00\". Unless we are on vacation -- then on weekdays it should be \"10:00\" and weekends it should be \"off\".\n",
    "\n",
    "### Examples:\n",
    "\n",
    "alarm_clock(1, False) → '7:00'\n",
    "alarm_clock(5, False) → '7:00'\n",
    "alarm_clock(0, False) → '10:00'"
   ]
  },
  {
   "cell_type": "code",
   "execution_count": null,
   "id": "8f42a47f",
   "metadata": {},
   "outputs": [],
   "source": [
    "def alarm_clock(day, vacation):\n",
    "    set_time = \"7:00\"\n",
    "    \n",
    "    \n",
    "    return set_time "
   ]
  },
  {
   "cell_type": "markdown",
   "id": "6426c79a",
   "metadata": {},
   "source": [
    "## Logic 1.7\n",
    "\n",
    "### Problem: \n",
    "\n",
    "\n",
    "### Examples:\n"
   ]
  },
  {
   "cell_type": "code",
   "execution_count": null,
   "id": "e061ef1a",
   "metadata": {},
   "outputs": [],
   "source": []
  },
  {
   "cell_type": "markdown",
   "id": "963b1a06",
   "metadata": {},
   "source": [
    "## Unit Testing"
   ]
  },
  {
   "cell_type": "code",
   "execution_count": 27,
   "id": "e3d7c69f",
   "metadata": {},
   "outputs": [
    {
     "name": "stderr",
     "output_type": "stream",
     "text": [
      "test_caught_speeding (__main__.TestBooleanLogicPuzzles.test_caught_speeding) ... ok\n",
      "test_sorta_sum (__main__.TestBooleanLogicPuzzles.test_sorta_sum) ... ok\n",
      "\n",
      "----------------------------------------------------------------------\n",
      "Ran 2 tests in 0.012s\n",
      "\n",
      "OK\n"
     ]
    },
    {
     "data": {
      "text/plain": [
       "<unittest.main.TestProgram at 0x1058cf050>"
      ]
     },
     "execution_count": 27,
     "metadata": {},
     "output_type": "execute_result"
    }
   ],
   "source": [
    "class TestBooleanLogicPuzzles(unittest.TestCase):\n",
    "    \n",
    "    # MARK: - Run Test Helper Function \n",
    "    \n",
    "    def run_test(self, func, inputs, expected): \n",
    "        for func_input, func_expected in zip(inputs, expected):\n",
    "            self.assertEqual(func(*func_input), func_expected)\n",
    "    \n",
    "    # MARK: - Unit Tests \n",
    "    \n",
    "    def test_caught_speeding(self):\n",
    "        inputs = [[60, False], [65, False]]\n",
    "        expected = [0, 1]\n",
    "        \n",
    "        self.run_test(caught_speeding, inputs, expected)\n",
    "    \n",
    "    def test_sorta_sum(self):\n",
    "        inputs = [[3, 4], [9, 4], [10, 11]]\n",
    "        expected = [7, 20, 21]\n",
    "        \n",
    "        self.run_test(sorta_sum, inputs, expected)\n",
    "        \n",
    "    def test_alarm_clock(self):\n",
    "        inputs = [[1, False]]\n",
    "        expected = [\"7:00\"]\n",
    "        \n",
    "        self.run_test(alarm_clock, inputs, expected)\n",
    "        \n",
    "\n",
    "\n",
    "unittest.main(argv=[''], verbosity=2, exit=False)"
   ]
  },
  {
   "cell_type": "code",
   "execution_count": null,
   "id": "d7a38439",
   "metadata": {},
   "outputs": [],
   "source": []
  },
  {
   "cell_type": "code",
   "execution_count": null,
   "id": "8cb30b07",
   "metadata": {},
   "outputs": [],
   "source": []
  }
 ],
 "metadata": {
  "kernelspec": {
   "display_name": "Python 3 (ipykernel)",
   "language": "python",
   "name": "python3"
  },
  "language_info": {
   "codemirror_mode": {
    "name": "ipython",
    "version": 3
   },
   "file_extension": ".py",
   "mimetype": "text/x-python",
   "name": "python",
   "nbconvert_exporter": "python",
   "pygments_lexer": "ipython3",
   "version": "3.11.3"
  }
 },
 "nbformat": 4,
 "nbformat_minor": 5
}
