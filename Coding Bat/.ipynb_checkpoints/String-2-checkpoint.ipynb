{
 "cells": [
  {
   "cell_type": "code",
   "execution_count": 22,
   "id": "90b8e0d6",
   "metadata": {},
   "outputs": [],
   "source": [
    "import unittest"
   ]
  },
  {
   "cell_type": "markdown",
   "id": "71fbf46f",
   "metadata": {},
   "source": [
    "## String-2 \n",
    "\n",
    "Medium python string problems -- 1 loop.. Use + to combine strings, len(str) is the number of chars in a String, str[i:j] extracts the substring starting at index i and running up to but not including index j."
   ]
  },
  {
   "cell_type": "markdown",
   "id": "51eb639c",
   "metadata": {},
   "source": [
    "<div style=\"border-bottom: 2px solid #555;\"></div>\n",
    "\n",
    "## Table of Contents\n",
    "* String 2.1 - double_char\n",
    "* String 2.2 - count_hi\n",
    "* String 2.3 - cat_dog\n",
    "* String 2.4 - count_code\n",
    "* String 2.5 - end_other\n",
    "* String 2.6 - xyz_there\n",
    "\n",
    "<div style=\"border-bottom: 2px solid #555;\"></div>\n"
   ]
  },
  {
   "cell_type": "markdown",
   "id": "ef2cf97d",
   "metadata": {},
   "source": [
    "## String 2.1 - double_char\n",
    "\n",
    "### Problem:\n",
    "----------\n",
    "Given a string, return a string where for every char in the original, there are two chars.\n",
    "\n",
    "### Examples:\n",
    "-------\n",
    "double_char('The') → 'TThhee'\n",
    "double_char('AAbb') → 'AAAAbbbb'\n",
    "double_char('Hi-There') → 'HHii--TThheerree'"
   ]
  },
  {
   "cell_type": "code",
   "execution_count": 23,
   "id": "ba45a2b8",
   "metadata": {},
   "outputs": [],
   "source": [
    "def double_char(str):\n",
    "    new_string = \"\"\n",
    "    for c in str:\n",
    "        new_string += c + c\n",
    "    return new_string"
   ]
  },
  {
   "cell_type": "markdown",
   "id": "e3e3957c",
   "metadata": {},
   "source": [
    "## String 2.2 - count_hi\n",
    "\n",
    "### Problem:\n",
    "----------\n",
    "Return the number of times that the string \"hi\" appears anywhere in the given string.\n",
    "\n",
    "### Examples:\n",
    "-------\n",
    "count_hi('abc hi ho') → 1\n",
    "count_hi('ABChi hi') → 2\n",
    "count_hi('hihi') → 2"
   ]
  },
  {
   "cell_type": "code",
   "execution_count": 24,
   "id": "ed45b7ce",
   "metadata": {},
   "outputs": [],
   "source": [
    "def count_hi(str):  \n",
    "    counter = 0\n",
    "    for i in range(len(str) - 1):\n",
    "        if str[i] == 'h' and str[i+1] == 'i':\n",
    "            counter = counter + 1\n",
    "    return counter"
   ]
  },
  {
   "cell_type": "markdown",
   "id": "4cc2f3dc",
   "metadata": {},
   "source": [
    "## String 2.3 - cat_dog\n",
    "\n",
    "### Problem:\n",
    "----------\n",
    "Return True if the string \"cat\" and \"dog\" appear the same number of times in the given string.\n",
    "\n",
    "### Examples:\n",
    "-------\n",
    "cat_dog('catdog') → True\n",
    "cat_dog('catcat') → False\n",
    "cat_dog('1cat1cadodog') → True\n"
   ]
  },
  {
   "cell_type": "code",
   "execution_count": 25,
   "id": "cb34407a",
   "metadata": {},
   "outputs": [],
   "source": [
    "def cat_dog(str):\n",
    "    cat = 0 \n",
    "    dog = 0 \n",
    "    \n",
    "    for i in range(len(str)):\n",
    "        if str[i:i+3] == 'cat':\n",
    "            cat += 1\n",
    "        if str[i:i+3] == 'dog':\n",
    "            dog += 1\n",
    "    return cat == dog"
   ]
  },
  {
   "cell_type": "markdown",
   "id": "947b5b1c",
   "metadata": {},
   "source": [
    "## String 2.4 - count_code\n",
    "\n",
    "### Problem:\n",
    "----------\n",
    "Return the number of times that the string \"code\" appears anywhere in the given string, except we'll accept any letter for the 'd', so \"cope\" and \"cooe\" count.\n",
    "\n",
    "### Examples:\n",
    "-------\n",
    "count_code('aaacodebbb') → 1\n",
    "count_code('codexxcode') → 2\n",
    "count_code('cozexxcope') → 2"
   ]
  },
  {
   "cell_type": "code",
   "execution_count": 26,
   "id": "1b2ef8a9",
   "metadata": {},
   "outputs": [],
   "source": [
    "def count_code(str):\n",
    "    count = 0 \n",
    "    for i in range(len(str)):\n",
    "        sub_str = str[i:i+2] + str[i+3:i+4]\n",
    "        if \"coe\" == sub_str:\n",
    "            count += 1\n",
    "    return count"
   ]
  },
  {
   "cell_type": "markdown",
   "id": "bc4aa461",
   "metadata": {},
   "source": [
    "## String 2.5 - end_other\n",
    "\n",
    "### Problem:\n",
    "----------\n",
    "Given two strings, return True if either of the strings appears at the very end of the other string, ignoring upper/lower case differences (in other words, the computation should not be \"case sensitive\"). Note: s.lower() returns the lowercase version of a string.\n",
    "\n",
    "### Examples:\n",
    "-------\n",
    "end_other('Hiabc', 'abc') → True\n",
    "end_other('AbC', 'HiaBc') → True\n",
    "end_other('abc', 'abXabc') → True"
   ]
  },
  {
   "cell_type": "code",
   "execution_count": 47,
   "id": "edc5cf99",
   "metadata": {},
   "outputs": [],
   "source": [
    "def end_other(a, b):\n",
    "    a = a.lower()\n",
    "    b = b.lower() \n",
    "    \n",
    "    smaller_str_len = min(len(a), len(b))\n",
    "    \n",
    "    return a[-smaller_str_len:] == b[-smaller_str_len:]"
   ]
  },
  {
   "cell_type": "markdown",
   "id": "a61230dc",
   "metadata": {},
   "source": [
    "## String 2.6 - xyz_there\n",
    "\n",
    "### Problem:\n",
    "----------\n",
    "Return True if the given string contains an appearance of \"xyz\" where the xyz is not directly preceeded by a period (.). So \"xxyz\" counts but \"x.xyz\" does not.\n",
    "\n",
    "### Examples:\n",
    "-------\n",
    "xyz_there('abcxyz') → True\n",
    "xyz_there('abc.xyz') → False\n",
    "xyz_there('xyz.abc') → True"
   ]
  },
  {
   "cell_type": "code",
   "execution_count": 100,
   "id": "e3797e84",
   "metadata": {},
   "outputs": [],
   "source": [
    "def xyz_there(str):\n",
    "    index_of_xyz = str.rfind(\"xyz\")\n",
    "    \n",
    "    if index_of_xyz == -1 or str[index_of_xyz - 1] == '.':\n",
    "        return False\n",
    "    \n",
    "    return True"
   ]
  },
  {
   "cell_type": "code",
   "execution_count": 101,
   "id": "b7180bdc",
   "metadata": {},
   "outputs": [
    {
     "name": "stderr",
     "output_type": "stream",
     "text": [
      "test_cat_dog (__main__.TestString2ProblemSets.test_cat_dog) ... ok\n",
      "test_count_code (__main__.TestString2ProblemSets.test_count_code) ... ok\n",
      "test_count_hi (__main__.TestString2ProblemSets.test_count_hi) ... ok\n",
      "test_double_char (__main__.TestString2ProblemSets.test_double_char) ... ok\n",
      "test_end_other (__main__.TestString2ProblemSets.test_end_other) ... ok\n",
      "test_xyz_there (__main__.TestString2ProblemSets.test_xyz_there) ... ok\n",
      "\n",
      "----------------------------------------------------------------------\n",
      "Ran 6 tests in 0.023s\n",
      "\n",
      "OK\n"
     ]
    },
    {
     "data": {
      "text/plain": [
       "<unittest.main.TestProgram at 0x106d046d0>"
      ]
     },
     "execution_count": 101,
     "metadata": {},
     "output_type": "execute_result"
    }
   ],
   "source": [
    "class TestString2ProblemSets(unittest.TestCase):\n",
    "    \n",
    "    # MARK: - Run Test Helper Function \n",
    "    \n",
    "    def run_test(self, func, inputs, expected): \n",
    "        for func_input, func_expected in zip(inputs, expected):\n",
    "            self.assertEqual(func(*func_input), func_expected)\n",
    "    \n",
    "    # MARK: - Unit Tests \n",
    "    \n",
    "    def test_xyz_there(self) -> None:\n",
    "        inputs = [['abc.xyzxyz'], [\"abcxyz\"], [\"abc.xyz\"], [\"xyz.abc\"]]\n",
    "        expected_outputs = [True, True, False, True]\n",
    "        \n",
    "        self.run_test(xyz_there, inputs, expected_outputs)\n",
    "    \n",
    "    def test_end_other(self) -> None:\n",
    "        inputs = [[\"Hiabc\", \"abc\"], [\"AbC\", \"HiaBc\"]]\n",
    "        expected_outputs = [True, True]\n",
    "        \n",
    "        self.run_test(end_other, inputs, expected_outputs)\n",
    "    \n",
    "    def test_count_code(self) -> None:\n",
    "        inputs = [['aaacodebbb'], ['codexxcode'], ['cozexxcope']]\n",
    "        expected_outputs = [1,2,2]\n",
    "        \n",
    "        self.run_test(count_code, inputs, expected_outputs)\n",
    "    \n",
    "    def test_cat_dog(self) -> None:\n",
    "        inputs = [['catdog'], ['catcat'], ['1cat1cadodog']]\n",
    "        expected_outputs = [True, False, True]\n",
    "        \n",
    "        self.run_test(cat_dog, inputs, expected_outputs)\n",
    "\n",
    "    def test_count_hi(self) -> None:\n",
    "        inputs = [[\"abc hi ho\"], [\"ABChi hi\"]]\n",
    "        expected_outputs = [1, 2]\n",
    "        \n",
    "        self.run_test(count_hi, inputs, expected_outputs)\n",
    "    \n",
    "    def test_double_char(self) -> None:\n",
    "        inputs = [[\"The\"], [\"AAbb\"], [\"Hi-There\"]]\n",
    "        expected_outputs = [\"TThhee\", \"AAAAbbbb\", \"HHii--TThheerree\"]\n",
    "        \n",
    "        self.run_test(double_char, inputs, expected_outputs)\n",
    "        \n",
    "# MARK: - Unit Test Init State \n",
    "\n",
    "unittest.main(argv=[''], verbosity=2, exit=False)"
   ]
  }
 ],
 "metadata": {
  "kernelspec": {
   "display_name": "Python 3 (ipykernel)",
   "language": "python",
   "name": "python3"
  },
  "language_info": {
   "codemirror_mode": {
    "name": "ipython",
    "version": 3
   },
   "file_extension": ".py",
   "mimetype": "text/x-python",
   "name": "python",
   "nbconvert_exporter": "python",
   "pygments_lexer": "ipython3",
   "version": "3.11.3"
  }
 },
 "nbformat": 4,
 "nbformat_minor": 5
}
