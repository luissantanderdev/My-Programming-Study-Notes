{
 "cells": [
  {
   "cell_type": "code",
   "execution_count": 1,
   "id": "14891b8f",
   "metadata": {},
   "outputs": [],
   "source": [
    "import unittest"
   ]
  },
  {
   "cell_type": "markdown",
   "id": "62281b86",
   "metadata": {},
   "source": [
    "## Array-2\n",
    "\n",
    "Medium array problems -- 1 loop."
   ]
  },
  {
   "cell_type": "markdown",
   "id": "0ddf82dd",
   "metadata": {},
   "source": [
    "<div style=\"border-bottom: 2px solid #555;\"></div>\n",
    "\n",
    "## Table of Contents\n",
    "* Array 2.1 - count_evens\n",
    "* Array 2.2 - big_diff\n",
    "* Array 2.3 - centered_average\n",
    "\n",
    "<div style=\"border-bottom: 2px solid #555;\"></div>\n"
   ]
  },
  {
   "cell_type": "markdown",
   "id": "7320da83",
   "metadata": {},
   "source": [
    "## Array 2.1 - count_evens\n",
    "\n",
    "### Problem:\n",
    "----------\n",
    "Return the number of even ints in the given array. Note: the % \"mod\" operator computes the remainder, e.g. 5 % 2 is 1.\n",
    "\n",
    "### Examples:\n",
    "-------\n",
    "countEvens([2, 1, 2, 3, 4]) → 3\n",
    "countEvens([2, 2, 0]) → 3\n",
    "countEvens([1, 3, 5]) → 0"
   ]
  },
  {
   "cell_type": "code",
   "execution_count": 10,
   "id": "ed2abbd5",
   "metadata": {},
   "outputs": [],
   "source": [
    "def count_evens(nums):\n",
    "    evens_count = 0 \n",
    "    for num in nums:\n",
    "        if num % 2 == 0:\n",
    "            evens_count += 1\n",
    "    return evens_count"
   ]
  },
  {
   "cell_type": "markdown",
   "id": "c9879d5e",
   "metadata": {},
   "source": [
    "## Array 2.2 - big_diff\n",
    "\n",
    "### Problem:\n",
    "----------\n",
    "Given an array length 1 or more of ints, return the difference between the largest and smallest values in the array. Note: the built-in Math.min(v1, v2) and Math.max(v1, v2) methods return the smaller or larger of two values.\n",
    "\n",
    "### Examples:\n",
    "-------\n",
    "bigDiff([10, 3, 5, 6]) → 7\n",
    "bigDiff([7, 2, 10, 9]) → 8\n",
    "bigDiff([2, 10, 7, 2]) → 8"
   ]
  },
  {
   "cell_type": "code",
   "execution_count": 26,
   "id": "9d066e03",
   "metadata": {},
   "outputs": [],
   "source": [
    "def big_diff(nums):\n",
    "    return max(nums) - min(nums)\n",
    "\n",
    "# NOTE: \n",
    "# Best Performance Code because it only runs on one functional call\n",
    "# on the stack so the AI translation is better \n",
    "def big_diff_optimal(nums):\n",
    "    max_num = nums[0]\n",
    "    min_num = nums[0]\n",
    "    \n",
    "    for num in nums: \n",
    "        if (num > max_num):\n",
    "            max_num = num \n",
    "        if (num < min_num):\n",
    "            min_num = num\n",
    "            \n",
    "    return max_num - min_num "
   ]
  },
  {
   "cell_type": "markdown",
   "id": "c2ae167b",
   "metadata": {},
   "source": [
    "## Array 2.3 - centered_average\n",
    "\n",
    "### Problem:\n",
    "----------\n",
    "Return the \"centered\" average of an array of ints, which we'll say is the mean average of the values, except ignoring the largest and smallest values in the array. If there are multiple copies of the smallest value, ignore just one copy, and likewise for the largest value. Use int division to produce the final average. You may assume that the array is length 3 or more.\n",
    "\n",
    "### Examples:\n",
    "-------\n",
    "centeredAverage([1, 2, 3, 4, 100]) → 3\n",
    "centeredAverage([1, 1, 5, 5, 10, 8, 7]) → 5\n",
    "centeredAverage([-10, -4, -2, -4, -2, 0]) → -3"
   ]
  },
  {
   "cell_type": "code",
   "execution_count": 81,
   "id": "0138b99b",
   "metadata": {},
   "outputs": [
    {
     "data": {
      "text/plain": [
       "5"
      ]
     },
     "execution_count": 81,
     "metadata": {},
     "output_type": "execute_result"
    }
   ],
   "source": [
    "def centered_average(nums):\n",
    "    min_value = nums[0]\n",
    "    max_value = nums[0]\n",
    "    sum_total = 0\n",
    "    \n",
    "    for num in nums:\n",
    "        min_value = num if num < min_value else min_value\n",
    "        max_value = num if num > max_value else max_value\n",
    "        sum_total += num\n",
    "    \n",
    "    sum_total = sum_total - max_value - min_value\n",
    "    \n",
    "    return sum_total // (len(nums)-2)\n",
    "\n",
    "centered_average([1, 1, 5, 5, 10, 8, 7])"
   ]
  },
  {
   "cell_type": "markdown",
   "id": "fec2130b",
   "metadata": {},
   "source": [
    "## Unit Testing"
   ]
  },
  {
   "cell_type": "code",
   "execution_count": 23,
   "id": "d78bfa74",
   "metadata": {},
   "outputs": [
    {
     "name": "stderr",
     "output_type": "stream",
     "text": [
      "test_big_diff (__main__.TestArray2ProblemSets.test_big_diff) ... ok\n",
      "test_count_evens (__main__.TestArray2ProblemSets.test_count_evens) ... ok\n",
      "\n",
      "----------------------------------------------------------------------\n",
      "Ran 2 tests in 0.010s\n",
      "\n",
      "OK\n"
     ]
    },
    {
     "data": {
      "text/plain": [
       "<unittest.main.TestProgram at 0x10a5e7050>"
      ]
     },
     "execution_count": 23,
     "metadata": {},
     "output_type": "execute_result"
    }
   ],
   "source": [
    "class TestArray2ProblemSets(unittest.TestCase):\n",
    "    \n",
    "    # MARK: - Run Test Helper Function \n",
    "    \n",
    "    def run_test(self, func, inputs, expected): \n",
    "        for func_input, func_expected in zip(inputs, expected):\n",
    "            self.assertEqual(func(*func_input), func_expected)\n",
    "    \n",
    "    # MARK: - Unit Tests \n",
    "    \n",
    "    def test_big_diff(self) -> None:\n",
    "        inputs = [[[10,3,5,6]], [[7,2,10,9]]]\n",
    "        expected_outputs = [7,8]\n",
    "        \n",
    "        self.run_test(big_diff, inputs, expected_outputs)\n",
    "    \n",
    "    def test_count_evens(self) -> None:\n",
    "        inputs = [[[2,1,2,3,4]]]\n",
    "        expected_outputs = [3]\n",
    "        \n",
    "        self.run_test(count_evens, inputs, expected_outputs)\n",
    "\n",
    "        \n",
    "# MARK: - Unit Test Init State \n",
    "\n",
    "unittest.main(argv=[''], verbosity=2, exit=False)"
   ]
  },
  {
   "cell_type": "markdown",
   "id": "a9c34e8e",
   "metadata": {},
   "source": [
    "## Array 2.\n",
    "\n",
    "### Problem:\n",
    "----------\n",
    "\n",
    "\n",
    "### Examples:\n",
    "-------\n"
   ]
  },
  {
   "cell_type": "code",
   "execution_count": null,
   "id": "423a134f",
   "metadata": {},
   "outputs": [],
   "source": []
  }
 ],
 "metadata": {
  "kernelspec": {
   "display_name": "Python 3 (ipykernel)",
   "language": "python",
   "name": "python3"
  },
  "language_info": {
   "codemirror_mode": {
    "name": "ipython",
    "version": 3
   },
   "file_extension": ".py",
   "mimetype": "text/x-python",
   "name": "python",
   "nbconvert_exporter": "python",
   "pygments_lexer": "ipython3",
   "version": "3.11.3"
  }
 },
 "nbformat": 4,
 "nbformat_minor": 5
}
