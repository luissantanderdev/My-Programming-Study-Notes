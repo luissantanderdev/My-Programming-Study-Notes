{
 "cells": [
  {
   "cell_type": "code",
   "execution_count": 18,
   "id": "493c30f2",
   "metadata": {},
   "outputs": [],
   "source": [
    "import unittest"
   ]
  },
  {
   "cell_type": "markdown",
   "id": "ee47b86a",
   "metadata": {},
   "source": [
    "<div style=\"border-bottom: 2px solid #555;\"></div>\n",
    "\n",
    "## Table of Contents\n",
    "* List 1.1 - first_last6\n",
    "* List 1.2 - same_first_last\n",
    "* List 1.3 - make_pi\n",
    "* List 1.4 - common_end\n",
    "* List 1.5 - sum3\n",
    "* List 1.6 - rotate_left3\n",
    "* List 1.7 - reverse3\n",
    "* List 1.8 - max_end3\n",
    "* List 1.9 - sum2\n",
    "* List 1.10 - middle_way\n",
    "* List 1.11 - make_ends\n",
    "* List 1.12 - has23\n",
    "\n",
    "<div style=\"border-bottom: 2px solid #555;\"></div>\n"
   ]
  },
  {
   "cell_type": "markdown",
   "id": "5dddedc5",
   "metadata": {},
   "source": [
    "## List 1.1 - first_last6\n",
    "\n",
    "### Problem:\n",
    "----------\n",
    "\n",
    "Given an array of ints, return True if 6 appears as either the first or last element in the array. The array will be length 1 or more.\n",
    "\n",
    "\n",
    "### Examples:\n",
    "-------\n",
    "\n",
    "first_last6([1, 2, 6]) → True\n",
    "first_last6([6, 1, 2, 3]) → True\n",
    "first_last6([13, 6, 1, 2, 3]) → False"
   ]
  },
  {
   "cell_type": "code",
   "execution_count": 19,
   "id": "590e980b",
   "metadata": {},
   "outputs": [],
   "source": [
    "def first_last6(nums):\n",
    "    return nums[0] == 6 or nums[-1] == 6"
   ]
  },
  {
   "cell_type": "markdown",
   "id": "fda03b13",
   "metadata": {},
   "source": [
    "## List 1.2 - same_first_last\n",
    "\n",
    "### Problem:\n",
    "----------\n",
    "\n",
    "Given an array of ints, return True if the array is length 1 or more, and the first element and the last element are equal.\n",
    "\n",
    "\n",
    "### Examples:\n",
    "-------\n",
    "\n",
    "same_first_last([1, 2, 3]) → False\n",
    "same_first_last([1, 2, 3, 1]) → True\n",
    "same_first_last([1, 2, 1]) → True"
   ]
  },
  {
   "cell_type": "code",
   "execution_count": 20,
   "id": "fcbf2399",
   "metadata": {},
   "outputs": [],
   "source": [
    "def same_first_last(nums):\n",
    "    return len(nums) >= 1 and (nums[0] == nums[-1])"
   ]
  },
  {
   "cell_type": "markdown",
   "id": "a1503430",
   "metadata": {},
   "source": [
    "## List 1.3 - make_pi\n",
    "\n",
    "### Problem:\n",
    "----------\n",
    "Return an int array length 3 containing the first 3 digits of pi, {3, 1, 4}.\n",
    "\n",
    "### Examples:\n",
    "-------\n"
   ]
  },
  {
   "cell_type": "code",
   "execution_count": 21,
   "id": "643f669e",
   "metadata": {},
   "outputs": [],
   "source": [
    "def make_pi():\n",
    "    return [3,1,4]"
   ]
  },
  {
   "cell_type": "markdown",
   "id": "4187abfa",
   "metadata": {},
   "source": [
    "## List 1.4 - common_end\n",
    "\n",
    "### Problem:\n",
    "----------\n",
    "\n",
    "Given 2 arrays of ints, a and b, return True if they have the same first element or they have the same last element. Both arrays will be length 1 or more.\n",
    "\n",
    "### Examples:\n",
    "-------\n",
    "common_end([1, 2, 3], [7, 3]) → True\n",
    "common_end([1, 2, 3], [7, 3, 2]) → False\n",
    "common_end([1, 2, 3], [1, 3]) → True"
   ]
  },
  {
   "cell_type": "code",
   "execution_count": 22,
   "id": "9ad6d2a8",
   "metadata": {},
   "outputs": [],
   "source": [
    "def common_end(a, b):\n",
    "    return True if a[0] == b[0] or a[len(a)-1] == b[len(b)-1] else False"
   ]
  },
  {
   "cell_type": "markdown",
   "id": "24c9c743",
   "metadata": {},
   "source": [
    "## List 1.5 - sum3\n",
    "\n",
    "### Problem:\n",
    "----------\n",
    "Given an array of ints length 3, return the sum of all the elements.\n",
    "\n",
    "\n",
    "### Examples:\n",
    "-------\n",
    "sum3([1, 2, 3]) → 6\n",
    "sum3([5, 11, 2]) → 18\n",
    "sum3([7, 0, 0]) → 7"
   ]
  },
  {
   "cell_type": "code",
   "execution_count": 23,
   "id": "0bac0b7c",
   "metadata": {},
   "outputs": [],
   "source": [
    "def sum3(nums):\n",
    "    return sum(nums)"
   ]
  },
  {
   "cell_type": "markdown",
   "id": "68a3c96a",
   "metadata": {},
   "source": [
    "## List 1.6 - rotate_left3\n",
    "\n",
    "### Problem:\n",
    "----------\n",
    "Given an array of ints length 3, return an array with the elements \"rotated left\" so {1, 2, 3} yields {2, 3, 1}.\n",
    "\n",
    "### Examples:\n",
    "-------\n",
    "rotate_left3([1, 2, 3]) → [2, 3, 1]\n",
    "rotate_left3([5, 11, 9]) → [11, 9, 5]\n",
    "rotate_left3([7, 0, 0]) → [0, 0, 7]"
   ]
  },
  {
   "cell_type": "code",
   "execution_count": 24,
   "id": "1927496b",
   "metadata": {},
   "outputs": [],
   "source": [
    "def rotate_left3(nums):\n",
    "    return nums[1:] + nums[:1]"
   ]
  },
  {
   "cell_type": "markdown",
   "id": "ecb12c41",
   "metadata": {},
   "source": [
    "## List 1.7 - reverse3\n",
    "\n",
    "### Problem:\n",
    "----------\n",
    "Given an array of ints length 3, return a new array with the elements in reverse order, so {1, 2, 3} becomes {3, 2, 1}.\n",
    "\n",
    "### Examples:\n",
    "-------\n",
    "reverse3([1, 2, 3]) → [3, 2, 1]\n",
    "reverse3([5, 11, 9]) → [9, 11, 5]\n",
    "reverse3([7, 0, 0]) → [0, 0, 7]"
   ]
  },
  {
   "cell_type": "code",
   "execution_count": 25,
   "id": "8ad0dbb7",
   "metadata": {},
   "outputs": [],
   "source": [
    "def reverse3(nums):\n",
    "    return nums[::-1]"
   ]
  },
  {
   "cell_type": "markdown",
   "id": "2d8ea037",
   "metadata": {},
   "source": [
    "## List 1.8 - max_end3\n",
    "\n",
    "### Problem:\n",
    "----------\n",
    "\n",
    "Given an array of ints length 3, figure out which is larger, the first or last element in the array, and set all the other elements to be that value. Return the changed array.\n",
    "\n",
    "### Examples:\n",
    "-------\n",
    "\n",
    "max_end3([1, 2, 3]) → [3, 3, 3]\n",
    "max_end3([11, 5, 9]) → [11, 11, 11]\n",
    "max_end3([2, 11, 3]) → [3, 3, 3]"
   ]
  },
  {
   "cell_type": "code",
   "execution_count": 26,
   "id": "471db773",
   "metadata": {},
   "outputs": [],
   "source": [
    "def max_end3(nums): \n",
    "    max_value_in_array = max(nums[0], nums[-1])\n",
    "    return [max_value_in_array for _ in range(len(nums))]"
   ]
  },
  {
   "cell_type": "markdown",
   "id": "b6a3840e",
   "metadata": {},
   "source": [
    "## List 1.9 - sum2\n",
    "\n",
    "### Problem:\n",
    "----------\n",
    "Given an array of ints, return the sum of the first 2 elements in the array. If the array length is less than 2, just sum up the elements that exist, returning 0 if the array is length 0.\n",
    "\n",
    "### Examples:\n",
    "-------\n",
    "sum2([1, 2, 3]) → 3\n",
    "sum2([1, 1]) → 2\n",
    "sum2([1, 1, 1, 1]) → 2"
   ]
  },
  {
   "cell_type": "code",
   "execution_count": 27,
   "id": "92fdac6b",
   "metadata": {},
   "outputs": [],
   "source": [
    "def sum2(nums):\n",
    "    return sum(nums[:2])"
   ]
  },
  {
   "cell_type": "markdown",
   "id": "dffd6dd3",
   "metadata": {},
   "source": [
    "## List 1.10 - middle_way\n",
    "\n",
    "### Problem:\n",
    "----------\n",
    "Given 2 int arrays, a and b, each length 3, return a new array length 2 containing their middle elements.\n",
    "\n",
    "\n",
    "### Examples:\n",
    "-------\n",
    "middle_way([1, 2, 3], [4, 5, 6]) → [2, 5]\n",
    "middle_way([7, 7, 7], [3, 8, 0]) → [7, 8]\n",
    "middle_way([5, 2, 9], [1, 4, 5]) → [2, 4]"
   ]
  },
  {
   "cell_type": "code",
   "execution_count": 28,
   "id": "47cc767d",
   "metadata": {},
   "outputs": [],
   "source": [
    "def middle_way(a, b):\n",
    "    res = [a[1], b[1]]\n",
    "    return res"
   ]
  },
  {
   "cell_type": "markdown",
   "id": "a2abe1e1",
   "metadata": {},
   "source": [
    "## List 1.11 - make_ends\n",
    "\n",
    "### Problem:\n",
    "----------\n",
    "Given an array of ints, return a new array length 2 containing the first and last elements from the original array. The original array will be length 1 or more.\n",
    "\n",
    "### Examples:\n",
    "-------\n",
    "make_ends([1, 2, 3]) → [1, 3]\n",
    "make_ends([1, 2, 3, 4]) → [1, 4]\n",
    "make_ends([7, 4, 6, 2]) → [7, 2]"
   ]
  },
  {
   "cell_type": "code",
   "execution_count": 29,
   "id": "0e36de3e",
   "metadata": {},
   "outputs": [],
   "source": [
    "def make_ends(nums):\n",
    "    return [nums[0], nums[-1]]"
   ]
  },
  {
   "cell_type": "markdown",
   "id": "b8ded349",
   "metadata": {},
   "source": [
    "## List 1.12 - has23\n",
    "\n",
    "### Problem:\n",
    "----------\n",
    "Given an int array length 2, return True if it contains a 2 or a 3.\n",
    "\n",
    "\n",
    "### Examples:\n",
    "-------\n",
    "has23([2, 5]) → True\n",
    "has23([4, 3]) → True\n",
    "has23([4, 5]) → False"
   ]
  },
  {
   "cell_type": "code",
   "execution_count": 30,
   "id": "1f3ba2a6",
   "metadata": {},
   "outputs": [],
   "source": [
    "def has23(nums):\n",
    "    return 2 in nums or 3 in nums"
   ]
  },
  {
   "cell_type": "code",
   "execution_count": 31,
   "id": "10c5ca16",
   "metadata": {},
   "outputs": [
    {
     "name": "stderr",
     "output_type": "stream",
     "text": [
      "test_max_end3 (__main__.TestListProblemSets.test_max_end3) ... ok\n",
      "test_near_ten (__main__.TestListProblemSets.test_near_ten) ... ok\n",
      "test_same_first_last (__main__.TestListProblemSets.test_same_first_last) ... ok\n",
      "\n",
      "----------------------------------------------------------------------\n",
      "Ran 3 tests in 0.012s\n",
      "\n",
      "OK\n"
     ]
    },
    {
     "data": {
      "text/plain": [
       "<unittest.main.TestProgram at 0x1098d81d0>"
      ]
     },
     "execution_count": 31,
     "metadata": {},
     "output_type": "execute_result"
    }
   ],
   "source": [
    "class TestListProblemSets(unittest.TestCase):\n",
    "    \n",
    "    # MARK: - Run Test Helper Function \n",
    "    \n",
    "    def run_test(self, func, inputs, expected): \n",
    "        for func_input, func_expected in zip(inputs, expected):\n",
    "            self.assertEqual(func(*func_input), func_expected)\n",
    "    \n",
    "    # MARK: - Unit Tests \n",
    "    \n",
    "    \n",
    "    # TODO: - Move this function once all other functions \n",
    "    #         have been transferred. \n",
    "    def test_max_end3(self) -> None:\n",
    "        inputs = [[[1,2,3]], [[11,5,9]]]\n",
    "        expected = [[3,3,3],[11,11,11]]\n",
    "        \n",
    "        self.run_test(max_end3, inputs, expected)\n",
    "    \n",
    "    \n",
    "    def test_same_first_last(self) -> None:\n",
    "        inputs = [[[1,2,3]]]\n",
    "        expected = [False]\n",
    "        \n",
    "        self.run_test(same_first_last, inputs, expected)\n",
    "    \n",
    "    def test_near_ten(self) -> None:\n",
    "        inputs = [[[1,2,6]], [[6,1,2,3]]]\n",
    "        expected = [True, True]\n",
    "        \n",
    "        self.run_test(first_last6, inputs, expected)\n",
    "        \n",
    "        \n",
    "# MARK: - Unit Test Init State \n",
    "\n",
    "unittest.main(argv=[''], verbosity=2, exit=False)"
   ]
  }
 ],
 "metadata": {
  "kernelspec": {
   "display_name": "Python 3 (ipykernel)",
   "language": "python",
   "name": "python3"
  },
  "language_info": {
   "codemirror_mode": {
    "name": "ipython",
    "version": 3
   },
   "file_extension": ".py",
   "mimetype": "text/x-python",
   "name": "python",
   "nbconvert_exporter": "python",
   "pygments_lexer": "ipython3",
   "version": "3.11.3"
  }
 },
 "nbformat": 4,
 "nbformat_minor": 5
}
