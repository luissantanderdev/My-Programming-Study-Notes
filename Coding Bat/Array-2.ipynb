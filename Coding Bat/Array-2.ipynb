{
 "cells": [
  {
   "cell_type": "markdown",
   "id": "62281b86",
   "metadata": {},
   "source": [
    "## Array-2\n",
    "\n",
    "Medium array problems -- 1 loop."
   ]
  },
  {
   "cell_type": "markdown",
   "id": "0ddf82dd",
   "metadata": {},
   "source": [
    "<div style=\"border-bottom: 2px solid #555;\"></div>\n",
    "\n",
    "## Table of Contents\n",
    "* Array 2.1 - count_evens\n",
    "* Array 2.2 - big_diff\n",
    "* Array 2.3 - centered_average\n",
    "* Array 2.4 - sum13\n",
    "* Array 2.5 - sum67\n",
    "* Array 2.6 - has22\n",
    "* Array 2.7 - lucky13\n",
    "* Array 2.8 - sum28\n",
    "* Array 2.9 - more14\n",
    "* Array 2.10 - fizzArray\n",
    "* Array 2.11 - only14\n",
    "* Array 2.12 - fizzArray2\n",
    "* Array 2.13 - no14\n",
    "* Array 2.14 - isEverywhere\n",
    "* Array 2.15 - either24\n",
    "* Array 2.16 - matchUp\n",
    "* Array 2.17 - has77\n",
    "* Array 2.18 - has12\n",
    "* Array 2.19 - modThree\n",
    "* Array 2.20 - haveThree\n",
    "* Array 2.21 - twoTwo\n",
    "\n",
    "<div style=\"border-bottom: 2px solid #555;\"></div>\n"
   ]
  },
  {
   "cell_type": "markdown",
   "id": "7320da83",
   "metadata": {},
   "source": [
    "## Array 2.1 - count_evens\n",
    "\n",
    "### Problem:\n",
    "----------\n",
    "Return the number of even ints in the given array. Note: the % \"mod\" operator computes the remainder, e.g. 5 % 2 is 1.\n",
    "\n",
    "### Examples:\n",
    "-------\n",
    "countEvens([2, 1, 2, 3, 4]) → 3\n",
    "countEvens([2, 2, 0]) → 3\n",
    "countEvens([1, 3, 5]) → 0"
   ]
  },
  {
   "cell_type": "code",
   "execution_count": 45,
   "id": "ed2abbd5",
   "metadata": {},
   "outputs": [],
   "source": [
    "def count_evens(nums):\n",
    "    evens_count = 0 \n",
    "    for num in nums:\n",
    "        if num % 2 == 0:\n",
    "            evens_count += 1\n",
    "    return evens_count"
   ]
  },
  {
   "cell_type": "markdown",
   "id": "c9879d5e",
   "metadata": {},
   "source": [
    "## Array 2.2 - big_diff\n",
    "\n",
    "### Problem:\n",
    "----------\n",
    "Given an array length 1 or more of ints, return the difference between the largest and smallest values in the array. Note: the built-in Math.min(v1, v2) and Math.max(v1, v2) methods return the smaller or larger of two values.\n",
    "\n",
    "### Examples:\n",
    "-------\n",
    "bigDiff([10, 3, 5, 6]) → 7\n",
    "bigDiff([7, 2, 10, 9]) → 8\n",
    "bigDiff([2, 10, 7, 2]) → 8"
   ]
  },
  {
   "cell_type": "code",
   "execution_count": 46,
   "id": "9d066e03",
   "metadata": {},
   "outputs": [],
   "source": [
    "def big_diff(nums):\n",
    "    return max(nums) - min(nums)\n",
    "\n",
    "# NOTE: \n",
    "# Best Performance Code because it only runs on one functional call\n",
    "# on the stack so the AI translation is better \n",
    "def big_diff_optimal(nums):\n",
    "    max_num = nums[0]\n",
    "    min_num = nums[0]\n",
    "    \n",
    "    for num in nums: \n",
    "        if (num > max_num):\n",
    "            max_num = num \n",
    "        if (num < min_num):\n",
    "            min_num = num\n",
    "            \n",
    "    return max_num - min_num "
   ]
  },
  {
   "cell_type": "markdown",
   "id": "c2ae167b",
   "metadata": {},
   "source": [
    "## Array 2.3 - centered_average\n",
    "\n",
    "### Problem:\n",
    "----------\n",
    "Return the \"centered\" average of an array of ints, which we'll say is the mean average of the values, except ignoring the largest and smallest values in the array. If there are multiple copies of the smallest value, ignore just one copy, and likewise for the largest value. Use int division to produce the final average. You may assume that the array is length 3 or more.\n",
    "\n",
    "### Examples:\n",
    "-------\n",
    "centeredAverage([1, 2, 3, 4, 100]) → 3\n",
    "centeredAverage([1, 1, 5, 5, 10, 8, 7]) → 5\n",
    "centeredAverage([-10, -4, -2, -4, -2, 0]) → -3"
   ]
  },
  {
   "cell_type": "code",
   "execution_count": 47,
   "id": "0138b99b",
   "metadata": {},
   "outputs": [],
   "source": [
    "def centered_average(nums):\n",
    "    min_value = nums[0]\n",
    "    max_value = nums[0]\n",
    "    sum_total = 0\n",
    "    \n",
    "    for num in nums:\n",
    "        min_value = num if num < min_value else min_value\n",
    "        max_value = num if num > max_value else max_value\n",
    "        sum_total += num\n",
    "    \n",
    "    sum_total = sum_total - max_value - min_value\n",
    "    \n",
    "    return sum_total // (len(nums)-2)"
   ]
  },
  {
   "cell_type": "markdown",
   "id": "fd1d4070",
   "metadata": {},
   "source": [
    "## Array 2.4 - sum13\n",
    "\n",
    "### Problem:\n",
    "----------\n",
    "Return the sum of the numbers in the array, returning 0 for an empty array. Except the number 13 is very unlucky, so it does not count and numbers that come immediately after a 13 also do not count.\n",
    "\n",
    "### Examples:\n",
    "-------\n",
    "sum13([1, 2, 2, 1]) → 6\n",
    "sum13([1, 1]) → 2\n",
    "sum13([1, 2, 2, 1, 13]) → 6"
   ]
  },
  {
   "cell_type": "code",
   "execution_count": 48,
   "id": "f54507d0",
   "metadata": {},
   "outputs": [],
   "source": [
    "def sum13(nums):\n",
    "    if (len(nums) == 0):\n",
    "        return 0\n",
    "    \n",
    "    sum_total = 0\n",
    "    i = 0 \n",
    "    \n",
    "    while (i < len(nums)):\n",
    "        if (nums[i] == 13):\n",
    "            i += 2\n",
    "        else:\n",
    "            sum_total += nums[i]\n",
    "            i += 1\n",
    "    \n",
    "    return sum_total\n"
   ]
  },
  {
   "cell_type": "markdown",
   "id": "ef679f4b",
   "metadata": {},
   "source": [
    "## Array 2.5 - sum_67\n",
    "\n",
    "### Problem:\n",
    "----------\n",
    "Return the sum of the numbers in the array, except ignore sections of numbers starting with a 6 and extending to the next 7 (every 6 will be followed by at least one 7). Return 0 for no numbers.\n",
    "\n",
    "### Examples:\n",
    "-------\n",
    "sum67([1, 2, 2]) → 5\n",
    "sum67([1, 2, 2, 6, 99, 99, 7]) → 5\n",
    "sum67([1, 1, 6, 7, 2]) → 4"
   ]
  },
  {
   "cell_type": "code",
   "execution_count": 49,
   "id": "21dcdb18",
   "metadata": {},
   "outputs": [],
   "source": [
    "def sum67(nums): \n",
    "    if len(nums) == 0: return 0\n",
    "    \n",
    "    sum_total = 0\n",
    "    sum_on = True\n",
    "    \n",
    "    for num in nums: \n",
    "        if (num == 6):\n",
    "            sum_on = False\n",
    "        if (sum_on == False and num == 7): \n",
    "            sum_on = True\n",
    "        elif (sum_on):\n",
    "            sum_total += num\n",
    "            \n",
    "    return sum_total"
   ]
  },
  {
   "cell_type": "markdown",
   "id": "174bd773",
   "metadata": {},
   "source": [
    "## Array 2.6 - has22\n",
    "\n",
    "### Problem:\n",
    "----------\n",
    "Given an array of ints, return true if the array contains a 2 next to a 2 somewhere.\n",
    "\n",
    "\n",
    "### Examples:\n",
    "-------\n",
    "has22([1, 2, 2]) → true\n",
    "has22([1, 2, 1, 2]) → false\n",
    "has22([2, 1, 2]) → false\n"
   ]
  },
  {
   "cell_type": "code",
   "execution_count": 50,
   "id": "5c13f0db",
   "metadata": {},
   "outputs": [],
   "source": [
    "def has22(nums): \n",
    "    if (len(nums) < 2): return False \n",
    "    \n",
    "    for i in range(len(nums)-1):\n",
    "        if ([2,2] == nums[i:i+2]):\n",
    "            return True\n",
    "    \n",
    "    return False"
   ]
  },
  {
   "cell_type": "markdown",
   "id": "fdc7ee42",
   "metadata": {},
   "source": [
    "## Array 2.7 - lucky13\n",
    "\n",
    "### Problem:\n",
    "----------\n",
    "Given an array of ints, return true if the array contains no 1's and no 3's.\n",
    "\n",
    "### Examples:\n",
    "-------\n",
    "lucky13([0, 2, 4]) → true\n",
    "lucky13([1, 2, 3]) → false\n",
    "lucky13([1, 2, 4]) → false"
   ]
  },
  {
   "cell_type": "code",
   "execution_count": 51,
   "id": "d59875b8",
   "metadata": {},
   "outputs": [],
   "source": [
    "def lucky13(nums):\n",
    "    for num in nums: \n",
    "        if (num == 1 or num == 3):\n",
    "            return False \n",
    "    return True"
   ]
  },
  {
   "cell_type": "markdown",
   "id": "43657f41",
   "metadata": {},
   "source": [
    "## Array 2.8 - sum28\n",
    "\n",
    "### Problem:\n",
    "----------\n",
    "Given an array of ints, return true if the sum of all the 2's in the array is exactly 8.\n",
    "\n",
    "\n",
    "### Examples:\n",
    "-------\n",
    "sum28([2, 3, 2, 2, 4, 2]) → true\n",
    "sum28([2, 3, 2, 2, 4, 2, 2]) → false\n",
    "sum28([1, 2, 3, 4]) → false"
   ]
  },
  {
   "cell_type": "code",
   "execution_count": 52,
   "id": "d107072c",
   "metadata": {},
   "outputs": [],
   "source": [
    "def sum28(nums):\n",
    "    sum_total = 0\n",
    "    for num in nums:\n",
    "        if (num == 2):\n",
    "            sum_total += 2\n",
    "    return sum_total == 8"
   ]
  },
  {
   "cell_type": "markdown",
   "id": "03018724",
   "metadata": {},
   "source": [
    "## Array 2.9 - more14\n",
    "\n",
    "### Problem:\n",
    "----------\n",
    "Given an array of ints, return true if the number of 1's is greater than the number of 4's\n",
    "\n",
    "### Examples:\n",
    "-------\n",
    "more14([1, 4, 1]) → true\n",
    "more14([1, 4, 1, 4]) → false\n",
    "more14([1, 1]) → true"
   ]
  },
  {
   "cell_type": "code",
   "execution_count": 53,
   "id": "7ee0ca92",
   "metadata": {},
   "outputs": [],
   "source": [
    "def more14(nums):\n",
    "    count_ones = 0\n",
    "    count_fours = 0\n",
    "    \n",
    "    for num in nums: \n",
    "        if (num == 1):\n",
    "            count_ones += 1\n",
    "        if (num == 4):\n",
    "            count_fours += 1\n",
    "    \n",
    "    return count_ones > count_fours"
   ]
  },
  {
   "cell_type": "markdown",
   "id": "5f801f57",
   "metadata": {},
   "source": [
    "## Array 2.10 - fizzArray\n",
    "\n",
    "### Problem:\n",
    "----------\n",
    "Given a number n, create and return a new int array of length n, containing the numbers 0, 1, 2, ... n-1. The given n may be 0, in which case just return a length 0 array. You do not need a separate if-statement for the length-0 case; the for-loop should naturally execute 0 times in that case, so it just works. The syntax to make a new int array is: new int[desired_length]\n",
    "\n",
    "### Examples:\n",
    "-------\n",
    "fizzArray(4) → [0, 1, 2, 3]\n",
    "fizzArray(1) → [0]\n",
    "fizzArray(10) → [0, 1, 2, 3, 4, 5, 6, 7, 8, 9]"
   ]
  },
  {
   "cell_type": "code",
   "execution_count": 54,
   "id": "27fc4f2f",
   "metadata": {},
   "outputs": [],
   "source": [
    "def fizzArray(n):\n",
    "    i = 0 \n",
    "    new_array = []\n",
    "    \n",
    "    while i < n:\n",
    "        new_array.append(i)\n",
    "        i += 1\n",
    "    \n",
    "    return new_array"
   ]
  },
  {
   "cell_type": "markdown",
   "id": "0da0a375",
   "metadata": {},
   "source": [
    "## Array 2.11 - only14\n",
    "\n",
    "### Problem:\n",
    "----------\n",
    "Given an array of ints, return true if every element is a 1 or a 4.\n",
    "\n",
    "### Examples:\n",
    "-------\n",
    "only14([1, 4, 1, 4]) → true\n",
    "only14([1, 4, 2, 4]) → false\n",
    "only14([1, 1]) → true"
   ]
  },
  {
   "cell_type": "code",
   "execution_count": 4,
   "id": "cf57e417",
   "metadata": {},
   "outputs": [],
   "source": [
    "def only14(nums):\n",
    "    flag = False\n",
    "    \n",
    "    if (len(nums) == 0):\n",
    "        return True\n",
    "    \n",
    "    for num in nums:\n",
    "        if (num == 1 or num == 4):\n",
    "            flag = True\n",
    "        else:\n",
    "            flag = False\n",
    "            break\n",
    "    return flag\n"
   ]
  },
  {
   "cell_type": "markdown",
   "id": "d992d6f9",
   "metadata": {},
   "source": [
    "## Array 2.12 - fizzArray2\n",
    "\n",
    "### Problem:\n",
    "----------\n",
    "Given a number n, create and return a new string array of length n, containing the strings \"0\", \"1\" \"2\" .. through n-1. N may be 0, in which case just return a length 0 array. Note: String.valueOf(xxx) will make the String form of most types. The syntax to make a new string array is: new String[desired_length]\n",
    "\n",
    "### Examples:\n",
    "-------\n",
    "fizzArray2(4) → [\"0\", \"1\", \"2\", \"3\"]\n",
    "fizzArray2(10) → [\"0\", \"1\", \"2\", \"3\", \"4\", \"5\", \"6\", \"7\", \"8\", \"9\"]\n",
    "fizzArray2(2) → [\"0\", \"1\"]"
   ]
  },
  {
   "cell_type": "code",
   "execution_count": 8,
   "id": "77f7c4da",
   "metadata": {},
   "outputs": [],
   "source": [
    "def fizzArray2(n):\n",
    "    new_array = []\n",
    "    \n",
    "    for i in range(n):\n",
    "        new_array.append(f\"{i}\")\n",
    "    return new_array"
   ]
  },
  {
   "cell_type": "markdown",
   "id": "d0ad34b9",
   "metadata": {},
   "source": [
    "## Array 2.13 - no14\n",
    "\n",
    "### Problem:\n",
    "----------\n",
    "Given an array of ints, return true if it contains no 1's or it contains no 4's.\n",
    "\n",
    "### Examples:\n",
    "-------\n",
    "no14([1, 2, 3]) → true\n",
    "no14([1, 2, 3, 4]) → false\n",
    "no14([2, 3, 4]) → true"
   ]
  },
  {
   "cell_type": "code",
   "execution_count": 55,
   "id": "e9267845",
   "metadata": {},
   "outputs": [],
   "source": [
    "def no14(nums):\n",
    "    return False if (1 in nums and 4 in nums) else True"
   ]
  },
  {
   "cell_type": "markdown",
   "id": "438cf2fd",
   "metadata": {},
   "source": [
    "## Array 2.14 - isEverywhere\n",
    "\n",
    "### Problem:\n",
    "----------\n",
    "We'll say that a value is \"everywhere\" in an array if for every pair of adjacent elements in the array, at least one of the pair is that value. Return true if the given value is everywhere in the array.\n",
    "\n",
    "### Examples:\n",
    "-------\n",
    "isEverywhere([1, 2, 1, 3], 1) → true\n",
    "isEverywhere([1, 2, 1, 3], 2) → false\n",
    "isEverywhere([1, 2, 1, 3, 4], 1) → false"
   ]
  },
  {
   "cell_type": "code",
   "execution_count": 56,
   "id": "a547ac2c",
   "metadata": {},
   "outputs": [],
   "source": [
    "def is_everywhere(nums, val):\n",
    "    i = 1\n",
    "    \n",
    "    while (i < len(nums)):\n",
    "        if (val not in nums[i-1:i+1]):\n",
    "            return False\n",
    "        i += 1\n",
    "        \n",
    "    return True"
   ]
  },
  {
   "cell_type": "markdown",
   "id": "21bceef7",
   "metadata": {},
   "source": [
    "## Array 2.15 - either24\n",
    "\n",
    "### Problem:\n",
    "----------\n",
    "Given an array of ints, return true if the array contains a 2 next to a 2 or a 4 next to a 4, but not both.\n",
    "\n",
    "### Examples:\n",
    "-------\n",
    "either24([1, 2, 2]) → true\n",
    "either24([4, 4, 1]) → true\n",
    "either24([4, 4, 1, 2, 2]) → false"
   ]
  },
  {
   "cell_type": "code",
   "execution_count": 57,
   "id": "99fea3b9",
   "metadata": {},
   "outputs": [],
   "source": [
    "def either24(nums):\n",
    "    next_two = False\n",
    "    next_four = False \n",
    "    \n",
    "    i = 1\n",
    "    \n",
    "    while (i < len(nums)):\n",
    "        if ([2,2] == nums[i-1:i+1]):\n",
    "            next_two = True\n",
    "        if ([4,4] == nums[i-1:i+1]):\n",
    "            next_four = True\n",
    "        i += 1\n",
    "            \n",
    "    return False if next_two == next_four else True"
   ]
  },
  {
   "cell_type": "markdown",
   "id": "f646e09f",
   "metadata": {},
   "source": [
    "## Array 2.16 - matchUp\n",
    "\n",
    "### Problem:\n",
    "----------\n",
    "Given arrays nums1 and nums2 of the same length, for every element in nums1, consider the corresponding element in nums2 (at the same index). Return the count of the number of times that the two elements differ by 2 or less, but are not equal.\n",
    "\n",
    "### Examples:\n",
    "-------\n",
    "matchUp([1, 2, 3], [2, 3, 10]) → 2\n",
    "matchUp([1, 2, 3], [2, 3, 5]) → 3\n",
    "matchUp([1, 2, 3], [2, 3, 3]) → 2"
   ]
  },
  {
   "cell_type": "code",
   "execution_count": 58,
   "id": "0be6b039",
   "metadata": {},
   "outputs": [],
   "source": [
    "def matchUp(nums1, nums2):\n",
    "    \n",
    "    differ_count = 0 \n",
    "    \n",
    "    for i in range(len(nums1)):\n",
    "        difference = abs(nums1[i] - nums2[i])\n",
    "        \n",
    "        if (difference != 0 and difference <= 2):\n",
    "            differ_count += 1\n",
    "    \n",
    "    return differ_count"
   ]
  },
  {
   "cell_type": "markdown",
   "id": "9bb62bac",
   "metadata": {},
   "source": [
    "## Array 2.17 - has77\n",
    "\n",
    "### Problem:\n",
    "----------\n",
    "Given an array of ints, return true if the array contains two 7's next to each other, or there are two 7's separated by one element, such as with {7, 1, 7}.\n",
    "\n",
    "### Examples:\n",
    "-------\n",
    "has77([1, 7, 7]) → true\n",
    "has77([1, 7, 1, 7]) → true\n",
    "has77([1, 7, 1, 1, 7]) → false"
   ]
  },
  {
   "cell_type": "code",
   "execution_count": 59,
   "id": "2170af09",
   "metadata": {},
   "outputs": [],
   "source": [
    "# Optimal based on language constraints due to Python \n",
    "# having C embeddings which are faster than in Java's\n",
    "def has77(nums):\n",
    "    i = 0\n",
    "    \n",
    "    while (i < len(nums)-1):\n",
    "        count7 = nums[i:i+3].count(7)\n",
    "        \n",
    "        if (count7 == 2):\n",
    "            return True \n",
    "\n",
    "        i += 1\n",
    "    \n",
    "    return False\n",
    "\n",
    "# Optimized based on how it looks\n",
    "def has77_optimal(nums): \n",
    "    for i in range(len(nums)):\n",
    "        if nums[i] == 7 and nums[i+1] == 7:\n",
    "            return True\n",
    "        if i+2 < len(nums) and nums[i] == 7 and nums[i+2] == 7:\n",
    "            return True\n",
    "    return False"
   ]
  },
  {
   "cell_type": "markdown",
   "id": "1f3e21f7",
   "metadata": {},
   "source": [
    "## Array 2.17 - has12\n",
    "\n",
    "### Problem:\n",
    "----------\n",
    "Given an array of ints, return true if there is a 1 in the array with a 2 somewhere later in the array.\n",
    "\n",
    "### Examples:\n",
    "-------\n",
    "has12([1, 3, 2]) → true\n",
    "has12([3, 1, 2]) → true\n",
    "has12([3, 1, 4, 5, 2]) → true"
   ]
  },
  {
   "cell_type": "code",
   "execution_count": 60,
   "id": "31b0bbbb",
   "metadata": {},
   "outputs": [],
   "source": [
    "def has12(nums):\n",
    "    one_found = False\n",
    "    \n",
    "    for num in nums:\n",
    "        if num == 1:\n",
    "            one_found = True\n",
    "        if one_found and num == 2:\n",
    "            return one_found\n",
    "\n",
    "    return False"
   ]
  },
  {
   "cell_type": "markdown",
   "id": "3df27389",
   "metadata": {},
   "source": [
    "## Array 2.18 - modThree\n",
    "\n",
    "### Problem:\n",
    "----------\n",
    "Given an array of ints, return true if the array contains either 3 even or 3 odd values all next to each other.\n",
    "\n",
    "### Examples:\n",
    "-------\n",
    "modThree([2, 1, 3, 5]) → true\n",
    "modThree([2, 1, 2, 5]) → false\n",
    "modThree([2, 4, 2, 5]) → true"
   ]
  },
  {
   "cell_type": "code",
   "execution_count": 61,
   "id": "db5946c7",
   "metadata": {},
   "outputs": [],
   "source": [
    "def mod_three(nums):\n",
    "    i = 0\n",
    "    \n",
    "    while (i < len(nums)-2):\n",
    "        \n",
    "        if ((nums[i] % 2) == 0 and (nums[i+1]%2) == 0 and (nums[i+2]%2) == 0):\n",
    "            return True\n",
    "        \n",
    "        if ((nums[i] % 2) == 1 and (nums[i+1]%2) == 1 and (nums[i+2]%2) == 1):\n",
    "            return True\n",
    "        \n",
    "        i += 1\n",
    "    \n",
    "    return False"
   ]
  },
  {
   "cell_type": "markdown",
   "id": "29133f73",
   "metadata": {},
   "source": [
    "## Array 2.19 - haveThree\n",
    "\n",
    "### Problem:\n",
    "----------\n",
    "Given an array of ints, return true if the value 3 appears in the array exactly 3 times, and no 3's are next to each other.\n",
    "\n",
    "### Examples:\n",
    "-------\n",
    "haveThree([3, 1, 3, 1, 3]) → true\n",
    "haveThree([3, 1, 3, 3]) → false\n",
    "haveThree([3, 4, 3, 3, 4]) → false"
   ]
  },
  {
   "cell_type": "code",
   "execution_count": 62,
   "id": "e1e94a2c",
   "metadata": {},
   "outputs": [],
   "source": [
    "def have_three(nums):\n",
    "    if (nums.count(3) != 3):\n",
    "        appears = False\n",
    "        \n",
    "    i = 0\n",
    "        \n",
    "    while (i < len(nums)-1):\n",
    "        if (nums[i] == 3 and nums[i+1] == 3):\n",
    "            return False\n",
    "        i += 1\n",
    "    \n",
    "    return True"
   ]
  },
  {
   "cell_type": "markdown",
   "id": "03fd046a",
   "metadata": {},
   "source": [
    "## Array 2.20 - twoTwo\n",
    "\n",
    "### Problem:\n",
    "----------\n",
    "Given an array of ints, return true if every 2 that appears in the array is next to another 2.\n",
    "\n",
    "### Examples:\n",
    "-------\n",
    "twoTwo([4, 2, 2, 3]) → true\n",
    "twoTwo([2, 2, 4]) → true\n",
    "twoTwo([2, 2, 4, 2]) → false"
   ]
  },
  {
   "cell_type": "code",
   "execution_count": 82,
   "id": "f9f85804",
   "metadata": {},
   "outputs": [
    {
     "name": "stdout",
     "output_type": "stream",
     "text": [
      "False\n"
     ]
    }
   ],
   "source": [
    "def twoTwo(nums):\n",
    "    if (len(nums) < 2):\n",
    "        return False\n",
    "    \n",
    "    i = 1\n",
    "    \n",
    "    while (i < len(nums)-1):\n",
    "        if ((nums[i-1] != 2 and nums[i] == 2) \n",
    "            and (nums[i] == 2 and nums[i+1] != 2)):\n",
    "            return False\n",
    "        \n",
    "        i += 1\n",
    "        \n",
    "    return False if (nums[i] == 2 and nums[i-1] != 2) else True\n",
    "    \n",
    "    \n",
    "val = twoTwo([2,2,4,2])\n",
    "print(val)"
   ]
  },
  {
   "cell_type": "markdown",
   "id": "fec2130b",
   "metadata": {},
   "source": [
    "## Unit Testing"
   ]
  },
  {
   "cell_type": "code",
   "execution_count": 80,
   "id": "d78bfa74",
   "metadata": {},
   "outputs": [
    {
     "name": "stderr",
     "output_type": "stream",
     "text": [
      "test_big_diff (__main__.TestArray2ProblemSets.test_big_diff) ... ok\n",
      "test_count_evens (__main__.TestArray2ProblemSets.test_count_evens) ... ok\n",
      "test_either24 (__main__.TestArray2ProblemSets.test_either24) ... ok\n",
      "test_fizz_array (__main__.TestArray2ProblemSets.test_fizz_array) ... ok\n",
      "test_has22 (__main__.TestArray2ProblemSets.test_has22) ... ok\n",
      "test_has77 (__main__.TestArray2ProblemSets.test_has77) ... ok\n",
      "test_have_three (__main__.TestArray2ProblemSets.test_have_three) ... ok\n",
      "test_is_everywhere (__main__.TestArray2ProblemSets.test_is_everywhere) ... ok\n",
      "test_lucky13 (__main__.TestArray2ProblemSets.test_lucky13) ... ok\n",
      "test_matchUp (__main__.TestArray2ProblemSets.test_matchUp) ... ok\n",
      "test_mod_three (__main__.TestArray2ProblemSets.test_mod_three) ... ok\n",
      "test_more14 (__main__.TestArray2ProblemSets.test_more14) ... ok\n",
      "test_no14 (__main__.TestArray2ProblemSets.test_no14) ... ok\n",
      "test_sum13 (__main__.TestArray2ProblemSets.test_sum13) ... ok\n",
      "test_sum28 (__main__.TestArray2ProblemSets.test_sum28) ... ok\n",
      "test_sum67 (__main__.TestArray2ProblemSets.test_sum67) ... ok\n",
      "test_two_Two (__main__.TestArray2ProblemSets.test_two_Two) ... ok\n",
      "\n",
      "----------------------------------------------------------------------\n",
      "Ran 17 tests in 0.141s\n",
      "\n",
      "OK\n"
     ]
    },
    {
     "data": {
      "text/plain": [
       "<unittest.main.TestProgram at 0x10a5176d0>"
      ]
     },
     "execution_count": 80,
     "metadata": {},
     "output_type": "execute_result"
    }
   ],
   "source": [
    "import unittest\n",
    "\n",
    "class TestArray2ProblemSets(unittest.TestCase):\n",
    "        \n",
    "    # MARK: - Unit Tests\n",
    "    \n",
    "    def test_two_Two(self) -> None:\n",
    "        inputs = [[[4,2,2,3]], [[2,2,3,2]], [[2,2,4]], [[2,2,4,2]]]\n",
    "        expected = [True, False, True, False]\n",
    "        \n",
    "        self.run_test(twoTwo, inputs, expected)\n",
    "    \n",
    "    def test_have_three(self) -> None: \n",
    "        inputs = [[[3, 4, 3, 4, 3, 4, 4]],[[3,1,3,1,3]], [[3,1,3,3]], [[3,4,3,3,4]]]\n",
    "        expected = [True, True, False, False]\n",
    "        \n",
    "        self.run_test(have_three, inputs, expected)\n",
    "    \n",
    "    def test_mod_three(self) -> None:\n",
    "        inputs = [[[2,1,3,5]], [[2,1,2,5]], [[2,4,2,5]]]\n",
    "        expected = [True, False, True]\n",
    "        \n",
    "        self.run_test(mod_three, inputs, expected)\n",
    "    \n",
    "    def test_has77(self) -> None:\n",
    "        inputs = [[[1,7,7]]]\n",
    "        expected = [True]\n",
    "        \n",
    "        self.run_test(has77_optimal, inputs, expected)\n",
    "    \n",
    "    def test_matchUp(self) -> None:\n",
    "        inputs = [[[1,2,3], [2,3,10]], [[1,2,3], [2,3,3]]]\n",
    "        expected = [2,2]\n",
    "        \n",
    "        self.run_test(matchUp, inputs, expected)\n",
    "    \n",
    "    def test_either24(self) -> None:\n",
    "        inputs = [[[1,2,2]], [[4,4,1]], [[4,4,1,2,2]]]\n",
    "        expected = [True, True, False]\n",
    "        \n",
    "        self.run_test(either24, inputs, expected)\n",
    "    \n",
    "    def test_is_everywhere(self) -> None:\n",
    "        inputs = [[[1, 2, 1, 3], 1], [[1, 2, 1, 3], 2]]\n",
    "        expected = [True, False]\n",
    "        \n",
    "        self.run_test(is_everywhere, inputs, expected)\n",
    "    \n",
    "    def test_no14(self) -> None:\n",
    "        inputs = [[[1,2,3]], [[1,2,3,4]]]\n",
    "        expected = [True, False]\n",
    "        \n",
    "        self.run_test(no14, inputs, expected)\n",
    "    \n",
    "    def test_fizz_array(self) -> None:\n",
    "        inputs = [[4], [1], [10]]\n",
    "        expected = [[0,1,2,3], [0], [0, 1, 2, 3, 4, 5, 6, 7, 8, 9]]\n",
    "        \n",
    "        self.run_test(fizzArray, inputs, expected)\n",
    "    \n",
    "    def test_more14(self) -> None: \n",
    "        inputs = [[[1,4,1]], [[1,4,1,4]], [[1,1]]]\n",
    "        expected = [True, False, True]\n",
    "        \n",
    "        self.run_test(more14, inputs, expected)\n",
    "    \n",
    "    def test_sum28(self) -> None:\n",
    "        inputs = [[[2,3,2,2,4,2]]]\n",
    "        expected = [True]\n",
    "        \n",
    "        self.run_test(sum28, inputs, expected)\n",
    "    \n",
    "    def test_lucky13(self) -> None: \n",
    "        inputs = [[[1,2,4]]]\n",
    "        expected = [False]\n",
    "        \n",
    "        self.run_test(lucky13, inputs, expected)\n",
    "    \n",
    "    def test_has22(self) -> None:\n",
    "        inputs = [[[1,2,2]], [[1,2,1,2]], [[2,1,2]]]\n",
    "        expected = [True, False, False]\n",
    "        \n",
    "        self.run_test(has22, inputs, expected)\n",
    "    \n",
    "    def test_sum67(self) -> None: \n",
    "        inputs = [[[1,2,2]], [[1,2,2,6,99,99,7]], [[1,1,6,7,2]], [[2, 7, 6, 2, 6, 7, 2, 7]]]\n",
    "        expected = [5,5,4,18]\n",
    "        \n",
    "        self.run_test(sum67, inputs, expected)\n",
    "    \n",
    "    def test_sum13(self) -> None:\n",
    "        inputs = [[[1,2,2,1]], [[1,1]], [[]], [[1, 2, 13, 2, 1, 13]]]\n",
    "        expected = [6, 2, 0, 4]\n",
    "        \n",
    "        self.run_test(sum13, inputs, expected)\n",
    "    \n",
    "    def test_big_diff(self) -> None:\n",
    "        inputs = [[[10,3,5,6]], [[7,2,10,9]]]\n",
    "        expected_outputs = [7,8]\n",
    "        \n",
    "        self.run_test(big_diff, inputs, expected_outputs)\n",
    "    \n",
    "    def test_count_evens(self) -> None:\n",
    "        inputs = [[[2,1,2,3,4]]]\n",
    "        expected_outputs = [3]\n",
    "        \n",
    "        self.run_test(count_evens, inputs, expected_outputs)\n",
    "    \n",
    "    # MARK: - Run Test Helper Function \n",
    "    \n",
    "    def run_test(self, func, inputs, expected): \n",
    "        i = 0\n",
    "        for func_input, func_expected in zip(inputs, expected):\n",
    "            self.assertEqual(func(*func_input), func_expected)\n",
    "\n",
    "        \n",
    "# MARK: - Unit Test Init State \n",
    "\n",
    "unittest.main(argv=[''], verbosity=2, exit=False)"
   ]
  },
  {
   "cell_type": "markdown",
   "id": "a9c34e8e",
   "metadata": {},
   "source": [
    "## Array 2.\n",
    "\n",
    "### Problem:\n",
    "----------\n",
    "\n",
    "\n",
    "### Examples:\n",
    "-------\n"
   ]
  },
  {
   "cell_type": "code",
   "execution_count": null,
   "id": "423a134f",
   "metadata": {},
   "outputs": [],
   "source": []
  },
  {
   "cell_type": "code",
   "execution_count": null,
   "id": "f8e72cc8",
   "metadata": {},
   "outputs": [],
   "source": []
  }
 ],
 "metadata": {
  "kernelspec": {
   "display_name": "Python 3 (ipykernel)",
   "language": "python",
   "name": "python3"
  },
  "language_info": {
   "codemirror_mode": {
    "name": "ipython",
    "version": 3
   },
   "file_extension": ".py",
   "mimetype": "text/x-python",
   "name": "python",
   "nbconvert_exporter": "python",
   "pygments_lexer": "ipython3",
   "version": "3.11.3"
  }
 },
 "nbformat": 4,
 "nbformat_minor": 5
}
