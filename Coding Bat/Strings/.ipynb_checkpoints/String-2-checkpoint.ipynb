{
 "cells": [
  {
   "cell_type": "markdown",
   "id": "71fbf46f",
   "metadata": {},
   "source": [
    "## String-2 \n",
    "\n",
    "Medium python string problems -- 1 loop.. Use + to combine strings, len(str) is the number of chars in a String, str[i:j] extracts the substring starting at index i and running up to but not including index j."
   ]
  },
  {
   "cell_type": "markdown",
   "id": "51eb639c",
   "metadata": {},
   "source": [
    "<div style=\"border-bottom: 2px solid #555;\"></div>\n",
    "\n",
    "## Table of Contents\n",
    "* String 2.1 - double_char\n",
    "* String 2.2 - count_hi\n",
    "* String 2.3 - cat_dog\n",
    "* String 2.4 - count_code\n",
    "* String 2.5 - end_other\n",
    "* String 2.6 - xyz_there\n",
    "* String 2.7 - bobThere\n",
    "\n",
    "<div style=\"border-bottom: 2px solid #555;\"></div>\n"
   ]
  },
  {
   "cell_type": "markdown",
   "id": "ef2cf97d",
   "metadata": {},
   "source": [
    "## String 2.1 - double_char\n",
    "\n",
    "### Problem:\n",
    "----------\n",
    "Given a string, return a string where for every char in the original, there are two chars.\n",
    "\n",
    "### Examples:\n",
    "-------\n",
    "double_char('The') → 'TThhee'\n",
    "double_char('AAbb') → 'AAAAbbbb'\n",
    "double_char('Hi-There') → 'HHii--TThheerree'"
   ]
  },
  {
   "cell_type": "code",
   "execution_count": 2,
   "id": "ba45a2b8",
   "metadata": {},
   "outputs": [],
   "source": [
    "def double_char(str):\n",
    "    new_string = \"\"\n",
    "    for c in str:\n",
    "        new_string += c + c\n",
    "    return new_string"
   ]
  },
  {
   "cell_type": "markdown",
   "id": "e3e3957c",
   "metadata": {},
   "source": [
    "## String 2.2 - count_hi\n",
    "\n",
    "### Problem:\n",
    "----------\n",
    "Return the number of times that the string \"hi\" appears anywhere in the given string.\n",
    "\n",
    "### Examples:\n",
    "-------\n",
    "count_hi('abc hi ho') → 1\n",
    "count_hi('ABChi hi') → 2\n",
    "count_hi('hihi') → 2"
   ]
  },
  {
   "cell_type": "code",
   "execution_count": 3,
   "id": "ed45b7ce",
   "metadata": {},
   "outputs": [],
   "source": [
    "def count_hi(str):  \n",
    "    counter = 0\n",
    "    for i in range(len(str) - 1):\n",
    "        if str[i] == 'h' and str[i+1] == 'i':\n",
    "            counter = counter + 1\n",
    "    return counter"
   ]
  },
  {
   "cell_type": "markdown",
   "id": "4cc2f3dc",
   "metadata": {},
   "source": [
    "## String 2.3 - cat_dog\n",
    "\n",
    "### Problem:\n",
    "----------\n",
    "Return True if the string \"cat\" and \"dog\" appear the same number of times in the given string.\n",
    "\n",
    "### Examples:\n",
    "-------\n",
    "cat_dog('catdog') → True\n",
    "cat_dog('catcat') → False\n",
    "cat_dog('1cat1cadodog') → True\n"
   ]
  },
  {
   "cell_type": "code",
   "execution_count": 4,
   "id": "cb34407a",
   "metadata": {},
   "outputs": [],
   "source": [
    "def cat_dog(str):\n",
    "    cat = 0 \n",
    "    dog = 0 \n",
    "    \n",
    "    for i in range(len(str)):\n",
    "        if str[i:i+3] == 'cat':\n",
    "            cat += 1\n",
    "        if str[i:i+3] == 'dog':\n",
    "            dog += 1\n",
    "    return cat == dog"
   ]
  },
  {
   "cell_type": "markdown",
   "id": "947b5b1c",
   "metadata": {},
   "source": [
    "## String 2.4 - count_code\n",
    "\n",
    "### Problem:\n",
    "----------\n",
    "Return the number of times that the string \"code\" appears anywhere in the given string, except we'll accept any letter for the 'd', so \"cope\" and \"cooe\" count.\n",
    "\n",
    "### Examples:\n",
    "-------\n",
    "count_code('aaacodebbb') → 1\n",
    "count_code('codexxcode') → 2\n",
    "count_code('cozexxcope') → 2"
   ]
  },
  {
   "cell_type": "code",
   "execution_count": 5,
   "id": "1b2ef8a9",
   "metadata": {},
   "outputs": [],
   "source": [
    "def count_code(str):\n",
    "    count = 0 \n",
    "    for i in range(len(str)):\n",
    "        sub_str = str[i:i+2] + str[i+3:i+4]\n",
    "        if \"coe\" == sub_str:\n",
    "            count += 1\n",
    "    return count"
   ]
  },
  {
   "cell_type": "markdown",
   "id": "bc4aa461",
   "metadata": {},
   "source": [
    "## String 2.5 - end_other\n",
    "\n",
    "### Problem:\n",
    "----------\n",
    "Given two strings, return True if either of the strings appears at the very end of the other string, ignoring upper/lower case differences (in other words, the computation should not be \"case sensitive\"). Note: s.lower() returns the lowercase version of a string.\n",
    "\n",
    "### Examples:\n",
    "-------\n",
    "end_other('Hiabc', 'abc') → True\n",
    "end_other('AbC', 'HiaBc') → True\n",
    "end_other('abc', 'abXabc') → True"
   ]
  },
  {
   "cell_type": "code",
   "execution_count": 6,
   "id": "edc5cf99",
   "metadata": {},
   "outputs": [],
   "source": [
    "def end_other(a, b):\n",
    "    a = a.lower()\n",
    "    b = b.lower() \n",
    "    \n",
    "    smaller_str_len = min(len(a), len(b))\n",
    "    \n",
    "    return a[-smaller_str_len:] == b[-smaller_str_len:]"
   ]
  },
  {
   "cell_type": "markdown",
   "id": "a61230dc",
   "metadata": {},
   "source": [
    "## String 2.6 - xyz_there\n",
    "\n",
    "### Problem:\n",
    "----------\n",
    "Return True if the given string contains an appearance of \"xyz\" where the xyz is not directly preceeded by a period (.). So \"xxyz\" counts but \"x.xyz\" does not.\n",
    "\n",
    "### Examples:\n",
    "-------\n",
    "xyz_there('abcxyz') → True\n",
    "xyz_there('abc.xyz') → False\n",
    "xyz_there('xyz.abc') → True"
   ]
  },
  {
   "cell_type": "code",
   "execution_count": 7,
   "id": "e3797e84",
   "metadata": {},
   "outputs": [],
   "source": [
    "def xyz_there(str):\n",
    "    index_of_xyz = str.rfind(\"xyz\")\n",
    "    \n",
    "    if index_of_xyz == -1 or str[index_of_xyz - 1] == '.':\n",
    "        return False\n",
    "    \n",
    "    return True"
   ]
  },
  {
   "cell_type": "markdown",
   "id": "acaf27b8",
   "metadata": {},
   "source": [
    "## String 2.7 - bobThere\n",
    "\n",
    "### Problem:\n",
    "----------\n",
    "Return true if the given string contains a \"bob\" string, but where the middle 'o' char can be any char.\n",
    "\n",
    "### Examples:\n",
    "-------\n",
    "bobThere(\"abcbob\") → true\n",
    "bobThere(\"b9b\") → true\n",
    "bobThere(\"bac\") → false"
   ]
  },
  {
   "cell_type": "code",
   "execution_count": 17,
   "id": "6377c7b4",
   "metadata": {},
   "outputs": [],
   "source": [
    "def bob_there(str):\n",
    "    i = 0 \n",
    "    \n",
    "    while (i < len(str) - 2):\n",
    "        if (str[i] == 'b' and str[i+2] == 'b'):\n",
    "            return True\n",
    "        i += 1\n",
    "    \n",
    "    return False "
   ]
  },
  {
   "cell_type": "markdown",
   "id": "6117a362",
   "metadata": {},
   "source": [
    "## Unit Testing"
   ]
  },
  {
   "cell_type": "code",
   "execution_count": 19,
   "id": "b7180bdc",
   "metadata": {},
   "outputs": [
    {
     "name": "stderr",
     "output_type": "stream",
     "text": [
      "test_bob_there (__main__.TestString2ProblemSets.test_bob_there) ... ok\n",
      "test_cat_dog (__main__.TestString2ProblemSets.test_cat_dog) ... ok\n",
      "test_count_code (__main__.TestString2ProblemSets.test_count_code) ... ok\n",
      "test_count_hi (__main__.TestString2ProblemSets.test_count_hi) ... ok\n",
      "test_double_char (__main__.TestString2ProblemSets.test_double_char) ... ok\n",
      "test_end_other (__main__.TestString2ProblemSets.test_end_other) ... ok\n",
      "test_xyz_there (__main__.TestString2ProblemSets.test_xyz_there) ... ok\n",
      "\n",
      "----------------------------------------------------------------------\n",
      "Ran 7 tests in 0.048s\n",
      "\n",
      "OK\n"
     ]
    },
    {
     "data": {
      "text/plain": [
       "<unittest.main.TestProgram at 0x106311f50>"
      ]
     },
     "execution_count": 19,
     "metadata": {},
     "output_type": "execute_result"
    }
   ],
   "source": [
    "import unittest\n",
    "\n",
    "class TestString2ProblemSets(unittest.TestCase):\n",
    "    \n",
    "    # MARK: - Unit Tests \n",
    "    \n",
    "    def test_bob_there(self) -> None:\n",
    "        inputs = [['abcbob'], ['b9b'], ['bac']]\n",
    "        expected = [True, True, False]\n",
    "        \n",
    "        self.run_test(bob_there, inputs, expected)\n",
    "    \n",
    "    def test_xyz_there(self) -> None:\n",
    "        inputs = [['abc.xyzxyz'], [\"abcxyz\"], [\"abc.xyz\"], [\"xyz.abc\"]]\n",
    "        expected_outputs = [True, True, False, True]\n",
    "        \n",
    "        self.run_test(xyz_there, inputs, expected_outputs)\n",
    "    \n",
    "    def test_end_other(self) -> None:\n",
    "        inputs = [[\"Hiabc\", \"abc\"], [\"AbC\", \"HiaBc\"]]\n",
    "        expected_outputs = [True, True]\n",
    "        \n",
    "        self.run_test(end_other, inputs, expected_outputs)\n",
    "    \n",
    "    def test_count_code(self) -> None:\n",
    "        inputs = [['aaacodebbb'], ['codexxcode'], ['cozexxcope']]\n",
    "        expected_outputs = [1,2,2]\n",
    "        \n",
    "        self.run_test(count_code, inputs, expected_outputs)\n",
    "    \n",
    "    def test_cat_dog(self) -> None:\n",
    "        inputs = [['catdog'], ['catcat'], ['1cat1cadodog']]\n",
    "        expected_outputs = [True, False, True]\n",
    "        \n",
    "        self.run_test(cat_dog, inputs, expected_outputs)\n",
    "\n",
    "    def test_count_hi(self) -> None:\n",
    "        inputs = [[\"abc hi ho\"], [\"ABChi hi\"]]\n",
    "        expected_outputs = [1, 2]\n",
    "        \n",
    "        self.run_test(count_hi, inputs, expected_outputs)\n",
    "    \n",
    "    def test_double_char(self) -> None:\n",
    "        inputs = [[\"The\"], [\"AAbb\"], [\"Hi-There\"]]\n",
    "        expected_outputs = [\"TThhee\", \"AAAAbbbb\", \"HHii--TThheerree\"]\n",
    "        \n",
    "        self.run_test(double_char, inputs, expected_outputs)\n",
    "    \n",
    "    # MARK: - Run Test Helper Function \n",
    "    \n",
    "    def run_test(self, func, inputs, expected): \n",
    "        for func_input, func_expected in zip(inputs, expected):\n",
    "            self.assertEqual(func(*func_input), func_expected)\n",
    "        \n",
    "# MARK: - Unit Test Init State \n",
    "\n",
    "unittest.main(argv=[''], verbosity=2, exit=False)"
   ]
  },
  {
   "cell_type": "markdown",
   "id": "0d8c9387",
   "metadata": {},
   "source": [
    "## String 2.8 - xyBalance\n",
    "\n",
    "### Problem:\n",
    "----------\n",
    "We'll say that a String is xy-balanced if for all the 'x' chars in the string, there exists a 'y' char somewhere later in the string. So \"xxy\" is balanced, but \"xyx\" is not. One 'y' can balance multiple 'x's. Return true if the given string is xy-balanced.\n",
    "\n",
    "### Examples:\n",
    "-------\n",
    "xyBalance(\"aaxbby\") → true\n",
    "xyBalance(\"aaxbb\") → false\n",
    "xyBalance(\"yaaxbb\") → false"
   ]
  },
  {
   "cell_type": "markdown",
   "id": "ca9cee64",
   "metadata": {},
   "source": [
    "## String 2.9 - mixString\n",
    "\n",
    "### Problem:\n",
    "----------\n",
    "Given two strings, a and b, create a bigger string made of the first char of a, the first char of b, the second char of a, the second char of b, and so on. Any leftover chars go at the end of the result.\n",
    "\n",
    "### Examples:\n",
    "-------\n",
    "mixString(\"abc\", \"xyz\") → \"axbycz\"\n",
    "mixString(\"Hi\", \"There\") → \"HTihere\"\n",
    "mixString(\"xxxx\", \"There\") → \"xTxhxexre\""
   ]
  },
  {
   "cell_type": "markdown",
   "id": "f1b1830e",
   "metadata": {},
   "source": [
    "## String 2.10 - repeatEnd\n",
    "\n",
    "### Problem:\n",
    "----------\n",
    "Given a string and an int n, return a string made of n repetitions of the last n characters of the string. You may assume that n is between 0 and the length of the string, inclusive.\n",
    "\n",
    "### Examples:\n",
    "-------\n",
    "repeatEnd(\"Hello\", 3) → \"llollollo\"\n",
    "repeatEnd(\"Hello\", 2) → \"lolo\"\n",
    "repeatEnd(\"Hello\", 1) → \"o\""
   ]
  },
  {
   "cell_type": "markdown",
   "id": "ce780768",
   "metadata": {},
   "source": [
    "## String 2.11 - repeatFront \n",
    "\n",
    "### Problem:\n",
    "----------\n",
    "Given a string and an int n, return a string made of the first n characters of the string, followed by the first n-1 characters of the string, and so on. You may assume that n is between 0 and the length of the string, inclusive (i.e. n >= 0 and n <= str.length()).\n",
    "\n",
    "### Examples:\n",
    "-------\n",
    "repeatFront(\"Chocolate\", 4) → \"ChocChoChC\"\n",
    "repeatFront(\"Chocolate\", 3) → \"ChoChC\"\n",
    "repeatFront(\"Ice Cream\", 2) → \"IcI\""
   ]
  },
  {
   "cell_type": "markdown",
   "id": "f13a826c",
   "metadata": {},
   "source": [
    "## String 2.12 - repeatSeparator\n",
    "\n",
    "### Problem:\n",
    "----------\n",
    "Given two strings, word and a separator sep, return a big string made of count occurrences of the word, separated by the separator string.\n",
    "\n",
    "### Examples:\n",
    "-------\n",
    "repeatSeparator(\"Word\", \"X\", 3) → \"WordXWordXWord\"\n",
    "repeatSeparator(\"This\", \"And\", 2) → \"ThisAndThis\"\n",
    "repeatSeparator(\"This\", \"And\", 1) → \"This\""
   ]
  },
  {
   "cell_type": "markdown",
   "id": "6483c018",
   "metadata": {},
   "source": [
    "## String 2.13 - prefixAgain\n",
    "\n",
    "### Problem:\n",
    "----------\n",
    "Given a string, consider the prefix string made of the first N chars of the string. Does that prefix string appear somewhere else in the string? Assume that the string is not empty and that N is in the range 1..str.length().\n",
    "\n",
    "### Examples:\n",
    "-------\n",
    "prefixAgain(\"abXYabc\", 1) → true\n",
    "prefixAgain(\"abXYabc\", 2) → true\n",
    "prefixAgain(\"abXYabc\", 3) → false"
   ]
  },
  {
   "cell_type": "markdown",
   "id": "94cf2772",
   "metadata": {},
   "source": [
    "## String 2.14 - xyzMiddle\n",
    "\n",
    "### Problem:\n",
    "----------\n",
    "Given a string, does \"xyz\" appear in the middle of the string? To define middle, we'll say that the number of chars to the left and right of the \"xyz\" must differ by at most one. This problem is harder than it looks.\n",
    "\n",
    "### Examples:\n",
    "-------\n",
    "xyzMiddle(\"AAxyzBB\") → true\n",
    "xyzMiddle(\"AxyzBB\") → true\n",
    "xyzMiddle(\"AxyzBBB\") → false"
   ]
  },
  {
   "cell_type": "markdown",
   "id": "2fad256d",
   "metadata": {},
   "source": [
    "## String 2.15 - getSandwich\n",
    "\n",
    "### Problem:\n",
    "----------\n",
    "A sandwich is two pieces of bread with something in between. Return the string that is between the first and last appearance of \"bread\" in the given string, or return the empty string \"\" if there are not two pieces of bread.\n",
    "\n",
    "### Examples:\n",
    "-------\n",
    "getSandwich(\"breadjambread\") → \"jam\"\n",
    "getSandwich(\"xxbreadjambreadyy\") → \"jam\"\n",
    "getSandwich(\"xxbreadyy\") → \"\""
   ]
  },
  {
   "cell_type": "markdown",
   "id": "9510efcf",
   "metadata": {},
   "source": [
    "## String 2.16 - sameStarChar\n",
    "\n",
    "### Problem:\n",
    "----------\n",
    "Returns true if for every '*' (star) in the string, if there are chars both immediately before and after the star, they are the same.\n",
    "\n",
    "### Examples:\n",
    "-------\n",
    "sameStarChar(\"xy*yzz\") → true\n",
    "sameStarChar(\"xy*zzz\") → false\n",
    "sameStarChar(\"*xa*az\") → true"
   ]
  },
  {
   "cell_type": "markdown",
   "id": "4d597b83",
   "metadata": {},
   "source": [
    "## String 2.17 - oneTwo\n",
    "\n",
    "### Problem:\n",
    "----------\n",
    "Given a string, compute a new string by moving the first char to come after the next two chars, so \"abc\" yields \"bca\". Repeat this process for each subsequent group of 3 chars, so \"abcdef\" yields \"bcaefd\". Ignore any group of fewer than 3 chars at the end.\n",
    "\n",
    "### Examples:\n",
    "-------\n",
    "oneTwo(\"abc\") → \"bca\"\n",
    "oneTwo(\"tca\") → \"cat\"\n",
    "oneTwo(\"tcagdo\") → \"catdog\""
   ]
  },
  {
   "cell_type": "markdown",
   "id": "861010aa",
   "metadata": {},
   "source": [
    "## String 2.18 - zipZap\n",
    "\n",
    "### Problem:\n",
    "----------\n",
    "Look for patterns like \"zip\" and \"zap\" in the string -- length-3, starting with 'z' and ending with 'p'. Return a string where for all such words, the middle letter is gone, so \"zipXzap\" yields \"zpXzp\".\n",
    "\n",
    "### Examples:\n",
    "-------\n",
    "zipZap(\"zipXzap\") → \"zpXzp\"\n",
    "zipZap(\"zopzop\") → \"zpzp\"\n",
    "zipZap(\"zzzopzop\") → \"zzzpzp\""
   ]
  },
  {
   "cell_type": "markdown",
   "id": "73e01295",
   "metadata": {},
   "source": [
    "## String 2.19 - starOut\n",
    "\n",
    "### Problem:\n",
    "----------\n",
    "Return a version of the given string, where for every star (*) in the string the star and the chars immediately to its left and right are gone. So \"ab*cd\" yields \"ad\" and \"ab**cd\" also yields \"ad\".\n",
    "\n",
    "### Examples:\n",
    "-------\n",
    "starOut(\"ab*cd\") → \"ad\"\n",
    "starOut(\"ab**cd\") → \"ad\"\n",
    "starOut(\"sm*eilly\") → \"silly\""
   ]
  },
  {
   "cell_type": "markdown",
   "id": "490afa32",
   "metadata": {},
   "source": [
    "## String 2.20 - plusOut\n",
    "\n",
    "### Problem:\n",
    "----------\n",
    "Given a string and a non-empty word string, return a version of the original String where all chars have been replaced by pluses (\"+\"), except for appearances of the word string which are preserved unchanged.\n",
    "\n",
    "### Examples:\n",
    "-------\n",
    "plusOut(\"12xy34\", \"xy\") → \"++xy++\"\n",
    "plusOut(\"12xy34\", \"1\") → \"1+++++\"\n",
    "plusOut(\"12xy34xyabcxy\", \"xy\") → \"++xy++xy+++xy\""
   ]
  },
  {
   "cell_type": "markdown",
   "id": "d9b31e4a",
   "metadata": {},
   "source": [
    "## String 2.21 - wordEnds\n",
    "\n",
    "### Problem:\n",
    "----------\n",
    "Given a string and a non-empty word string, return a string made of each char just before and just after every appearance of the word in the string. Ignore cases where there is no char before or after the word, and a char may be included twice if it is between two words.\n",
    "\n",
    "### Examples:\n",
    "-------\n",
    "wordEnds(\"abcXY123XYijk\", \"XY\") → \"c13i\"\n",
    "wordEnds(\"XY123XY\", \"XY\") → \"13\"\n",
    "wordEnds(\"XY1XY\", \"XY\") → \"11\""
   ]
  }
 ],
 "metadata": {
  "kernelspec": {
   "display_name": "Python 3 (ipykernel)",
   "language": "python",
   "name": "python3"
  },
  "language_info": {
   "codemirror_mode": {
    "name": "ipython",
    "version": 3
   },
   "file_extension": ".py",
   "mimetype": "text/x-python",
   "name": "python",
   "nbconvert_exporter": "python",
   "pygments_lexer": "ipython3",
   "version": "3.11.3"
  }
 },
 "nbformat": 4,
 "nbformat_minor": 5
}
