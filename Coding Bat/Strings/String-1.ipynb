{
 "cells": [
  {
   "cell_type": "code",
   "execution_count": 9,
   "id": "840e356a",
   "metadata": {},
   "outputs": [],
   "source": [
    "import unittest"
   ]
  },
  {
   "cell_type": "markdown",
   "id": "018a4800",
   "metadata": {},
   "source": [
    "## String-1.1 - hello_name\n",
    "\n",
    "### Problem: \n",
    "\n",
    "Given a string name e.g. \"Bob\", return a greeting of the form \"Hello Bob\"\n",
    "\n",
    "### Examples:\n",
    "\n"
   ]
  },
  {
   "cell_type": "code",
   "execution_count": 10,
   "id": "241532c4",
   "metadata": {},
   "outputs": [],
   "source": [
    "def hello_name(name):\n",
    "    return f\"Hello {name}\""
   ]
  },
  {
   "cell_type": "markdown",
   "id": "d842359f",
   "metadata": {},
   "source": [
    "## String 1.2 - make_abba"
   ]
  },
  {
   "cell_type": "code",
   "execution_count": 11,
   "id": "515156c2",
   "metadata": {},
   "outputs": [],
   "source": [
    "def make_abba(a, b):\n",
    "    return a + b + b + a"
   ]
  },
  {
   "cell_type": "markdown",
   "id": "1f864cd5",
   "metadata": {},
   "source": [
    "## String 1.3 - make_tags\n",
    "\n",
    "The web is build with HTML strings like \"<i>Yay</i>\" which draws Yay as italic\n",
    "\n",
    "Examples:\n",
    "make_tags('i', 'Yay') -> '<i>Yay</i>'"
   ]
  },
  {
   "cell_type": "code",
   "execution_count": 12,
   "id": "2e1f6363",
   "metadata": {},
   "outputs": [
    {
     "data": {
      "text/plain": [
       "'<i>Yay</i>'"
      ]
     },
     "execution_count": 12,
     "metadata": {},
     "output_type": "execute_result"
    }
   ],
   "source": [
    "def make_tags(tag, word):\n",
    "    return f\"<{tag}>{word}</{tag}>\"\n",
    "\n",
    "make_tags('i', 'Yay')"
   ]
  },
  {
   "cell_type": "markdown",
   "id": "a68c0c57",
   "metadata": {},
   "source": [
    "## String 1.4 - make_out_word\n",
    "\n",
    "### Problem:\n",
    "\n",
    "Given an \"out\" string length 4, such as \"<<>>\", and a word, return a new string where the word is in the middle of the out string, e.g. \"<< word >>\"\n",
    "    \n",
    "### Examples:\n",
    "---------\n",
    "make_out_word(\"<<>>\",'Yay') -> << Yay >>"
   ]
  },
  {
   "cell_type": "code",
   "execution_count": 13,
   "id": "d5b4e4bf",
   "metadata": {},
   "outputs": [],
   "source": [
    "def make_out_word(out, word):\n",
    "    return f\"{out[:2]}{word}{out[2:]}\""
   ]
  },
  {
   "cell_type": "markdown",
   "id": "5e7483ae",
   "metadata": {},
   "source": [
    "## String 1.5 - extra_end\n",
    "\n",
    "### Problem:\n",
    "\n",
    "Given a string, return a new string made of 3 copies of the last 2 chars of the original string. The string length will be at least 2.\n",
    "    \n",
    "### Examples:\n",
    "---------\n",
    "extra_end('Hello') → 'lololo'\n",
    "extra_end('ab') → 'ababab'\n",
    "extra_end('Hi') → 'HiHiH"
   ]
  },
  {
   "cell_type": "code",
   "execution_count": 15,
   "id": "0b1c0540",
   "metadata": {},
   "outputs": [],
   "source": [
    "def extra_end(str):\n",
    "    return str[len(str)-2:] * 3"
   ]
  },
  {
   "cell_type": "markdown",
   "id": "bbcdb88b",
   "metadata": {},
   "source": [
    "## String 1.5 - first_two\n",
    "\n",
    "### Problem:\n",
    "\n",
    "Given a string, return the string made of its first two chars, so the String \"Hello\" yields \"He\". If the string is shorter than length 2, return whatever there is, so \"X\" yields \"X\", and the empty string \"\" yields the empty string \"\".\n",
    "    \n",
    "### Examples:\n",
    "---------\n",
    "first_two('Hello') → 'He'\n",
    "first_two('abcdefg') → 'ab'\n",
    "first_two('ab') → 'ab'"
   ]
  },
  {
   "cell_type": "code",
   "execution_count": 20,
   "id": "fb7a027e",
   "metadata": {},
   "outputs": [],
   "source": [
    "def first_two(str):\n",
    "    return str[0:2]"
   ]
  },
  {
   "cell_type": "markdown",
   "id": "b7f2f6ef",
   "metadata": {},
   "source": [
    "# Unit Testing"
   ]
  },
  {
   "cell_type": "code",
   "execution_count": 19,
   "id": "7e973b5e",
   "metadata": {},
   "outputs": [
    {
     "name": "stderr",
     "output_type": "stream",
     "text": [
      "test_extra_end (__main__.TestBooleanLogicPuzzles.test_extra_end) ... ok\n",
      "test_make_out_word (__main__.TestBooleanLogicPuzzles.test_make_out_word) ... ok\n",
      "\n",
      "----------------------------------------------------------------------\n",
      "Ran 2 tests in 0.014s\n",
      "\n",
      "OK\n"
     ]
    },
    {
     "data": {
      "text/plain": [
       "<unittest.main.TestProgram at 0x112c17650>"
      ]
     },
     "execution_count": 19,
     "metadata": {},
     "output_type": "execute_result"
    }
   ],
   "source": [
    "class TestBooleanLogicPuzzles(unittest.TestCase):\n",
    "    \n",
    "    # MARK: - Run Test Helper Function \n",
    "    \n",
    "    def run_test(self, func, inputs, expected): \n",
    "        for func_input, func_expected in zip(inputs, expected):\n",
    "            self.assertEqual(func(*func_input), func_expected)\n",
    "    \n",
    "    # MARK: - Unit Tests \n",
    "    \n",
    "    def test_extra_end(self):\n",
    "        inputs = [[\"hello\"], [\"ab\"]]\n",
    "        expected = ['lololo', 'ababab']\n",
    "        \n",
    "        self.run_test(extra_end, inputs, expected)\n",
    "    \n",
    "    def test_make_out_word(self):\n",
    "        inputs = [['<<>>', 'Yay']]\n",
    "        expected = ['<<Yay>>']\n",
    "        \n",
    "        self.run_test(make_out_word, inputs, expected)\n",
    "    \n",
    "\n",
    "unittest.main(argv=[''], verbosity=2, exit=False)"
   ]
  },
  {
   "cell_type": "code",
   "execution_count": null,
   "id": "5cb99144",
   "metadata": {},
   "outputs": [],
   "source": []
  },
  {
   "cell_type": "code",
   "execution_count": null,
   "id": "8b32d5d8",
   "metadata": {},
   "outputs": [],
   "source": []
  }
 ],
 "metadata": {
  "kernelspec": {
   "display_name": "Python 3 (ipykernel)",
   "language": "python",
   "name": "python3"
  },
  "language_info": {
   "codemirror_mode": {
    "name": "ipython",
    "version": 3
   },
   "file_extension": ".py",
   "mimetype": "text/x-python",
   "name": "python",
   "nbconvert_exporter": "python",
   "pygments_lexer": "ipython3",
   "version": "3.11.3"
  }
 },
 "nbformat": 4,
 "nbformat_minor": 5
}
