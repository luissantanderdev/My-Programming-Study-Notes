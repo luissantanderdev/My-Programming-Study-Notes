{
 "cells": [
  {
   "cell_type": "markdown",
   "id": "2270568c",
   "metadata": {},
   "source": [
    "## String-3\n",
    "\n",
    "Harder String problems -- 2 loops. See the Java String Help document for help with strings."
   ]
  },
  {
   "cell_type": "markdown",
   "id": "26c29107",
   "metadata": {},
   "source": [
    "<div style=\"border-bottom: 2px solid #555;\"></div>\n",
    "\n",
    "## Table of Contents\n",
    "* String 3.1 - count_yz\n",
    "* String 3.2 - without_string\n",
    "* String 3.3 - equal_is_not\n",
    "* String 3.4 - g_happy\n",
    "\n",
    "<div style=\"border-bottom: 2px solid #555;\"></div>"
   ]
  },
  {
   "cell_type": "markdown",
   "id": "9a8bcdf4",
   "metadata": {},
   "source": [
    "## NOTES:\n",
    "\n",
    "The functions split() and splice() serve different purposes in different contexts:\n",
    "\n",
    "split() method:\n",
    "\n",
    "split() is a method available for strings in Python.\n",
    "It's used to split a string into a list of substrings based on a delimiter.\n",
    "Example: \"Hello, world!\".split(\",\") would return [\"Hello\", \" world!\"], splitting the string at the comma.\n",
    "This method is used primarily for string manipulation and parsing.\n",
    "splice() function:\n",
    "\n",
    "splice() is commonly associated with arrays in various programming languages like JavaScript.\n",
    "It's used to add or remove elements from an array, modifying the original array.\n",
    "In JavaScript, splice() can be used for both adding and removing elements, and it can specify the index at which to start modifying and the number of elements to remove or add.\n",
    "Example: array.splice(2, 1) would remove one element from index 2 in the array.\n",
    "This function is used for array manipulation, such as adding, removing, or replacing elements.\n",
    "\n",
    "In summary, split() is specifically for splitting strings into substrings, while splice() is used for array manipulation, like adding or removing elements. They operate on different data types and serve different purposes within their respective languages."
   ]
  },
  {
   "cell_type": "markdown",
   "id": "495363a7",
   "metadata": {},
   "source": [
    "## String 3.1 - count_yz\n",
    "\n",
    "### Problem:\n",
    "----------\n",
    "Given a string, count the number of words ending in 'y' or 'z' -- so the 'y' in \"heavy\" and the 'z' in \"fez\" count, but not the 'y' in \"yellow\" (not case sensitive). We'll say that a y or z is at the end of a word if there is not an alphabetic letter immediately following it. (Note: Character.isLetter(char) tests if a char is an alphabetic letter.)\n",
    "\n",
    "### Examples:\n",
    "-------\n",
    "countYZ(\"fez day\") → 2\n",
    "countYZ(\"day fez\") → 2\n",
    "countYZ(\"day fyyyz\") → 2"
   ]
  },
  {
   "cell_type": "code",
   "execution_count": 1,
   "id": "d26729c6",
   "metadata": {},
   "outputs": [],
   "source": [
    "import re\n",
    "\n",
    "# Without using auxilary Memory with one For Loop o(n)\n",
    "def count_yz_optimal(s: str): \n",
    "    count = 0\n",
    "    s = s.lower() + \" \"\n",
    "\n",
    "    for i in range(len(s) - 1):\n",
    "        if (s[i] == 'y' or s[i] == 'z') and not s[i + 1].isalpha():\n",
    "            count += 1\n",
    "\n",
    "    return count\n",
    "\n",
    "def split_words(s: str) -> str: \n",
    "    i = 0\n",
    "    words = []\n",
    "    word = \"\" \n",
    "    \n",
    "    while (i < len(s)):\n",
    "        if (not s[i].isalnum()):\n",
    "            words.append(word)\n",
    "            word = \"\"\n",
    "        else:\n",
    "            word += s[i]            \n",
    "        i += 1\n",
    "        \n",
    "    if (len(word) > 0):\n",
    "        words.append(word)\n",
    "        word = \"\"\n",
    "        \n",
    "    return words\n",
    "    \n",
    "def count_yz(s: str) -> int:\n",
    "#     words = re.split(r'\\W+', s)\n",
    "    words = split_words(s)\n",
    "    \n",
    "    count = 0\n",
    "    \n",
    "    for word in words:\n",
    "        last_char = (word[-1:]).lower()\n",
    "        if (last_char == \"z\" or last_char == \"y\"):\n",
    "            count += 1\n",
    "    \n",
    "    return count"
   ]
  },
  {
   "cell_type": "markdown",
   "id": "fbd7f6d9",
   "metadata": {},
   "source": [
    "## String 3.2 - without_string\n",
    "\n",
    "### Problem:\n",
    "----------\n",
    "Given two strings, base and remove, return a version of the base string where all instances of the remove string have been removed (not case sensitive). You may assume that the remove string is length 1 or more. Remove only non-overlapping instances, so with \"xxx\" removing \"xx\" leaves \"x\".\n",
    "\n",
    "### Examples:\n",
    "-------\n",
    "withoutString(\"Hello there\", \"llo\") → \"He there\"\n",
    "withoutString(\"Hello there\", \"e\") → \"Hllo thr\"\n",
    "withoutString(\"Hello there\", \"x\") → \"Hello there\""
   ]
  },
  {
   "cell_type": "code",
   "execution_count": 12,
   "id": "0684efe3",
   "metadata": {},
   "outputs": [],
   "source": [
    "def without_string(base: str, remove: str) -> str:\n",
    "    base = base.replace(remove.lower(), \"\")\n",
    "    base = base.replace(remove.upper(), \"\")\n",
    "    base = base.replace(remove, \"\")\n",
    "    return base"
   ]
  },
  {
   "cell_type": "markdown",
   "id": "1e0db1c5",
   "metadata": {},
   "source": [
    "## String 3.3 - equal_is_not\n",
    "\n",
    "### Problem:\n",
    "----------\n",
    "Given a string, return true if the number of appearances of \"is\" anywhere in the string is equal to the number of appearances of \"not\" anywhere in the string (case sensitive).\n",
    "\n",
    "### Examples:\n",
    "-------\n",
    "equalIsNot(\"This is not\") → false\n",
    "equalIsNot(\"This is notnot\") → true\n",
    "equalIsNot(\"noisxxnotyynotxisi\") → true"
   ]
  },
  {
   "cell_type": "code",
   "execution_count": 30,
   "id": "fe1a593c",
   "metadata": {},
   "outputs": [],
   "source": [
    "def equal_is_not(s: str) -> bool:\n",
    "    i = 0\n",
    "    count_is = 0 \n",
    "    count_not = 0\n",
    "    \n",
    "    while (i < len(s) - 1): \n",
    "        if (s[i:i+2] == \"is\"):\n",
    "            count_is += 1\n",
    "        i += 1 \n",
    "        \n",
    "    i = 0 \n",
    "    \n",
    "    while (i < len(s) - 2): \n",
    "        if (s[i:i+3] == \"not\"):\n",
    "            count_not += 1\n",
    "        i += 1\n",
    "    \n",
    "    return count_is == count_not"
   ]
  },
  {
   "cell_type": "markdown",
   "id": "49f12513",
   "metadata": {},
   "source": [
    "## String 3.4 - g_happy\n",
    "\n",
    "### Problem:\n",
    "----------\n",
    "We'll say that a lowercase 'g' in a string is \"happy\" if there is another 'g' immediately to its left or right. Return true if all the g's in the given string are happy.\n",
    "\n",
    "\n",
    "### Examples:\n",
    "-------\n",
    "gHappy(\"xxggxx\") → true\n",
    "gHappy(\"xxgxx\") → false\n",
    "gHappy(\"xxggyygxx\") → false"
   ]
  },
  {
   "cell_type": "code",
   "execution_count": 112,
   "id": "323e09b7",
   "metadata": {},
   "outputs": [],
   "source": [
    "def g_happy(s: str):\n",
    "    i = 1\n",
    "    \n",
    "    if (len(s) == 1):\n",
    "        return False\n",
    "    \n",
    "    while (i < len(s)):        \n",
    "        if (s[i] == \"g\"):\n",
    "            left = s[i-1:i+1]\n",
    "            right = s[i:i+2]\n",
    "            \n",
    "            if (left != \"gg\" and right == \"gg\"): \n",
    "                i += 1\n",
    "            elif (left != \"gg\" and right != \"gg\"):\n",
    "                return False \n",
    "            \n",
    "        i += 1\n",
    "    \n",
    "    return True"
   ]
  },
  {
   "cell_type": "code",
   "execution_count": 113,
   "id": "b48b9a99",
   "metadata": {},
   "outputs": [
    {
     "name": "stderr",
     "output_type": "stream",
     "text": [
      "test_count_yz (__main__.TestString2ProblemSets.test_count_yz) ... ok\n",
      "test_equal_is_not (__main__.TestString2ProblemSets.test_equal_is_not) ... ok\n",
      "test_g_happy (__main__.TestString2ProblemSets.test_g_happy) ... ok\n",
      "test_without_string (__main__.TestString2ProblemSets.test_without_string) ... ok\n",
      "\n",
      "----------------------------------------------------------------------\n",
      "Ran 4 tests in 0.009s\n",
      "\n",
      "OK\n"
     ]
    },
    {
     "data": {
      "text/plain": [
       "<unittest.main.TestProgram at 0x10f34fc90>"
      ]
     },
     "execution_count": 113,
     "metadata": {},
     "output_type": "execute_result"
    }
   ],
   "source": [
    "import unittest\n",
    "\n",
    "class TestString2ProblemSets(unittest.TestCase):\n",
    "    \n",
    "    # MARK: - Unit Tests \n",
    "    def test_g_happy(self) -> None:\n",
    "        inputs = [\n",
    "            (\"\",),\n",
    "            (\"gg\",),\n",
    "            (\"xxggxx\",),\n",
    "            (\"xxgxx\",),\n",
    "            (\"xxggyygxx\",), \n",
    "        ]\n",
    "        expected = [\n",
    "            True,\n",
    "            True,\n",
    "            True,\n",
    "            False,\n",
    "            False\n",
    "        ]\n",
    "        self.run_test(g_happy, inputs, expected)\n",
    "    \n",
    "    \n",
    "    def test_equal_is_not(self) -> None:\n",
    "        inputs = [\n",
    "            (\"This is not\",),\n",
    "            (\"This is notnot\",),\n",
    "            (\"noisxxnotyynotxisi\",),\n",
    "        ]\n",
    "        expected = [\n",
    "            False,\n",
    "            True,\n",
    "            True\n",
    "        ]\n",
    "        \n",
    "        self.run_test(equal_is_not, inputs, expected)\n",
    "    \n",
    "    def test_without_string(self) -> None:\n",
    "        inputs = [(\"Hello there\", \"llo\"), (\"Hello there\", \"e\"), (\"Hello there\", \"x\")]\n",
    "        expected = [\"He there\", \"Hllo thr\", \"Hello there\"]\n",
    "        \n",
    "        self.run_test(without_string, inputs, expected)\n",
    "    \n",
    "    def test_count_yz(self) -> None:\n",
    "        inputs = [(\"!!day--yaz!!\",),(\"day:yak\",),(\"fez day\",),(\"day fez\",),(\"day fyyyZ\",)]\n",
    "        expected = [2,1,2,2,2]\n",
    "        \n",
    "        self.run_test(count_yz_optimal, inputs, expected)\n",
    "    \n",
    "    \n",
    "    # MARK: - Run Test Helper Function \n",
    "    \n",
    "    def run_test(self, func, inputs, expected): \n",
    "        for func_input, func_expected in zip(inputs, expected):\n",
    "            self.assertEqual(func(*func_input), func_expected)\n",
    "        \n",
    "\n",
    "# MARK: - Unit Test Init State \n",
    "unittest.main(argv=[''], verbosity=2, exit=False)"
   ]
  },
  {
   "cell_type": "markdown",
   "id": "504deeb7",
   "metadata": {},
   "source": [
    "## String 3.\n",
    "\n",
    "### Problem:\n",
    "----------\n",
    "\n",
    "\n",
    "### Examples:\n",
    "-------"
   ]
  },
  {
   "cell_type": "markdown",
   "id": "419d16d2",
   "metadata": {},
   "source": [
    "## String 3.\n",
    "\n",
    "### Problem:\n",
    "----------\n",
    "\n",
    "\n",
    "### Examples:\n",
    "-------"
   ]
  },
  {
   "cell_type": "markdown",
   "id": "e26974ef",
   "metadata": {},
   "source": [
    "## String 3.\n",
    "\n",
    "### Problem:\n",
    "----------\n",
    "\n",
    "\n",
    "### Examples:\n",
    "-------"
   ]
  },
  {
   "cell_type": "markdown",
   "id": "17111879",
   "metadata": {},
   "source": [
    "## String 3.\n",
    "\n",
    "### Problem:\n",
    "----------\n",
    "\n",
    "\n",
    "### Examples:\n",
    "-------"
   ]
  },
  {
   "cell_type": "markdown",
   "id": "5985b6ba",
   "metadata": {},
   "source": [
    "## String 3.\n",
    "\n",
    "### Problem:\n",
    "----------\n",
    "\n",
    "\n",
    "### Examples:\n",
    "-------"
   ]
  },
  {
   "cell_type": "markdown",
   "id": "7dd1bb2b",
   "metadata": {},
   "source": [
    "## String 3.\n",
    "\n",
    "### Problem:\n",
    "----------\n",
    "\n",
    "\n",
    "### Examples:\n",
    "-------"
   ]
  },
  {
   "cell_type": "markdown",
   "id": "70f11bae",
   "metadata": {},
   "source": [
    "## String 3.\n",
    "\n",
    "### Problem:\n",
    "----------\n",
    "\n",
    "\n",
    "### Examples:\n",
    "-------"
   ]
  }
 ],
 "metadata": {
  "kernelspec": {
   "display_name": "Python 3 (ipykernel)",
   "language": "python",
   "name": "python3"
  },
  "language_info": {
   "codemirror_mode": {
    "name": "ipython",
    "version": 3
   },
   "file_extension": ".py",
   "mimetype": "text/x-python",
   "name": "python",
   "nbconvert_exporter": "python",
   "pygments_lexer": "ipython3",
   "version": "3.11.3"
  }
 },
 "nbformat": 4,
 "nbformat_minor": 5
}
