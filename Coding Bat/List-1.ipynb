{
 "cells": [
  {
   "cell_type": "code",
   "execution_count": 33,
   "id": "493c30f2",
   "metadata": {},
   "outputs": [],
   "source": [
    "import unittest"
   ]
  },
  {
   "cell_type": "markdown",
   "id": "ee47b86a",
   "metadata": {},
   "source": [
    "<div style=\"border-bottom: 2px solid #555;\"></div>\n",
    "\n",
    "## Table of Contents\n",
    "* List 1.1 - first_last6\n",
    "* List 1.2 - same_first_last\n",
    "* List 1.3 - make_pi\n",
    "* List 1.4 - common_end\n",
    "* List 1.5 - sum3\n",
    "* List 1.6 - rotate_left3\n",
    "* List 1.7 - reverse3\n",
    "* List 1.8 - max_end3\n",
    "* List 1.9 - sum2\n",
    "* List 1.10 - middle_way\n",
    "* List 1.11 - make_ends\n",
    "* List 1.12 - has23\n",
    "\n",
    "<div style=\"border-bottom: 2px solid #555;\"></div>\n"
   ]
  },
  {
   "cell_type": "markdown",
   "id": "5dddedc5",
   "metadata": {},
   "source": [
    "## List 1.1 - first_last6\n",
    "\n",
    "### Problem:\n",
    "----------\n",
    "\n",
    "Given an array of ints, return True if 6 appears as either the first or last element in the array. The array will be length 1 or more.\n",
    "\n",
    "\n",
    "### Examples:\n",
    "-------\n",
    "\n",
    "first_last6([1, 2, 6]) → True\n",
    "first_last6([6, 1, 2, 3]) → True\n",
    "first_last6([13, 6, 1, 2, 3]) → False"
   ]
  },
  {
   "cell_type": "code",
   "execution_count": 34,
   "id": "590e980b",
   "metadata": {},
   "outputs": [],
   "source": [
    "def first_last6(nums):\n",
    "    return nums[0] == 6 or nums[-1] == 6"
   ]
  },
  {
   "cell_type": "markdown",
   "id": "fda03b13",
   "metadata": {},
   "source": [
    "## List 1.2 - same_first_last\n",
    "\n",
    "### Problem:\n",
    "----------\n",
    "\n",
    "Given an array of ints, return True if the array is length 1 or more, and the first element and the last element are equal.\n",
    "\n",
    "\n",
    "### Examples:\n",
    "-------\n",
    "\n",
    "same_first_last([1, 2, 3]) → False\n",
    "same_first_last([1, 2, 3, 1]) → True\n",
    "same_first_last([1, 2, 1]) → True"
   ]
  },
  {
   "cell_type": "code",
   "execution_count": 35,
   "id": "fcbf2399",
   "metadata": {},
   "outputs": [],
   "source": [
    "def same_first_last(nums):\n",
    "    return len(nums) >= 1 and (nums[0] == nums[-1])"
   ]
  },
  {
   "cell_type": "markdown",
   "id": "2d8ea037",
   "metadata": {},
   "source": [
    "## List 1.8 - max_end3\n",
    "\n",
    "### Problem:\n",
    "----------\n",
    "\n",
    "Given an array of ints length 3, figure out which is larger, the first or last element in the array, and set all the other elements to be that value. Return the changed array.\n",
    "\n",
    "### Examples:\n",
    "-------\n",
    "\n",
    "max_end3([1, 2, 3]) → [3, 3, 3]\n",
    "max_end3([11, 5, 9]) → [11, 11, 11]\n",
    "max_end3([2, 11, 3]) → [3, 3, 3]"
   ]
  },
  {
   "cell_type": "code",
   "execution_count": 36,
   "id": "471db773",
   "metadata": {},
   "outputs": [],
   "source": [
    "def max_end3(nums): \n",
    "    max_value_in_array = max(nums[0], nums[-1])\n",
    "    return [max_value_in_array for _ in range(len(nums))]"
   ]
  },
  {
   "cell_type": "code",
   "execution_count": 37,
   "id": "10c5ca16",
   "metadata": {},
   "outputs": [
    {
     "name": "stderr",
     "output_type": "stream",
     "text": [
      "test_max_end3 (__main__.TestListProblemSets.test_max_end3) ... ok\n",
      "test_near_ten (__main__.TestListProblemSets.test_near_ten) ... ok\n",
      "test_same_first_last (__main__.TestListProblemSets.test_same_first_last) ... ok\n",
      "\n",
      "----------------------------------------------------------------------\n",
      "Ran 3 tests in 0.017s\n",
      "\n",
      "OK\n"
     ]
    },
    {
     "data": {
      "text/plain": [
       "<unittest.main.TestProgram at 0x11207a850>"
      ]
     },
     "execution_count": 37,
     "metadata": {},
     "output_type": "execute_result"
    }
   ],
   "source": [
    "class TestListProblemSets(unittest.TestCase):\n",
    "    \n",
    "    # MARK: - Run Test Helper Function \n",
    "    \n",
    "    def run_test(self, func, inputs, expected): \n",
    "        for func_input, func_expected in zip(inputs, expected):\n",
    "            self.assertEqual(func(*func_input), func_expected)\n",
    "    \n",
    "    # MARK: - Unit Tests \n",
    "    \n",
    "    \n",
    "    # TODO: - Move this function once all other functions \n",
    "    #         have been transferred. \n",
    "    def test_max_end3(self) -> None:\n",
    "        inputs = [[[1,2,3]], [[11,5,9]]]\n",
    "        expected = [[3,3,3],[11,11,11]]\n",
    "        \n",
    "        self.run_test(max_end3, inputs, expected)\n",
    "    \n",
    "    \n",
    "    def test_same_first_last(self) -> None:\n",
    "        inputs = [[[1,2,3]]]\n",
    "        expected = [False]\n",
    "        \n",
    "        self.run_test(same_first_last, inputs, expected)\n",
    "    \n",
    "    def test_near_ten(self) -> None:\n",
    "        inputs = [[[1,2,6]], [[6,1,2,3]]]\n",
    "        expected = [True, True]\n",
    "        \n",
    "        self.run_test(first_last6, inputs, expected)\n",
    "        \n",
    "        \n",
    "# MARK: - Unit Test Init State \n",
    "\n",
    "unittest.main(argv=[''], verbosity=2, exit=False)"
   ]
  }
 ],
 "metadata": {
  "kernelspec": {
   "display_name": "Python 3 (ipykernel)",
   "language": "python",
   "name": "python3"
  },
  "language_info": {
   "codemirror_mode": {
    "name": "ipython",
    "version": 3
   },
   "file_extension": ".py",
   "mimetype": "text/x-python",
   "name": "python",
   "nbconvert_exporter": "python",
   "pygments_lexer": "ipython3",
   "version": "3.11.3"
  }
 },
 "nbformat": 4,
 "nbformat_minor": 5
}
