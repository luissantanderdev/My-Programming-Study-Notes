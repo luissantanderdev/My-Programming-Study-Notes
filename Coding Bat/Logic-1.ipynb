{
 "cells": [
  {
   "cell_type": "markdown",
   "id": "4190ca54",
   "metadata": {},
   "source": [
    "## Basic boolean logic puzzles -- if else and or not"
   ]
  },
  {
   "cell_type": "markdown",
   "id": "8519fa29",
   "metadata": {},
   "source": [
    "## Logic-1.1 - cigar_party\n",
    "\n",
    "### Problem:\n",
    "----------\n",
    "When Squirrels get together for a party, they like to have cigars. A squirrel party is \n",
    "successful when the number of cigars is between 40 and 60, inclusive. Unless it is the weekend, \n",
    "in which case there is no upper bound on the number of cigars. Return True if the party with the given values is successful, or False otherwise. \n",
    "\n",
    "### Examples:\n",
    "-------\n",
    "cigar_party(30, False) -> False"
   ]
  },
  {
   "cell_type": "code",
   "execution_count": 15,
   "id": "95ec75ce",
   "metadata": {},
   "outputs": [
    {
     "data": {
      "text/plain": [
       "False"
      ]
     },
     "execution_count": 15,
     "metadata": {},
     "output_type": "execute_result"
    }
   ],
   "source": [
    "def cigar_party(cigars, is_weekend):\n",
    "    if (is_weekend):\n",
    "        return cigars >= 40\n",
    "    else:\n",
    "        return cigars >= 40 and cigars <= 60\n",
    "\n",
    "cigar_party(61, False)"
   ]
  }
 ],
 "metadata": {
  "kernelspec": {
   "display_name": "Python 3 (ipykernel)",
   "language": "python",
   "name": "python3"
  },
  "language_info": {
   "codemirror_mode": {
    "name": "ipython",
    "version": 3
   },
   "file_extension": ".py",
   "mimetype": "text/x-python",
   "name": "python",
   "nbconvert_exporter": "python",
   "pygments_lexer": "ipython3",
   "version": "3.11.3"
  }
 },
 "nbformat": 4,
 "nbformat_minor": 5
}
