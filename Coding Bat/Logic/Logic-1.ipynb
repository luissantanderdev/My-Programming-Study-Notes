{
 "cells": [
  {
   "cell_type": "markdown",
   "id": "4190ca54",
   "metadata": {},
   "source": [
    "# Logic-1\n",
    "## Basic boolean logic puzzles -- if else and or not"
   ]
  },
  {
   "cell_type": "markdown",
   "id": "5638f207",
   "metadata": {},
   "source": [
    "<div style=\"border-bottom: 2px solid #555;\"></div>\n",
    "\n",
    "## Table of Contents\n",
    "* Logic 1.1  - cigar_party\n",
    "* Logic 1.2  - date_fashion\n",
    "* Logic 1.3  - squirrel_play\n",
    "* Logic 1.4  - caught_speeding\n",
    "* Logic 1.5  - sorta_sum\n",
    "* Logic 1.6  - alarm_clock\n",
    "* Logic 1.7  - love_6\n",
    "* Logic 1.8  - in_1_to_10\n",
    "* Logic 1.9  - special_eleven\n",
    "* Logic 1.10 - more_20\n",
    "* Logic 1.11 - old35\n",
    "* Logic 1.12 - less20\n",
    "* Logic 1.13 - near_ten\n",
    "* Logic 1.14 - teen_sum\n",
    "* Logic 1.15 - \n",
    "* Logic 1.16 - tea_party\n",
    "* Logic 1.17 - fizz_string\n",
    "* Logic 1.18 - fizz_string2\n",
    "* Logic 1.19 - two_as_one\n",
    "* Logic 1.20 - in_order\n",
    "* Logic 1.21 - in_order_equal\n",
    "* Logic 1.22 - last_digit\n",
    "* Logic 1.23 - less_by_10\n",
    "\n",
    "\n",
    "<div style=\"border-bottom: 2px solid #555;\"></div>"
   ]
  },
  {
   "cell_type": "markdown",
   "id": "8519fa29",
   "metadata": {},
   "source": [
    "## Logic 1.1 - cigar_party\n",
    "\n",
    "### Problem:\n",
    "----------\n",
    "When Squirrels get together for a party, they like to have cigars. A squirrel party is \n",
    "successful when the number of cigars is between 40 and 60, inclusive. Unless it is the weekend, \n",
    "in which case there is no upper bound on the number of cigars. Return True if the party with the given values is successful, or False otherwise. \n",
    "\n",
    "### Examples:\n",
    "-------\n",
    "cigar_party(30, False) -> False"
   ]
  },
  {
   "cell_type": "code",
   "execution_count": 4,
   "id": "95ec75ce",
   "metadata": {},
   "outputs": [
    {
     "data": {
      "text/plain": [
       "False"
      ]
     },
     "execution_count": 4,
     "metadata": {},
     "output_type": "execute_result"
    }
   ],
   "source": [
    "def cigar_party(cigars, is_weekend):\n",
    "    if (is_weekend):\n",
    "        return cigars >= 40\n",
    "    else:\n",
    "        return cigars >= 40 and cigars <= 60\n",
    "\n",
    "cigar_party(61, False)"
   ]
  },
  {
   "cell_type": "markdown",
   "id": "ed83580a",
   "metadata": {},
   "source": [
    "## Logic 1.2 - date_fashion\n",
    "\n",
    "### Problem:\n",
    "\n",
    "You and your date are trying to get a table at a restaurant. The parameter \"you\" is the stylishness of your clothes, in the range 0..10, and \"date\" is the stylishness of your date's clothes. The result getting the table is encoded as an int value with 0=no, 1=maybe, 2=yes. If either of you is very stylish, 8 or more, then the result is 2 (yes). With the exception that if either of you has style of 2 or less, then the result is 0 (no). Otherwise the result is 1 (maybe).\n",
    "\n",
    "### Examples:\n",
    "\n",
    "date_fashion(5, 10) → 2\n",
    "date_fashion(5, 2) → 0\n",
    "date_fashion(5, 5) → 1"
   ]
  },
  {
   "cell_type": "code",
   "execution_count": 5,
   "id": "84fc11aa",
   "metadata": {},
   "outputs": [],
   "source": [
    "def date_fashion(you, date):\n",
    "    stylish = 0\n",
    "    if you > 2 or date > 2:\n",
    "        stylish = 1\n",
    "    if you >= 8 or date >= 8:\n",
    "        stylish = 2\n",
    "    if you <= 2 or date <= 2:\n",
    "        stylish = 0\n",
    "    return stylish"
   ]
  },
  {
   "cell_type": "markdown",
   "id": "1606bde2",
   "metadata": {},
   "source": [
    "## Logic 1.3 - squirrel_play\n",
    "\n",
    "\n",
    "### Problem: \n",
    "\n",
    "The squirrels in Palo Alto spend most of the day playing. In particular, they play if the temperature is between 60 and 90 (inclusive). Unless it is summer, then the upper limit is 100 instead of 90. Given an int temperature and a boolean is_summer, return True if the squirrels play and False otherwise.\n",
    "\n",
    "### Examples:\n",
    "\n",
    "squirrel_play(70, False) → True\n",
    "squirrel_play(95, False) → False\n",
    "squirrel_play(95, True) → True"
   ]
  },
  {
   "cell_type": "code",
   "execution_count": 6,
   "id": "344024fb",
   "metadata": {},
   "outputs": [],
   "source": [
    "def squirrel_play(temp, is_summer):\n",
    "    upper_bound = 100 if is_summer else 90    \n",
    "    return temp >= 60 and temp <= upper_bound\n",
    "        "
   ]
  },
  {
   "cell_type": "markdown",
   "id": "490f3b59",
   "metadata": {},
   "source": [
    "## Logic 1.4 - caught_speeding\n",
    "\n",
    "### Problem:\n",
    "\n",
    "You are driving a little too fast, and a police officer stops you. Write code to compute the result, encoded as an int value: 0=no ticket, 1=small ticket, 2=big ticket. If speed is 60 or less, the result is 0. If speed is between 61 and 80 inclusive, the result is 1. If speed is 81 or more, the result is 2. Unless it is your birthday -- on that day, your speed can be 5 higher in all cases.\n",
    "\n",
    "### Examples:\n",
    "\n",
    "caught_speeding(60, False) → 0\n",
    "caught_speeding(65, False) → 1\n",
    "caught_speeding(65, True) → 0"
   ]
  },
  {
   "cell_type": "code",
   "execution_count": 7,
   "id": "900e0824",
   "metadata": {},
   "outputs": [],
   "source": [
    "def caught_speeding(speed, is_birthday):\n",
    "    ticket = 0\n",
    "    if (is_birthday):\n",
    "        speed = speed - 5\n",
    "    if (speed >= 61 and speed <= 80):\n",
    "        ticket = 1\n",
    "    if (speed > 80):\n",
    "        ticket = 2\n",
    "    return ticket\n",
    "        "
   ]
  },
  {
   "cell_type": "markdown",
   "id": "8ccb42d5",
   "metadata": {},
   "source": [
    "## Logic 1.5 - sorta_sum\n",
    "\n",
    "### Problem: \n",
    "\n",
    "Given 2 ints, a and b, return their sum. However, sums in the range 10..19 inclusive, are forbidden, so in that case just return 20.\n",
    "\n",
    "### Examples:\n",
    "\n",
    "sorta_sum(3, 4) → 7\n",
    "sorta_sum(9, 4) → 20\n",
    "sorta_sum(10, 11) → 21"
   ]
  },
  {
   "cell_type": "code",
   "execution_count": 8,
   "id": "5d6425a3",
   "metadata": {},
   "outputs": [],
   "source": [
    "def sorta_sum(a,b):\n",
    "    result = a + b\n",
    "    return result if result < 10 or result > 19 else 20"
   ]
  },
  {
   "cell_type": "markdown",
   "id": "f7ec1dc4",
   "metadata": {},
   "source": [
    "## Logic 1.6 - alarm_clock\n",
    "\n",
    "### Problem: \n",
    "\n",
    "Given a day of the week encoded as 0=Sun, 1=Mon, 2=Tue, ...6=Sat, and a boolean indicating if we are on vacation, return a string of the form \"7:00\" indicating when the alarm clock should ring. Weekdays, the alarm should be \"7:00\" and on the weekend it should be \"10:00\". Unless we are on vacation -- then on weekdays it should be \"10:00\" and weekends it should be \"off\".\n",
    "\n",
    "### Examples:\n",
    "\n",
    "alarm_clock(1, False) → '7:00'\n",
    "alarm_clock(5, False) → '7:00'\n",
    "alarm_clock(0, False) → '10:00'"
   ]
  },
  {
   "cell_type": "code",
   "execution_count": 9,
   "id": "51e4f2eb",
   "metadata": {},
   "outputs": [],
   "source": [
    "def alarm_clock(day, vacation):\n",
    "    set_time = \"7:00\"\n",
    "        \n",
    "    if (vacation):\n",
    "        set_time = \"off\" if day == 0 or day == 6 else \"10:00\"\n",
    "        \n",
    "    elif (day == 0 or day == 6):\n",
    "        set_time = \"10:00\"\n",
    "    \n",
    "    return set_time "
   ]
  },
  {
   "cell_type": "markdown",
   "id": "f39f21a1",
   "metadata": {},
   "source": [
    "## Logic 1.7 - love6\n",
    "\n",
    "### Problem: \n",
    "\n",
    "The number 6 is a truly great number. Given two int values, a and b, return True if either one is 6. Or if their sum or difference is 6. Note: the function abs(num) computes the absolute value of a number.\n",
    "\n",
    "### Examples:\n",
    "\n",
    "love6(6, 4) → True\n",
    "love6(4, 5) → False\n",
    "love6(1, 5) → True"
   ]
  },
  {
   "cell_type": "code",
   "execution_count": 10,
   "id": "7e8f65b5",
   "metadata": {},
   "outputs": [],
   "source": [
    "def love6(a, b):\n",
    "    return (a == 6 or b == 6 or (a + b) == 6 or abs(a-b) == 6)"
   ]
  },
  {
   "cell_type": "markdown",
   "id": "2796ceda",
   "metadata": {},
   "source": [
    "## Logic 1.8 - in1to10\n",
    "\n",
    "### Problem: \n",
    "\n",
    "Given a number n, return True if n is in the range 1..10, inclusive. Unless outside_mode is True, in which case return True if the number is less or equal to 1, or greater or equal to 10.\n",
    "\n",
    "### Examples:\n",
    "\n",
    "in1to10(5, False) → True\n",
    "in1to10(11, False) → False\n",
    "in1to10(11, True) → True"
   ]
  },
  {
   "cell_type": "code",
   "execution_count": 11,
   "id": "f5ab3f29",
   "metadata": {},
   "outputs": [],
   "source": [
    "def in1to10(n, outside_mode):\n",
    "    if outside_mode:\n",
    "        return n <= 1 or n >= 10   \n",
    "    return n >= 1 and n <= 10"
   ]
  },
  {
   "cell_type": "markdown",
   "id": "3854128e",
   "metadata": {},
   "source": [
    "## Logic 1.9 - near_ten\n",
    "\n",
    "### Problem:\n",
    "\n",
    "Given a non-negative number \"num\", return True if num is within 2 of a multiple of 10. Note: (a % b) is the remainder of dividing a by b, so (7 % 5) is 2.\n",
    "\n",
    "### Example:\n",
    "\n",
    "near_ten(12) → True\n",
    "near_ten(17) → False\n",
    "near_ten(19) → True"
   ]
  },
  {
   "cell_type": "code",
   "execution_count": 12,
   "id": "041562bd",
   "metadata": {},
   "outputs": [],
   "source": [
    "def near_ten(num: int) -> bool:\n",
    "    return num % 10 <= 2 or num % 10 >= 8"
   ]
  },
  {
   "cell_type": "markdown",
   "id": "28f7bd37",
   "metadata": {},
   "source": [
    "## Logic 1.14 - teen_sum\n",
    "\n",
    "### Problem:\n",
    "\n",
    "Given 2 ints, a and b, return their sum. However, \"teen\" values in the range 13..19 inclusive, are extra lucky. So if either value is a teen, just return 19.\n",
    "\n",
    "### Example:\n",
    "\n",
    "teenSum(3, 4) → 7\n",
    "teenSum(10, 13) → 19\n",
    "teenSum(13, 2) → 19"
   ]
  },
  {
   "cell_type": "code",
   "execution_count": 13,
   "id": "c94691b3",
   "metadata": {},
   "outputs": [],
   "source": [
    "def teen_sum(a: int, b: int) -> int:\n",
    "    if ((a >= 13 and a <= 19) or (b >= 13 and b <= 19)):\n",
    "        return 19\n",
    "    else:\n",
    "        return a + b"
   ]
  },
  {
   "cell_type": "markdown",
   "id": "dcbddd8c",
   "metadata": {},
   "source": [
    "## Logic 1.15 - answer_cell\n",
    "\n",
    "### Problem:\n",
    "Your cell phone rings. Return true if you should answer it. Normally you answer, except in the morning you only answer if it is your mom calling. In all cases, if you are asleep, you do not answer.\n",
    "\n",
    "### Example:\n",
    "\n",
    "answerCell(false, false, false) → true\n",
    "answerCell(false, false, true) → false\n",
    "answerCell(true, false, false) → false"
   ]
  },
  {
   "cell_type": "code",
   "execution_count": 25,
   "id": "29d512e9",
   "metadata": {},
   "outputs": [],
   "source": [
    "def answer_cell(isMorning: bool, isMom: bool, isAsleep: bool):\n",
    "    if (isMorning and isMom and not isAsleep):\n",
    "        return True\n",
    "    if (not isAsleep and not isMorning):\n",
    "        return True\n",
    "    return False"
   ]
  },
  {
   "cell_type": "markdown",
   "id": "963b1a06",
   "metadata": {},
   "source": [
    "## Unit Testing"
   ]
  },
  {
   "cell_type": "code",
   "execution_count": 26,
   "id": "e3d7c69f",
   "metadata": {},
   "outputs": [
    {
     "name": "stderr",
     "output_type": "stream",
     "text": [
      "test_alarm_clock (__main__.TestBooleanLogicPuzzles.test_alarm_clock) ... ok\n",
      "test_caught_speeding (__main__.TestBooleanLogicPuzzles.test_caught_speeding) ... ok\n",
      "test_in1to10 (__main__.TestBooleanLogicPuzzles.test_in1to10) ... ok\n",
      "test_love6 (__main__.TestBooleanLogicPuzzles.test_love6) ... ok\n",
      "test_near_ten (__main__.TestBooleanLogicPuzzles.test_near_ten) ... ok\n",
      "test_sorta_sum (__main__.TestBooleanLogicPuzzles.test_sorta_sum) ... ok\n",
      "test_teen_sum (__main__.TestBooleanLogicPuzzles.test_teen_sum) ... ok\n",
      "\n",
      "----------------------------------------------------------------------\n",
      "Ran 7 tests in 0.036s\n",
      "\n",
      "OK\n"
     ]
    },
    {
     "data": {
      "text/plain": [
       "<unittest.main.TestProgram at 0x10b9d3110>"
      ]
     },
     "execution_count": 26,
     "metadata": {},
     "output_type": "execute_result"
    }
   ],
   "source": [
    "import unittest\n",
    "\n",
    "class TestBooleanLogicPuzzles(unittest.TestCase):\n",
    "    \n",
    "    # MARK: - Run Test Helper Function \n",
    "    \n",
    "    # MARK: - Unit Tests \n",
    "    def answer_cell(self) -> None:\n",
    "        inputs = [(False, False, False), (False,False,True), (True,False,False)]\n",
    "        expected = [True, False, False]\n",
    "        \n",
    "        self.run_test(answer_cell, inputs, expected)\n",
    "    \n",
    "    def test_teen_sum(self) -> None:\n",
    "        inputs = [[3,4],[10,13],[13,2]]\n",
    "        expected = [7,19,19]\n",
    "        \n",
    "        self.run_test(teen_sum, inputs, expected)\n",
    "    \n",
    "    def test_near_ten(self) -> None:\n",
    "        inputs = [[19], [17], [19], [12]]\n",
    "        expected = [True, False, True, True]\n",
    "        \n",
    "        self.run_test(near_ten, inputs, expected)\n",
    "    \n",
    "    def test_in1to10(self) -> None:\n",
    "        inputs = [[5, False], [9, True]]\n",
    "        expected = [True, False]\n",
    "        \n",
    "        self.run_test(in1to10, inputs, expected)\n",
    "\n",
    "    def test_love6(self):\n",
    "        inputs = [[6,4], [4,5], [1,5], [-7, 1]]\n",
    "        expected = [True, False, True, False]\n",
    "        \n",
    "        self.run_test(love6, inputs, expected)\n",
    "    \n",
    "    def test_alarm_clock(self):\n",
    "        inputs = [[1, False],[5, False], [0, True]]\n",
    "        expected = [\"7:00\", \"7:00\", \"off\"]\n",
    "        \n",
    "        self.run_test(alarm_clock, inputs, expected)       \n",
    "        \n",
    "    def test_caught_speeding(self):\n",
    "        inputs = [[60, False], [65, False]]\n",
    "        expected = [0, 1]\n",
    "        \n",
    "        self.run_test(caught_speeding, inputs, expected)\n",
    "    \n",
    "    def test_sorta_sum(self):\n",
    "        inputs = [[3, 4], [9, 4], [10, 11]]\n",
    "        expected = [7, 20, 21]\n",
    "        \n",
    "        self.run_test(sorta_sum, inputs, expected)\n",
    "        \n",
    "    def run_test(self, func, inputs, expected): \n",
    "        for func_input, func_expected in zip(inputs, expected):\n",
    "            self.assertEqual(func(*func_input), func_expected)\n",
    "        \n",
    "# MARK: - Unit Test Init State \n",
    "\n",
    "unittest.main(argv=[''], verbosity=2, exit=False)"
   ]
  },
  {
   "cell_type": "code",
   "execution_count": null,
   "id": "58fdf823",
   "metadata": {},
   "outputs": [],
   "source": []
  }
 ],
 "metadata": {
  "kernelspec": {
   "display_name": "Python 3 (ipykernel)",
   "language": "python",
   "name": "python3"
  },
  "language_info": {
   "codemirror_mode": {
    "name": "ipython",
    "version": 3
   },
   "file_extension": ".py",
   "mimetype": "text/x-python",
   "name": "python",
   "nbconvert_exporter": "python",
   "pygments_lexer": "ipython3",
   "version": "3.11.3"
  }
 },
 "nbformat": 4,
 "nbformat_minor": 5
}
