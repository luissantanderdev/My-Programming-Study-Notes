{
 "cells": [
  {
   "cell_type": "markdown",
   "id": "5e1147b7",
   "metadata": {},
   "source": [
    "## Logic-2\n",
    "\n",
    "Medium boolean logic puzzles -- if else && || !"
   ]
  },
  {
   "cell_type": "markdown",
   "id": "6b524c37",
   "metadata": {},
   "source": [
    "<div style=\"border-bottom: 2px solid #555;\"></div>\n",
    "\n",
    "## Table of Contents\n",
    "* Logic 2.1 - make_bricks\n",
    "* Logic 2.2 - lone_sum\n",
    "* Logic 2.3 - lucky_sum\n",
    "* Logic 2.4 - no_teen_sum\n",
    "* Logic 2.5 - round_sum\n",
    "* Logic 2.6 - close_far\n",
    "* Logic 2.7 - black_jack\n",
    "\n",
    "<div style=\"border-bottom: 2px solid #555;\"></div>\n"
   ]
  },
  {
   "cell_type": "markdown",
   "id": "0614837b",
   "metadata": {},
   "source": [
    "## String 2.1 - make_bricks\n",
    "\n",
    "### Problem: \n",
    "----------\n",
    "We want to make a row of bricks that is goal inches long. We have a number of small bricks (1 inch each) and big bricks (5 inches each). Return true if it is possible to make the goal by choosing from the given bricks. This is a little harder than it looks and can be done without any loops. See also: Introduction to MakeBricks\n",
    "\n",
    "\n",
    "### Examples:\n",
    "-------\n",
    "makeBricks(3, 1, 8) → true\n",
    "makeBricks(3, 1, 9) → false\n",
    "makeBricks(3, 2, 10) → true"
   ]
  },
  {
   "cell_type": "code",
   "execution_count": 79,
   "id": "e023f518",
   "metadata": {},
   "outputs": [],
   "source": [
    "def make_bricks(small, big, goal):\n",
    "    if (goal > ((big * 5) + small)):\n",
    "        return False\n",
    "    \n",
    "    if (goal % 5 > small):\n",
    "        return False\n",
    "    \n",
    "    return True "
   ]
  },
  {
   "cell_type": "markdown",
   "id": "1c9e5dbf",
   "metadata": {},
   "source": [
    "## String 2.2 - lone_sum\n",
    "\n",
    "### Problem:\n",
    "----------\n",
    "Given 3 int values, a b c, return their sum. However, if one of the values is the same as another of the values, it does not count towards the sum.\n",
    "\n",
    "\n",
    "### Examples:\n",
    "-------\n",
    "loneSum(1, 2, 3) → 6\n",
    "loneSum(3, 2, 3) → 2\n",
    "loneSum(3, 3, 3) → 0"
   ]
  },
  {
   "cell_type": "code",
   "execution_count": 80,
   "id": "e9ec3885",
   "metadata": {},
   "outputs": [],
   "source": [
    "def lone_sum(a, b, c):\n",
    "    sum = 0 \n",
    "    \n",
    "    if a != b and a != c:\n",
    "        sum += a\n",
    "    if b != a and b != c:\n",
    "        sum += b\n",
    "    if c != a and c != b:\n",
    "        sum += c\n",
    "    \n",
    "    return sum"
   ]
  },
  {
   "cell_type": "markdown",
   "id": "c07fe9e5",
   "metadata": {},
   "source": [
    "## String 2.3 - lucky_sum\n",
    "\n",
    "### Problem:\n",
    "----------\n",
    "Given 3 int values, a b c, return their sum. However, if one of the values is 13 then it does not count towards the sum and values to its right do not count. So for example, if b is 13, then both b and c do not count.\n",
    "\n",
    "### Examples:\n",
    "-------\n",
    "luckySum(1, 2, 3) → 6\n",
    "luckySum(1, 2, 13) → 3\n",
    "luckySum(1, 13, 3) → 1"
   ]
  },
  {
   "cell_type": "code",
   "execution_count": 81,
   "id": "c1f2c44a",
   "metadata": {},
   "outputs": [],
   "source": [
    "def lucky_sum(a,b,c):\n",
    "    sum = 0\n",
    "    \n",
    "    if a == 13: \n",
    "        return sum\n",
    "    \n",
    "    sum += a\n",
    "    \n",
    "    if b == 13:\n",
    "        return sum\n",
    "    \n",
    "    sum += b\n",
    "    \n",
    "    if c == 13:\n",
    "        return sum\n",
    "    \n",
    "    return sum + c\n",
    "\n",
    "def lucky_sum_refactored(a,b,c):\n",
    "    nums = [a,b,c]\n",
    "    total = 0 \n",
    "    \n",
    "    for num in nums:\n",
    "        if num == 13:\n",
    "            break\n",
    "        total += num\n",
    "        \n",
    "    return total"
   ]
  },
  {
   "cell_type": "markdown",
   "id": "5b8006e2",
   "metadata": {},
   "source": [
    "## String 2.4 - no_teen_sum\n",
    "\n",
    "### Problem:\n",
    "----------\n",
    "Given 3 int values, a b c, return their sum. However, if any of the values is a teen -- in the range 13..19 inclusive -- then that value counts as 0, except 15 and 16 do not count as a teens. Write a separate helper \"public int fixTeen(int n) {\"that takes in an int value and returns that value fixed for the teen rule. In this way, you avoid repeating the teen code 3 times (i.e. \"decomposition\"). Define the helper below and at the same indent level as the main noTeenSum().\n",
    "\n",
    "### Examples:\n",
    "-------\n",
    "noTeenSum(1, 2, 3) → 6\n",
    "noTeenSum(2, 13, 1) → 3\n",
    "noTeenSum(2, 1, 14) → 3\n",
    "\n",
    "### NOTES:\n",
    "--------\n",
    "Decomposition in programming refers to breaking down a complex problem or task into smaller, more manageable parts. When you repeat code multiple times, it often means you're duplicating functionality, which can lead to code redundancy, maintenance difficulties, and increased chances of errors. Decomposition helps mitigate these issues by identifying repeated code segments and extracting them into reusable components or functions.\n",
    "\n",
    "By decomposing code, you're essentially breaking it down into smaller, more modular pieces. This process allows for better organization, readability, and maintainability of your codebase. It also promotes the DRY (Don't Repeat Yourself) principle, which encourages developers to avoid duplicating code and instead aim for reusability and efficiency.\n",
    "\n",
    "So, when you identify and extract repeated code segments into separate functions or modules, you're decomposing the problem or task into smaller, more manageable units, ultimately improving the overall structure and quality of your codebase."
   ]
  },
  {
   "cell_type": "code",
   "execution_count": 82,
   "id": "c844f2b4",
   "metadata": {},
   "outputs": [],
   "source": [
    "def fix_teen(n):\n",
    "    if n >= 13 and n <= 19:\n",
    "        if n != 15 and n != 16:\n",
    "            n = 0\n",
    "    return n\n",
    "\n",
    "def no_teen_sum(a,b,c):\n",
    "    return fix_teen(a) + fix_teen(b) + fix_teen(c)"
   ]
  },
  {
   "cell_type": "markdown",
   "id": "ccb74199",
   "metadata": {},
   "source": [
    "## String 2.5 - round_sum\n",
    "\n",
    "### Problem:\n",
    "----------\n",
    "For this problem, we'll round an int value up to the next multiple of 10 if its rightmost digit is 5 or more, so 15 rounds up to 20. Alternately, round down to the previous multiple of 10 if its rightmost digit is less than 5, so 12 rounds down to 10. Given 3 ints, a b c, return the sum of their rounded values. To avoid code repetition, write a separate helper \"public int round10(int num) {\" and call it 3 times. Write the helper entirely below and at the same indent level as roundSum().\n",
    "\n",
    "### Examples:\n",
    "-------\n",
    "roundSum(16, 17, 18) → 60\n",
    "roundSum(12, 13, 14) → 30\n",
    "roundSum(6, 4, 4) → 10"
   ]
  },
  {
   "cell_type": "code",
   "execution_count": 83,
   "id": "c1b9867e",
   "metadata": {},
   "outputs": [],
   "source": [
    "def round_10(n):\n",
    "    left_most_digit = n % 10\n",
    "    \n",
    "    if (left_most_digit >= 5):\n",
    "        left_most_digit = 10 - left_most_digit\n",
    "        n = n + left_most_digit\n",
    "    else:        \n",
    "        n = n - left_most_digit\n",
    "        \n",
    "    return n\n",
    "\n",
    "def round_sum(a,b,c):\n",
    "    return round_10(a) + round_10(b) + round_10(c)"
   ]
  },
  {
   "cell_type": "markdown",
   "id": "04a0c3d9",
   "metadata": {},
   "source": [
    "## String 2.6 - close_far\n",
    "\n",
    "### Problem:\n",
    "----------\n",
    "Given three ints, a b c, return true if one of b or c is \"close\" (differing from a by at most 1), while the other is \"far\", differing from both other values by 2 or more. Note: Math.abs(num) computes the absolute value of a number.\n",
    "\n",
    "### Examples:\n",
    "-------\n",
    "closeFar(1, 2, 10) → true\n",
    "closeFar(1, 2, 3) → false\n",
    "closeFar(4, 1, 3) → true"
   ]
  },
  {
   "cell_type": "code",
   "execution_count": 160,
   "id": "3c4c4ba1",
   "metadata": {},
   "outputs": [],
   "source": [
    "def is_close(num1, num2):\n",
    "    return abs(num1 - num2) <= 1\n",
    "\n",
    "def is_far(num1, num2):\n",
    "    return abs(num1 - num2) >= 2\n",
    "\n",
    "def close_far(a,b,c):\n",
    "    if (is_close(a, b) and is_far(c,a) and is_far(b,c)) or \\\n",
    "       (is_close(a, c) and is_far(b,a) and is_far(b,c)):\n",
    "        return True\n",
    "    elif (is_close(b, a) and is_far(c,a) and is_far(c,b)) or \\\n",
    "         (is_close(b, c) and is_far(a,b) and is_far(a,c)):\n",
    "        return True\n",
    "    else:\n",
    "        return False\n",
    "    \n",
    "\n",
    "def close_far_using_pairs(a,b,c):\n",
    "    pairs = [(a,b,c), (a,c,b), (b,a,c), (b,c,a)]\n",
    "    \n",
    "    for x,y,z in pairs:\n",
    "        if is_close(x,y) and is_far(z,x) and is_far(z,y):\n",
    "            return True \n",
    "        \n",
    "    return False"
   ]
  },
  {
   "cell_type": "markdown",
   "id": "4d1a93e1",
   "metadata": {},
   "source": [
    "## String 2.7 - black_jack\n",
    "\n",
    "### Problem:\n",
    "----------\n",
    "Given 2 int values greater than 0, return whichever value is nearest to 21 without going over. Return 0 if they both go over.\n",
    "\n",
    "### Examples:\n",
    "-------\n",
    "blackjack(19, 21) → 21\n",
    "blackjack(21, 19) → 21\n",
    "blackjack(19, 22) → 19"
   ]
  },
  {
   "cell_type": "code",
   "execution_count": 230,
   "id": "d24aac6a",
   "metadata": {},
   "outputs": [],
   "source": [
    "def how_close(n1, n2): \n",
    "    return (21 - n1) < (21 - n2) \n",
    "\n",
    "def is_bigger_than_21(n):\n",
    "    return n > 21\n",
    "\n",
    "def black_jack(a,b):\n",
    "    if (is_bigger_than_21(a) and is_bigger_than_21(b)):\n",
    "        return 0\n",
    "        \n",
    "    if (is_bigger_than_21(b)):\n",
    "        return a\n",
    "    \n",
    "    if (is_bigger_than_21(a)):\n",
    "        return b\n",
    "    \n",
    "    if (how_close(a,b)):\n",
    "        return a\n",
    "    \n",
    "    if (how_close(b,a)):\n",
    "        return b\n",
    "            \n",
    "    if (a == b):\n",
    "        return a\n",
    "    \n",
    "    return 21"
   ]
  },
  {
   "cell_type": "code",
   "execution_count": 231,
   "id": "591c2dd9",
   "metadata": {},
   "outputs": [
    {
     "name": "stderr",
     "output_type": "stream",
     "text": [
      "test_black_jack (__main__.TestString2ProblemSets.test_black_jack) ... ok\n",
      "test_close_far (__main__.TestString2ProblemSets.test_close_far) ... ok\n",
      "test_lone_sum (__main__.TestString2ProblemSets.test_lone_sum) ... ok\n",
      "test_lucky_sum (__main__.TestString2ProblemSets.test_lucky_sum) ... ok\n",
      "test_make_bricks (__main__.TestString2ProblemSets.test_make_bricks) ... ok\n",
      "test_no_teen_sum (__main__.TestString2ProblemSets.test_no_teen_sum) ... ok\n",
      "test_round_sum (__main__.TestString2ProblemSets.test_round_sum) ... ok\n",
      "\n",
      "----------------------------------------------------------------------\n",
      "Ran 7 tests in 0.022s\n",
      "\n",
      "OK\n"
     ]
    },
    {
     "data": {
      "text/plain": [
       "<unittest.main.TestProgram at 0x106ad3ad0>"
      ]
     },
     "execution_count": 231,
     "metadata": {},
     "output_type": "execute_result"
    }
   ],
   "source": [
    "import unittest\n",
    "\n",
    "class TestString2ProblemSets(unittest.TestCase):\n",
    "    \n",
    "    # MARK: - Unit Tests \n",
    "    \n",
    "    def test_black_jack(self) -> None:\n",
    "        inputs = [(19,21),(21,19),(19,22)]\n",
    "        expected_outputs = [21,21,19]\n",
    "        \n",
    "        self.run_test(black_jack, inputs, expected_outputs)\n",
    "    \n",
    "    def test_close_far(self) -> None:\n",
    "        inputs = [(1,2,10),(1,2,3),(4,1,3)]\n",
    "        expected_outputs = [True,False,True]\n",
    "        \n",
    "        self.run_test(close_far_using_pairs,inputs,expected_outputs)\n",
    "    \n",
    "    def test_round_sum(self) -> None:\n",
    "        inputs = [(16,17,18), (12,13,14), (6,4,4)]\n",
    "        expected_outputs = [60, 30, 10]\n",
    "        \n",
    "        self.run_test(round_sum, inputs, expected_outputs)\n",
    "    \n",
    "    def test_no_teen_sum(self) -> None:\n",
    "        inputs = [(2, 1, 15),(1,2,3),(2,13,1),(2,1,14)]\n",
    "        expected_outputs = [18,6,3,3]\n",
    "        \n",
    "        self.run_test(no_teen_sum, inputs, expected_outputs)\n",
    "    \n",
    "    def test_lucky_sum(self) -> None:\n",
    "        inputs = [(1,2,3), (1,2,13), (1,13,3)]\n",
    "        expected_outputs = [6,3,1]\n",
    "        \n",
    "        self.run_test(lucky_sum_refactored, inputs, expected_outputs)\n",
    "    \n",
    "    def test_lone_sum(self) -> None:\n",
    "        inputs = [(1,2,3), (3,2,3), (3,3,3)]\n",
    "        expected_outputs = [6,2,0]\n",
    "        \n",
    "        self.run_test(lone_sum, inputs, expected_outputs)\n",
    "    \n",
    "    def test_make_bricks(self) -> None:\n",
    "        inputs = [(3, 1, 8), (3, 1, 9), (3, 2, 10)]\n",
    "        expected_outputs = [True, False, True]\n",
    "        \n",
    "        self.run_test(make_bricks, inputs, expected_outputs)\n",
    "        \n",
    "    # MARK: - Run Test Helper Function \n",
    "    \n",
    "    def run_test(self, func, inputs, expected): \n",
    "        for func_input, func_expected in zip(inputs, expected):\n",
    "            self.assertEqual(func(*func_input), func_expected)\n",
    "        \n",
    "# MARK: - Unit Test Init State \n",
    "\n",
    "unittest.main(argv=[''], verbosity=2, exit=False)"
   ]
  },
  {
   "cell_type": "markdown",
   "id": "baa275bd",
   "metadata": {},
   "source": [
    "## String 2.8 - evenly_spaced\n",
    "\n",
    "### Problem:\n",
    "----------\n",
    "Given three ints, a b c, one of them is small, one is medium and one is large. Return true if the three values are evenly spaced, so the difference between small and medium is the same as the difference between medium and large.\n",
    "\n",
    "### Examples:\n",
    "-------\n",
    "evenlySpaced(2, 4, 6) → true\n",
    "evenlySpaced(4, 6, 2) → true\n",
    "evenlySpaced(4, 6, 3) → false"
   ]
  },
  {
   "cell_type": "markdown",
   "id": "9a61bb53",
   "metadata": {},
   "source": [
    "## String 2.9 - make_chocolate\n",
    "\n",
    "### Problem:\n",
    "----------\n",
    "We want make a package of goal kilos of chocolate. We have small bars (1 kilo each) and big bars (5 kilos each). Return the number of small bars to use, assuming we always use big bars before small bars. Return -1 if it can't be done.\n",
    "\n",
    "### Examples:\n",
    "-------\n",
    "makeChocolate(4, 1, 9) → 4\n",
    "makeChocolate(4, 1, 10) → -1\n",
    "makeChocolate(4, 1, 7) → 2"
   ]
  },
  {
   "cell_type": "code",
   "execution_count": null,
   "id": "af3736b9",
   "metadata": {},
   "outputs": [],
   "source": []
  }
 ],
 "metadata": {
  "kernelspec": {
   "display_name": "Python 3 (ipykernel)",
   "language": "python",
   "name": "python3"
  },
  "language_info": {
   "codemirror_mode": {
    "name": "ipython",
    "version": 3
   },
   "file_extension": ".py",
   "mimetype": "text/x-python",
   "name": "python",
   "nbconvert_exporter": "python",
   "pygments_lexer": "ipython3",
   "version": "3.11.3"
  }
 },
 "nbformat": 4,
 "nbformat_minor": 5
}
