{
 "cells": [
  {
   "cell_type": "markdown",
   "id": "5e1147b7",
   "metadata": {},
   "source": [
    "## Logic-2\n",
    "\n",
    "Medium boolean logic puzzles -- if else && || !"
   ]
  },
  {
   "cell_type": "markdown",
   "id": "6b524c37",
   "metadata": {},
   "source": [
    "<div style=\"border-bottom: 2px solid #555;\"></div>\n",
    "\n",
    "## Table of Contents\n",
    "* Logic 2.1 - make_bricks\n",
    "\n",
    "<div style=\"border-bottom: 2px solid #555;\"></div>\n"
   ]
  },
  {
   "cell_type": "code",
   "execution_count": 1,
   "id": "591c2dd9",
   "metadata": {},
   "outputs": [
    {
     "name": "stderr",
     "output_type": "stream",
     "text": [
      "\n",
      "----------------------------------------------------------------------\n",
      "Ran 0 tests in 0.000s\n",
      "\n",
      "OK\n"
     ]
    },
    {
     "data": {
      "text/plain": [
       "<unittest.main.TestProgram at 0x10daae910>"
      ]
     },
     "execution_count": 1,
     "metadata": {},
     "output_type": "execute_result"
    }
   ],
   "source": [
    "import unittest\n",
    "\n",
    "class TestString2ProblemSets(unittest.TestCase):\n",
    "    \n",
    "    # MARK: - Unit Tests \n",
    "        \n",
    "    # MARK: - Run Test Helper Function \n",
    "    \n",
    "    def run_test(self, func, inputs, expected): \n",
    "        for func_input, func_expected in zip(inputs, expected):\n",
    "            self.assertEqual(func(*func_input), func_expected)\n",
    "        \n",
    "# MARK: - Unit Test Init State \n",
    "\n",
    "unittest.main(argv=[''], verbosity=2, exit=False)"
   ]
  },
  {
   "cell_type": "markdown",
   "id": "0614837b",
   "metadata": {},
   "source": [
    "## String 2.1 - make_bricks\n",
    "\n",
    "### Problem: \n",
    "----------\n",
    "We want to make a row of bricks that is goal inches long. We have a number of small bricks (1 inch each) and big bricks (5 inches each). Return true if it is possible to make the goal by choosing from the given bricks. This is a little harder than it looks and can be done without any loops. See also: Introduction to MakeBricks\n",
    "\n",
    "\n",
    "### Examples:\n",
    "-------\n",
    "makeBricks(3, 1, 8) → true\n",
    "makeBricks(3, 1, 9) → false\n",
    "makeBricks(3, 2, 10) → true"
   ]
  },
  {
   "cell_type": "markdown",
   "id": "1c9e5dbf",
   "metadata": {},
   "source": [
    "## String 2.2 - lone_sum\n",
    "\n",
    "### Problem:\n",
    "----------\n",
    "Given 3 int values, a b c, return their sum. However, if one of the values is the same as another of the values, it does not count towards the sum.\n",
    "\n",
    "\n",
    "### Examples:\n",
    "-------\n",
    "loneSum(1, 2, 3) → 6\n",
    "loneSum(3, 2, 3) → 2\n",
    "loneSum(3, 3, 3) → 0"
   ]
  },
  {
   "cell_type": "markdown",
   "id": "c07fe9e5",
   "metadata": {},
   "source": [
    "## String 2.3 - lucky_sum\n",
    "\n",
    "### Problem:\n",
    "----------\n",
    "Given 3 int values, a b c, return their sum. However, if one of the values is 13 then it does not count towards the sum and values to its right do not count. So for example, if b is 13, then both b and c do not count.\n",
    "\n",
    "### Examples:\n",
    "-------\n",
    "luckySum(1, 2, 3) → 6\n",
    "luckySum(1, 2, 13) → 3\n",
    "luckySum(1, 13, 3) → 1"
   ]
  },
  {
   "cell_type": "markdown",
   "id": "5b8006e2",
   "metadata": {},
   "source": [
    "## String 2.4 - no_teen_sum\n",
    "\n",
    "### Problem:\n",
    "----------\n",
    "Given 3 int values, a b c, return their sum. However, if any of the values is a teen -- in the range 13..19 inclusive -- then that value counts as 0, except 15 and 16 do not count as a teens. Write a separate helper \"public int fixTeen(int n) {\"that takes in an int value and returns that value fixed for the teen rule. In this way, you avoid repeating the teen code 3 times (i.e. \"decomposition\"). Define the helper below and at the same indent level as the main noTeenSum().\n",
    "\n",
    "### Examples:\n",
    "-------\n",
    "noTeenSum(1, 2, 3) → 6\n",
    "noTeenSum(2, 13, 1) → 3\n",
    "noTeenSum(2, 1, 14) → 3"
   ]
  },
  {
   "cell_type": "markdown",
   "id": "ccb74199",
   "metadata": {},
   "source": [
    "## String 2.5 - round_sum\n",
    "\n",
    "### Problem:\n",
    "----------\n",
    "For this problem, we'll round an int value up to the next multiple of 10 if its rightmost digit is 5 or more, so 15 rounds up to 20. Alternately, round down to the previous multiple of 10 if its rightmost digit is less than 5, so 12 rounds down to 10. Given 3 ints, a b c, return the sum of their rounded values. To avoid code repetition, write a separate helper \"public int round10(int num) {\" and call it 3 times. Write the helper entirely below and at the same indent level as roundSum().\n",
    "\n",
    "### Examples:\n",
    "-------\n",
    "roundSum(16, 17, 18) → 60\n",
    "roundSum(12, 13, 14) → 30\n",
    "roundSum(6, 4, 4) → 10"
   ]
  },
  {
   "cell_type": "markdown",
   "id": "04a0c3d9",
   "metadata": {},
   "source": [
    "## String 2.6 - close_far\n",
    "\n",
    "### Problem:\n",
    "----------\n",
    "Given three ints, a b c, return true if one of b or c is \"close\" (differing from a by at most 1), while the other is \"far\", differing from both other values by 2 or more. Note: Math.abs(num) computes the absolute value of a number.\n",
    "\n",
    "### Examples:\n",
    "-------\n",
    "closeFar(1, 2, 10) → true\n",
    "closeFar(1, 2, 3) → false\n",
    "closeFar(4, 1, 3) → true"
   ]
  },
  {
   "cell_type": "markdown",
   "id": "4d1a93e1",
   "metadata": {},
   "source": [
    "## String 2.7 - black_jack\n",
    "\n",
    "### Problem:\n",
    "----------\n",
    "Given 2 int values greater than 0, return whichever value is nearest to 21 without going over. Return 0 if they both go over.\n",
    "\n",
    "### Examples:\n",
    "-------\n",
    "blackjack(19, 21) → 21\n",
    "blackjack(21, 19) → 21\n",
    "blackjack(19, 22) → 19"
   ]
  },
  {
   "cell_type": "markdown",
   "id": "baa275bd",
   "metadata": {},
   "source": [
    "## String 2.8 - evenly_spaced\n",
    "\n",
    "### Problem:\n",
    "----------\n",
    "Given three ints, a b c, one of them is small, one is medium and one is large. Return true if the three values are evenly spaced, so the difference between small and medium is the same as the difference between medium and large.\n",
    "\n",
    "### Examples:\n",
    "-------\n",
    "evenlySpaced(2, 4, 6) → true\n",
    "evenlySpaced(4, 6, 2) → true\n",
    "evenlySpaced(4, 6, 3) → false"
   ]
  },
  {
   "cell_type": "markdown",
   "id": "9a61bb53",
   "metadata": {},
   "source": [
    "## String 2.9 - make_chocolate\n",
    "\n",
    "### Problem:\n",
    "----------\n",
    "We want make a package of goal kilos of chocolate. We have small bars (1 kilo each) and big bars (5 kilos each). Return the number of small bars to use, assuming we always use big bars before small bars. Return -1 if it can't be done.\n",
    "\n",
    "### Examples:\n",
    "-------\n",
    "makeChocolate(4, 1, 9) → 4\n",
    "makeChocolate(4, 1, 10) → -1\n",
    "makeChocolate(4, 1, 7) → 2"
   ]
  }
 ],
 "metadata": {
  "kernelspec": {
   "display_name": "Python 3 (ipykernel)",
   "language": "python",
   "name": "python3"
  },
  "language_info": {
   "codemirror_mode": {
    "name": "ipython",
    "version": 3
   },
   "file_extension": ".py",
   "mimetype": "text/x-python",
   "name": "python",
   "nbconvert_exporter": "python",
   "pygments_lexer": "ipython3",
   "version": "3.11.3"
  }
 },
 "nbformat": 4,
 "nbformat_minor": 5
}
