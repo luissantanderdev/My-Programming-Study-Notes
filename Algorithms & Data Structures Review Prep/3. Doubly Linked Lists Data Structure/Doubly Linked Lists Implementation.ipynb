{
 "cells": [
  {
   "cell_type": "markdown",
   "id": "c58c7b8f-aec3-401c-836b-9423e816aef2",
   "metadata": {},
   "source": [
    "# Doubly Linked List (Implementation)"
   ]
  },
  {
   "cell_type": "code",
   "execution_count": 25,
   "id": "a13422ea-d198-4817-9594-fdd5bbf6fb6e",
   "metadata": {},
   "outputs": [],
   "source": [
    "import time \n",
    "\n",
    "class Node:\n",
    "    def __init__(self, data):\n",
    "        self.data = data \n",
    "        self.next = None\n",
    "        self.prev = None\n",
    "        \n",
    "    def __repr__(self):\n",
    "        return str(self.data)\n",
    "\n",
    "class DoublyLinkedList:\n",
    "    def __init__(self):\n",
    "        self.head = None\n",
    "        self.tail = None\n",
    "        self.__size = 0 \n",
    "\n",
    "    '''gets the doubly linked list size'''\n",
    "    def size(self): \n",
    "        return self.__size \n",
    "\n",
    "    '''this operation inserts at the end of the linked list'''\n",
    "    '''so we have to manipulate the tail node in O(1) running time'''\n",
    "    def insert(self, data): \n",
    "        new_node = Node(data)\n",
    "        self.__size += 1 \n",
    "\n",
    "        if self.head is None:\n",
    "            self.head = new_node\n",
    "            self.tail = new_node\n",
    "        else:\n",
    "            new_node.prev = self.tail\n",
    "            self.tail.next = new_node\n",
    "            self.tail = new_node \n",
    "            \n",
    "    '''we can traverse a doubly linked list in both directions'''\n",
    "    def traverse(self, direction=False):\n",
    "        actual_node = None \n",
    "        \n",
    "        if (direction):\n",
    "            actual_node = self.tail\n",
    "\n",
    "            while actual_node is not None:\n",
    "                print(actual_node)\n",
    "                actual_node = actual_node.prev\n",
    "        else:\n",
    "            actual_node = self.head \n",
    "\n",
    "            while actual_node is not None:\n",
    "                print(actual_node)\n",
    "                actual_node = actual_node.next"
   ]
  },
  {
   "cell_type": "markdown",
   "id": "240597b1-81e2-4141-a831-d04ba16f0425",
   "metadata": {},
   "source": [
    "### Testing"
   ]
  },
  {
   "cell_type": "code",
   "execution_count": 32,
   "id": "53f9757d-288e-4e3f-a9f1-5c95ad23c184",
   "metadata": {},
   "outputs": [
    {
     "name": "stdout",
     "output_type": "stream",
     "text": [
      "Inserting items into linked list in 0.7325789928436279s\n",
      "Inserting items into linked list in 94.70982313156128s\n"
     ]
    }
   ],
   "source": [
    "doubly = DoublyLinkedList()\n",
    "\n",
    "def test(callback, iterations=1000):\n",
    "    now = time.time() \n",
    "    \n",
    "    for i in range(iterations):\n",
    "        callback(i)\n",
    "\n",
    "    print('Inserting items into linked list in %ss' % str(time.time()-now))\n",
    "\n",
    "test(doubly.insert, 500000)\n",
    "\n",
    "now = time.time() \n",
    "\n",
    "array = []\n",
    "\n",
    "for i in range(500000):\n",
    "    array.insert(0, i) \n",
    "\n",
    "print('Inserting items into linked list in %ss' % str(time.time()-now))\n",
    "\n"
   ]
  }
 ],
 "metadata": {
  "kernelspec": {
   "display_name": "Python 3 (ipykernel)",
   "language": "python",
   "name": "python3"
  },
  "language_info": {
   "codemirror_mode": {
    "name": "ipython",
    "version": 3
   },
   "file_extension": ".py",
   "mimetype": "text/x-python",
   "name": "python",
   "nbconvert_exporter": "python",
   "pygments_lexer": "ipython3",
   "version": "3.12.2"
  }
 },
 "nbformat": 4,
 "nbformat_minor": 5
}
