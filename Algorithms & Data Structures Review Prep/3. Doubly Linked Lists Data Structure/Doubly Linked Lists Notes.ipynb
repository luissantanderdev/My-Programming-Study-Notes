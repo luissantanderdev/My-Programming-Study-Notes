{
 "cells": [
  {
   "cell_type": "markdown",
   "id": "e33986d7-4423-4e7f-aa75-803788872e89",
   "metadata": {},
   "source": [
    "# Doubly Linked Lists (Notes)\n",
    "* it is another data structure - so the aim is to be able to store items efficiently (insertion and removal operations)\n",
    "* arrays have a huge disadvantage: there my be holes in the data.\n",
    "* this problem can be eliminated with doubly linked lists.\n",
    "\n",
    "* Null <---------- [data, next] ---------> [data, next] ---------> [data, next] ---> Null\n",
    "*                  head node                                        tail node"
   ]
  },
  {
   "cell_type": "markdown",
   "id": "299004af-cd42-464c-b774-11e2b98fb0f4",
   "metadata": {},
   "source": [
    "### [data, next_node, previous_node] ----- > null\n",
    "\n",
    "* every node stores the data itself and references to the next node and to the previous node in the linked list.\n",
    "* this is why doubly linked lists need more memory than linked lists.\n",
    "* it has an advantage - there can not be holes in the data structure so there is no need for shifting items."
   ]
  },
  {
   "cell_type": "markdown",
   "id": "8c270a2d-b708-4dbf-aaea-186af022ba21",
   "metadata": {},
   "source": [
    "### Doubly Linked Lists Advantages \n",
    "* we store references to the head node and the tail node as well so these nodes can be accessed in O(1) running time.\n",
    "* it can be traversed in both directions (huge advantage)\n",
    "* removing a given node is easier because there is a pointer to the previous node as well"
   ]
  },
  {
   "cell_type": "markdown",
   "id": "67de8bbd-aa91-48a1-876b-516660c2db13",
   "metadata": {},
   "source": [
    "### Doubly Linked Lists Disadvantages\n",
    "* need more memory because of the references (2 pointers)\n",
    "* a bit more complicated to implement because we have to handle both pointers.\n",
    "* still have not solved the main issue - how to search for arbitrary items faster than O(N) linear running time?"
   ]
  }
 ],
 "metadata": {
  "kernelspec": {
   "display_name": "Python 3 (ipykernel)",
   "language": "python",
   "name": "python3"
  },
  "language_info": {
   "codemirror_mode": {
    "name": "ipython",
    "version": 3
   },
   "file_extension": ".py",
   "mimetype": "text/x-python",
   "name": "python",
   "nbconvert_exporter": "python",
   "pygments_lexer": "ipython3",
   "version": "3.12.2"
  }
 },
 "nbformat": 4,
 "nbformat_minor": 5
}
