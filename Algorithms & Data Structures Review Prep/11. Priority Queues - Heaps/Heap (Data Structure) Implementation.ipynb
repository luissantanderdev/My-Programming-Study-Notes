{
 "cells": [
  {
   "cell_type": "markdown",
   "metadata": {},
   "source": [
    "# Binary Heap (Data Structure) Implementation"
   ]
  },
  {
   "cell_type": "code",
   "execution_count": 6,
   "metadata": {},
   "outputs": [
    {
     "name": "stdout",
     "output_type": "stream",
     "text": [
      "99\n"
     ]
    }
   ],
   "source": [
    "from typing import List \n",
    "\n",
    "# MARK - Constants \n",
    "\n",
    "CAPACITY = 10 \n",
    "\n",
    "# MARK: - Heap Data Structure \n",
    "\n",
    "class Heap:\n",
    "    def __init__(self):\n",
    "        # this is the actual number of items in the ds \n",
    "        self.heap_size = 0 \n",
    "        # the underlying list data structure. \n",
    "        self.heap = [0] * CAPACITY\n",
    "\n",
    "    # starts with the actual node we have inserted up to the root node. \n",
    "    # we have to compare the values whether to make swap operations \n",
    "    # O(log*N) running time complexity. \n",
    "    def __fix_up(self, index: int): \n",
    "        parent_index = (index - 1) // 2 \n",
    "\n",
    "        # we consider all the items above till we hit the root node. \n",
    "        # if heap property if violated then we swap the parent-child. \n",
    "        if (index > 0 and self.heap[index] > self.heap[parent_index]):\n",
    "            self.heap[index], self.heap[parent_index] = self.heap[parent_index], self.heap[index] \n",
    "            self.__fix_up(parent_index) \n",
    "\n",
    "    # starting with the root node downwards until the heap properties are no longer violated - O(log*N) \n",
    "    def __fix_down(self, index): \n",
    "        left_index = 2 * index + 1 \n",
    "        right_index = 2 * index + 2 \n",
    "\n",
    "        # in a max heap the parent is always the greater than the children. \n",
    "        largest_index = index \n",
    "\n",
    "        if (left_index < self.heap_size and self.heap[left_index] > self.heap[index]):\n",
    "            largest_index = left_index\n",
    "\n",
    "        # if the right child is greater than the left child: largest is the right child. \n",
    "        if (right_index < self.heap_size and self.heap[right_index] > self.heap(largest_index)):\n",
    "            largest_index = right_index\n",
    "\n",
    "        if index != largest_index: \n",
    "            self.heap[index], self.heap[largest_index] = self.heap[largest_index], self.heap[index]\n",
    "            self.__fix_down(largest_index)\n",
    "\n",
    "    def peek(self) -> int: \n",
    "        '''returns the maximum item in the heap.'''\n",
    "        return self.heap[0] \n",
    "    \n",
    "    def poll(self) -> int: \n",
    "        '''returns the max value and removes it as well'''\n",
    "        max_item = self.peek() \n",
    "\n",
    "        # swap the root node with the last item and 'heapify' \n",
    "        self.heap[0], self.heap[self.heap_size - 1] = self.heap[self.heap_size - 1], self.heap[0] \n",
    "        self.heap_size = self.heap_size - 1 \n",
    "\n",
    "        self.__fix_down(0) \n",
    "\n",
    "        return max_item \n",
    "\n",
    "    def insert(self, item):\n",
    "        '''inserts an item into the heap'''\n",
    "        if self.heap_size == CAPACITY:\n",
    "            return \n",
    "        \n",
    "        self.heap[self.heap_size] = item \n",
    "        self.heap_size = self.heap_size + 1 \n",
    "\n",
    "        # checks the heap properties \n",
    "        self.__fix_up(self.heap_size - 1) \n",
    "\n",
    "    def heap_sort(self): \n",
    "        for _ in range(self.heap_size):\n",
    "            max_item = self.poll() \n",
    "            print(max_item) \n",
    "\n",
    "# MARK: - Testing \n",
    "\n",
    "if __name__ == '__main__':\n",
    "    heap = Heap()   \n",
    "    heap.insert(23)\n",
    "    heap.insert(5)\n",
    "    heap.insert(78) \n",
    "    heap.insert(2)\n",
    "    heap.insert(92)\n",
    "    heap.insert(12) \n",
    "    heap.insert(21) \n",
    "    heap.insert(99)\n",
    "\n",
    "    print(heap.peek())"
   ]
  },
  {
   "cell_type": "markdown",
   "metadata": {},
   "source": [
    "### Heap Built In Python Module\n",
    "\n",
    "- built in heapq in python is a mimimum heap data structure. "
   ]
  },
  {
   "cell_type": "code",
   "execution_count": 9,
   "metadata": {},
   "outputs": [
    {
     "name": "stdout",
     "output_type": "stream",
     "text": [
      "[-2, 1, 0, 7, 4, 3]\n"
     ]
    }
   ],
   "source": [
    "import heapq\n",
    "\n",
    "# it is the min heap implementation. \n",
    "heap = [4, 7, 3, -2, 1, 0]\n",
    "\n",
    "heapq.heapify(heap)\n",
    "\n",
    "print(heap)"
   ]
  }
 ],
 "metadata": {
  "kernelspec": {
   "display_name": "Python 3",
   "language": "python",
   "name": "python3"
  },
  "language_info": {
   "codemirror_mode": {
    "name": "ipython",
    "version": 3
   },
   "file_extension": ".py",
   "mimetype": "text/x-python",
   "name": "python",
   "nbconvert_exporter": "python",
   "pygments_lexer": "ipython3",
   "version": "3.12.2"
  }
 },
 "nbformat": 4,
 "nbformat_minor": 2
}
