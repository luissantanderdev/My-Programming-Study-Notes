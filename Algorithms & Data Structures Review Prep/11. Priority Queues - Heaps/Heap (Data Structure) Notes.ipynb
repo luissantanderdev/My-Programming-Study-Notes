{
 "cells": [
  {
   "cell_type": "markdown",
   "metadata": {},
   "source": [
    "# Priority Queues / Heaps (Data Structure) Notes\n",
    "\n",
    "- it is an abstract data type such as queue.\n",
    "- every item has an additional property - the so-called priority value. \n",
    "- in a priority queue an element with high priority is served before an element with lower priority. \n",
    "- priority queues are usually implemented with heap data structures but it can be implemented with self balancing trees as well. \n",
    "\n",
    "\n",
    "- ***the highest priority element is retrieved first***\""
   ]
  },
  {
   "cell_type": "markdown",
   "metadata": {},
   "source": [
    "### Heap Data Structures\n",
    "\n",
    "- heaps are basically binary trees.\n",
    "- two main binary heaps types: min heap and max heap.\n",
    "- it was first constructed back in 1964 by J.W.J Williams. \n",
    "----------------\n",
    " - <div style='color:orange'>1. Max Heap</div>\n",
    "    - in a max heap the keys of the parent nodes are always greater than or equal to those of the children. The highest key (max value) is in the root node. \n",
    " - <div style='color:orange'>2. Min Heap</div>\n",
    "    - In a min heap the keys of the parent nodes are less than or equal to those of the children and the lowest key (min item) is in the root node. \n",
    "\n",
    "<div style='color:white'>--------------------------------------------------</div>\n",
    "\n",
    "- heaps are basically binary trees.\n",
    "- two main binary heap types: min heap and max heap.\n",
    "- it is complete so it cannot be imbalanced.\n",
    "- we insert every new item to the next available place. \n",
    "- applications: Dijkstra's algorithm, Prim's algorithm. "
   ]
  },
  {
   "cell_type": "markdown",
   "metadata": {},
   "source": [
    "### How to construct a heap. \n",
    "\n",
    "<div style='color: green'>1. Completeness:</div> \n",
    "\n",
    "- we construct the heap from left to right across each row - of course the last row may not be fully complete.\n",
    "\n",
    "<div style='color: green'>1. Heap Property</div>\n",
    "\n",
    "- every node can have 2 children so heaps are almost-complete binary trees. \n",
    "\n",
    "![Alt Text](./imgs/heaps1.png)\n"
   ]
  },
  {
   "cell_type": "markdown",
   "metadata": {},
   "source": [
    "### Remove Operation \n",
    "\n",
    "- removing the **root node** (and usually this is the case) can be done in **O(log*N)** running time. \n",
    "- what if we want to remove an arbitrary item?\n",
    "- first we have to find it in the array with **O(N)** linear search and then we can remove it in O(log*N).\n",
    "- removing arbitrary item takes O(N) time. \n",
    "- this is the same if we want to find an item in a heap. \n",
    "- heaps came to be to find and manipulate the **root node** (max or min item) in an efficient manner. "
   ]
  },
  {
   "cell_type": "markdown",
   "metadata": {},
   "source": [
    "### Heap Sort"
   ]
  },
  {
   "cell_type": "markdown",
   "metadata": {},
   "source": [
    "- heap sort is a comparison-based sorting algorithm. \n",
    "- uses heap data structure rather than a linear-time search to find the maximum. \n",
    "- it is a bit slower in practice on most machines than a well implemented quicksort. \n",
    "- but it has the advantage of a more favorable **O(N*log*N)** worst-case running time complexity. \n",
    "\n",
    "<div style='color: white'>-------------------------</div>\n",
    "\n",
    "- heapsort is an in-place algorithm.\n",
    "- **DOES NOT NEED ADDITIONAL MEMORY** - of course we have to store the N items. \n",
    "- but it is not a stable sort - which means it does not keep the relative order of items with same values. \n",
    "- first we have to construct the heap data structure from the numbers we want to sort. \n",
    "- we have to consider the items one by one in **O(N)** and we have to insert them into heap in **O(log*N)** so the total running time will be **O(N*log*N)**\n",
    "\n",
    "\n",
    "- 1. we take the **root node** (include it in the solution set) and swap it with the last item. \n",
    "- 2. do heapify starting with the root node because the heap properties may be violated.\n",
    "- 3. we do it **N** times (for all the items in the DS)"
   ]
  },
  {
   "cell_type": "markdown",
   "metadata": {},
   "source": [
    "### Running Time \n",
    "- memory complexity: we have N items we want to store in the heap, we have to allocate memory for an array with size N O(N) memory complexity."
   ]
  },
  {
   "cell_type": "markdown",
   "metadata": {},
   "source": []
  }
 ],
 "metadata": {
  "kernelspec": {
   "display_name": "Python 3",
   "language": "python",
   "name": "python3"
  },
  "language_info": {
   "name": "python",
   "version": "3.12.2"
  }
 },
 "nbformat": 4,
 "nbformat_minor": 2
}
