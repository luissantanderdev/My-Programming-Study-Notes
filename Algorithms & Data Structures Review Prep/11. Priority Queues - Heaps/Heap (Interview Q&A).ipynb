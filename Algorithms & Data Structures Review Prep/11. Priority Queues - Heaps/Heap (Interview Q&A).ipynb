{
 "cells": [
  {
   "cell_type": "markdown",
   "metadata": {},
   "source": [
    "# 1. Checking heap properties exercise\n",
    "Design an algorithms that can check whether a heap (with array representation) is a valid min heap or not.\n",
    "\n",
    "Note: a valid min heap is when the parent node is smaller than the children - for all the nodes in the heap.\n",
    "\n",
    "Good luck!"
   ]
  },
  {
   "cell_type": "code",
   "execution_count": 34,
   "metadata": {},
   "outputs": [
    {
     "data": {
      "text/plain": [
       "True"
      ]
     },
     "execution_count": 34,
     "metadata": {},
     "output_type": "execute_result"
    }
   ],
   "source": [
    "from typing import List \n",
    "\n",
    "\n",
    "def is_min_heap(heap: List[int]) -> bool:\n",
    "    n = len(heap) \n",
    "\n",
    "    if (n <= 1):\n",
    "        return True \n",
    "    \n",
    "    if (n == 2):\n",
    "        return heap[0] < heap[1]\n",
    "\n",
    "    num_items = (n - 2) // 2 + 1\n",
    "\n",
    "    for parent in range(num_items):\n",
    "        left_child = 2 * parent + 1\n",
    "        right_child = 2 * parent + 2 \n",
    "\n",
    "        if (heap[parent] > heap[left_child] or\n",
    "            heap[parent] > heap[right_child]):\n",
    "            return False \n",
    "        \n",
    "    return True\n",
    "\n",
    "heap = [1, 2, 3, 5, 4]\n",
    "\n",
    "\n",
    "is_min_heap(heap) "
   ]
  },
  {
   "cell_type": "markdown",
   "metadata": {},
   "source": [
    "# Transform a Max Heap to Min Heap \n",
    "\n",
    "- we have to consider the internal nodes exclusively (in a reversed order) (leaf nodes do not have children so no need to check the heap properties)\n",
    "\n",
    "- in every iteration we consider an internal node: we have to find the smallest child and swap it with the parent.\n",
    "\n",
    "- we consider the internal nodes in a reverse order + call fixDown() method. "
   ]
  },
  {
   "cell_type": "code",
   "execution_count": 11,
   "metadata": {},
   "outputs": [
    {
     "name": "stdout",
     "output_type": "stream",
     "text": [
      "[2, 5, 23, 100, 200]\n"
     ]
    }
   ],
   "source": [
    "class HeapTransformer:\n",
    "    def __init__(self, heap):\n",
    "        self.heap = heap \n",
    "        self.heap_size = len(self.heap) \n",
    "    \n",
    "    def transform(self):\n",
    "        for i in range ((self.heap_size-2) // 2, -1, -1):\n",
    "            self.fix_down(i)\n",
    "\n",
    "    def fix_down(self, index):\n",
    "        left_index = 2 * index + 1 \n",
    "        right_index = 2 * index + 2 \n",
    "\n",
    "        # in a max heap the parent is always the greater than the children. \n",
    "        largest_index = index \n",
    "\n",
    "        if (left_index < self.heap_size and self.heap[left_index] < self.heap[index]):\n",
    "            largest_index = left_index\n",
    "\n",
    "        # if the right child is greater than the left child: min is the right child. \n",
    "        if (right_index < self.heap_size and self.heap[right_index] < self.heap[largest_index]):\n",
    "            largest_index = right_index\n",
    "\n",
    "        if index != largest_index: \n",
    "            self.heap[index], self.heap[largest_index] = self.heap[largest_index], self.heap[index]\n",
    "            self.fix_down(largest_index)\n",
    "\n",
    "\n",
    "n = [200, 100, 23, 2, 5]\n",
    "heap_transform = HeapTransformer(n) \n",
    "heap_transform.transform() \n",
    "print(heap_transform.heap) \n",
    "\n",
    "\n"
   ]
  },
  {
   "cell_type": "code",
   "execution_count": null,
   "metadata": {},
   "outputs": [],
   "source": []
  }
 ],
 "metadata": {
  "kernelspec": {
   "display_name": "Python 3",
   "language": "python",
   "name": "python3"
  },
  "language_info": {
   "codemirror_mode": {
    "name": "ipython",
    "version": 3
   },
   "file_extension": ".py",
   "mimetype": "text/x-python",
   "name": "python",
   "nbconvert_exporter": "python",
   "pygments_lexer": "ipython3",
   "version": "3.12.2"
  }
 },
 "nbformat": 4,
 "nbformat_minor": 2
}
