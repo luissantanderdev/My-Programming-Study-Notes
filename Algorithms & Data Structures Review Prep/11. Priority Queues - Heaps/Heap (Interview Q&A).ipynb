{
 "cells": [
  {
   "cell_type": "markdown",
   "metadata": {},
   "source": [
    "# 1. Checking heap properties exercise\n",
    "Design an algorithms that can check whether a heap (with array representation) is a valid min heap or not.\n",
    "\n",
    "Note: a valid min heap is when the parent node is smaller than the children - for all the nodes in the heap.\n",
    "\n",
    "Good luck!"
   ]
  },
  {
   "cell_type": "code",
   "execution_count": 34,
   "metadata": {},
   "outputs": [
    {
     "data": {
      "text/plain": [
       "True"
      ]
     },
     "execution_count": 34,
     "metadata": {},
     "output_type": "execute_result"
    }
   ],
   "source": [
    "from typing import List \n",
    "\n",
    "\n",
    "def is_min_heap(heap: List[int]) -> bool:\n",
    "    n = len(heap) \n",
    "\n",
    "    if (n <= 1):\n",
    "        return True \n",
    "    \n",
    "    if (n == 2):\n",
    "        return heap[0] < heap[1]\n",
    "\n",
    "    num_items = (n - 2) // 2 + 1\n",
    "\n",
    "    for parent in range(num_items):\n",
    "        left_child = 2 * parent + 1\n",
    "        right_child = 2 * parent + 2 \n",
    "\n",
    "        if (heap[parent] > heap[left_child] or\n",
    "            heap[parent] > heap[right_child]):\n",
    "            return False \n",
    "        \n",
    "    return True\n",
    "\n",
    "heap = [1, 2, 3, 5, 4]\n",
    "\n",
    "\n",
    "is_min_heap(heap) "
   ]
  },
  {
   "cell_type": "code",
   "execution_count": null,
   "metadata": {},
   "outputs": [],
   "source": []
  }
 ],
 "metadata": {
  "kernelspec": {
   "display_name": "Python 3",
   "language": "python",
   "name": "python3"
  },
  "language_info": {
   "codemirror_mode": {
    "name": "ipython",
    "version": 3
   },
   "file_extension": ".py",
   "mimetype": "text/x-python",
   "name": "python",
   "nbconvert_exporter": "python",
   "pygments_lexer": "ipython3",
   "version": "3.12.2"
  }
 },
 "nbformat": 4,
 "nbformat_minor": 2
}
