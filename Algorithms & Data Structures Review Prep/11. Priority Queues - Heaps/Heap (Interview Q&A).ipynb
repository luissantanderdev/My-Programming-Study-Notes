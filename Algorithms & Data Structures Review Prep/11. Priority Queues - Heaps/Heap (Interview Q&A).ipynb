{
 "cells": [
  {
   "cell_type": "markdown",
   "metadata": {},
   "source": [
    "# 1. Checking heap properties exercise\n",
    "Design an algorithms that can check whether a heap (with array representation) is a valid min heap or not.\n",
    "\n",
    "Note: a valid min heap is when the parent node is smaller than the children - for all the nodes in the heap.\n",
    "\n",
    "Good luck!"
   ]
  },
  {
   "cell_type": "code",
   "execution_count": null,
   "metadata": {},
   "outputs": [],
   "source": [
    "def is_min_heap(heap):\n",
    "    pass "
   ]
  },
  {
   "cell_type": "code",
   "execution_count": null,
   "metadata": {},
   "outputs": [],
   "source": []
  }
 ],
 "metadata": {
  "kernelspec": {
   "display_name": "Python 3",
   "language": "python",
   "name": "python3"
  },
  "language_info": {
   "name": "python",
   "version": "3.12.2"
  }
 },
 "nbformat": 4,
 "nbformat_minor": 2
}
