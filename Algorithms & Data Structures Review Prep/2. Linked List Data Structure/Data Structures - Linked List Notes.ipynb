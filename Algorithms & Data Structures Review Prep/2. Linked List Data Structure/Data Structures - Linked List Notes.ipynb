{
 "cells": [
  {
   "cell_type": "markdown",
   "id": "60cf0085-7e56-41f9-8d8e-d5371213485e",
   "metadata": {},
   "source": [
    "# Linked Lists (Data Structure)\n",
    "\n",
    "- it is another data structure - so the aim is to be able to store items efficiently (insertion and removal operations)\n",
    "- arrays have a huge disadvantage there may be holes in the data structure and we have to shift a lot of items.\n",
    "- this problem can be elimiated by linked lists.\n",
    "- every node stores the data itself and a reference to the next node in the linked list data structure.\n",
    "- this is why linked lists need more memory than arrays.\n",
    "- the items are not stored next to each other in memory - so there is no random indexing.\n",
    "- we can implement more complex data structures and abstract data types such as stacks and queues."
   ]
  },
  {
   "cell_type": "markdown",
   "id": "55189689-a015-4e57-b4a2-99b9dccacd6d",
   "metadata": {},
   "source": [
    "## Adding Items\n",
    "- we can insert new items to the beginning of the data structure in O(1) constant running time.\n",
    "\n",
    "- [data=12, next=20] -------> [data=20, next=5] ----------> [data=5, next=null]\n",
    "- head_node "
   ]
  },
  {
   "cell_type": "markdown",
   "id": "45cac9eb-d89e-4641-8095-5fb1bd345b54",
   "metadata": {},
   "source": [
    "## Removing Items \n",
    "- removing the first item of the linked list is easy because we just have to update the references - in O(1) constant running time complexity\n",
    "- removing the last item of the linked list is not that easy because first we have to traverse the list to get there - in O(N) linear running time complexity.\n",
    "- Manipulate the first item (insertion or removal): O(1) running time\n",
    "- Manimuplating arbitrary item - O(N) running time - if we have to do several of these opeartions."
   ]
  },
  {
   "cell_type": "markdown",
   "id": "d836c3c6-03f6-4c58-ac2a-d231e07e0984",
   "metadata": {},
   "source": [
    "* find the first item (head node) - O(1)\n",
    "* search for arbitrary item - O(n)\n",
    "* insert item to the beginning - O(1)\n",
    "* insert item to arbitrary position - O(n)\n",
    "* removing first item - O(1)\n",
    "* removing arbitrary item - O(n)"
   ]
  },
  {
   "cell_type": "markdown",
   "id": "2e728818-3f7a-4686-b845-91c8f7e8aaea",
   "metadata": {},
   "source": [
    "### Advantages            \n",
    "- [Dynamic data structures] - they can aquire memory at run-time without resizing the data structure.\n",
    "- [Grow Data Structure Organically] - no problem if we do not know the number of items we want to store at compile time.\n",
    "- [Can store diffrent Sized Items] - arrays on the other hand assume the items have the exact same size.\n",
    "\n",
    "### Cons\n",
    "- [More Memory] - linked lists need more memory than arrays because we have to store the references.\n",
    "- [No Random Access] - there are no indexes - we can access the first node (head node) exclusively.\n",
    "- [Can Not Go Backwards] - how to access the previous item?\n",
    "- [Not Predictable] - Running time of the application depends on what operations the users do. "
   ]
  }
 ],
 "metadata": {
  "kernelspec": {
   "display_name": "Python 3 (ipykernel)",
   "language": "python",
   "name": "python3"
  },
  "language_info": {
   "codemirror_mode": {
    "name": "ipython",
    "version": 3
   },
   "file_extension": ".py",
   "mimetype": "text/x-python",
   "name": "python",
   "nbconvert_exporter": "python",
   "pygments_lexer": "ipython3",
   "version": "3.12.2"
  }
 },
 "nbformat": 4,
 "nbformat_minor": 5
}
