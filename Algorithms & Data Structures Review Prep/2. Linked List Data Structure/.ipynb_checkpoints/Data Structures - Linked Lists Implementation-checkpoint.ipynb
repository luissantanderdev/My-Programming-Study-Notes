{
 "cells": [
  {
   "cell_type": "markdown",
   "id": "a77e1d42-c146-4a97-a74f-b42c353369eb",
   "metadata": {},
   "source": [
    "## Data Structure - Linked List (Implementation)"
   ]
  },
  {
   "cell_type": "code",
   "execution_count": 23,
   "id": "26e0fcbd-e35e-4a27-a2d8-9b0825cb7619",
   "metadata": {},
   "outputs": [],
   "source": [
    "class Node:\n",
    "    def __init__(self, data):\n",
    "        self.data = data\n",
    "        self.next_node = None\n",
    "\n",
    "    def __repr__(self):\n",
    "        return str(self.data)\n",
    "\n",
    "class LinkedList:\n",
    "    def __init__(self):\n",
    "        self.head = None\n",
    "        self.num_of_nodes = 0\n",
    "\n",
    "    '''Gets the size of the list O(1)'''\n",
    "    def size_of_list(self):\n",
    "        return self.num_of_nodes\n",
    "\n",
    "    '''Inserting at the beginning of the list O(1)'''\n",
    "    def insert_start(self, data):\n",
    "        self.num_of_nodes += 1\n",
    "        new_node = Node(data)\n",
    "\n",
    "        if self.head is None:\n",
    "            self.head = new_node\n",
    "        else:\n",
    "            new_node.next_node = self.head\n",
    "            self.head = new_node\n",
    "\n",
    "    '''Inserting at the end of the list O(n)'''\n",
    "    def insert_end(self, data):\n",
    "        self.num_of_nodes += 1\n",
    "        new_node = Node(data)\n",
    "\n",
    "        if self.head is None:\n",
    "            self.head = new_node\n",
    "        else:\n",
    "            actual_node = self.head\n",
    "\n",
    "            while (actual_node.next_node is not None):\n",
    "                actual_node = actual_node.next_node\n",
    "\n",
    "            actual_node.next_node = new_node \n",
    "\n",
    "    '''Traverse the list O(n)'''\n",
    "    def traverse(self):\n",
    "        actual_node = self.head \n",
    "\n",
    "        while(actual_node is not None):\n",
    "            print(actual_node)\n",
    "            actual_node = actual_node.next_node\n"
   ]
  },
  {
   "cell_type": "markdown",
   "id": "9e0551bd-bc77-4057-8d08-59f9c69e2afc",
   "metadata": {},
   "source": [
    "## Testing"
   ]
  },
  {
   "cell_type": "code",
   "execution_count": 22,
   "id": "8308bd42-3086-4ec9-9fcc-d5d2ab81449a",
   "metadata": {},
   "outputs": [
    {
     "name": "stdout",
     "output_type": "stream",
     "text": [
      "10\n",
      "10\n",
      "Adam\n",
      "7.5\n"
     ]
    }
   ],
   "source": [
    "linked = LinkedList()\n",
    "linked.insert_end(10)\n",
    "linked.insert_end('Adam')\n",
    "linked.insert_end(7.5)\n",
    "linked.insert_start(10)\n",
    "linked.traverse()"
   ]
  }
 ],
 "metadata": {
  "kernelspec": {
   "display_name": "Python 3 (ipykernel)",
   "language": "python",
   "name": "python3"
  },
  "language_info": {
   "codemirror_mode": {
    "name": "ipython",
    "version": 3
   },
   "file_extension": ".py",
   "mimetype": "text/x-python",
   "name": "python",
   "nbconvert_exporter": "python",
   "pygments_lexer": "ipython3",
   "version": "3.12.2"
  }
 },
 "nbformat": 4,
 "nbformat_minor": 5
}
