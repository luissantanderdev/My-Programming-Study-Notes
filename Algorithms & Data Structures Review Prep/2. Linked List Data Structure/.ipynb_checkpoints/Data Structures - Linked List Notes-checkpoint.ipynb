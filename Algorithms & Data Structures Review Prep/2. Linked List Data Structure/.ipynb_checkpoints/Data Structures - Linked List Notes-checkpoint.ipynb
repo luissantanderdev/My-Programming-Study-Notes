{
 "cells": [
  {
   "cell_type": "markdown",
   "id": "60cf0085-7e56-41f9-8d8e-d5371213485e",
   "metadata": {},
   "source": [
    "# Linked Lists (Data Structure)\n",
    "\n",
    "- it is another data structure - so the aim is to be able to store items efficiently (insertion and removal operations)\n",
    "- arrays have a huge disadvantage there may be holes in the data structure and we have to shift a lot of items.\n",
    "- this problem can be elimiated by linked lists.\n",
    "- every node stores the data itself and a reference to the next node in the linked list data structure.\n",
    "- this is why linked lists need more memory than arrays.\n",
    "- the items are not stored next to each other in memory - so there is no random indexing.\n",
    "- we can implement more complex data structures and abstract data types such as stacks and queues."
   ]
  }
 ],
 "metadata": {
  "kernelspec": {
   "display_name": "Python 3 (ipykernel)",
   "language": "python",
   "name": "python3"
  },
  "language_info": {
   "codemirror_mode": {
    "name": "ipython",
    "version": 3
   },
   "file_extension": ".py",
   "mimetype": "text/x-python",
   "name": "python",
   "nbconvert_exporter": "python",
   "pygments_lexer": "ipython3",
   "version": "3.12.2"
  }
 },
 "nbformat": 4,
 "nbformat_minor": 5
}
