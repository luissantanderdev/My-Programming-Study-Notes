{
 "cells": [
  {
   "cell_type": "markdown",
   "id": "a77e1d42-c146-4a97-a74f-b42c353369eb",
   "metadata": {},
   "source": [
    "## Data Structure - Linked List (Implementation)"
   ]
  },
  {
   "cell_type": "code",
   "execution_count": 33,
   "id": "26e0fcbd-e35e-4a27-a2d8-9b0825cb7619",
   "metadata": {},
   "outputs": [],
   "source": [
    "class Node:\n",
    "    def __init__(self, data):\n",
    "        self.data = data\n",
    "        self.next_node = None\n",
    "\n",
    "    def __repr__(self):\n",
    "        return str(self.data)\n",
    "\n",
    "class LinkedList:\n",
    "    def __init__(self):\n",
    "        self.head = None\n",
    "        self.num_of_nodes = 0\n",
    "\n",
    "    '''Gets the size of the list O(1)'''\n",
    "    def size_of_list(self):\n",
    "        return self.num_of_nodes\n",
    "\n",
    "    '''Inserting at the beginning of the list O(1)'''\n",
    "    def insert_start(self, data):\n",
    "        self.num_of_nodes += 1\n",
    "        new_node = Node(data)\n",
    "\n",
    "        if self.head is None:\n",
    "            self.head = new_node\n",
    "        else:\n",
    "            new_node.next_node = self.head\n",
    "            self.head = new_node\n",
    "\n",
    "    '''Inserting at the end of the list O(n)'''\n",
    "    def insert_end(self, data):\n",
    "        self.num_of_nodes += 1\n",
    "        new_node = Node(data)\n",
    "\n",
    "        if self.head is None:\n",
    "            self.head = new_node\n",
    "        else:\n",
    "            actual_node = self.head\n",
    "\n",
    "            while (actual_node.next_node is not None):\n",
    "                actual_node = actual_node.next_node\n",
    "\n",
    "            actual_node.next_node = new_node \n",
    "\n",
    "    '''Remove data from the linked list O(n)'''\n",
    "    def remove(self, data):\n",
    "        if (self.head is None):\n",
    "            return\n",
    "\n",
    "        actual_node = self.head\n",
    "        previous_node = None \n",
    "\n",
    "        while (actual_node is not None and actual_node.data != data):\n",
    "            previous_node = actual_node\n",
    "            actual_node = actual_node.next_node\n",
    "\n",
    "        if (actual_node is None):\n",
    "            return\n",
    "\n",
    "        if (previous_node is None):\n",
    "            self.head = actual_node.next_node\n",
    "        else:\n",
    "            previous_node.next_node = actual_node.next_node\n",
    "\n",
    "        self.num_of_nodes -= 1\n",
    "            \n",
    "    '''Traverse the list O(n)'''\n",
    "    def traverse(self):\n",
    "        actual_node = self.head \n",
    "\n",
    "        while(actual_node is not None):\n",
    "            print(actual_node)\n",
    "            actual_node = actual_node.next_node\n",
    "\n",
    "    '''get middle node in linked list'''\n",
    "    def get_middle_node(self):\n",
    "        actual_node = self.head\n",
    "        current_index = 0\n",
    "        middle_index = (self.num_of_nodes - 1) // 2\n",
    "\n",
    "        while (current_index != middle_index):\n",
    "            current_index += 1\n",
    "            actual_node = actual_node.next_node\n",
    "\n",
    "        return actual_node\n",
    "\n",
    "    '''This function is used when size is of list uknown'''\n",
    "    def get_middle_node_if_list_size_uknown(self):\n",
    "        fast_pointer = self.head \n",
    "        slow_pointer = self.head \n",
    "\n",
    "        while (fast_pointer.next_node and fast_pointer.next_node.next_node):\n",
    "            fast_pointer = fast_pointer.next_node.next_node\n",
    "            slow_pointer = slow_pointer.next_node \n",
    "\n",
    "        return slow_pointer \n",
    "\n",
    "    '''reverse a linked list in place without need for extra memory'''    \n",
    "    def reverse(self):\n",
    "        prev_node = None \n",
    "        current_node = self.head \n",
    "\n",
    "        while (current_node is not None):\n",
    "            next_node = current_node.next_node\n",
    "            current_node.next_node = prev_node\n",
    "            prev_node = current_node\n",
    "            current_node = next_node\n",
    "\n",
    "        self.head = prev_node\n",
    "        return self.head "
   ]
  },
  {
   "cell_type": "code",
   "execution_count": 36,
   "id": "a7d7aa12-77e6-40fb-8174-37363764ea13",
   "metadata": {},
   "outputs": [],
   "source": [
    "linkedtwo = LinkedList()\n",
    "linkedtwo.insert_end(1)\n",
    "linkedtwo.insert_end(2)\n",
    "linkedtwo.insert_end(3)\n",
    "linkedtwo.insert_end(4)"
   ]
  },
  {
   "cell_type": "markdown",
   "id": "9e0551bd-bc77-4057-8d08-59f9c69e2afc",
   "metadata": {},
   "source": [
    "## Testing"
   ]
  },
  {
   "cell_type": "code",
   "execution_count": 18,
   "id": "8308bd42-3086-4ec9-9fcc-d5d2ab81449a",
   "metadata": {},
   "outputs": [
    {
     "name": "stdout",
     "output_type": "stream",
     "text": [
      "10\n",
      "10\n",
      "Adam\n",
      "7.5\n",
      "size of the list: 4\n",
      "\n",
      "10\n",
      "10\n",
      "Adam\n",
      "size of the list: 3\n"
     ]
    }
   ],
   "source": [
    "linked = LinkedList()\n",
    "linked.insert_end(10)\n",
    "linked.insert_end('Adam')\n",
    "linked.insert_end(7.5)\n",
    "linked.insert_start(10)\n",
    "linked.traverse()\n",
    "print(f'size of the list: {linked.size_of_list()}')\n",
    "\n",
    "linked.remove(7.5)\n",
    "print('')\n",
    "linked.traverse()\n",
    "print(f'size of the list: {linked.size_of_list()}')\n",
    "\n"
   ]
  },
  {
   "cell_type": "markdown",
   "id": "03e44a51-55a0-4cb5-8560-31e6da7bfe0f",
   "metadata": {},
   "source": [
    "## Comparing Arrays and Linked Lists\n",
    "\n",
    "1. Dynamic and Static Data Structures\n",
    "   * arrays are static data structures - we have to know the size of the data structures in advance (or we have to resize it)\n",
    "   * linked lists are dynamic data structures - they can grow organically based on the references (no resize operations needed)\n",
    "2. Random Access (Random Indexing)\n",
    "   * items in an array are located right next to each other in the main memory (RAM) this is why we can use indexes\n",
    "   * there is no random access in a linked list data structuer\n",
    "3. Manipulating the first items\n",
    "   * we have to shift several items (all the items in worst-case) when manipulating the first items in arrays\n",
    "   * linked lists are dynamic data structures - we just have to update the references around the head node.\n",
    "4. Manipulating the last items\n",
    "   * there can not be holes in the data structure when manipulating the last items in arrays.\n",
    "   * linked lists have access to the first node (head node) exclusively so in this case we have to traverse the whole list in O(N) running time.\n",
    "5. Memory Management\n",
    "   * arrays do not need any extra memory.\n",
    "   * linked lists on the other hand do need extra memory because of the references (pointers)."
   ]
  },
  {
   "cell_type": "markdown",
   "id": "dd2759d3-3f6e-432c-8dad-bc5dd2a7bf50",
   "metadata": {},
   "source": [
    "### How to reverse a linked list \n",
    "- the task is to construct an in-place algorithm to reverse a singly linked list.\n",
    "- 1.) naive solution: we consider all the nodes one by one then construct another linked list.\n",
    "- 2.) using pointers: we can achieve an in-place algorithm that has O(N) linear time without extra space. "
   ]
  },
  {
   "cell_type": "code",
   "execution_count": 37,
   "id": "898e1a1a-79ef-49a4-b191-089a8e2affcb",
   "metadata": {},
   "outputs": [
    {
     "name": "stdout",
     "output_type": "stream",
     "text": [
      "4\n",
      "3\n",
      "2\n",
      "1\n",
      "1\n",
      "2\n",
      "3\n",
      "4\n"
     ]
    }
   ],
   "source": [
    "linkedtwo.reverse()\n",
    "linkedtwo.traverse()\n",
    "linkedtwo.reverse()\n",
    "linkedtwo.traverse()"
   ]
  }
 ],
 "metadata": {
  "kernelspec": {
   "display_name": "Python 3 (ipykernel)",
   "language": "python",
   "name": "python3"
  },
  "language_info": {
   "codemirror_mode": {
    "name": "ipython",
    "version": 3
   },
   "file_extension": ".py",
   "mimetype": "text/x-python",
   "name": "python",
   "nbconvert_exporter": "python",
   "pygments_lexer": "ipython3",
   "version": "3.12.2"
  }
 },
 "nbformat": 4,
 "nbformat_minor": 5
}
