{
 "cells": [
  {
   "cell_type": "markdown",
   "id": "03e6fca7-a1bd-42e1-b8e7-350734a23403",
   "metadata": {},
   "source": [
    "# AVL Tree (Data Structure) Notes\n",
    "\n"
   ]
  },
  {
   "cell_type": "markdown",
   "id": "34a04256-69a9-450e-ab60-0b19eb546d2c",
   "metadata": {},
   "source": [
    "![Alt Text](./imgs/avl1.png)\n",
    "\n",
    "### Motivation behind AVL Trees\n",
    "- the logarithmic O(log*N) running time is valid only when the tree structure is balanced.\n",
    "- we should keep the height of a tree at a minimum which is h=log*N\n",
    "- the tree structure may become imbalanced which means the number of nodes significantly differ in the subtrees.\n",
    "- if the tree is imbalanced so the h=log*N relation is no more valid then the operations running time is no more O(log*N) logarithmic. "
   ]
  },
  {
   "cell_type": "markdown",
   "id": "427a3b6a-b76f-4308-868b-613c54d728b1",
   "metadata": {},
   "source": [
    "### AVL Trees\n",
    "-----------------------------\n",
    "- it is a balanced data structure invented in 1962 by Adelson-Velsky and Landis (AVL)\n",
    "- this data structure has a guaranteed O(log*N) running time.\n",
    "- the running time of binary search trees depends on the h height of the binary search tree.\n",
    "- in an AVL tree the heights of the two child subtrees of any node differ by at most one.\n",
    "- AVL trees are faster than red-black trees because they are more rigidly balanced but needs more work.\n",
    "- operating systems relies heavily on these data structures.\n",
    "\n",
    "AVL Trees <-----------------------------------------------------------------------------------> Red-Black Trees\n",
    "\n",
    "    AVL trees are rigidly balanced this is why\n",
    "    O(log*N) running time is guaranteed\n",
    "    (it is as fast as a binary search tree can be)\n",
    "\n",
    "--------------------------------------------------------------------------------------------------------\n",
    "                                                            are faster to construct because\n",
    "                                                            because they are not as balanced as AVL\n",
    "                                                            trees (but it is not as fast as AVL trees)"
   ]
  },
  {
   "cell_type": "markdown",
   "id": "14899fa4-2013-414d-ac7b-7b7f7f93538b",
   "metadata": {},
   "source": [
    "- all the operations are the same as we have seen with the BST (insertion and removal)\n",
    "- after every insertion and removal operations we have to check whether the tree has become imbalanced or not.\n",
    "- if the tree is imbalanced then we have to make rotations.\n",
    "\n",
    "![Alt Text](./imgs/avl2.png)"
   ]
  },
  {
   "cell_type": "markdown",
   "id": "85fed102-fb37-4e90-8a97-ab1897656f9c",
   "metadata": {},
   "source": [
    "### Height Calculation \n",
    "\n",
    "- AVL trees are exactly the same as BST\n",
    "- the only difference is that we track the h height parameters of the nodes in the tree\n",
    "\n",
    "                      | h_left - H_right | > 1          - all subtrees height parameter can not\n",
    "                                                        - differ more than 1 (otherwise the tree is\n",
    "                                                          imbalanced)\n",
    "- we have to update the BST and make rotations if it gets imbalanced.\n",
    "- this is why we have the h height parameters - we just have to check the differences in height parameters after every operation."
   ]
  },
  {
   "cell_type": "markdown",
   "id": "1c5e47b8-c7d0-4ec7-a943-86d271ab0257",
   "metadata": {},
   "source": [
    "![Alt Text](./imgs/avl3.png)\n",
    "![Alt Text](./imgs/avl4.png)"
   ]
  },
  {
   "cell_type": "markdown",
   "id": "7fdf8c44-80f6-4c1a-82f1-287e3f333cc2",
   "metadata": {},
   "source": [
    "### AVL Tree Rotations \n",
    "- we have to track the h height parameters for all the nodes in the binary search tree.\n",
    "- we can calculate the balance factors for the nodes.\n",
    "- have to make rotations if necessary to rebalance search trees.\n",
    "\n",
    "1.) Left Rotation\n",
    "- negative balance factors means right heavy situation so we have to make a left rotation to rebalance the tree.\n",
    "\n",
    "2.) Right Rotation\n",
    "- positive balance factors means left heavy situation so we have to make a right rotation to rebalance the tree.\n",
    "\n",
    "### Rotation Computation Load Factor\n",
    "- rotations are extremly fast - we just have to update the references in O(1) constant running time.\n",
    "- this operation does not change the properties of the tree.\n",
    "- the in-order traversal remains the same as well as the parent-child relationships in the tree.\n",
    "- there may be other issues because of rotations.\n",
    "- we have to check up to the root node whether to make further rotations or not - it takes O(log*N) running time. "
   ]
  },
  {
   "cell_type": "code",
   "execution_count": null,
   "id": "0393f88c-e26d-4a0a-b88d-8518ad7f4bd4",
   "metadata": {},
   "outputs": [],
   "source": []
  }
 ],
 "metadata": {
  "kernelspec": {
   "display_name": "Python 3 (ipykernel)",
   "language": "python",
   "name": "python3"
  },
  "language_info": {
   "codemirror_mode": {
    "name": "ipython",
    "version": 3
   },
   "file_extension": ".py",
   "mimetype": "text/x-python",
   "name": "python",
   "nbconvert_exporter": "python",
   "pygments_lexer": "ipython3",
   "version": "3.12.2"
  }
 },
 "nbformat": 4,
 "nbformat_minor": 5
}
