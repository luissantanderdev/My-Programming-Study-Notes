{
 "cells": [
  {
   "cell_type": "markdown",
   "id": "e7aaecbd-7f3d-47a6-9e46-a141b7196e5c",
   "metadata": {},
   "source": [
    "# Quicksort (Sorting Algorithm)\n",
    "* quicksort was developed by Tony Hoare in 1959 - the same person who invented the quickselect algorithm.\n",
    "* it is a divide-and-conquer algorithm - divides the problem into smaller and smaller subproblems.\n",
    "* it is an efficient sorting algorithm that has O(N*log*N) average-case running time complexity.\n",
    "* a well-implemented quicksort can outperform heapsort and merge sort algorithms.\n",
    "* quicksort is a comparison-based sorting algorithm.\n",
    "* it is an in-place algorithm but it is not stable.\n",
    "\n",
    "============================\n",
    "\n",
    "* the efficient implementation of quicksort is NOT stable - does not keep the relative order of items with equal value.\n",
    "* it is in place and does not need any additional memory.\n",
    "* on average it has O(N*log*n) running time.\n",
    "* but the worst-case running time is O(N^2) quadratic.\n",
    "* quicksort is widely used in programming languages.\n",
    "* for primitive types (ints, floats) quicksort is used.\n",
    "* for reference types (objects) merge sort is used.\n",
    "* Python relies heavily on timsort. "
   ]
  },
  {
   "cell_type": "markdown",
   "id": "1de61cda-d837-43d0-b4de-8dd42acd8480",
   "metadata": {},
   "source": [
    "### The Quicksort algorithm has 2 phases\n",
    "\n",
    "* 1. Partition Phase\n",
    "  * The algorithm generates a pivot item and a partition array. The pivot is the item that separates the array.\n",
    "    * smaller items are on the left side of the pivot.\n",
    "    * larger items are on the right side of the pivot.\n",
    "* 2. Recursion Phase\n",
    "  * We found the left and right subarrays during partition. We call the quicksort function recursively on both subarrays. "
   ]
  },
  {
   "attachments": {},
   "cell_type": "markdown",
   "id": "6de87b58-f034-4b57-a7cb-5bb42ed2372b",
   "metadata": {},
   "source": [
    "### 1.) The Partition Phase\n",
    "- The partition method is just for partitioning the array according to the pivot.\n",
    "    - choose a pivot value at random: we generate a random number in the range [first_index, last_index]\n",
    "    - re-arrange the array so that all elements less than the pivot are on the left side of the pivot and others on the right side.\n",
    "      ~ partition returns with the pivot element's final position (index).\n",
    "The pivot is always in its final position in the sorted order.\n",
    "\n",
    "![Alt Text](./imgs/sorting4.png)\n",
    "\n",
    "We are done, we return the index of the pivot! Of course in the course of the algorithm, \n",
    "\twe may have to make several partition procedure \n",
    "\n",
    "    The main idea behind quicksort: we use the same approach on both subarrays\n",
    "\t\n",
    "\tLEFT SIDE – we use the exact same approach but of course on a smaller\n",
    "\t\t\t\tand smaller arrays\n",
    "\n",
    "\tRIGHT SIDE - we use the exact same approach but of course on smaller\n",
    "\t\t\t\tand smaller arrays"
   ]
  },
  {
   "attachments": {},
   "cell_type": "markdown",
   "id": "3a68f655-e754-41f0-8214-f324744b5d7f",
   "metadata": {},
   "source": [
    "### Algorithm Psuedocode \n",
    "\n",
    "partition(index_first, index_last) \n",
    "\n",
    "pivot = random(index_first, index_last)\n",
    "swap(index_last, pivot)\n",
    "\n",
    "for i = index_first upto index_last\n",
    "\tif nums[i] < nums[index_last]\n",
    "\t\tswap(i, index_first)\n",
    "\t\tindex_first+=1\n",
    "\n",
    "swap(index_first, index_last)\n",
    "\n",
    "    return index_first"
   ]
  },
  {
   "attachments": {},
   "cell_type": "markdown",
   "id": "77b81cc0-db18-494f-a7a3-cf3f9e48932b",
   "metadata": {},
   "source": [
    "### 2. Recursion Phase\n",
    "\n",
    "quicksort(array, low, high)\n",
    "\n",
    "\tif low >=  high\n",
    "\t     return\n",
    "\t\n",
    "\tpivot = partition(array,low,high)\n",
    "\tquicksort(array,low,pivot-1)\n",
    "\tquicksort(array,pivot+1,high)\n",
    "\n",
    "end\n"
   ]
  },
  {
   "cell_type": "markdown",
   "id": "0c2d1747-b71b-41ee-bf01-7653ade0fcc9",
   "metadata": {},
   "source": [
    "### Implementation"
   ]
  },
  {
   "cell_type": "code",
   "execution_count": 8,
   "id": "916031bc-e045-4c62-be55-17d4e43d0514",
   "metadata": {},
   "outputs": [
    {
     "name": "stdout",
     "output_type": "stream",
     "text": [
      ": [7, -2, 6, 8, 1, 5]\n",
      ": [-2, 7, 6, 8, 1, 5]\n",
      ": [-2, 1, 6, 8, 7, 5]\n",
      ": [-2, 1, 5, 8, 7, 6]\n",
      ": [1, -2, 5, 8, 7, 6]\n",
      ": [-2, 1, 5, 8, 7, 6]\n",
      ": [-2, 1, 5, 8, 6, 7]\n",
      ": [-2, 1, 5, 6, 8, 7]\n",
      ": [-2, 1, 5, 6, 7, 8]\n"
     ]
    }
   ],
   "source": [
    "from typing import List\n",
    "\n",
    "class Quicksort:\n",
    "    def __init__(self, data: List[int]) -> None:\n",
    "        self.data = data \n",
    "\n",
    "    def sort(self) -> None:\n",
    "        self.quick_sort(0, len(self.data)-1)\n",
    "\n",
    "    def quick_sort(self, low: int, high: int):\n",
    "        if (low >= high):\n",
    "            return \n",
    "\n",
    "        pivot_index = self.partition(low, high)\n",
    "        self.quick_sort(low, pivot_index - 1) \n",
    "        self.quick_sort(pivot_index + 1, high) \n",
    "            \n",
    "    def partition(self, low, high) -> int: \n",
    "        pivot_index = (low + high) // 2\n",
    "\n",
    "        self.data[pivot_index], self.data[high] = self.data[high], self.data[pivot_index]\n",
    "        self.p() \n",
    "\n",
    "        for j in range(low, high):\n",
    "            if (self.data[j] <= self.data[high]):\n",
    "                self.data[low], self.data[j] = self.data[j], self.data[low]\n",
    "                self.p()\n",
    "                low = low + 1 \n",
    "\n",
    "        self.data[low], self.data[high] = self.data[high], self.data[low]\n",
    "\n",
    "        self.p() \n",
    "\n",
    "        return low \n",
    "\n",
    "    def p(self): \n",
    "        print(':', self.data) \n",
    "\n",
    "# Testing \n",
    "\n",
    "list1 = [7,-2,5,8,1,6]\n",
    "\n",
    "qs = Quicksort(list1) \n",
    "\n",
    "qs.sort() "
   ]
  },
  {
   "cell_type": "code",
   "execution_count": null,
   "id": "f75900c2-5054-4e89-ab1d-5b9a3db50264",
   "metadata": {},
   "outputs": [],
   "source": []
  }
 ],
 "metadata": {
  "kernelspec": {
   "display_name": "Python 3 (ipykernel)",
   "language": "python",
   "name": "python3"
  },
  "language_info": {
   "codemirror_mode": {
    "name": "ipython",
    "version": 3
   },
   "file_extension": ".py",
   "mimetype": "text/x-python",
   "name": "python",
   "nbconvert_exporter": "python",
   "pygments_lexer": "ipython3",
   "version": "3.12.2"
  }
 },
 "nbformat": 4,
 "nbformat_minor": 5
}
