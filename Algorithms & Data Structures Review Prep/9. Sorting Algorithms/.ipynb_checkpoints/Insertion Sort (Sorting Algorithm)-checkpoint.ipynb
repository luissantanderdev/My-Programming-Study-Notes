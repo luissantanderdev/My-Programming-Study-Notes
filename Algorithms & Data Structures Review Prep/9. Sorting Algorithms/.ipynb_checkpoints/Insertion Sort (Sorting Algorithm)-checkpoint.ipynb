{
 "cells": [
  {
   "cell_type": "markdown",
   "id": "3746594c-bb80-40ed-8bf4-a2d4799eae99",
   "metadata": {},
   "source": [
    "# Insertion Sort (Sorting Algorithm)\n",
    "\n",
    "* insertion sort is another O(N^2) quadratic running time algorithm.\n",
    "* on large datasets it is very inefficient - but on arrays with 10-20 items it is quite good.\n",
    "* a huge advantage is that it is easy to implement.\n",
    "* it is more efficient than other quadratic running time sorting procedures such as buble sort or selection sort.\n",
    "* it is an adaptive algorithm - it speeds up when array is already substantially sorted.\n",
    "* it is stable so preserves the order of the items with equal keys. "
   ]
  },
  {
   "cell_type": "markdown",
   "id": "32262f41-4951-4971-8fce-a1758a5d4550",
   "metadata": {},
   "source": [
    "### Dynamics \n",
    "* insertion sort is an in-place algorithm - does not need any additional memory.\n",
    "* it is an online algorithm - it can sort an array as it receives the items for example downloading data from the web.\n",
    "* hybrid algorithms uses insertion sort if the subarray is small enough: insertion sort is faster for small subarrays than quicksort.\n",
    "* variant of insertion sort is shell sort. "
   ]
  },
  {
   "cell_type": "markdown",
   "id": "646191af-50fd-425f-a1db-dc511191595a",
   "metadata": {},
   "source": [
    "### Differences\n",
    "* sometimes selection sort is better than insertion sort.\n",
    "* insertion sort requires more writes because the inner loop can require shifting large sections of the sorted portion of the array.\n",
    "* in general insertion sort will write to the array O(N^2) times while selection sort will write only O(N) times.\n",
    "* for this reason selection sort may be preferable in cases where writing to memory is significantly more expensive than reading (such as with flash memory)"
   ]
  },
  {
   "cell_type": "markdown",
   "id": "ddbc0651-2b46-43b2-be5f-eaa8e6e426a2",
   "metadata": {},
   "source": [
    "### Implementation"
   ]
  },
  {
   "cell_type": "code",
   "execution_count": 10,
   "id": "4a8e2e83-f606-40ee-955c-10044cd4925b",
   "metadata": {},
   "outputs": [
    {
     "name": "stdout",
     "output_type": "stream",
     "text": [
      "[-2, 1, 2, 3, 4, 11, 12, 31, 43, 56]\n"
     ]
    }
   ],
   "source": [
    "from typing import List\n",
    "\n",
    "def insertion_sort(l: List[int]):\n",
    "    for i in range(len(nums)):\n",
    "        j = i\n",
    "        '''change the sign < to be descending order'''\n",
    "        while (j > 0 and nums[j-1] > nums[j]):\n",
    "            nums[j-1], nums[j] = nums[j], nums[j-1]\n",
    "            j = j - 1 \n",
    "\n",
    "nums = [-2,4,11,12,3,43,2,56,31,1]\n",
    "\n",
    "insertion_sort(nums)\n",
    "\n",
    "print(nums)"
   ]
  },
  {
   "cell_type": "markdown",
   "id": "feb9756f-faca-4443-90b7-72296207503c",
   "metadata": {},
   "source": [
    "### Coding Exercise \n",
    "\n",
    "Sorting custom objects with insertion sort\n",
    "We have seen how to implement insertion sort with integers. Let's use insertion sort with custom objects. Create a Person class with 2 instance variables: name and age. Let's sort a list of Person objects in ascending order based on their ages.\n",
    "\n",
    "For example: input is a list of Person objects [Person('Adam', 23), Person('Ana', 17), Person('Kevin', 32), Person('Daniel', 37)] and the output should be the sorted order based on the age parameters:\n",
    "\n",
    "[Person('Ana', 17), Person('Adam', 23), Person('Kevin', 32), Person('Daniel', 37)]\n",
    "\n",
    "Good luck!"
   ]
  },
  {
   "cell_type": "code",
   "execution_count": 30,
   "id": "200967a5-b343-41fe-9ccc-97044779cba6",
   "metadata": {},
   "outputs": [
    {
     "name": "stdout",
     "output_type": "stream",
     "text": [
      "[Ana, Adam, Kevin, Daniel]\n"
     ]
    }
   ],
   "source": [
    "from typing import List\n",
    "\n",
    "class Person:\n",
    "    def __init__(self, name: str, age: int):\n",
    "        self.__name = name \n",
    "        self.__age = age \n",
    "\n",
    "    def __repr__(self):\n",
    "        return str(self.__name)\n",
    "\n",
    "    def __lt__(self, other_person):\n",
    "        return self.get_age() < other_person.get_age() \n",
    "\n",
    "    def get_age(self):\n",
    "        return self.__age\n",
    "\n",
    "def insertion_sort(people: List[Person]):\n",
    "    for i in range(len(people)):\n",
    "        j = i\n",
    "        \n",
    "        while (j > 0 and people[j-1] > people[j]):\n",
    "            people[j-1], people[j] = people[j], people[j-1]\n",
    "            j = j - 1 \n",
    "\n",
    "\n",
    "people = [Person('Adam', 23),\n",
    "          Person('Ana', 17),\n",
    "          Person('Kevin', 32),\n",
    "          Person('Daniel', 37)\n",
    "         ]\n",
    "\n",
    "insertion_sort(people)\n",
    "print(people)"
   ]
  }
 ],
 "metadata": {
  "kernelspec": {
   "display_name": "Python 3 (ipykernel)",
   "language": "python",
   "name": "python3"
  },
  "language_info": {
   "codemirror_mode": {
    "name": "ipython",
    "version": 3
   },
   "file_extension": ".py",
   "mimetype": "text/x-python",
   "name": "python",
   "nbconvert_exporter": "python",
   "pygments_lexer": "ipython3",
   "version": "3.12.2"
  }
 },
 "nbformat": 4,
 "nbformat_minor": 5
}
