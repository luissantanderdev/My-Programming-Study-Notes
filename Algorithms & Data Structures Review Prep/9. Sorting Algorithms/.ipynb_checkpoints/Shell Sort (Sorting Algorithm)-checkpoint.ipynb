{
 "cells": [
  {
   "cell_type": "markdown",
   "id": "49c4e133-d441-4c7d-a6e4-699e474afea3",
   "metadata": {},
   "source": [
    "# Shell Sort (Sorting Algorithm)\n",
    "\n",
    "* it is the generalization of the insertion sort.\n",
    "* main problem of insertion sort is that sometimes we have to make lots of shift operations (swaps).\n",
    "* this feature is not so good - thats why shell sort came to be as an enhanced insertion sort.\n",
    "* the method starts by sorting pairs of elements far apart from each other.\n",
    "* then progressively reducing the gap between elements to be compared.\n",
    "* starting with far apart elements can move some out-of-place elements into position faster than a simple nearest neighbor exchange.\n",
    "\n",
    "-----------------------------------------------------------------------------------\n",
    "* shell sort is heavily dependent on the gap sequence it uses.\n",
    "* consider every kth element in the array.\n",
    "* such a subarray is said to be k-sorted.\n",
    "* we use insertion sort as a sub-procedure - the only difference is that we start sorting items far away from each other.\n",
    "* this rearrangment allows elements to move long distances in the original list reducing large amounts of disorder quickly.\n",
    "\n",
    "* is unstable - it changes the relative order of elements with equal value.\n",
    "* because it relies heavily on insertion sort - it is also an adaptive algorithm so runs faster on partially sorted input.\n",
    "* not so popular algorithm nowadays.\n"
   ]
  },
  {
   "cell_type": "markdown",
   "id": "372712b7-6ec8-41bf-99b0-d2326304ee4c",
   "metadata": {},
   "source": [
    "![Alt Text](./imgs/sorting3.png)"
   ]
  },
  {
   "cell_type": "code",
   "execution_count": 11,
   "id": "3956f79c-43fb-4732-991e-a21140f2d44f",
   "metadata": {},
   "outputs": [
    {
     "name": "stdout",
     "output_type": "stream",
     "text": [
      "[-5, -1, 2, 3, 5, 100]\n"
     ]
    }
   ],
   "source": [
    "from typing import List\n",
    "\n",
    "def shell_sort(nums: List[int]) -> None:\n",
    "    gap = len(nums) // 2 \n",
    "\n",
    "    # this is the shell sort \n",
    "    while (gap > 0):\n",
    "\n",
    "        # this is the same as insertion sort \n",
    "        for i in range(gap, len(nums)):\n",
    "            j = i \n",
    "\n",
    "            while (j >= gap and nums[j - gap] > nums[j]):\n",
    "                nums[j], nums[j - gap] = nums[j - gap], nums[j]\n",
    "                j = j - gap \n",
    "        gap = gap // 2 \n",
    "\n",
    "nums = [100,-1,-5,3, 2, 5] \n",
    "shell_sort(nums)\n",
    "\n",
    "print(nums) "
   ]
  },
  {
   "cell_type": "code",
   "execution_count": null,
   "id": "efbcd975-2779-49f7-af88-fed40a18bfcd",
   "metadata": {},
   "outputs": [],
   "source": []
  }
 ],
 "metadata": {
  "kernelspec": {
   "display_name": "Python 3 (ipykernel)",
   "language": "python",
   "name": "python3"
  },
  "language_info": {
   "codemirror_mode": {
    "name": "ipython",
    "version": 3
   },
   "file_extension": ".py",
   "mimetype": "text/x-python",
   "name": "python",
   "nbconvert_exporter": "python",
   "pygments_lexer": "ipython3",
   "version": "3.12.2"
  }
 },
 "nbformat": 4,
 "nbformat_minor": 5
}
