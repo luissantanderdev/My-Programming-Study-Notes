{
 "cells": [
  {
   "cell_type": "markdown",
   "id": "4e2ff86a-ecf1-4306-8c46-88e48aab6ded",
   "metadata": {},
   "source": [
    "# Selection Sort (Sorting Algorithm)\n",
    "\n",
    "* selection sort is another O(N^2) quadratic running time sorting algorithm.\n",
    "* it is noted for it's simplicity and it has performance advantages over the more complicated algorithms.\n",
    "* particularly important and useful when auxiliary memory is limited.\n",
    "* the algorithm divides the original array into 2 parts: items already sorted and the items that are not yet sorted.\n",
    "\n",
    "* the main idea is linear search: we can find the smallest (largest) item in O(N) linear running time complexity.\n",
    "* then swap the item with the leftmost item in the array - that is not yet sorted of course.\n",
    "* we have to make linear search for N-1 items this is why the final running time complexity is O(N^2).\n",
    "* it is in-place so it does not need additional memory.\n",
    "* selection sort is not a stable sorting algorithm.\n",
    "* selection sort always outperforms bubble sort. "
   ]
  },
  {
   "cell_type": "markdown",
   "id": "910fa42d-a678-4512-9488-7685e706a3a1",
   "metadata": {},
   "source": [
    "### Speed Differences\n",
    "\n",
    "* selection sort and insertion sort are rather slow approaches - but they are faster with small arrays (5-10 items).\n",
    "* this is why the fast sorting approaches use selection sort and insertion sort when the number of items is < 10.\n",
    "* it makes less writes than insertion sort - it is crucial when writes are significantly more expensive than reads.\n",
    "* important with EEPROM and flash memory where every write lessens the lifespan of the memory."
   ]
  },
  {
   "cell_type": "markdown",
   "id": "c14ddcf2-bfc0-4b11-96f8-c2713f503de6",
   "metadata": {},
   "source": [
    "### Implementation"
   ]
  },
  {
   "cell_type": "code",
   "execution_count": 6,
   "id": "9fab1c87-4b80-4b29-b46e-2cfe1f0ed968",
   "metadata": {},
   "outputs": [
    {
     "name": "stdout",
     "output_type": "stream",
     "text": [
      "[-5, -2, 1, 5, 8, 13] [1, 2, 3, 4, 5]\n"
     ]
    }
   ],
   "source": [
    "from typing import List \n",
    "\n",
    "def insertion_sort(l: List[int]):\n",
    "    i = 0 \n",
    "\n",
    "    while (i < len(l)):\n",
    "        j = i + 1\n",
    "        while (j < len(l)):\n",
    "            if (l[j] < l[i]):\n",
    "                temp = l[i]\n",
    "                l[i] = l[j]\n",
    "                l[j] = temp \n",
    "            j = j + 1\n",
    "        i = i + 1 \n",
    "\n",
    "nums = [-2,1,13,5,8,-5]\n",
    "nums2 = [5,4,3,2,1]\n",
    "\n",
    "insertion_sort(nums)\n",
    "insertion_sort(nums2)\n",
    "\n",
    "print(nums, nums2)  "
   ]
  },
  {
   "cell_type": "code",
   "execution_count": null,
   "id": "386988b0-42a2-42d2-85aa-512588078b05",
   "metadata": {},
   "outputs": [],
   "source": []
  }
 ],
 "metadata": {
  "kernelspec": {
   "display_name": "Python 3 (ipykernel)",
   "language": "python",
   "name": "python3"
  },
  "language_info": {
   "codemirror_mode": {
    "name": "ipython",
    "version": 3
   },
   "file_extension": ".py",
   "mimetype": "text/x-python",
   "name": "python",
   "nbconvert_exporter": "python",
   "pygments_lexer": "ipython3",
   "version": "3.12.2"
  }
 },
 "nbformat": 4,
 "nbformat_minor": 5
}
