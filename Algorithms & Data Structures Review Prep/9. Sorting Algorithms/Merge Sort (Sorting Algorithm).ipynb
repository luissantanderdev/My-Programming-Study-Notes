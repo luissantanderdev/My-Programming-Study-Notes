{
 "cells": [
  {
   "cell_type": "markdown",
   "id": "d0d249d5-41e7-4047-bddf-a8ddc6de1495",
   "metadata": {},
   "source": [
    "# Merge Sort (Sorting Algorithm) \n",
    "\n",
    "- merge sort is a divide and conquer algorithm that was invented by John von Neumann in 1945.\n",
    "- it is a comparison based algorithm - which means that the algorithm relies heavily on comparing the items.\n",
    "- merge sort has an O(N*log*N) linearthmic running time complexity.\n",
    "- it is a stable sorting algorithm - maintains the relative orders of items with equal values.\n",
    "- not an in-place approach - it requires O(N) additional memory.\n",
    "\n",
    "  "
   ]
  },
  {
   "cell_type": "markdown",
   "id": "5e0b1e40-26f0-4f27-8005-750dbf114f62",
   "metadata": {},
   "source": [
    "### Additionally\n",
    "\n",
    "- although heapsort has the same time bounds as merge sort but heapsort requires only O(1) auxiliary space.\n",
    "- an efficient quicksort implementations generally outperforms merge sort.\n",
    "- merge sort is often the best choice for sorting a linked lists - in this situation it is relatively easy to implement a merge sort in such a way that it requires only O(1) extra space. "
   ]
  },
  {
   "cell_type": "markdown",
   "id": "0d9275a5-6bae-4d5d-af0b-e662b71cb8f2",
   "metadata": {},
   "source": [
    "### Algorithm\n",
    "\n",
    "1. divide the array into two subarrays recursively.\n",
    "2. sort these subarrays recursively with merge sort again.\n",
    "3. if there is only a single item left in the subarray: we consider it to be sorted by definition (or we can use insertion sort on small arrays)\n",
    "4. merge the subarrays to get the final sorted array. "
   ]
  },
  {
   "cell_type": "markdown",
   "id": "f7ba9a64-d895-4283-9eb1-bdaf4d485e06",
   "metadata": {},
   "source": [
    "### Divide Phase\n",
    "- divide phase keeps splitting the array into smaller and smaller subarrays.\n",
    "- we can use recursion until every subarray has just a single item.\n",
    "- not necessarily the best approach: there may be too many recursive function calls.\n",
    "- we can use insertion sort on small subarrays (<5 items).\n",
    "- insertion sort is efficient on datasets that are already substantially sorted - it can have O(N+d) linear running time in best case (d is the number of inversions). "
   ]
  },
  {
   "cell_type": "markdown",
   "id": "75113785-c210-400f-aacf-8c9f161de399",
   "metadata": {},
   "source": [
    "### Conquer Phase \n",
    "- after the divide phase we have several small subarrays that already sorted.\n",
    "- we have to merge these arrays one by one to get the final result.\n",
    "- this is the conquer phase - it runs in O(N) running time and this is why the final running time is O(N*log*N)."
   ]
  },
  {
   "cell_type": "markdown",
   "id": "5304cfcd-4054-4c7f-a47b-bd9f84ba7570",
   "metadata": {},
   "source": [
    "### Implementation"
   ]
  },
  {
   "cell_type": "code",
   "execution_count": 7,
   "id": "6ade8c0c-4137-46e7-88e5-d763c73146a6",
   "metadata": {},
   "outputs": [
    {
     "name": "stdout",
     "output_type": "stream",
     "text": [
      "[1, 5, -2, 0, 10, 100, 55, 12, 10, 2, -10, -3, 5]\n",
      "[-10, -3, -2, 0, 1, 2, 5, 5, 10, 10, 12, 55, 100]\n"
     ]
    }
   ],
   "source": [
    "from typing import List \n",
    "\n",
    "def merge_sort(nums: List[int]):\n",
    "    if (len(nums) == 1):\n",
    "        return \n",
    "\n",
    "    # Divide Phase \n",
    "    middle_index = len(nums) // 2\n",
    "    \n",
    "    left_half = nums[:middle_index]\n",
    "    right_half = nums[middle_index:] \n",
    "\n",
    "    merge_sort(left_half)\n",
    "    merge_sort(right_half) \n",
    "\n",
    "    # Conquer Phase \n",
    "    i = 0 \n",
    "    j = 0 \n",
    "    k = 0 \n",
    "\n",
    "    while (i < len(left_half) and j < len(right_half)):\n",
    "        if (left_half[i] < right_half[j]): \n",
    "            nums[k] = left_half[i] \n",
    "            i = i + 1 \n",
    "        else:\n",
    "            nums[k] = right_half[j]\n",
    "            j = j + 1 \n",
    "        k = k + 1 \n",
    "\n",
    "    while (i < len(left_half)): \n",
    "        nums[k] = left_half[i]\n",
    "        i = i + 1\n",
    "        k = k + 1 \n",
    "\n",
    "    while (j < len(right_half)): \n",
    "        nums[k] = right_half[j] \n",
    "        j = j + 1 \n",
    "        k = k + 1 \n",
    "\n",
    "\n",
    "# Testing\n",
    "# =============================================\n",
    "l = [1, 5, -2, 0, 10, 100, 55, 12, 10, 2, -10, -3, 5]\n",
    "\n",
    "print(l)\n",
    "\n",
    "merge_sort(l)\n",
    "\n",
    "print(l)\n"
   ]
  },
  {
   "cell_type": "code",
   "execution_count": null,
   "id": "62fd674f-fc7a-45d0-83cf-ca9995c65f3a",
   "metadata": {},
   "outputs": [],
   "source": []
  }
 ],
 "metadata": {
  "kernelspec": {
   "display_name": "Python 3 (ipykernel)",
   "language": "python",
   "name": "python3"
  },
  "language_info": {
   "codemirror_mode": {
    "name": "ipython",
    "version": 3
   },
   "file_extension": ".py",
   "mimetype": "text/x-python",
   "name": "python",
   "nbconvert_exporter": "python",
   "pygments_lexer": "ipython3",
   "version": "3.12.2"
  }
 },
 "nbformat": 4,
 "nbformat_minor": 5
}
