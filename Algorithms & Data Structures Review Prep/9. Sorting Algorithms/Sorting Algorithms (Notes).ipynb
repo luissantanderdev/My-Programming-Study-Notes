{
 "cells": [
  {
   "cell_type": "markdown",
   "id": "e34486f2-e162-40b6-b07c-9f9739551b96",
   "metadata": {},
   "source": [
    "# Sorting Algorithms (Notes)\n",
    "* a sorting algorithm is an algorithm that puts elements of an array (or list) in a certain order.\n",
    "* when sorting numerical data it is called numerical ordering.\n",
    "* if we are after the sorted order of string sor characters - it is called alphabetical ordering.\n",
    "\n",
    "  * comparison based sorting algorithms (bubble sort, merge sort or quicksort)\n",
    "  * if nums[i] < nums[j]: swap items\n",
    " \n",
    "  * non-comparison based sorting algorithms: (bucket sort and radix sort).\n",
    " \n",
    "* For sorting N items: we have to make log2N! comparisons with Stirling-formula it can be reduced to NLogN\n",
    "  * so the theta(n * Log * N) time complexity is the lower bound for comparison based sorting algorithms.\n",
    "  * ok we can achive O(N) running time as far as sorting is concerned such as bucket sort or radix sort.\n",
    " \n",
    "We can classify comparison based sorting algorithms based on their running time (how fast they are).\n",
    "\n",
    "* O(N^2) quadratic running time sorting algorithms (bubble sort, insertion sort, and selection sort).\n",
    "* O(N*log*N) linearithmic running time sorting algorithms (merge sort and quick sort)\n",
    "* O(N) linear running time sorting algorithms (bucket sort and radix sort)"
   ]
  },
  {
   "cell_type": "markdown",
   "id": "f17a7d00-74f8-4f81-94bb-b79f05a951de",
   "metadata": {},
   "source": [
    "1.) In-Place: a sorting algorithm is called in-place if it does not need any additional memory - it needs O(1) additional memory beyond the items being sorted. \n",
    "  * does not need to allocate extra memory for the sorting algorithm.\n",
    "  * quicksort, insertion sort, selection sort are in place algorithms but merge sort is not.\n",
    "  * we prefer in-place algorithms because they are memory efficient.\n",
    "\n",
    "2.) Recursive: a sorting algorithm may be implemented with recursion (the divide-and-conquer approaches) or without recursion.\n",
    "  * most of the sorting algorithms are not recursive (bubble sort, insertion sort, selection sort...)\n",
    "  * quicksort and merge sort are recursively implemented sorted algorithms.\n",
    "\n",
    "3.) Stable sorting: a stable sorting algorithm maintains the relative order of items with equal values (keys)\n",
    "\n",
    "![Alt text](./imgs/sorting1.png)\n",
    "\n",
    "(insertion sort and merge sort are stable sorting algorithms but quicksort on the other hand is unstable)"
   ]
  },
  {
   "cell_type": "markdown",
   "id": "46a243da-7b62-4b23-8060-6729e5abbf07",
   "metadata": {},
   "source": [
    "### What is adapative sorting?\n",
    "\n",
    "- adaptive algorithms change their behavior based on information available at run-time.\n",
    "- adaptive sorting approach takes advantage of exiting local order in it's input.\n",
    "- sometimes the subset of the original array is sorted by default - in these cases sorting algorithms will be faster.\n",
    "- most of the times we just have to modify existing sorting algorithms to end up with adaptive approaches.\n",
    "\n",
    "![Alt text](./imgs/sorting2.png)\n",
    "\n",
    "* comparison based sorting algorithms can not do better than O(N*log*N) linearthmic running time.\n",
    "* but what if there are local sorted regions in the input?\n",
    "* in these cases even O(N) linear running time can be achieved.\n",
    "* IMPORTANT: nearly sorted arrays are quite common practice.\n",
    "* Heapsort and merge sort approaches do not take advantage of pre-sorted sequences.\n",
    "* But insertion sort and shell sort are adaptive algorithms. "
   ]
  }
 ],
 "metadata": {
  "kernelspec": {
   "display_name": "Python 3 (ipykernel)",
   "language": "python",
   "name": "python3"
  },
  "language_info": {
   "codemirror_mode": {
    "name": "ipython",
    "version": 3
   },
   "file_extension": ".py",
   "mimetype": "text/x-python",
   "name": "python",
   "nbconvert_exporter": "python",
   "pygments_lexer": "ipython3",
   "version": "3.12.2"
  }
 },
 "nbformat": 4,
 "nbformat_minor": 5
}
