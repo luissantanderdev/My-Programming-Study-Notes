{
 "cells": [
  {
   "cell_type": "markdown",
   "id": "71f03b88-29af-479d-a44d-9686df7323a1",
   "metadata": {},
   "source": [
    "# Interview Questions - (Arrays)"
   ]
  },
  {
   "cell_type": "markdown",
   "id": "5ef1af43-9c19-4e6e-b4ef-5d5ced4baaa3",
   "metadata": {},
   "source": [
    "## Reverse an Array\n",
    "- Question: given an A array of integers - reverse this A array in linear running time using constant memory\n",
    "- [12, 6, 2, 1, 9, 10, 3]\n",
    "\n",
    "- we keep running the algorithm while lowindex < highindex"
   ]
  },
  {
   "cell_type": "code",
   "execution_count": 9,
   "id": "6103473d-9944-404a-8cc7-897765a686eb",
   "metadata": {},
   "outputs": [
    {
     "name": "stdout",
     "output_type": "stream",
     "text": [
      "[4, 3, 2, 1]\n"
     ]
    }
   ],
   "source": [
    "def reverse(nums: list) -> list:\n",
    "    start_index = 0\n",
    "    end_index = len(nums) - 1\n",
    "\n",
    "    while (end_index > start_index):\n",
    "        nums[start_index], nums[end_index] = nums[end_index], nums[start_index]\n",
    "        start_index = start_index + 1\n",
    "        end_index = end_index - 1\n",
    "    \n",
    "    return nums\n",
    "\n",
    "\n",
    "reversed_list = reverse([1,2,3,4])\n",
    "\n",
    "print(reversed_list)"
   ]
  },
  {
   "cell_type": "markdown",
   "id": "1e58e37c-3728-46de-a09a-c57bb9109399",
   "metadata": {},
   "source": [
    "# Palindrome\n",
    "- Question: 'A palindrome is a string that reads the same forward and backwards'\n",
    "- Example: radar or madam\n",
    "- Our task is to design an algorithm for checking whether a given string is palindrome or not! The aim is to achieve O(N) linear running time."
   ]
  },
  {
   "cell_type": "code",
   "execution_count": 15,
   "id": "f4f5e1b2-2a27-4649-a425-4541cf5b468d",
   "metadata": {},
   "outputs": [
    {
     "name": "stdout",
     "output_type": "stream",
     "text": [
      "True\n",
      "True\n",
      "True\n"
     ]
    }
   ],
   "source": [
    "def is_palindrome(s: str) -> bool: \n",
    "    start_index = 0\n",
    "    end_index = len(s) - 1\n",
    "\n",
    "    while (end_index > start_index):\n",
    "        if (s[start_index] != s[end_index]):\n",
    "            return False\n",
    "        start_index += 1\n",
    "        end_index -= 1\n",
    "        \n",
    "    return True\n",
    "\n",
    "s1 = 'radar'\n",
    "print(is_palindrome(s1))\n",
    "\n",
    "s2 = 'madam'\n",
    "print(is_palindrome(s2))\n",
    "\n",
    "s3 = '4202024'\n",
    "print(is_palindrome(s3))"
   ]
  },
  {
   "cell_type": "markdown",
   "id": "7e1caf82-f56b-4244-aa2f-81af2ccb8c01",
   "metadata": {},
   "source": [
    "# Reverse Integer\n",
    "- Your task is to design an efficient algorithm to reverse a given integer. For example if the input of the algorithm is 1234 then the output should be 4321.\n",
    "\n",
    "- NOTE: // is integer division"
   ]
  },
  {
   "cell_type": "code",
   "execution_count": 44,
   "id": "36597f16-8c8d-4a28-852c-85b190d6451e",
   "metadata": {},
   "outputs": [
    {
     "data": {
      "text/plain": [
       "4321"
      ]
     },
     "execution_count": 44,
     "metadata": {},
     "output_type": "execute_result"
    }
   ],
   "source": [
    "def reverse_integer(n: int) -> int: \n",
    "    str_int = str(n)\n",
    "    str_int_list = list(str_int)\n",
    "    str_int_list = reverse(str_int_list)\n",
    "    str_int = ''.join(str_int_list)\n",
    "    \n",
    "    return int(str_int)\n",
    "\n",
    "def reverse_integer_using_modulo_operator(n: int) -> int: \n",
    "    reversed_int = 0 \n",
    "    remainder = 0 \n",
    "\n",
    "    while (n > 0): \n",
    "        remainder = n % 10 \n",
    "        n = n // 10\n",
    "        reversed_int = reversed_int * 10 + remainder\n",
    "    \n",
    "    return reversed_int\n",
    "\n",
    "reverse_integer_using_modulo_operator(1234)"
   ]
  },
  {
   "cell_type": "markdown",
   "id": "0b894438-8c8e-4e69-a1bf-8c75d9dc9d16",
   "metadata": {},
   "source": [
    "# Anagram Problem\n",
    "\n",
    "- Question: Construct an algorithm to check whether two words (or phrases) are anagrams or not!\n",
    "- Elaborate: 'An anagram is a word or phrase formed by rearranging the letters of a different word or phrase, typically using all the original letters exactly once'\n",
    "- Example: resful and fluster can be the same word"
   ]
  },
  {
   "cell_type": "code",
   "execution_count": 48,
   "id": "560e7d2a-b88f-4b3e-b9d8-9469b0f27b5d",
   "metadata": {},
   "outputs": [
    {
     "data": {
      "text/plain": [
       "True"
      ]
     },
     "execution_count": 48,
     "metadata": {},
     "output_type": "execute_result"
    }
   ],
   "source": [
    "def is_anagram(str1: str, str2: str) -> bool:\n",
    "    if (len(str1) != len(str2)):\n",
    "        return False \n",
    "    \n",
    "    str_set1 = set(str1)\n",
    "    str_set2 = set(str2) \n",
    "\n",
    "    return str_set1 == str_set2\n",
    "\n",
    "is_anagram('restful', 'fluster')"
   ]
  },
  {
   "cell_type": "code",
   "execution_count": null,
   "id": "9e3873c1-4ce4-4dfb-ad93-22804391cf5f",
   "metadata": {},
   "outputs": [],
   "source": []
  }
 ],
 "metadata": {
  "kernelspec": {
   "display_name": "Python 3 (ipykernel)",
   "language": "python",
   "name": "python3"
  },
  "language_info": {
   "codemirror_mode": {
    "name": "ipython",
    "version": 3
   },
   "file_extension": ".py",
   "mimetype": "text/x-python",
   "name": "python",
   "nbconvert_exporter": "python",
   "pygments_lexer": "ipython3",
   "version": "3.12.2"
  }
 },
 "nbformat": 4,
 "nbformat_minor": 5
}
