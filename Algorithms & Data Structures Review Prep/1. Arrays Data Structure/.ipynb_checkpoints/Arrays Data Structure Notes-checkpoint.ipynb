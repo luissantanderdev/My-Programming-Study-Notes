{
 "cells": [
  {
   "cell_type": "markdown",
   "id": "c805cb18-cf39-4e18-a930-9317a9a5939d",
   "metadata": {},
   "source": [
    "# Arrays Data Structure"
   ]
  },
  {
   "cell_type": "markdown",
   "id": "3de42994-f0c9-4afa-820e-788bb47cbe66",
   "metadata": {},
   "source": [
    "### Notes:\n",
    "* The aim is to make operations as fast as possible: inserting new items or removing given items from the data structure.\n",
    "* Arrays are data structures where all the items are identified by an index - an integer starting with 0\n",
    "* RAM (Random Access Memory)\n",
    "* In 2D-Arrays\n",
    "* Every single item (value) can be identified with 2 indexes - row index and column index.\n",
    "* indexes start with 0\n",
    "* Note: random access: items are located right next to each other so we can get them with the help of the index - in O(1) running time.\n",
    "* Numerical methods use arrays: most the operations can be achieved quite efficiently - matrix related operations.\n",
    "* Stacks, queues, and hash tables use arrays."
   ]
  },
  {
   "cell_type": "markdown",
   "id": "bcbfb36d-3552-4dbf-b65e-fbcab0905d40",
   "metadata": {},
   "source": [
    "## Lists in Python\n",
    "* Everything is an object in Python: list stores references to the items and objects.\n",
    "* Every reference is 8 bytes in size (independent of the datatype)\n",
    "* NumPy is a library in python which are arrays are stored in a continous block in the memory - items are right next to each other."
   ]
  },
  {
   "cell_type": "markdown",
   "id": "c11acb6b-1f40-4e41-892b-5563f4f9807b",
   "metadata": {},
   "source": [
    "## Array Operations\n",
    "* If we want to make an algorithm extremely fast we must trade memory for time.\n",
    "* Remove last item in an array is O(1)\n",
    "* Insert an Item at nth position is O(n)\n",
    "* Remove an arbitrary item is O(n)\n",
    "\n",
    "* ===========================================================================\n",
    "* Search Based on Index: O(1)\n",
    "* Search based on arbitrary item (no index): O(N)\n",
    "* Insert item to the end of array: O(1)\n",
    "* Insert item to arbitrary position: O(N)\n",
    "* Removing last item: O(1)\n",
    "* Removing arbitrary item: O(N)"
   ]
  },
  {
   "cell_type": "code",
   "execution_count": 14,
   "id": "48630b02-5729-4854-8beb-3e449f512b71",
   "metadata": {},
   "outputs": [
    {
     "name": "stdout",
     "output_type": "stream",
     "text": [
      "1\n",
      "5\n",
      "10\n",
      "4\n",
      "size of the list: 4\n",
      "size of the list: 3\n",
      "[5, 10, 4]\n"
     ]
    }
   ],
   "source": [
    "my_list_using_list_class = list((1,5,10,4))\n",
    "my_list_using_brackets = [1,5,10,4]\n",
    "\n",
    "for item in my_list_using_brackets:\n",
    "    print(item)\n",
    "\n",
    "print(f'size of the list: {len(my_list_using_brackets)}')\n",
    "\n",
    "# del operator will remove a given item\n",
    "\n",
    "del my_list_using_brackets[0]\n",
    "\n",
    "print(f'size of the list: {len(my_list_using_brackets)}')\n",
    "\n",
    "print(my_list_using_brackets)"
   ]
  },
  {
   "cell_type": "markdown",
   "id": "3824e3b2-936a-4aaa-8faf-0d27ba356a2e",
   "metadata": {},
   "source": [
    "## Lists in Python - Advanced Operations"
   ]
  },
  {
   "cell_type": "code",
   "execution_count": 26,
   "id": "cff231c6-64be-4991-bde0-5ba2d697641d",
   "metadata": {},
   "outputs": [
    {
     "name": "stdout",
     "output_type": "stream",
     "text": [
      "This is a new Item!\n",
      "[5, 10]\n",
      "-------------------------\n",
      "[1, 'This is the list1', 3.5, True, 'This is the list2', False]\n",
      "[1, 'This is the list1', 3.5, True, 'This is the list2', False]\n",
      "[1, 'This is the list1', True, 'This is the list2', False]\n",
      "popped value: False\n",
      "['This is the list2', True, 'This is the list1', 1]\n",
      "['Adam', 'Adele', 'Anna', 'Daniel', 'Joe', 'Kevin', 'Maria', 'Stephen']\n"
     ]
    }
   ],
   "source": [
    "# appending a value to the list\n",
    "\n",
    "my_list_using_brackets.append('This is a new Item!')\n",
    "\n",
    "# Using negative indices \n",
    "\n",
    "print(my_list_using_brackets[-2])\n",
    "\n",
    "# using inclusivity\n",
    "\n",
    "print(my_list_using_brackets[0:2])\n",
    "\n",
    "print(25 * '-')\n",
    "\n",
    "# concatenate lists \n",
    "\n",
    "list1 = [1, 'This is the list1', 3.5]\n",
    "list2 = [True, 'This is the list2', False]\n",
    "\n",
    "# result = list1 + list2\n",
    "\n",
    "# Using the extend fucntion aside from the + function\n",
    "\n",
    "list1.extend(list2)\n",
    "\n",
    "print(list1)\n",
    "\n",
    "# Copy Function \n",
    "\n",
    "copy_of_list = list1.copy()\n",
    "\n",
    "print(copy_of_list)\n",
    "\n",
    "# Remove a function at an index. \n",
    "list1.remove(3.5)\n",
    "\n",
    "print(list1)\n",
    "\n",
    "# Using pop function \n",
    "\n",
    "res_popped_item = list1.pop()\n",
    "\n",
    "print(f'popped value: {res_popped_item}')\n",
    "\n",
    "# reverse the list \n",
    "\n",
    "list1.reverse()\n",
    "\n",
    "print(list1)\n",
    "\n",
    "# sort function \n",
    "\n",
    "list_names = ['Anna', 'Kevin', 'Stephen', 'Daniel', 'Adam', 'Joe', 'Maria', 'Adele']\n",
    "list_names.sort()\n",
    "print(list_names)"
   ]
  },
  {
   "cell_type": "markdown",
   "id": "029e2612-c7d1-4198-ac5f-553878bf8948",
   "metadata": {},
   "source": [
    "## List Comprehension\n",
    "### NOTES: \n",
    "- list comprehension: allows us to create a nwe list based on existing values of another list."
   ]
  },
  {
   "cell_type": "code",
   "execution_count": 40,
   "id": "6742cc7b-eeb6-42e2-ad1d-d7135f9a4da1",
   "metadata": {},
   "outputs": [
    {
     "name": "stdout",
     "output_type": "stream",
     "text": [
      "[0, 10, 100, 20, 34]\n",
      "[0, 10, 100, 20, 34]\n",
      "['Adam', 'Anna']\n"
     ]
    }
   ],
   "source": [
    "numbers = [1, -5, 0, 10, 100, 67, 55, 20, 34]\n",
    "\n",
    "new_list = []\n",
    "\n",
    "# Check if number is even. \n",
    "for num in numbers:\n",
    "    if num % 2 == 0:\n",
    "        new_list.append(num)\n",
    "\n",
    "# Using list comprehension \n",
    "\n",
    "new_list_comp = [num for num in numbers if num % 2 == 0]\n",
    "\n",
    "print(new_list)\n",
    "print(new_list_comp)\n",
    "\n",
    "# Another example of list comprehension\n",
    "\n",
    "names = ['Adam', 'Kevin', 'Anna', 'Joe', 'Daniel', 'Bill']\n",
    "\n",
    "filtered_names = [name for name in names if name.startswith('A')]\n",
    "\n",
    "print(filtered_names)\n"
   ]
  }
 ],
 "metadata": {
  "kernelspec": {
   "display_name": "Python 3 (ipykernel)",
   "language": "python",
   "name": "python3"
  },
  "language_info": {
   "codemirror_mode": {
    "name": "ipython",
    "version": 3
   },
   "file_extension": ".py",
   "mimetype": "text/x-python",
   "name": "python",
   "nbconvert_exporter": "python",
   "pygments_lexer": "ipython3",
   "version": "3.12.2"
  }
 },
 "nbformat": 4,
 "nbformat_minor": 5
}
