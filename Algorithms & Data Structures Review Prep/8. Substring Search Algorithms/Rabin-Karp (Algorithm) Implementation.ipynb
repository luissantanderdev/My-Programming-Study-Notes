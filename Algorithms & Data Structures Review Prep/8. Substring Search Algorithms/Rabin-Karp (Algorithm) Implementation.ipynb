{
 "cells": [
  {
   "cell_type": "markdown",
   "id": "7ea3b6a9-a414-4ac8-aba8-d4c2db4d1e20",
   "metadata": {},
   "source": [
    "### Rabin-Karp (Algorithm) Implementation"
   ]
  },
  {
   "cell_type": "code",
   "execution_count": 18,
   "id": "bf4be015-e481-401a-a319-78f83f5e91ef",
   "metadata": {},
   "outputs": [],
   "source": [
    "class RabinKarp:\n",
    "    def __init__(self, text, pattern):\n",
    "        self.text = text \n",
    "        self.pattern = pattern\n",
    "        '''size of the alphabet (26)'''\n",
    "        self.d = 26\n",
    "        '''defined prime number'''\n",
    "        self.p = 31\n",
    "\n",
    "    def search(self):\n",
    "        n = len(self.text)\n",
    "        m = len(self.pattern)\n",
    "\n",
    "        hash_text = 0\n",
    "        hash_pattern = 0 \n",
    "\n",
    "        h = 1\n",
    "\n",
    "        for _ in range(m-1):\n",
    "            h = (h * self.d) % self.p\n",
    "\n",
    "        for i in range(m):\n",
    "            hash_pattern = (self.d * hash_pattern + ord(self.pattern[i])) % self.p\n",
    "            hash_text = (self.d * hash_text + ord(self.text[i])) % self.p\n",
    "\n",
    "        for i in range(n - m + 1): \n",
    "            if (hash_text == hash_pattern):\n",
    "                j = 0\n",
    "                while (j < m):\n",
    "                    if (self.text[i + j] != self.pattern[j]):\n",
    "                        break\n",
    "                    j += 1 \n",
    "                if (j == m):\n",
    "                    print('Found match at index %s' % i)\n",
    "            if (i < n - m):\n",
    "                hash_text = ((hash_text - ord(self.text[i]) * h) * self.d + ord(self.text[i + m])) % self.p\n",
    "\n",
    "                '''just in case we end up with a negative value'''\n",
    "                if (hash_text < 0):\n",
    "                    hash_text = hash_text + self.p"
   ]
  },
  {
   "cell_type": "markdown",
   "id": "2cc7b1b5-70ff-4d74-9621-b3a1e28ded47",
   "metadata": {},
   "source": [
    "### Testing"
   ]
  },
  {
   "cell_type": "code",
   "execution_count": 22,
   "id": "e69d1058-821a-4e3b-b422-582037fd11bd",
   "metadata": {},
   "outputs": [
    {
     "name": "stdout",
     "output_type": "stream",
     "text": [
      "Found match at index 10\n"
     ]
    }
   ],
   "source": [
    "algo = RabinKarp('this is a test', 'test')\n",
    "algo.search()"
   ]
  }
 ],
 "metadata": {
  "kernelspec": {
   "display_name": "Python 3 (ipykernel)",
   "language": "python",
   "name": "python3"
  },
  "language_info": {
   "codemirror_mode": {
    "name": "ipython",
    "version": 3
   },
   "file_extension": ".py",
   "mimetype": "text/x-python",
   "name": "python",
   "nbconvert_exporter": "python",
   "pygments_lexer": "ipython3",
   "version": "3.12.2"
  }
 },
 "nbformat": 4,
 "nbformat_minor": 5
}
