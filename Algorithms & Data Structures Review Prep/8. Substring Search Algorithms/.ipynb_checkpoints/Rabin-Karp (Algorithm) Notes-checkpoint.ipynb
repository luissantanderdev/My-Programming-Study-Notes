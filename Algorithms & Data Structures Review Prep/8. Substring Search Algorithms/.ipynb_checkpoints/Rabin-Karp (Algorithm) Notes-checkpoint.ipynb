{
 "cells": [
  {
   "cell_type": "markdown",
   "id": "c253b119-fda2-48b7-a7d2-a032bf0a5ed0",
   "metadata": {},
   "source": [
    "# Rabin-Karp (Substring Search Algorithm)\n",
    "\n",
    "* it was first constructed in 1987 by Richard Karp and Michael Rabin.\n",
    "* the aim is to compare the pattern and the region of the text with a single test - O(1) constant running time. "
   ]
  },
  {
   "cell_type": "markdown",
   "id": "a885c351-bbd4-448d-a807-708b863394ef",
   "metadata": {},
   "source": [
    "### History of the Algorithm \n",
    "Certainly! The Rabin-Karp Algorithm is a string searching algorithm that efficiently finds the occurrence of a pattern within a text. It was developed by Michael O. Rabin and Richard M. Karp in 1987.\n",
    "\n",
    "Here's a brief overview of its history and key concepts:\n",
    "\n",
    "1. **Motivation**: The Rabin-Karp Algorithm was developed as an improvement over other string searching algorithms like the Naive String Matching Algorithm, which could be inefficient for large texts or patterns.\n",
    "\n",
    "2. **Principle**: The algorithm uses hashing to efficiently compare the pattern to substrings of the text. Instead of comparing the pattern character by character with each substring, the algorithm computes hash values for both the pattern and the substrings and compares these hash values. This allows for faster identification of potential matches.\n",
    "\n",
    "3. **Hashing**: The algorithm utilizes a rolling hash function to compute hash values for substrings of the text. A rolling hash function efficiently updates the hash value as it moves from one substring to the next, avoiding the need to recompute the hash from scratch for each substring.\n",
    "\n",
    "4. **Detection**: When a hash value of a substring matches the hash value of the pattern, the algorithm performs a full character-by-character comparison to confirm the match. This step is necessary because hash collisions can occur, where different substrings produce the same hash value.\n",
    "\n",
    "5. **Efficiency**: The Rabin-Karp Algorithm has an average-case time complexity of O(n+m), where n is the length of the text and m is the length of the pattern. Its efficiency makes it particularly useful for applications where the pattern searching needs to be done multiple times or with large texts.\n",
    "\n",
    "6. **Applications**: The Rabin-Karp Algorithm is used in various applications, including plagiarism detection, document similarity analysis, and string matching in text editors and search engines.\n",
    "\n",
    "Overall, the Rabin-Karp Algorithm represents an important advancement in string searching algorithms, offering a balance between efficiency and simplicity in pattern matching tasks."
   ]
  },
  {
   "cell_type": "markdown",
   "id": "2c5c4967-61e6-4787-8a00-de083c6578c2",
   "metadata": {},
   "source": [
    "### Running Time Breakdown\n",
    "\n",
    "1. **Worst Case**: The worst-case time complexity of the Rabin-Karp Algorithm occurs when there are many spurious hash collisions, leading to frequent character-by-character comparisons. This typically happens when the hash function used produces many hash collisions, or when the pattern and text have similar hash values for many substrings. In the worst case, the time complexity is O((n - m + 1) * m), where n is the length of the text and m is the length of the pattern. This occurs when all substrings of length m in the text hash to the same value as the pattern.\n",
    "\n",
    "2. **Average Case**: The average-case time complexity of the Rabin-Karp Algorithm is O(n + m), where n is the length of the text and m is the length of the pattern. This average-case time complexity assumes a good hash function that distributes hash values evenly across substrings, minimizing the number of hash collisions. In typical scenarios, the algorithm efficiently identifies matches with relatively few character comparisons.\n",
    "\n",
    "3. **Best Case**: The best-case time complexity of the Rabin-Karp Algorithm occurs when the hash values of substrings in the text and the pattern are distinct, leading to quick rejection of non-matching substrings. In the best case, the time complexity is O(n), where n is the length of the text. This happens when there are no hash collisions between the pattern and any substring of the text, allowing the algorithm to quickly move through the text without performing character comparisons.\n",
    "\n",
    "Overall, the efficiency of the Rabin-Karp Algorithm depends on factors such as the quality of the hash function used and the characteristics of the text and pattern being searched. In practice, it often performs well, particularly in scenarios where multiple pattern searches are needed or when dealing with large texts."
   ]
  },
  {
   "cell_type": "markdown",
   "id": "5f0aa82e-db68-4467-bc34-8c1311f53fc7",
   "metadata": {},
   "source": [
    "![Alt text](./imgs/rabin1.png)\n",
    "\n",
    "![Alt text](./imgs/rabin2.png)"
   ]
  },
  {
   "cell_type": "markdown",
   "id": "c8a640fb-5350-4ab5-af10-413703ffdae4",
   "metadata": {},
   "source": [
    "### Comparisons using a lookup table. \n",
    "\n",
    "![Alt text](./imgs/rabin3.png)"
   ]
  },
  {
   "cell_type": "markdown",
   "id": "ebc25088-f133-467e-b66a-1584aa4360eb",
   "metadata": {},
   "source": [
    "### Note\n",
    "* so we can skip several comparison operations if we rely on hashing and hash-functions.\n",
    "* we have to compute the h(p) hash value of the pattern in advance in O(m) running time - m is the length of the pattern.\n",
    "* if the hash values are matching then we have to use standard character comparisons one by one (maybe there is a spurious hit or spurious state).\n",
    "* Where the numerical hit equals but the string doesn't match. Which is why the worst case can turn into O(n*m)\n",
    "* hashes are matching but the letters are not.\n",
    "* running time depends on the hash-function!!!\n",
    "* this is why we need a special hash-function the so-called ,,Rabin fingerprint function''\n",
    "  "
   ]
  },
  {
   "cell_type": "markdown",
   "id": "312ed96a-3672-439e-b7d5-fcd6762168a7",
   "metadata": {},
   "source": [
    "### Spurious Hits Problems \n",
    "\n",
    "![Alt text](./imgs/rabin4.png)"
   ]
  },
  {
   "cell_type": "markdown",
   "id": "45eff92a-0f8f-45bc-8cc0-1213fc30ed9d",
   "metadata": {},
   "source": [
    "### Rabin Fingerprint Function\n",
    "\n",
    "Function: F(X) = m0 + m1x+...+mn-1x^n-1\n",
    "\n",
    "* the Rabin fingerprint function uses a polynomial - this is how the spurious hits can be eliminated with high probability.\n",
    "\n",
    "![Alt text](./imgs/rabin5.png)\n",
    "\n",
    "Result is 705 not 5 note: mistake on the image\n",
    "\n",
    "Using a modulo operater with a prime number such as 31 \n",
    "\n",
    "705 % 31 = 23 will reduce to a smaller number we can calculate this."
   ]
  },
  {
   "cell_type": "markdown",
   "id": "ec69b1bb-c1ca-4e7b-b7b1-ebc5555cd8d0",
   "metadata": {},
   "source": [
    "### Rolling Hash-Function\n",
    "![Alt text](./imgs/rabin6.png)"
   ]
  }
 ],
 "metadata": {
  "kernelspec": {
   "display_name": "Python 3 (ipykernel)",
   "language": "python",
   "name": "python3"
  },
  "language_info": {
   "codemirror_mode": {
    "name": "ipython",
    "version": 3
   },
   "file_extension": ".py",
   "mimetype": "text/x-python",
   "name": "python",
   "nbconvert_exporter": "python",
   "pygments_lexer": "ipython3",
   "version": "3.12.2"
  }
 },
 "nbformat": 4,
 "nbformat_minor": 5
}
