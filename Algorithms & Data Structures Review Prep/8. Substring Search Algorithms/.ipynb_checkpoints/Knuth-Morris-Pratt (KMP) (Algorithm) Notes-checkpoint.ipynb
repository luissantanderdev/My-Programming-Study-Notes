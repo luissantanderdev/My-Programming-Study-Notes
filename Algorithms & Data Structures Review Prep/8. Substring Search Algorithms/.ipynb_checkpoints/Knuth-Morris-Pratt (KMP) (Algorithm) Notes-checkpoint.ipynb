{
 "cells": [
  {
   "cell_type": "markdown",
   "id": "f8a7966a-2b83-4e56-9c24-118764c650ee",
   "metadata": {},
   "source": [
    "# Knuth-Morris-Pratt (KMP) (Algorithm)\n",
    "\n",
    "* the problem of substring search is that we want to search for occurences of a word (substring) w within a text S.\n",
    "  * 'My name is Adam and I am a huge fan of **computer** science'\n",
    "* brute-force approach and Boyer-Moore algorithm have O(N*M) worst-case running time.\n",
    "* Knuth-Morris-Patt algorithm has O(N+M) linear running time complexity even in worst-case scenario!!!\n",
    "* it was first published in 1977.\n",
    "* the algorithm must preprocess the pattern with O(M) running time complexity and with O(M) additional memory complexity.\n",
    "  * ~ this is when we construct the **partial match table** (or failure function)"
   ]
  },
  {
   "cell_type": "markdown",
   "id": "d901e366-8f3a-4e8f-9ba0-9b31196d2e9f",
   "metadata": {},
   "source": [
    "### How can we boost the brute-force algorithm?\n",
    "\n",
    "* We have to analyze the prefix and suffix of the pattern\n",
    "  * <u>Prefix:</u> prefix is an affix which is placed before the stem of a word.\n",
    "      * If the pattern is the word **apple** then the prefixes of the pattern are **[a, ap, app, appl, apple]**\n",
    "  * <u>Suffix:</u> suffix is an affix which is placed after the stem of a word.\n",
    "      * If the pattern is the word **apple** then the suffixes of the pattern are **[e, le, ple, pple, apple]**\n",
    "\n",
    "  * **Knuth-Morris-Pratt** algorithm's preprocess stage analyzes the patterns and checks whether some prefixes are matching any suffixes in the pattern\n",
    "    * ~ we look for the longest prefix which is the same as some suffixes.\n",
    "   \n",
    "    * This is how the algorithm can reduce the number of comparisons. \n",
    "    \n",
    "The PI(p) encapsulates knowledge about how the pattern matches against the shifts of itself. This information can be used to avoid useless shift of the P pattern.\n",
    "     "
   ]
  },
  {
   "cell_type": "code",
   "execution_count": 16,
   "id": "3818967e-ee77-4cb7-99a9-4000e26ceed7",
   "metadata": {},
   "outputs": [
    {
     "name": "stdout",
     "output_type": "stream",
     "text": [
      "prefixes: ['', 'a', 'ap', 'app', 'appl']\n",
      "suffixes: ['e', 'le', 'ple', 'pple', 'apple']\n"
     ]
    }
   ],
   "source": [
    "from typing import List\n",
    "\n",
    "def get_prefixes(s: str) -> List[str]:\n",
    "    p = [] \n",
    "    i = 0 \n",
    "\n",
    "    while (i < len(s)):\n",
    "        p.append(s[:i])\n",
    "        i = i + 1 \n",
    "    \n",
    "    return p\n",
    "\n",
    "def get_suffixes(s: str) -> List[str]:\n",
    "    p = []\n",
    "    i = len(s) - 1 \n",
    "\n",
    "    while (i >= 0):\n",
    "        p.append(s[i:])\n",
    "        i = i - 1 \n",
    "        \n",
    "    return p\n",
    "    \n",
    "s = 'apple' \n",
    "\n",
    "prefixes = get_prefixes(s)\n",
    "suffixes = get_suffixes(s)\n",
    "\n",
    "print('prefixes: %s' % prefixes)\n",
    "print('suffixes: %s' % suffixes)"
   ]
  },
  {
   "cell_type": "markdown",
   "id": "d4f611d7-5a15-4e8f-800c-2aad71431539",
   "metadata": {},
   "source": [
    "### Partial Match Table (or the &#960; table)\n",
    "\n",
    "#### Example 1\n",
    "![Alt Text](./imgs/knuth1.png)\n",
    "\n",
    "\n",
    "#### Example 2 \n",
    "![Alt Text](./imgs/knuth2.png)"
   ]
  },
  {
   "cell_type": "markdown",
   "id": "0f69f9f6-c272-4647-8a57-af458b6b935d",
   "metadata": {},
   "source": [
    "### The Algorithm Visualization "
   ]
  },
  {
   "cell_type": "markdown",
   "id": "60481934-7471-4100-9283-6fc785540a00",
   "metadata": {},
   "source": [
    "![Alt Text](./imgs/knuth3.png)\n",
    "\n",
    "\n",
    "![Alt Text](./imgs/knuth4.png)"
   ]
  },
  {
   "cell_type": "markdown",
   "id": "1bd75cf0-3317-4959-a16a-cc49ddb722e1",
   "metadata": {},
   "source": [
    "### Contructing the &#960; Table "
   ]
  },
  {
   "cell_type": "code",
   "execution_count": null,
   "id": "6349da23-5441-4bd9-b0f3-193dea5025f8",
   "metadata": {},
   "outputs": [],
   "source": []
  }
 ],
 "metadata": {
  "kernelspec": {
   "display_name": "Python 3 (ipykernel)",
   "language": "python",
   "name": "python3"
  },
  "language_info": {
   "codemirror_mode": {
    "name": "ipython",
    "version": 3
   },
   "file_extension": ".py",
   "mimetype": "text/x-python",
   "name": "python",
   "nbconvert_exporter": "python",
   "pygments_lexer": "ipython3",
   "version": "3.12.2"
  }
 },
 "nbformat": 4,
 "nbformat_minor": 5
}
