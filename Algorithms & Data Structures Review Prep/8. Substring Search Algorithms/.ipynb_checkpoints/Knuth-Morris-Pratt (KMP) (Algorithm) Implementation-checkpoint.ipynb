{
 "cells": [
  {
   "cell_type": "markdown",
   "id": "a67a8c95-191c-463f-b775-09437e3d294a",
   "metadata": {},
   "source": [
    "# Knuth-Morris-Pratt (KMP) (Algorithm) Implementation"
   ]
  },
  {
   "cell_type": "code",
   "execution_count": 10,
   "id": "7b219af1-2a0b-4e5c-b5e4-a6551a08ac71",
   "metadata": {},
   "outputs": [],
   "source": [
    "from typing import List \n",
    "\n",
    "def construct_pi(pattern: str) -> List[int]:\n",
    "    pi_table = [0] * len(pattern)\n",
    "\n",
    "    prefix_counter = 0 \n",
    "    i = 1\n",
    "\n",
    "    while (i < len(pattern)):\n",
    "        if (pattern[i] == pattern[prefix_counter]):\n",
    "            prefix_counter = prefix_counter + 1 \n",
    "            pi_table[i] = prefix_counter\n",
    "            i = i + 1\n",
    "        else:\n",
    "            if (prefix_counter != 0):\n",
    "                prefix_counter = pi_table[prefix_counter-1]\n",
    "            else:\n",
    "                pi_table[i] = 0\n",
    "                i = i + 1\n",
    "                \n",
    "    return pi_table \n",
    "\n",
    "def search(text: str, pattern: str):\n",
    "    pi_table = construct_pi(pattern)\n",
    "\n",
    "    i = 0 \n",
    "    j = 0 \n",
    "\n",
    "    while (i < len(text) and j < len(pattern)):\n",
    "        if (text[i] == pattern[j]):\n",
    "            i = i + 1 \n",
    "            j = j + 1 \n",
    "\n",
    "        if j == len(pattern):\n",
    "            print('Pattern found at index %s' % (i-j))\n",
    "            j = pi_table[j - 1]\n",
    "            \n",
    "        elif (i < len(text) and text[i] != pattern[j]):\n",
    "            if (j != 0):\n",
    "                j = pi_table[j-1]\n",
    "            else:\n",
    "                i = i + 1\n",
    "        "
   ]
  },
  {
   "cell_type": "markdown",
   "id": "274d9045-b2bb-4ba1-9987-55411e7e3437",
   "metadata": {},
   "source": [
    "### Testing"
   ]
  },
  {
   "cell_type": "code",
   "execution_count": 13,
   "id": "4a0b6e44-07d3-4844-83de-a8c6eacfe927",
   "metadata": {},
   "outputs": [
    {
     "name": "stdout",
     "output_type": "stream",
     "text": [
      "Pattern found at index 15\n",
      "Pattern found at index 3\n",
      "Pattern found at index 6\n"
     ]
    }
   ],
   "source": [
    "search('this is a text test', 'test')\n",
    "search('aacaabaab', 'aab')"
   ]
  }
 ],
 "metadata": {
  "kernelspec": {
   "display_name": "Python 3 (ipykernel)",
   "language": "python",
   "name": "python3"
  },
  "language_info": {
   "codemirror_mode": {
    "name": "ipython",
    "version": 3
   },
   "file_extension": ".py",
   "mimetype": "text/x-python",
   "name": "python",
   "nbconvert_exporter": "python",
   "pygments_lexer": "ipython3",
   "version": "3.12.2"
  }
 },
 "nbformat": 4,
 "nbformat_minor": 5
}
