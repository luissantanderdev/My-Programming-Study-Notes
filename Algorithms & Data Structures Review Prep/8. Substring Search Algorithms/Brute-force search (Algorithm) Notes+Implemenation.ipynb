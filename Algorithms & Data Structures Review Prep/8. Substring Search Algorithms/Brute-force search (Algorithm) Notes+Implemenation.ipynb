{
 "cells": [
  {
   "cell_type": "markdown",
   "id": "9a3a99c4-1b0c-41ea-83a1-b22e171e5de0",
   "metadata": {},
   "source": [
    "# Brute-Force Search (Algorithm) Notes\n",
    "\n",
    "### Naive Substring Search \n",
    "* we would like to construct an algorithm thats capable of finding a P pattern in a given S string or text.\n",
    "* brute-force search is the naive approach.\n",
    "* keep iterating through the text and if there is a mismatch we shift the pattern one step to the right.\n",
    "* Example: [T,T,A,A,G,T,A,A,T] which is S string and we would like to find substring pattern P=[A,A,G].\n",
    "\n",
    "* not so efficient especially when there are lots of matching prefixes.\n",
    "* main problem is that we need backup for every mismatch.\n",
    "* if there is a mismatch we jump back to the next character.\n",
    "* there are lot of comparisons - O(N*M) where N is the length of text and M is the length of the pattern.\n",
    "* Linear running time would be better. \n",
    "\n",
    "### What is a Prefix? \n",
    "\n",
    "Of course! A prefix is a linguistic element that you attach to the beginning of a word to modify its meaning. It's a type of affix, which is a morpheme that is added to a word to create a new word or alter its meaning. Prefixes come in various forms and are derived from different languages, such as Latin, Greek, or Old English.\n",
    "\n",
    "For example, let's take the word \"unhappy.\" In this word, \"un-\" is the prefix. It changes the meaning of \"happy\" by indicating the negation or reversal of the word's meaning. So, \"unhappy\" means not happy.\n",
    "\n",
    "Prefixes can serve different purposes, such as indicating negation (like \"un-\" in \"unhappy\"), expressing time or position (like \"pre-\" meaning before, as in \"preview\"), or specifying a quantity or degree (like \"multi-\" meaning many, as in \"multimedia\").\n",
    "\n",
    "Understanding prefixes can help you decipher the meanings of unfamiliar words by breaking them down into their constituent parts.\n",
    "\n",
    "### Brute Force Substring Search Algorithm"
   ]
  },
  {
   "cell_type": "code",
   "execution_count": 46,
   "id": "76b95fad-6a40-434e-894d-80e19a959c5e",
   "metadata": {},
   "outputs": [
    {
     "name": "stdout",
     "output_type": "stream",
     "text": [
      "Found a match at index 7\n"
     ]
    }
   ],
   "source": [
    "def naive_search(text: str, pattern: str):\n",
    "    m = len(pattern)\n",
    "    n = len(text) \n",
    "\n",
    "    for i in range(n-m+1):\n",
    "        if (text[i:i+m] == pattern):\n",
    "            return i\n",
    "\n",
    "    return -1\n",
    "\n",
    "def naive_search_without_splicing(text: str, pattern: str):\n",
    "    n = len(text)\n",
    "    m = len(pattern) \n",
    "\n",
    "    for i in range(n-m+1):\n",
    "        j = 0 \n",
    "\n",
    "        while (j < m):\n",
    "            if (text[i+j] != pattern[j]):\n",
    "                break \n",
    "\n",
    "            j = j + 1 \n",
    "\n",
    "        if (j == m):\n",
    "            print('Found a match at index %s' % i)\n",
    "            \n",
    "        \n",
    "    \n",
    "string_text = 'abcdeefabcabcd' \n",
    "string_pattern = 'abcab' \n",
    "\n",
    "naive_search(string_text, string_pattern)\n",
    "naive_search_without_splicing(string_text, string_pattern)"
   ]
  },
  {
   "cell_type": "code",
   "execution_count": null,
   "id": "db8ccca1-4e80-49a8-99ff-2b948e82e836",
   "metadata": {},
   "outputs": [],
   "source": []
  }
 ],
 "metadata": {
  "kernelspec": {
   "display_name": "Python 3 (ipykernel)",
   "language": "python",
   "name": "python3"
  },
  "language_info": {
   "codemirror_mode": {
    "name": "ipython",
    "version": 3
   },
   "file_extension": ".py",
   "mimetype": "text/x-python",
   "name": "python",
   "nbconvert_exporter": "python",
   "pygments_lexer": "ipython3",
   "version": "3.12.2"
  }
 },
 "nbformat": 4,
 "nbformat_minor": 5
}
