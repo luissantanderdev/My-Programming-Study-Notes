{
 "cells": [
  {
   "cell_type": "markdown",
   "id": "ecec463b-94b1-48a1-9cf5-704eb5f65b59",
   "metadata": {},
   "source": [
    "# Queue Implementation with Stacks\n",
    "- The problem is that we want to implement queue abstract data type with the enqueue() and dequeue() operations with stacks.\n",
    "  * we can use 2 stacks to solve this problem.\n",
    "  * one stack: for enqueue() operation.\n",
    "  * one stack: for dequeue() operation."
   ]
  },
  {
   "cell_type": "code",
   "execution_count": 15,
   "id": "26ed127c-d7c1-41d4-8a27-893a42c3a2a2",
   "metadata": {},
   "outputs": [
    {
     "name": "stdout",
     "output_type": "stream",
     "text": [
      "dequeued value: 10\n",
      "dequeued value: 18\n",
      "dequeued value: 100\n",
      "stacks are empty...\n"
     ]
    }
   ],
   "source": [
    "class Queue:\n",
    "    def __init__(self):\n",
    "        self.enqueue_stack = []\n",
    "        self.dequeue_stack = [] \n",
    "\n",
    "    # adding an item to the queue is O(1) running time.\n",
    "    def enqueue(self, data):\n",
    "        self.enqueue_stack.append(data)\n",
    "\n",
    "    # getting items. FIFO \n",
    "    def dequeue(self):\n",
    "        if (len(self.enqueue_stack) == 0 and len(self.dequeue_stack) == 0):\n",
    "            raise Exception('stacks are empty...')\n",
    "\n",
    "        if (len(self.dequeue_stack) == 0):\n",
    "            while (len(self.enqueue_stack) != 0):\n",
    "                self.dequeue_stack.append(self.enqueue_stack.pop())\n",
    "\n",
    "        return self.dequeue_stack.pop() \n",
    "\n",
    "q = Queue()\n",
    "q.enqueue(10)\n",
    "q.enqueue(18)\n",
    "q.enqueue(100)\n",
    "\n",
    "try:\n",
    "    print(f'dequeued value: {q.dequeue()}')\n",
    "    print(f'dequeued value: {q.dequeue()}')\n",
    "    print(f'dequeued value: {q.dequeue()}')\n",
    "    print(f'dequeued value: {q.dequeue()}')\n",
    "except Exception as e:\n",
    "    print(e)"
   ]
  },
  {
   "cell_type": "code",
   "execution_count": 30,
   "id": "1757f858-3c78-4550-9a3f-bab9cc1e7751",
   "metadata": {},
   "outputs": [
    {
     "name": "stdout",
     "output_type": "stream",
     "text": [
      "dequeued value: 100\n"
     ]
    }
   ],
   "source": [
    "class QueueRecursiveStack:\n",
    "    def __init__(self):\n",
    "        self.stack = []\n",
    "\n",
    "    def enqueue(self, data):\n",
    "        self.stack.append(data)\n",
    "\n",
    "    # NOTE: we use 2 stacks again but instead of explicitly define the second stack we use the call-stack \n",
    "    # of a program (stack memory or execution stack). \n",
    "    def dequeue(self):\n",
    "        if (len(self.stack) == 1):\n",
    "            return self.stack.pop()\n",
    "\n",
    "        item = self.stack.pop()\n",
    "\n",
    "        dequeued_item = self.dequeue()\n",
    "\n",
    "        self.stack.append(item)\n",
    "\n",
    "        return dequeued_item\n",
    "\n",
    "rq = QueueRecursiveStack()\n",
    "rq.enqueue(100)\n",
    "rq.enqueue(200)\n",
    "rq.enqueue(300)\n",
    "\n",
    "print(f'dequeued value: {rq.dequeue()}')"
   ]
  }
 ],
 "metadata": {
  "kernelspec": {
   "display_name": "Python 3 (ipykernel)",
   "language": "python",
   "name": "python3"
  },
  "language_info": {
   "codemirror_mode": {
    "name": "ipython",
    "version": 3
   },
   "file_extension": ".py",
   "mimetype": "text/x-python",
   "name": "python",
   "nbconvert_exporter": "python",
   "pygments_lexer": "ipython3",
   "version": "3.12.2"
  }
 },
 "nbformat": 4,
 "nbformat_minor": 5
}
