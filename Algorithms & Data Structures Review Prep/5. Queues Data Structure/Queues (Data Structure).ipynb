{
 "cells": [
  {
   "cell_type": "markdown",
   "id": "65d3381b-cae7-45b1-9984-da956b15ac03",
   "metadata": {},
   "source": [
    "# Queues (Data Structure) Notes\n",
    "\n",
    "- it has so-called FIFO structure - the first item we inserted is the first item we take out.\n",
    "- basic operations are enqueue(), dequeue(), and peek().\n",
    "- queues useful when a resource is shared with several consumers (for example threads).\n",
    "- threads are stored in queues.\n",
    "- when data is transferred asynchronously (data not necessarily received at same rate as sent) between two process.\n",
    "- graph algorithms rely heavily on queues: breadth-first-search use queue as underlying abstract data type. "
   ]
  },
  {
   "cell_type": "code",
   "execution_count": 5,
   "id": "6adb28f2-d7b1-49ce-b09a-b42dc9f837eb",
   "metadata": {},
   "outputs": [],
   "source": [
    "class Queue:\n",
    "    def __init__(self):\n",
    "        self.queue = []\n",
    "\n",
    "    # O(1) running time \n",
    "    def is_empty(self):\n",
    "        return self.queue == [] \n",
    "\n",
    "    # this operation has O(1) running time \n",
    "    def enqueue(self, data):\n",
    "        self.queue.append(data)\n",
    "\n",
    "    # O(n) Linear running time complexity. \n",
    "    def dequeue(self):\n",
    "        data = self.queue[0]\n",
    "        del self.queue[0]\n",
    "        return data\n",
    "        \n",
    "    # O(1) constant running time. \n",
    "    def peek(self):\n",
    "        return self.queue[0] \n",
    "\n",
    "    # O(1) constant running time. \n",
    "    def size(self):\n",
    "        return len(self.queue) "
   ]
  },
  {
   "cell_type": "markdown",
   "id": "f45d6e8b-66e0-4b27-9117-24c3f525c33e",
   "metadata": {},
   "source": [
    "### Testing"
   ]
  },
  {
   "cell_type": "code",
   "execution_count": 6,
   "id": "af6dd531-f78a-4f6e-8328-2cbc854c874b",
   "metadata": {},
   "outputs": [
    {
     "name": "stdout",
     "output_type": "stream",
     "text": [
      "2\n"
     ]
    }
   ],
   "source": [
    "q = Queue() \n",
    "q.enqueue(1)\n",
    "q.enqueue(2)\n",
    "q.enqueue(3)\n",
    "q.dequeue()\n",
    "\n",
    "print(q.size())"
   ]
  }
 ],
 "metadata": {
  "kernelspec": {
   "display_name": "Python 3 (ipykernel)",
   "language": "python",
   "name": "python3"
  },
  "language_info": {
   "codemirror_mode": {
    "name": "ipython",
    "version": 3
   },
   "file_extension": ".py",
   "mimetype": "text/x-python",
   "name": "python",
   "nbconvert_exporter": "python",
   "pygments_lexer": "ipython3",
   "version": "3.12.2"
  }
 },
 "nbformat": 4,
 "nbformat_minor": 5
}
