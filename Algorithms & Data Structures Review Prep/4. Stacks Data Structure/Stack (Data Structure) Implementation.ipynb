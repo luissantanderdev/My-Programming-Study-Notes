{
 "cells": [
  {
   "cell_type": "markdown",
   "id": "47a3d8f0-8451-43fa-975a-780c6821f0b5",
   "metadata": {},
   "source": [
    "# Stack (Data Structure) Implementation\n",
    "\n",
    "### Max Item in Stacks \n",
    "The problem is that we have a stack and we want to track the largest item during insertion \n",
    "- so we want to make sure the getMax() operation is O(1) running time.\n",
    "- the memory complexity can be O(N) which means we can use another stack in the implementation. "
   ]
  },
  {
   "cell_type": "code",
   "execution_count": 6,
   "id": "2b87dcb1-c167-47d8-bf13-e966eb4ee364",
   "metadata": {},
   "outputs": [
    {
     "name": "stdout",
     "output_type": "stream",
     "text": [
      "1000\n"
     ]
    }
   ],
   "source": [
    "import sys \n",
    "\n",
    "class Stack:\n",
    "    def __init__(self):\n",
    "        self.stack = []\n",
    "        self.max_stack = [] \n",
    "        \n",
    "    '''insert item into the stack // O(1)'''\n",
    "    def push(self, data):        \n",
    "        self.stack.append(data)\n",
    "\n",
    "        if (len(self.stack) == 1):\n",
    "            self.max_stack.append(data)\n",
    "            return \n",
    "\n",
    "        if (data > self.max_stack[-1]):\n",
    "            self.max_stack.append(data)\n",
    "        else:\n",
    "            self.max_stack.append(self.max_stack[-1])\n",
    "\n",
    "    '''remove and return the last item we have inserted (LIFO) // O(1)'''\n",
    "    def pop(self):\n",
    "        if self.stack_size() < 1:\n",
    "            return -1 \n",
    "\n",
    "        self.max_stack.pop() \n",
    "        data = self.stack[-1]\n",
    "        del self.stack[-1]\n",
    "        return data \n",
    "\n",
    "    '''peek: it returns the last item without removing it // O(1)'''\n",
    "    def peek(self):\n",
    "        return self.stack[-1]\n",
    "\n",
    "    '''has O(1) running time'''\n",
    "    def is_empty(self):\n",
    "        return self.stack == [] \n",
    "\n",
    "    '''has O(1) running time'''\n",
    "    def stack_size(self):\n",
    "        return len(self.stack) \n",
    "\n",
    "    '''max item is the last item we have inserted into the stack'''\n",
    "    def get_max_item(self):\n",
    "        return self.max_stack.pop() \n",
    "        \n",
    "stack = Stack() \n",
    "stack.push(1)\n",
    "stack.push(200)\n",
    "stack.push(3)\n",
    "stack.push(1000)\n",
    "\n",
    "\n",
    "\n",
    "print(stack.get_max_item())"
   ]
  }
 ],
 "metadata": {
  "kernelspec": {
   "display_name": "Python 3 (ipykernel)",
   "language": "python",
   "name": "python3"
  },
  "language_info": {
   "codemirror_mode": {
    "name": "ipython",
    "version": 3
   },
   "file_extension": ".py",
   "mimetype": "text/x-python",
   "name": "python",
   "nbconvert_exporter": "python",
   "pygments_lexer": "ipython3",
   "version": "3.12.2"
  }
 },
 "nbformat": 4,
 "nbformat_minor": 5
}
