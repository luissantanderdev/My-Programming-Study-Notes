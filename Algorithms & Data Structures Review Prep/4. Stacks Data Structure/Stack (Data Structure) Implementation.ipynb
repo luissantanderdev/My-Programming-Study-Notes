{
 "cells": [
  {
   "cell_type": "markdown",
   "id": "47a3d8f0-8451-43fa-975a-780c6821f0b5",
   "metadata": {},
   "source": [
    "# Stack (Data Structure) Implementation"
   ]
  },
  {
   "cell_type": "code",
   "execution_count": 7,
   "id": "2b87dcb1-c167-47d8-bf13-e966eb4ee364",
   "metadata": {},
   "outputs": [
    {
     "name": "stdout",
     "output_type": "stream",
     "text": [
      "3\n"
     ]
    }
   ],
   "source": [
    "class Stack:\n",
    "    def __init__(self):\n",
    "        self.stack = []\n",
    "        \n",
    "    '''insert item into the stack // O(1)'''\n",
    "    def push(self, data):\n",
    "        self.stack.append(data)\n",
    "\n",
    "    '''remove and return the last item we have inserted (LIFO) // O(1)'''\n",
    "    def pop(self):\n",
    "        if self.stack_size() < 1:\n",
    "            return -1 \n",
    "            \n",
    "        data = self.stack[-1]\n",
    "        del self.stack[-1]\n",
    "        return data \n",
    "\n",
    "    '''peek: it returns the last item without removing it // O(1)'''\n",
    "    def peek(self):\n",
    "        return self.stack[-1]\n",
    "\n",
    "    '''has O(1) running time'''\n",
    "    def is_empty(self):\n",
    "        return self.stack == [] \n",
    "\n",
    "    def stack_size(self):\n",
    "        return len(self.stack) \n",
    "        \n",
    "stack = Stack() \n",
    "stack.push(1)\n",
    "stack.push(2)\n",
    "stack.push(3)\n",
    "\n",
    "print(stack.stack_size())"
   ]
  }
 ],
 "metadata": {
  "kernelspec": {
   "display_name": "Python 3 (ipykernel)",
   "language": "python",
   "name": "python3"
  },
  "language_info": {
   "codemirror_mode": {
    "name": "ipython",
    "version": 3
   },
   "file_extension": ".py",
   "mimetype": "text/x-python",
   "name": "python",
   "nbconvert_exporter": "python",
   "pygments_lexer": "ipython3",
   "version": "3.12.2"
  }
 },
 "nbformat": 4,
 "nbformat_minor": 5
}
