{
 "cells": [
  {
   "cell_type": "markdown",
   "id": "cd4d72ac-9f91-4680-9b61-1c9249b8c26d",
   "metadata": {},
   "source": [
    "# Stacks (Data Structure)\n",
    "- example: a deck of cards has LIFO structure.\n",
    "- it is an abstract data type.\n",
    "- it has a so-called LIFO (Last In First Out) structure - the last item we inserted is the first item we take out.\n",
    "- basic operations are pop(), push(), and peek().\n",
    "- most of the modern programming languages are stack-oriented.\n",
    "- Stack memory is a special region in the RAM (Random Access Memory)\n",
    "- This is a special data type (stack) that stores local variables and method calls.\n",
    "- this is how the programming language knows where to return after finish execution of a given method.\n",
    "- it is small in size but fast to access.\n",
    "- No Fragmentation. "
   ]
  },
  {
   "cell_type": "markdown",
   "id": "04ff0493-500f-4c65-b733-92502ca59ea5",
   "metadata": {},
   "source": [
    "### Stack Memory \n",
    "- stack memory is a special region in the RAM.\n",
    "- this is a special data type (stack) that stores local variables and method calls.\n",
    "- this is how the programming language knows where to return after finish execution of a given method.\n",
    "\n",
    "### Heap Memory\n",
    "- heap memory is a special region in the RAM where dynamic memory allocation takes place.\n",
    "- the size of the heap is way larger than the size of the stack memory.\n",
    "- objects (referenc types) are stored on the heap memory.\n",
    "- it is large in size but slow to access.\n",
    "- Framentation can occured.\n",
    "- we can have heap memory overflow if we allocate memory without deallocating previously allocated memory space\n",
    "- or if we allocate extremly large number of objects.\n",
    "- Garbage collector. "
   ]
  }
 ],
 "metadata": {
  "kernelspec": {
   "display_name": "Python 3 (ipykernel)",
   "language": "python",
   "name": "python3"
  },
  "language_info": {
   "codemirror_mode": {
    "name": "ipython",
    "version": 3
   },
   "file_extension": ".py",
   "mimetype": "text/x-python",
   "name": "python",
   "nbconvert_exporter": "python",
   "pygments_lexer": "ipython3",
   "version": "3.12.2"
  }
 },
 "nbformat": 4,
 "nbformat_minor": 5
}
