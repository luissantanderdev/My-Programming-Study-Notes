{
 "cells": [
  {
   "cell_type": "markdown",
   "id": "eb317a1d-0d22-4091-af72-775467cab373",
   "metadata": {},
   "source": [
    "# Breadth-First Search - WebCrawlers\n",
    "- A web crawler may acquire important parameters of the web.\n",
    "  - Google have to index all the revelant web pages and have to find a way to sort them by revelence in the search results.\n",
    "  - This is why page rank is calculated (measures the importance of page)."
   ]
  }
 ],
 "metadata": {
  "kernelspec": {
   "display_name": "Python 3 (ipykernel)",
   "language": "python",
   "name": "python3"
  },
  "language_info": {
   "codemirror_mode": {
    "name": "ipython",
    "version": 3
   },
   "file_extension": ".py",
   "mimetype": "text/x-python",
   "name": "python",
   "nbconvert_exporter": "python",
   "pygments_lexer": "ipython3",
   "version": "3.12.2"
  }
 },
 "nbformat": 4,
 "nbformat_minor": 5
}
