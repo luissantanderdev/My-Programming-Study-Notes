{
 "cells": [
  {
   "cell_type": "markdown",
   "id": "2e909bae-c886-4b72-ab22-a85799b5a46b",
   "metadata": {},
   "source": [
    "# Depth-First Search (Algorithm) Notes\n",
    "\n",
    "There is a G(V,E) graph and the aim is to visit every V vertex exactly once. \n",
    "* Depth-first search explores as far as possible along each branch before backtracking (and visiting other vertexes)\n",
    "  * it was investigated as a strategy for solving mazes by Tremaux back in the 19th century.\n",
    "  * running time complexity is O(V+E).\n",
    "  * memory complexity is way better than that of breadth-first search."
   ]
  },
  {
   "cell_type": "markdown",
   "id": "6833a0eb-0cea-4c93-a688-b0e5717494c0",
   "metadata": {},
   "source": [
    "### Iterative solution \n",
    "- we can implement depth-first search with the help of a stack abstract data type to store vertexes."
   ]
  },
  {
   "cell_type": "markdown",
   "id": "ef8feada-175a-48e9-a2d5-72d051f5530c",
   "metadata": {},
   "source": [
    "DFS(graph, start):\n",
    "    stack = empty stack\n",
    "    // Initialize a set to keep track of visited nodes\n",
    "    visited = empty set\n",
    "    \n",
    "    stack.push(start)\n",
    "    \n",
    "    while stack is not empty:\n",
    "\n",
    "        current = stack.pop()\n",
    "        \n",
    "        if current is not in visited:\n",
    "        \n",
    "            add current to visited\n",
    "\n",
    "            process(current)\n",
    "            \n",
    "            for each neighbor of current:\n",
    "                if neighbor is not in visited:\n",
    "                    stack.push(neighbor)\n"
   ]
  },
  {
   "cell_type": "markdown",
   "id": "6325cbee-ede7-44f8-b119-fd7f114859a4",
   "metadata": {},
   "source": [
    "### Recursive Solution"
   ]
  },
  {
   "cell_type": "markdown",
   "id": "52b8e271-4851-4dda-996b-7386b55c8bc5",
   "metadata": {},
   "source": [
    "DFS(vertex):\n",
    "    set vertex visited\n",
    "    \n",
    "    for v in vertex neighbors\n",
    "        if v is not visited \n",
    "            DFS(v) "
   ]
  },
  {
   "cell_type": "markdown",
   "id": "782c3f75-2f44-49de-af3a-2faa6eec37c6",
   "metadata": {},
   "source": [
    "### Depth-first search applications \n",
    "\n",
    "* Pathfiding algorithms\n",
    "  * artificial intelligence (machine learning) approaches help robots discover the surrounding easily with BFS and DFS.\n",
    " \n",
    "* Topological Ordering\n",
    "  * build tools such as SCC and Gradle.\n",
    " \n",
    "* Strongly connected components\n",
    "  * depth-first search can find the strongly connected components of a G(V,E) graph that has several applications (YouTube ect.)\n",
    " \n",
    "* Cycle Detection\n",
    "  * can detect cycles in G(V,E) directed graphs that is absolutely crucial in operating sytems."
   ]
  },
  {
   "cell_type": "markdown",
   "id": "d3a5ea74-e345-4ae0-b886-26f75089a63c",
   "metadata": {},
   "source": [
    "### Memory Comparison\n",
    "* we dealing with BST in worst-case we have to store all the leaf nodes on the queue (this is the situation when we have to store the most items)\n",
    "* if we store N items in a balanced binary tree then there are N/2 leaf nodes. So in worst-case we need O(N) memory if we want to traverse a tree with N items with breadth-first search.\n",
    "\n",
    "* Breadth-First Search\n",
    "  * it has O(N) memory complexity in worst-case scenario.\n",
    "  * several AI algorithms rely heavily on breadth-first search.\n",
    "  * it finds closer items faster (when the vertex is close to the starting node).\n",
    "* Depth-First Search\n",
    "  * it has O(log(N)) memory complexity in worst-case scenario.\n",
    "  * this is why it is preferred usually when graph traversal is needed.\n",
    "  * it finds outlier items faster (when the vertex is far away from the starting node). "
   ]
  }
 ],
 "metadata": {
  "kernelspec": {
   "display_name": "Python 3 (ipykernel)",
   "language": "python",
   "name": "python3"
  },
  "language_info": {
   "codemirror_mode": {
    "name": "ipython",
    "version": 3
   },
   "file_extension": ".py",
   "mimetype": "text/x-python",
   "name": "python",
   "nbconvert_exporter": "python",
   "pygments_lexer": "ipython3",
   "version": "3.12.2"
  }
 },
 "nbformat": 4,
 "nbformat_minor": 5
}
