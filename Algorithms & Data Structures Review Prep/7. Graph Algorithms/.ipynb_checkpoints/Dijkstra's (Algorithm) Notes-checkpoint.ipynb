{
 "cells": [
  {
   "cell_type": "markdown",
   "id": "81de756e-8f21-4ebb-a137-86197152a861",
   "metadata": {},
   "source": [
    "# Dijkstra's Algorithm (Notes)\n",
    "\n",
    "- 'in grapth theory the shortest path problem is the problem of finding a path between two vertices in a graph such that the sum of the weights of it's constituent edges is minimized'\n",
    "\n",
    "- Finding a path between two vertices in a G(V,E) graph such that the sum of the weights of its edges is minimized.\n",
    "\n",
    "Algorithms\n",
    "------------\n",
    "- Dijkstras Algorithm\n",
    "- Bellman-Ford Algorithm\n",
    "- A* Search\n",
    "- Floyd-Warshall Algorithm\n",
    "\n",
    "### History\n",
    "- can handle positive edge weights - bellman ford but can have negative weights as well.\n",
    "- it can find the shortest path in a G(V,E) graph from v to u but it is able to construct a shortest path tree as well.\n",
    "- the shortest path tree defines the shortest pathts from a source to all the other nodes.\n",
    "- it is asymptotically the fastest known single-source shortest-path algorithm for arbitrary directed graphs with unbounded non-negative weights.\n",
    "\n",
    "### Running Time \n",
    "- has O(V*log*V + E) running time complexity.\n",
    "- it is a greedy approach - it tries to find the global optimum with the help of local optimum.\n",
    "- on every iteration we want to find the minimum distance to the next vertex possible.\n",
    "- the approach data structure is a priority queue (heap)."
   ]
  },
  {
   "cell_type": "markdown",
   "id": "bcff5ace-cbf0-46a9-b41e-533b874602fb",
   "metadata": {},
   "source": [
    "### Directed Graph \n",
    "\n",
    "![Alt Text](./imgs/graph1.png)"
   ]
  },
  {
   "cell_type": "markdown",
   "id": "75a39e58-122c-4263-b321-05bb7c3ccbe6",
   "metadata": {},
   "source": [
    "### Shortest Path\n",
    "\n",
    "![Alt Text](./imgs/graph2.png)"
   ]
  },
  {
   "cell_type": "markdown",
   "id": "4d76d0d7-9acd-4cb0-9742-0b630c22cf4d",
   "metadata": {},
   "source": [
    "### Shortest Path Algorithms Applications\n",
    "\n",
    "#### 1. GPS and navigation\n",
    "Navigation is the most crucial application of the shortest path problem.\n",
    "- Google Maps\n",
    "- Apple Maps\n",
    "- Waze\n",
    "\n",
    "#### 2. RIP - routing information protocol\n",
    "Shortest path approaches are important in computer networking as well such as with the routing information protocol in the application layer.\n",
    "\n",
    "- data is splitted into packages and these packages are one by one - with the UDP protocol.\n",
    "- the packages follow the shortest path.\n",
    "- each node calculates the distances between itself and all other nodes and stores this information as a table.\n",
    "- each node sends its table to all adjacent nodes.\n",
    "- when a node receives distance tables from its neighbours it calculates the shortest routes to all other nodes and updates its own table to reflect any changes.\n",
    "\n",
    "#### 3. Avidan-Shamir Method \n",
    "When we want to shrink an image for example in the browser or on a smartphone without distortion. \n",
    "\n",
    "- it is important to make sure the image will not deform.\n",
    "- we have to elimate the least signficant bit strings.\n",
    "- construct a so-called energy function - and remove connected string of pixels containing the least energy.\n",
    "- Photoshop and GIMP use this method.\n",
    "\n",
    "- we build a huge graph: vertices are the pixels and the edges are pointing from every vertex to it's downward 3 neighbours.\n",
    "- the ***energy function*** determines the edge weights.\n",
    "- we can use topological order shortest path to find the string of pixels to be removed. "
   ]
  }
 ],
 "metadata": {
  "kernelspec": {
   "display_name": "Python 3 (ipykernel)",
   "language": "python",
   "name": "python3"
  },
  "language_info": {
   "codemirror_mode": {
    "name": "ipython",
    "version": 3
   },
   "file_extension": ".py",
   "mimetype": "text/x-python",
   "name": "python",
   "nbconvert_exporter": "python",
   "pygments_lexer": "ipython3",
   "version": "3.12.2"
  }
 },
 "nbformat": 4,
 "nbformat_minor": 5
}
