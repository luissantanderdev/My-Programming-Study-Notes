{
 "cells": [
  {
   "cell_type": "markdown",
   "id": "d6a1f0bd-ab06-4814-9868-2b9a8a756d33",
   "metadata": {},
   "source": [
    "# Dijkstra's Algorithm (Array Implementation)\n",
    "\n",
    "with adjacency matrix representation has O(V^2) quadratic running time. \n",
    "\n",
    "![Alt Text](./imgs/graph3.png)"
   ]
  },
  {
   "cell_type": "code",
   "execution_count": 6,
   "id": "317bc0ab-8395-44d1-955f-84c57bf6b2a9",
   "metadata": {},
   "outputs": [
    {
     "name": "stdout",
     "output_type": "stream",
     "text": [
      "Considering vertex c\n",
      "Considering vertex e\n",
      "Considering vertex a\n",
      "Considering vertex b\n",
      "Considering vertex d\n",
      "Considering vertex f\n",
      "total path = 32\n"
     ]
    }
   ],
   "source": [
    "from typing import List\n",
    "import sys \n",
    "\n",
    "class DijkstrasAlgorithm:\n",
    "\n",
    "    def __init__(self, adjacency_matrix: List[List[int]], start_vertex: int) -> None:\n",
    "        self.adjacency_matrix = adjacency_matrix\n",
    "        self.start_vertex = start_vertex\n",
    "        self.v = len(adjacency_matrix)\n",
    "        self.visited = [False for _ in range(len(adjacency_matrix))]\n",
    "        self.distances = [float('inf') for _ in range(len(adjacency_matrix))]\n",
    "        self.labels = [chr(97 + i) for i in range(len(adjacency_matrix))]\n",
    "        self.distances[start_vertex] = 0 \n",
    "\n",
    "    def get_min_vertex(self): \n",
    "        '''gets the minimum vertex distance.'''\n",
    "        min_vertex_value = sys.maxsize\n",
    "        min_vertex_index = 0 \n",
    "\n",
    "        # Linear search in O(V) this is why to use heap data structure instead - O(log*V)\n",
    "        # we can improve running time with the heap data structure. \n",
    "        for index in range(self.v):\n",
    "            if (not self.visited[index] and self.distances[index] < min_vertex_value):\n",
    "                min_vertex_value = self.distances[index] \n",
    "                min_vertex_index = index \n",
    "\n",
    "        return min_vertex_index\n",
    "    \n",
    "    def calculate(self):\n",
    "        '''calculates the shortest path using Dijkstra's algorithm'''\n",
    "        for vertex in range(self.v):\n",
    "            actual_vertex = self.get_min_vertex() \n",
    "            print('Considering vertex %s' % self.labels[actual_vertex]) \n",
    "            self.visited[actual_vertex] = True \n",
    "\n",
    "            # it has O(V) running time \n",
    "            for other_vertex in range (self.v): \n",
    "                # if there is a connection between the two nodes \n",
    "                if (self.adjacency_matrix[actual_vertex][other_vertex] > 0):\n",
    "                    # is there a shorter path to the other_vertex from the actual vertex\n",
    "                    if (self.distances[actual_vertex] + \n",
    "                        self.adjacency_matrix[actual_vertex][other_vertex] < \n",
    "                        self.distances[other_vertex]):\n",
    "                        self.distances[other_vertex] = self.distances[actual_vertex] + \\\n",
    "                        self.adjacency_matrix[actual_vertex][other_vertex]\n",
    "\n",
    "    def print_distances(self):\n",
    "        '''prints the shortest path distances'''\n",
    "        print('total path = %s' % sum(self.distances))\n",
    "\n",
    "graph = [\n",
    "    [0, 7, 5, 2, 0, 0],\n",
    "    [7, 0, 0, 0, 3, 0],\n",
    "    [5, 0, 0, 10, 4, 0],\n",
    "    [2, 0, 10, 0, 0, 2],\n",
    "    [0, 3, 4, 0, 0, 6],\n",
    "    [0, 8, 0, 2, 6, 0],\n",
    "]\n",
    "\n",
    "algorithm = DijkstrasAlgorithm(graph, 2) \n",
    "algorithm.calculate() \n",
    "algorithm.print_distances()"
   ]
  }
 ],
 "metadata": {
  "kernelspec": {
   "display_name": "Python 3 (ipykernel)",
   "language": "python",
   "name": "python3"
  },
  "language_info": {
   "codemirror_mode": {
    "name": "ipython",
    "version": 3
   },
   "file_extension": ".py",
   "mimetype": "text/x-python",
   "name": "python",
   "nbconvert_exporter": "python",
   "pygments_lexer": "ipython3",
   "version": "3.12.2"
  }
 },
 "nbformat": 4,
 "nbformat_minor": 5
}
