{
 "cells": [
  {
   "cell_type": "markdown",
   "id": "cf3397a5-4f9e-4680-8987-86627c55c1a5",
   "metadata": {},
   "source": [
    "# Critical Path Method (CPM) Notes\n",
    "\n",
    "\n",
    "### Longest Path Problem \n",
    "\n",
    "- we have discussed how to find the shortest path in a ***G(V,E)*** graph from s source vertex to a d destination vertex.\n",
    "- but what if we are looking for the longest path?\n",
    "- it is a ***NP-hard*** problem with no known polynomial running time algorithm to solve.\n",
    "- but if the **G(V,E)** graph is a **directed acyclic graph (DAG)** then we can solve the problem in linear running time.\n",
    "- Scheduling algorithms rely heavily on longest paths.\n",
    "\n",
    "### How to transform a shortest path to longest path? \n",
    "\n",
    "- we have to negate the edge weights - multiply them by -1 and run the standard shortest path algorithms.\n",
    "- because of the negative edge weights we have to use **Bellman-Ford** algorithm for finding the shortest path.\n",
    "- it can solve the **parallel job scheduling** problem.\n",
    "- given a set of **V** jobs with  **d**, durations and precedence constraints: schedule the jobs - by finding a start time to each - so as to achieve the minimum completion time while respecting the constraints. "
   ]
  },
  {
   "cell_type": "markdown",
   "id": "30ffa153-7a5f-4d10-a5a4-2dee6d59c41e",
   "metadata": {},
   "source": [
    "### (CPM)\n",
    "\n",
    "- the **critical path method** was first used between 1940 and 1943 in the Manhattan Project.\n",
    "- the first time CPM was used for major skyscraper development was in 1966 while constructing the world trade center.\n",
    "- we want an algorithm for scheduling a set of project activities so that the **total running time** will be as **minimal** as possible. "
   ]
  },
  {
   "cell_type": "markdown",
   "id": "f2af7e50-8bd9-45d7-a7ab-22ccb4262205",
   "metadata": {},
   "source": [
    "# CPM Algorithm Needs\n",
    "---------------------------------\n",
    "- 1. a list of all activities required to complete the project.\n",
    "  2. the time (duration) that each activity will take to complete.\n",
    "  3. the dependencies between the activities.\n",
    " \n",
    "- we can construct an edge weight **G(V,E)** directed acyclic graph (DAG) because it can be solved in linear running time.\n",
    "- add edges with 0 weight for each precedence constraint.\n",
    "- we have to find the longest path in order to solve the problem.\n",
    "- there are no cycles in such graphs. "
   ]
  }
 ],
 "metadata": {
  "kernelspec": {
   "display_name": "Python 3 (ipykernel)",
   "language": "python",
   "name": "python3"
  },
  "language_info": {
   "codemirror_mode": {
    "name": "ipython",
    "version": 3
   },
   "file_extension": ".py",
   "mimetype": "text/x-python",
   "name": "python",
   "nbconvert_exporter": "python",
   "pygments_lexer": "ipython3",
   "version": "3.12.2"
  }
 },
 "nbformat": 4,
 "nbformat_minor": 5
}
