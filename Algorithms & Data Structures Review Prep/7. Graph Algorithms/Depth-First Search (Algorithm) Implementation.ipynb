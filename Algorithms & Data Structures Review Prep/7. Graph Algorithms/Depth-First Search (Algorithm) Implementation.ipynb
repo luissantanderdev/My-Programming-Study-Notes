{
 "cells": [
  {
   "cell_type": "markdown",
   "id": "2a105b43-246d-414f-bc9c-6ff09e08eab1",
   "metadata": {},
   "source": [
    "# Depth-First Search (Algorithm) Implementation"
   ]
  },
  {
   "cell_type": "code",
   "execution_count": 26,
   "id": "05cc0c7f-f0e5-4d0b-8435-7eb6ef9bd162",
   "metadata": {},
   "outputs": [],
   "source": [
    "class Node:\n",
    "    def __init__(self, name):\n",
    "        self.name = name \n",
    "        self.visited = False\n",
    "        self.adjacency_list = []\n",
    "\n",
    "    def __repr__(self) -> str:\n",
    "        return f'node: {self.name}'\n",
    "\n",
    "# Iterative Implementation \n",
    "def depth_first_search(start_node: Node):\n",
    "    stack = [start_node]\n",
    "\n",
    "    while (stack):\n",
    "        actual_node = stack.pop() \n",
    "        print(actual_node)\n",
    "\n",
    "        for n in actual_node.adjacency_list:\n",
    "            if (not n.visited):\n",
    "                n.visited = True \n",
    "\n",
    "                stack.append(n)\n",
    "\n",
    "# Recursive Implementation \n",
    "def depth_first_search_recursive(current_node: Node):\n",
    "    current_node.visited = True \n",
    "\n",
    "    print(current_node)\n",
    "    \n",
    "    for v in current_node.adjacency_list:\n",
    "        if (not v.visited):\n",
    "            depth_first_search_recursive(v) \n"
   ]
  },
  {
   "cell_type": "markdown",
   "id": "91947193-6c3a-456d-8347-574213238689",
   "metadata": {},
   "source": [
    "### Testing"
   ]
  },
  {
   "cell_type": "code",
   "execution_count": 25,
   "id": "aaad0feb-e82a-4cae-9719-cd27d0950852",
   "metadata": {},
   "outputs": [
    {
     "name": "stdout",
     "output_type": "stream",
     "text": [
      "node: A\n",
      "node: B\n",
      "node: D\n",
      "node: E\n",
      "node: C\n"
     ]
    }
   ],
   "source": [
    "node1 = Node('A')\n",
    "node2 = Node('B')\n",
    "node3 = Node('C')\n",
    "node4 = Node('D') \n",
    "node5 = Node('E')\n",
    "\n",
    "# Create graph connections \n",
    "node1.adjacency_list.append(node2)\n",
    "node1.adjacency_list.append(node3)\n",
    "node2.adjacency_list.append(node4)\n",
    "node4.adjacency_list.append(node5)\n",
    "\n",
    "depth_first_search_recursive(node1)"
   ]
  }
 ],
 "metadata": {
  "kernelspec": {
   "display_name": "Python 3 (ipykernel)",
   "language": "python",
   "name": "python3"
  },
  "language_info": {
   "codemirror_mode": {
    "name": "ipython",
    "version": 3
   },
   "file_extension": ".py",
   "mimetype": "text/x-python",
   "name": "python",
   "nbconvert_exporter": "python",
   "pygments_lexer": "ipython3",
   "version": "3.12.2"
  }
 },
 "nbformat": 4,
 "nbformat_minor": 5
}
