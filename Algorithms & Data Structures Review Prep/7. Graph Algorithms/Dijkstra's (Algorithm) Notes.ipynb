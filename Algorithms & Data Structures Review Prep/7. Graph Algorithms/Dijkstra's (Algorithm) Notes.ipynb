{
 "cells": [
  {
   "cell_type": "markdown",
   "id": "81de756e-8f21-4ebb-a137-86197152a861",
   "metadata": {},
   "source": [
    "# Dijkstra's Algorithm (Notes)\n",
    "\n",
    "- 'in grapth theory the shortest path problem is the problem of finding a path between two vertices in a graph such that the sum of the weights of it's constituent edges is minimized'\n",
    "\n",
    "- Finding a path between two vertices in a G(V,E) graph such that the sum of the weights of its edges is minimized.\n",
    "\n",
    "Algorithms\n",
    "------------\n",
    "- Dijkstras Algorithm\n",
    "- Bellman-Ford Algorithm\n",
    "- A* Search\n",
    "- Floyd-Warshall Algorithm\n",
    "\n",
    "### History\n",
    "- can handle positive edge weights - bellman ford but can have negative weights as well.\n",
    "- it can find the shortest path in a G(V,E) graph from v to u but it is able to construct a shortest path tree as well.\n",
    "- the shortest path tree defines the shortest pathts from a source to all the other nodes.\n",
    "- it is asymptotically the fastest known single-source shortest-path algorithm for arbitrary directed graphs with unbounded non-negative weights.\n",
    "\n",
    "### Running Time \n",
    "- has O(V*log*V + E) running time complexity.\n",
    "- it is a greedy approach - it tries to find the global optimum with the help of local optimum.\n",
    "- on every iteration we want to find the minimum distance to the next vertex possible.\n",
    "- the approach data structure is a priority queue (heap)."
   ]
  },
  {
   "cell_type": "markdown",
   "id": "bcff5ace-cbf0-46a9-b41e-533b874602fb",
   "metadata": {},
   "source": [
    "### Directed Graph \n",
    "\n",
    "![Alt Text](./imgs/graph1.png)"
   ]
  },
  {
   "cell_type": "markdown",
   "id": "75a39e58-122c-4263-b321-05bb7c3ccbe6",
   "metadata": {},
   "source": [
    "### Shortest Path\n",
    "\n",
    "![Alt Text](./imgs/graph2.png)"
   ]
  }
 ],
 "metadata": {
  "kernelspec": {
   "display_name": "Python 3 (ipykernel)",
   "language": "python",
   "name": "python3"
  },
  "language_info": {
   "codemirror_mode": {
    "name": "ipython",
    "version": 3
   },
   "file_extension": ".py",
   "mimetype": "text/x-python",
   "name": "python",
   "nbconvert_exporter": "python",
   "pygments_lexer": "ipython3",
   "version": "3.12.2"
  }
 },
 "nbformat": 4,
 "nbformat_minor": 5
}
