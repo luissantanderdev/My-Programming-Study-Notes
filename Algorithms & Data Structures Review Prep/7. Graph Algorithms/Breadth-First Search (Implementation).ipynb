{
 "cells": [
  {
   "cell_type": "markdown",
   "id": "5d52dedf-2cd1-4729-a52c-2a9740d0aaeb",
   "metadata": {},
   "source": [
    "# Breadth-First Search (Implementation)"
   ]
  },
  {
   "cell_type": "code",
   "execution_count": 3,
   "id": "d4f2ab11-10c0-44c2-87fe-b12aa7cbf182",
   "metadata": {},
   "outputs": [
    {
     "name": "stdout",
     "output_type": "stream",
     "text": [
      "Breadth-First Search Algorithm Example...\n",
      "node: A\n",
      "node: B\n",
      "node: C\n",
      "node: D\n",
      "node: E\n"
     ]
    }
   ],
   "source": [
    "class Node:\n",
    "    def __init__(self, name=''):\n",
    "        self.name = name \n",
    "        self.adjacency_list = []\n",
    "        self.visited = False \n",
    "\n",
    "    def __repr__(self) -> str:\n",
    "        return f'node: {self.name}'\n",
    "    \n",
    "def breadth_first_search(start_node: Node): \n",
    "    queue = [start_node]\n",
    "    start_node.visited = True \n",
    "\n",
    "    while queue:\n",
    "        actual_node = queue.pop(0) \n",
    "\n",
    "        print(actual_node)\n",
    "\n",
    "        for neighbor in actual_node.adjacency_list:\n",
    "            if (not neighbor.visited):\n",
    "                neighbor.visited = True \n",
    "                queue.append(neighbor) \n",
    "\n",
    "print('Breadth-First Search Algorithm Example...')\n",
    "\n",
    "# Graph Nodes \n",
    "node1 = Node('A')\n",
    "node2 = Node('B') \n",
    "node3 = Node('C') \n",
    "node4 = Node('D') \n",
    "node5 = Node('E') \n",
    "\n",
    "# we have to connect the nodes to build the graph \n",
    "node1.adjacency_list.append(node2)\n",
    "node1.adjacency_list.append(node3) \n",
    "node2.adjacency_list.append(node4) \n",
    "node4.adjacency_list.append(node5) \n",
    "\n",
    "# run the bfs \n",
    "breadth_first_search(node1) "
   ]
  }
 ],
 "metadata": {
  "kernelspec": {
   "display_name": "Python 3 (ipykernel)",
   "language": "python",
   "name": "python3"
  },
  "language_info": {
   "codemirror_mode": {
    "name": "ipython",
    "version": 3
   },
   "file_extension": ".py",
   "mimetype": "text/x-python",
   "name": "python",
   "nbconvert_exporter": "python",
   "pygments_lexer": "ipython3",
   "version": "3.12.2"
  }
 },
 "nbformat": 4,
 "nbformat_minor": 5
}
