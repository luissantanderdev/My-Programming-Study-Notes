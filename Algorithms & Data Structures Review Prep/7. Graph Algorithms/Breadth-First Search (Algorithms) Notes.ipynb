{
 "cells": [
  {
   "cell_type": "markdown",
   "id": "350908a3-37d7-4db6-ba93-c1111d2735c4",
   "metadata": {},
   "source": [
    "# Breadth-First Search (Algorithms) Notes\n",
    "\n",
    "* We have a G(V,E) graph and we want to visit all the V vertices - we can do it with breadth-first-search.\n",
    "* The algorithm keeps visiting the nodes and then the neighbors of these nodes.\n",
    "* O(V + E) running time complexity.\n",
    "* The memory complexity of this approach is not favorable as we have to store a lot of references.\n",
    "* Advantage is that we can construct the shortest-path essentially Dijkstra's algorithm does a breadth-first search if all edge weights are 1."
   ]
  },
  {
   "cell_type": "markdown",
   "id": "48013e23-bca6-4d32-8f96-690b7b7f2e18",
   "metadata": {},
   "source": [
    "BFS(Graph, start_vertex):\n",
    "    // Initialize an empty queue and a set to keep track of visited vertices\n",
    "    queue = Queue()\n",
    "    visited = Set()\n",
    "\n",
    "    // Enqueue the starting vertex and mark it as visited\n",
    "    queue.enqueue(start_vertex)\n",
    "    visited.add(start_vertex)\n",
    "\n",
    "    // While the queue is not empty\n",
    "    while queue is not empty:\n",
    "        // Dequeue a vertex from the queue\n",
    "        current_vertex = queue.dequeue()\n",
    "\n",
    "        // Process the current vertex\n",
    "        process(current_vertex)\n",
    "\n",
    "        // For each adjacent vertex to the current vertex\n",
    "        for each neighbor_vertex in Graph.adjacentVertices(current_vertex):\n",
    "            // If the neighbor vertex has not been visited yet\n",
    "            if neighbor_vertex not in visited:\n",
    "                // Mark it as visited and enqueue it\n",
    "                visited.add(neighbor_vertex)\n",
    "                queue.enqueue(neighbor_vertex)\n"
   ]
  },
  {
   "cell_type": "markdown",
   "id": "d80109c0-e9e3-4126-9260-4595151c19ec",
   "metadata": {},
   "source": [
    "### Breadth-First Search Applications\n",
    "- Pathfinding algorithms\n",
    "  - artificial intelligence (machine learning) approaches help robots discover the surrounding easily with BFS and DFS.\n",
    "- Maximum Flow\n",
    "  - We can find the maximum flow in a flow network with Edmonds-Karp algorithm that uses BFS for finding augmenting paths.\n",
    "- Garbage Collection\n",
    "  - Cheyen's algorithm uses BFS during garbage collection to maintain the active references on the heap memory.\n",
    "- Serialization\n",
    "  - Serialization and deserialization of tree like structures (when order does matter) it enables the tree to be reconstructed in an efficient manner. "
   ]
  }
 ],
 "metadata": {
  "kernelspec": {
   "display_name": "Python 3 (ipykernel)",
   "language": "python",
   "name": "python3"
  },
  "language_info": {
   "codemirror_mode": {
    "name": "ipython",
    "version": 3
   },
   "file_extension": ".py",
   "mimetype": "text/x-python",
   "name": "python",
   "nbconvert_exporter": "python",
   "pygments_lexer": "ipython3",
   "version": "3.12.2"
  }
 },
 "nbformat": 4,
 "nbformat_minor": 5
}
