{
 "cells": [
  {
   "cell_type": "markdown",
   "id": "5c7e910e-f4da-49c7-89c0-9167fe9056f0",
   "metadata": {},
   "source": [
    "# Graph Algorithms (Notes)\n",
    "- Graph theory is the study of graphs, which are mathematical structures used to model pairwise relations between objects.\n",
    "- given G(V,E) graphs are made up of V nodes (vertices) that are connected by E edges (links).\n",
    "\n",
    "There are two main types of graphs: directed graphs and undirected graphs. \n",
    "\n",
    "1. Undirected graphs: an undirected graph G(V,E) is a set of vertices and edges where the edges are bidirectional. It means that edge (u,v) is identical to the edge (v,u). Note: the edges may have weights as well!\n",
    "2. Directed graphs: a directed graph G(V,E) is a set of vertices and edges where the edges have direction. It means that edge (u,v) is not identical to the edge (v,u). Note: the edges may have weights as well!\n",
    "\n",
    "There are several important graph types we have to consider:\n",
    "* Trees: a tree is an undirected graph where any two vertices (nodes) are connected by exactly one path.\n",
    "* Forests: a forest is an undirected graph, all of whose connected components are trees (disjoint union of trees).\n",
    "* Directed Acyclic Graph (DAG): it is a finite directed graph with no directed cycles (crucial in many algorithms).\n",
    "* Complete Graph: in a complete graph, every single pair of vertices (nodes) are connected."
   ]
  },
  {
   "cell_type": "markdown",
   "id": "0809dee9-e0a9-444f-8371-2dde5e81fb94",
   "metadata": {},
   "source": [
    "### How to represent these G(V,E) in a programming lanaguage?\n",
    "\n",
    "Adjacency List Representation\n",
    "* we assign a data structure (array) to every single vertex (node) in a graph that stores the edge accordingly.\n",
    "* Example: A: [(4,C),(2,B)]\n",
    "                 B: [(3,D)]\n",
    "                 C: []\n",
    "                 D: []\n",
    "* Space efficient when dealing with sparce graphs but inefficient with dense one.\n",
    "* Iterating over all the edges is efficient.\n",
    "* Edge weight lookup is slow O(E) because we have to find it in linear time.\n",
    "\n",
    "Adjacency Matrix Representation \n",
    "* Let's assume we have a G(V,E) graph with V vertices (nodes) and E edges (links).\n",
    "* We can construct an M matrix with size VxV where M[i][j] represents the edge weight of going from node i to node j.\n",
    "* Space efficient with dense graphs but it requires O(V^2) memory.\n",
    "* Edge weight lookup is O(1).\n",
    "* Iterating over all edges takes O(E^2)"
   ]
  },
  {
   "cell_type": "code",
   "execution_count": 3,
   "id": "e76b0712-42a3-42cf-8268-597782025055",
   "metadata": {},
   "outputs": [],
   "source": [
    "#           A  B   C   D \n",
    "matrix = [ [0, 2,  4,  0], # A\n",
    "           [0, 0,  0,  3], # B\n",
    "           [0, 0,  0,  0], # C\n",
    "           [0, 0,  0,  0]  # D \n",
    "         ]"
   ]
  },
  {
   "cell_type": "markdown",
   "id": "922cda29-48e8-4e74-a75a-d5b2780fe987",
   "metadata": {},
   "source": [
    "### Applications of Graph Algorithms\n",
    "\n",
    "* Shortest path algorithms are used on daily basis (Google Maps, Waze, Ect.).\n",
    "  - Dijkstra's shortest path algorithm can find the shortest path between two or more locations quite fast.\n",
    "  - Arbitrage opportunities on the FOREX can be detected with the help of Bellman-Ford algorithm (detecting negative cycles).\n",
    "  - Shortest path algorithms are used in photo editing softwares as well (Photoshop, Gimp)\n",
    "  - Computer Networks: Open Shortest Path First (OSPF) is a routing protocol for computer networks that helps to navigate packages on the web.\n",
    "  \n",
    "- Google's Page Rank Algorithm\n",
    "  - Graph traversal algorithms (especially breath-first search) can traverse huge networks such as the WWW\n",
    "    - this is how Google's spider crawls the web and keeps indexing the web pages (page rank calculation).\n",
    "      \n",
    "- Software Engineering\n",
    "  - Let's consider software project managment tools such as Maven and Gradle.\n",
    "    - The problem is that packages or modules (dependecies) may depend on each other: the order of compilation is important.\n",
    "    - this problem can be reduced to the problem of cycles in a graph and directed acyclic graphs (DAGs).\n",
    "\n",
    "- Optimization Problems\n",
    "  - Most of the quadratic optimization related problems can be transformed into a graph theory related problem.\n",
    "    - Maximum flow problem (max flow min cut problem).\n",
    "    - Circulation problem and airline scheduling.\n",
    "    - Vehicle routing problem etc. "
   ]
  }
 ],
 "metadata": {
  "kernelspec": {
   "display_name": "Python 3 (ipykernel)",
   "language": "python",
   "name": "python3"
  },
  "language_info": {
   "codemirror_mode": {
    "name": "ipython",
    "version": 3
   },
   "file_extension": ".py",
   "mimetype": "text/x-python",
   "name": "python",
   "nbconvert_exporter": "python",
   "pygments_lexer": "ipython3",
   "version": "3.12.2"
  }
 },
 "nbformat": 4,
 "nbformat_minor": 5
}
