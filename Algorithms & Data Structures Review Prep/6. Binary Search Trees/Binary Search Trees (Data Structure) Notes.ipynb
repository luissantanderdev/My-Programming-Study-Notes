{
 "cells": [
  {
   "cell_type": "markdown",
   "id": "c98ef3ad-431e-47a7-9c45-f7d525d8e8e9",
   "metadata": {},
   "source": [
    "# Binary Search Trees (Data Structure) Notes\n",
    "\n",
    "### Tree (Graph Theory)\n",
    "* we have access to the root node exclusively all other nodes can be accessed via the root node.\n",
    "* A tree is a G(V,E) undirected graph in which any two vertices are connected by exactly one path or equivalently a connected acrylic undirected graph.\n",
    "\n",
    "![Alt text](./imgs/bst1.png)\n",
    "\n",
    "* every node in the tree can have at most 2 children (left child and right child).\n",
    "* right child is greater than the parent node.\n",
    "* left child is lesser than the parent node. \n",
    "* we can access the root node exclusively and all other nodes can be accessed via the root node.\n",
    "\n",
    "![Alt text](./imgs/bst2.png)\n",
    "\n",
    "* every decision can get ride of half the data (like with binary search) and this is how we can achieve O(log(n)) running time."
   ]
  },
  {
   "cell_type": "markdown",
   "id": "ec531d84-92f8-4a7f-805d-187859d65085",
   "metadata": {},
   "source": [
    "### Layers\n",
    "\n",
    "![Alt text](./imgs/bst3.png)\n",
    "\n",
    "* The height of the tree is the number of edges on the longest downward path between the root and leaf node. The number of layers a tree contains.\n",
    "* the logarithmic O(log(n)) runnign time is valid only when the tree structure is balanced.\n",
    "* we should keep the height of a tree at a minimum which is h=log(n)\n",
    "* the tree structure may be become imbalanced, which means the number of nodes significantly differ in subtrees.\n",
    "* if the tree is imbalanced so the h=log(n) relation is no more valid then the operations running time is no more O(log(N)) logarithmic."
   ]
  },
  {
   "cell_type": "markdown",
   "id": "df0380f5-3bef-4d7d-a5c9-1cc24a9e1637",
   "metadata": {},
   "source": [
    "# Tree Balance\n",
    "\n",
    "![Alt text](./imgs/bst4.png)"
   ]
  },
  {
   "cell_type": "markdown",
   "id": "0f8a3717-6fd9-4402-ba5a-5393a2ea931b",
   "metadata": {},
   "source": [
    "# Binary Search Tree Traversal\n",
    "\n",
    "* Tree traversal means visitign every node of the binary search tree exactly once O(N) linear running time.\n",
    "1. pre-order traversal\n",
    "   - we visit root node of the bst then the left subtree and finally the right subtree.\n",
    "2. in-order traversal\n",
    "   - we visit the left subtree of the bst then the right subtree and finally the root node in recursive manner. \n",
    "3. post-order traversal\n",
    "   - in-order traversal (sorted order)\n",
    "   - we visit the left subtree of the bst then the root node and finally the right subtree in a recursive manner."
   ]
  },
  {
   "cell_type": "markdown",
   "id": "df0a6ef2-426b-4a05-8841-642b1de954a5",
   "metadata": {},
   "source": [
    "Space complexity: O(N)\n",
    "Insertion: O(N)\n",
    "Deletion: O(N)\n",
    "Search: O(N) \n",
    "all worst case but average is O(log(n))\n",
    "\n",
    "### Pros\n",
    "- Fast operations have O(log(n)) logarithmic running time (average-case).\n",
    "- Predictable because all the operations share the same running time.\n",
    "\n",
    "### Cons\n",
    "- The tree may become imbalanced depending on the orther in which we insert the items.\n",
    "- No random access we only truly access the first node (head node) exclusively."
   ]
  },
  {
   "cell_type": "markdown",
   "id": "ab5d3a3f-8c12-45f4-9be3-e536b542aa30",
   "metadata": {},
   "source": [
    "### Tree Applications \n",
    "\n",
    "Operating Systems uses almost all the important data structures. Let's tak about the real-world applications of trees.\n",
    "    \n",
    "    1. trees are extremely powerful if we want to represent hierarchical data (file systems)\n",
    "        - operating systems.\n",
    "        - game trees (chess and tic-tac-toe).\n",
    "        - machine learning: we like decision trees and boosting uses very simple tree structures. "
   ]
  }
 ],
 "metadata": {
  "kernelspec": {
   "display_name": "Python 3 (ipykernel)",
   "language": "python",
   "name": "python3"
  },
  "language_info": {
   "codemirror_mode": {
    "name": "ipython",
    "version": 3
   },
   "file_extension": ".py",
   "mimetype": "text/x-python",
   "name": "python",
   "nbconvert_exporter": "python",
   "pygments_lexer": "ipython3",
   "version": "3.12.2"
  }
 },
 "nbformat": 4,
 "nbformat_minor": 5
}
