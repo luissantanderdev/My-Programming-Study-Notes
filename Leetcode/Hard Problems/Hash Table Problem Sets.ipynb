{
 "cells": [
  {
   "cell_type": "markdown",
   "metadata": {},
   "source": [
    "### Hash Table Leetcode (Mediums) Problem Sets"
   ]
  },
  {
   "cell_type": "markdown",
   "metadata": {},
   "source": [
    "2610. Convert an Array Into a 2D Array With Conditions\n",
    "Medium\n",
    "Topics\n",
    "Companies\n",
    "Hint\n",
    "You are given an integer array nums. You need to create a 2D array from nums satisfying the following conditions:\n",
    "\n",
    "The 2D array should contain only the elements of the array nums.\n",
    "Each row in the 2D array contains distinct integers.\n",
    "The number of rows in the 2D array should be minimal.\n",
    "Return the resulting array. If there are multiple answers, return any of them.\n",
    "\n",
    "Note that the 2D array can have a different number of elements on each row.\n",
    "\n",
    "Example 1:\n",
    "\n",
    "Input: nums = [1,3,4,1,2,3,1]\n",
    "Output: [[1,3,4,2],[1,3],[1]]\n",
    "Explanation: We can create a 2D array that contains the following rows:\n",
    "- 1,3,4,2\n",
    "- 1,3\n",
    "- 1\n",
    "All elements of nums were used, and each row of the 2D array contains distinct integers, so it is a valid answer.\n",
    "It can be shown that we cannot have less than 3 rows in a valid array.\n",
    "Example 2:\n",
    "\n",
    "Input: nums = [1,2,3,4]\n",
    "Output: [[4,3,2,1]]\n",
    "Explanation: All elements of the array are distinct, so we can keep all of them in the first row of the 2D array.\n",
    " \n",
    "Constraints:\n",
    "\n",
    "- 1 <= nums.length <= 200\n",
    "- 1 <= nums[i] <= nums.length"
   ]
  },
  {
   "cell_type": "code",
   "execution_count": 39,
   "metadata": {},
   "outputs": [
    {
     "name": "stdout",
     "output_type": "stream",
     "text": [
      "[[1, 3, 4, 2], [1, 3], [1]]\n",
      "[[1, 2, 3, 4]]\n",
      "[[8, 2, 4], [8, 2, 4], [8, 4], [8]]\n",
      "[[4, 2], [4], [4], [4]]\n"
     ]
    }
   ],
   "source": [
    "from typing import List\n",
    "\n",
    "def find_matrix(nums: List[int]) -> List[List[int]]:\n",
    "    left = 0 \n",
    "    n = len(nums) \n",
    "    buckets = {} \n",
    "    matrix = [] \n",
    "    max_count = 0 \n",
    "\n",
    "    while (left < n):\n",
    "        buckets[nums[left]] = 1 + buckets.get(nums[left], 0)\n",
    "        max_count = max(buckets[nums[left]], max_count)\n",
    "        left = left + 1 \n",
    "    \n",
    "    while (max_count > 0):\n",
    "        sub_matrix = [] \n",
    "\n",
    "        for key, value in buckets.items():\n",
    "            if (value != 0): \n",
    "                sub_matrix.append(key) \n",
    "                buckets[key] -= 1 \n",
    "        \n",
    "        if (sub_matrix != []): \n",
    "            matrix.append(sub_matrix) \n",
    "\n",
    "        max_count = max_count - 1\n",
    "    \n",
    "    return matrix\n",
    "\n",
    "\n",
    "nums1 = [1,3,4,1,2,3,1]\n",
    "print(find_matrix(nums1))\n",
    "\n",
    "nums2 = [1,2,3,4]\n",
    "print(find_matrix(nums2))\n",
    "\n",
    "nums3 = [8,8,8,8,2,4,4,2,4]\n",
    "print(find_matrix(nums3))\n",
    "\n",
    "nums4 = [4,4,4,4,2]\n",
    "print(find_matrix(nums4))"
   ]
  },
  {
   "cell_type": "markdown",
   "metadata": {},
   "source": []
  }
 ],
 "metadata": {
  "kernelspec": {
   "display_name": "Python 3",
   "language": "python",
   "name": "python3"
  },
  "language_info": {
   "codemirror_mode": {
    "name": "ipython",
    "version": 3
   },
   "file_extension": ".py",
   "mimetype": "text/x-python",
   "name": "python",
   "nbconvert_exporter": "python",
   "pygments_lexer": "ipython3",
   "version": "3.12.2"
  }
 },
 "nbformat": 4,
 "nbformat_minor": 2
}
