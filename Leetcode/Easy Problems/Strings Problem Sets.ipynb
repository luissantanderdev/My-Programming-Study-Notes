{
 "cells": [
  {
   "cell_type": "markdown",
   "id": "ffa7b3bc-51fa-4ff9-9d56-5629978af9f8",
   "metadata": {},
   "source": [
    "# String Based Problem Sets"
   ]
  },
  {
   "cell_type": "markdown",
   "id": "4dbb35d9-d0f8-4bf9-a104-b3ba72fe67ab",
   "metadata": {},
   "source": [
    "### 1108. Defanging an IP Address\n",
    "Solved\n",
    "Easy\n",
    "Topics\n",
    "Companies\n",
    "Given a valid (IPv4) IP address, return a defanged version of that IP address.\n",
    "\n",
    "A defanged IP address replaces every period \".\" with \"[.]\".\n",
    "\n",
    " \n",
    "\n",
    "Example 1:\n",
    "\n",
    "Input: address = \"1.1.1.1\"\n",
    "Output: \"1[.]1[.]1[.]1\"\n",
    "Example 2:\n",
    "\n",
    "Input: address = \"255.100.50.0\"\n",
    "Output: \"255[.]100[.]50[.]0\"\n",
    " \n",
    "\n",
    "Constraints:\n",
    "\n",
    "The given address is a valid IPv4 address."
   ]
  },
  {
   "cell_type": "code",
   "execution_count": 2,
   "id": "4ea0bf27-ba89-4d6d-9c3e-428022f76b25",
   "metadata": {},
   "outputs": [
    {
     "name": "stdout",
     "output_type": "stream",
     "text": [
      "1[.]1[.]1[.]1\n"
     ]
    }
   ],
   "source": [
    "def defangIPaddr(address: str) -> str:\n",
    "    i = 0 \n",
    "    defanged = '' \n",
    "    while (i < len(address)):\n",
    "        if(not address[i].isalnum()):\n",
    "            defanged += '[.]'\n",
    "        else:\n",
    "            defanged += address[i]\n",
    "        i = i + 1 \n",
    "    return defanged\n",
    "\n",
    "res1 = defangIPaddr('1.1.1.1')\n",
    "print(res1)"
   ]
  },
  {
   "cell_type": "markdown",
   "id": "e0489981-8503-449d-8f15-720db4ab6e9d",
   "metadata": {},
   "source": [
    "### 242. Valid Anagram (Neetcode Roadmap Problem)\n",
    "Solved\n",
    "Easy\n",
    "Topics\n",
    "Companies\n",
    "Given two strings s and t, return true if t is an anagram of s, and false otherwise.\n",
    "\n",
    "An Anagram is a word or phrase formed by rearranging the letters of a different word or phrase, typically using all the original letters exactly once.\n",
    "\n",
    " \n",
    "\n",
    "Example 1:\n",
    "\n",
    "Input: s = \"anagram\", t = \"nagaram\"\n",
    "Output: true\n",
    "Example 2:\n",
    "\n",
    "Input: s = \"rat\", t = \"car\"\n",
    "Output: false\n",
    " \n",
    "\n",
    "Constraints:\n",
    "\n",
    "1 <= s.length, t.length <= 5 * 104\n",
    "s and t consist of lowercase English letters.\n",
    " \n",
    "\n",
    "Follow up: What if the inputs contain Unicode characters? How would you adapt your solution to such a case?"
   ]
  },
  {
   "cell_type": "code",
   "execution_count": 2,
   "id": "5982013d-0d18-409f-be07-9b7be1213962",
   "metadata": {},
   "outputs": [
    {
     "name": "stdout",
     "output_type": "stream",
     "text": [
      "True\n",
      "False\n"
     ]
    }
   ],
   "source": [
    "from typing import List \n",
    "\n",
    "def is_anagram(s: str, t: str) -> bool:\n",
    "    if (len(s) != len(t)):\n",
    "        return False \n",
    "\n",
    "    s_dic, t_dic = {}, {}\n",
    "    i = 0 \n",
    "\n",
    "    while (i < len(s)): \n",
    "        if (s[i] not in s_dic): \n",
    "            s_dic[s[i]] = 1 \n",
    "        else:\n",
    "            s_dic[s[i]] += 1 \n",
    "\n",
    "        if (t[i] not in t_dic): \n",
    "            t_dic[t[i]] = 1\n",
    "        else:\n",
    "            t_dic[t[i]] += 1 \n",
    "\n",
    "        i += 1 \n",
    "\n",
    "    return s_dic == t_dic \n",
    "\n",
    "print(is_anagram('anagram', 'nagaram'))\n",
    "print(is_anagram('rat', 'car'))"
   ]
  },
  {
   "cell_type": "code",
   "execution_count": null,
   "id": "5d77eb24-20bd-4a7b-88f1-049ba8661b06",
   "metadata": {},
   "outputs": [],
   "source": []
  }
 ],
 "metadata": {
  "kernelspec": {
   "display_name": "Python 3 (ipykernel)",
   "language": "python",
   "name": "python3"
  },
  "language_info": {
   "codemirror_mode": {
    "name": "ipython",
    "version": 3
   },
   "file_extension": ".py",
   "mimetype": "text/x-python",
   "name": "python",
   "nbconvert_exporter": "python",
   "pygments_lexer": "ipython3",
   "version": "3.12.2"
  }
 },
 "nbformat": 4,
 "nbformat_minor": 5
}
