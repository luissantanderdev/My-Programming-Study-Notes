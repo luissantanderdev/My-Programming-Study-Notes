{
 "cells": [
  {
   "cell_type": "markdown",
   "id": "ffa7b3bc-51fa-4ff9-9d56-5629978af9f8",
   "metadata": {},
   "source": [
    "# String Based Problem Sets"
   ]
  },
  {
   "cell_type": "markdown",
   "id": "4dbb35d9-d0f8-4bf9-a104-b3ba72fe67ab",
   "metadata": {},
   "source": [
    "### 1108. Defanging an IP Address\n",
    "Solved\n",
    "Easy\n",
    "Topics\n",
    "Companies\n",
    "Given a valid (IPv4) IP address, return a defanged version of that IP address.\n",
    "\n",
    "A defanged IP address replaces every period \".\" with \"[.]\".\n",
    "\n",
    " \n",
    "\n",
    "Example 1:\n",
    "\n",
    "Input: address = \"1.1.1.1\"\n",
    "Output: \"1[.]1[.]1[.]1\"\n",
    "Example 2:\n",
    "\n",
    "Input: address = \"255.100.50.0\"\n",
    "Output: \"255[.]100[.]50[.]0\"\n",
    " \n",
    "\n",
    "Constraints:\n",
    "\n",
    "The given address is a valid IPv4 address."
   ]
  },
  {
   "cell_type": "code",
   "execution_count": 2,
   "id": "4ea0bf27-ba89-4d6d-9c3e-428022f76b25",
   "metadata": {},
   "outputs": [
    {
     "name": "stdout",
     "output_type": "stream",
     "text": [
      "1[.]1[.]1[.]1\n"
     ]
    }
   ],
   "source": [
    "def defangIPaddr(address: str) -> str:\n",
    "    i = 0 \n",
    "    defanged = '' \n",
    "    while (i < len(address)):\n",
    "        if(not address[i].isalnum()):\n",
    "            defanged += '[.]'\n",
    "        else:\n",
    "            defanged += address[i]\n",
    "        i = i + 1 \n",
    "    return defanged\n",
    "\n",
    "res1 = defangIPaddr('1.1.1.1')\n",
    "print(res1)"
   ]
  }
 ],
 "metadata": {
  "kernelspec": {
   "display_name": "Python 3 (ipykernel)",
   "language": "python",
   "name": "python3"
  },
  "language_info": {
   "codemirror_mode": {
    "name": "ipython",
    "version": 3
   },
   "file_extension": ".py",
   "mimetype": "text/x-python",
   "name": "python",
   "nbconvert_exporter": "python",
   "pygments_lexer": "ipython3",
   "version": "3.12.2"
  }
 },
 "nbformat": 4,
 "nbformat_minor": 5
}
