{
 "cells": [
  {
   "cell_type": "markdown",
   "id": "93df1c17-c628-40e9-836d-6d06b5bcddf7",
   "metadata": {},
   "source": [
    "# Array Based Problem Sets (Leetcode Easy)"
   ]
  },
  {
   "cell_type": "code",
   "execution_count": 2,
   "id": "814c081d-38a6-49d7-bcd7-7579df2bb22b",
   "metadata": {},
   "outputs": [],
   "source": [
    "from typing import List"
   ]
  },
  {
   "cell_type": "markdown",
   "id": "60807729-4ba7-45fd-a419-573e705bc678",
   "metadata": {},
   "source": [
    "### 1929. Concatenation of Array\n",
    "Given an integer array nums of length n, you want to create an array ans of length 2n where ans[i] == nums[i] and ans[i + n] == nums[i] for 0 <= i < n (0-indexed).\n",
    "\n",
    "Specifically, ans is the concatenation of two nums arrays.\n",
    "\n",
    "Return the array ans.\n",
    "\n",
    " \n",
    "\n",
    "Example 1:\n",
    "\n",
    "Input: nums = [1,2,1]\n",
    "Output: [1,2,1,1,2,1]\n",
    "Explanation: The array ans is formed as follows:\n",
    "- ans = [nums[0],nums[1],nums[2],nums[0],nums[1],nums[2]]\n",
    "- ans = [1,2,1,1,2,1]\n",
    "Example 2:\n",
    "\n",
    "Input: nums = [1,3,2,1]\n",
    "Output: [1,3,2,1,1,3,2,1]\n",
    "Explanation: The array ans is formed as follows:\n",
    "- ans = [nums[0],nums[1],nums[2],nums[3],nums[0],nums[1],nums[2],nums[3]]\n",
    "- ans = [1,3,2,1,1,3,2,1]\n",
    " \n",
    "\n",
    "Constraints:\n",
    "\n",
    "n == nums.length\n",
    "1 <= n <= 1000\n",
    "1 <= nums[i] <= 1000"
   ]
  },
  {
   "cell_type": "code",
   "execution_count": 3,
   "id": "0365cc82-9852-4070-874a-d00812ce7e55",
   "metadata": {},
   "outputs": [
    {
     "name": "stdout",
     "output_type": "stream",
     "text": [
      "[1, 2, 1, 1, 2, 1]\n",
      "[1, 3, 2, 1, 1, 3, 2, 1]\n"
     ]
    }
   ],
   "source": [
    "def getConcatenation(nums: List[int]) -> List[int]:\n",
    "    return nums + nums\n",
    "\n",
    "res1 = getConcatenation([1,2,1]) \n",
    "print(res1)\n",
    "\n",
    "res2 = getConcatenation([1,3,2,1])\n",
    "print(res2)"
   ]
  },
  {
   "cell_type": "markdown",
   "id": "56dc9280-c416-4e02-95aa-fe26b49172d4",
   "metadata": {},
   "source": [
    "### 1920. Build Array from Permutation\n",
    "\n",
    "Given a zero-based permutation nums (0-indexed), build an array ans of the same length where ans[i] = nums[nums[i]] for each 0 <= i < nums.length and return it.\n",
    "\n",
    "A zero-based permutation nums is an array of distinct integers from 0 to nums.length - 1 (inclusive).\n",
    "\n",
    " \n",
    "\n",
    "Example 1:\n",
    "\n",
    "Input: nums = [0,2,1,5,3,4]\n",
    "Output: [0,1,2,4,5,3]\n",
    "Explanation: The array ans is built as follows: \n",
    "ans = [nums[nums[0]], nums[nums[1]], nums[nums[2]], nums[nums[3]], nums[nums[4]], nums[nums[5]]]\n",
    "    = [nums[0], nums[2], nums[1], nums[5], nums[3], nums[4]]\n",
    "    = [0,1,2,4,5,3]\n",
    "Example 2:\n",
    "\n",
    "Input: nums = [5,0,1,2,3,4]\n",
    "Output: [4,5,0,1,2,3]\n",
    "Explanation: The array ans is built as follows:\n",
    "ans = [nums[nums[0]], nums[nums[1]], nums[nums[2]], nums[nums[3]], nums[nums[4]], nums[nums[5]]]\n",
    "    = [nums[5], nums[0], nums[1], nums[2], nums[3], nums[4]]\n",
    "    = [4,5,0,1,2,3]\n",
    " \n",
    "\n",
    "Constraints:\n",
    "\n",
    "1 <= nums.length <= 1000\n",
    "0 <= nums[i] < nums.length\n",
    "The elements in nums are distinct.\n",
    " "
   ]
  },
  {
   "cell_type": "code",
   "execution_count": 33,
   "id": "c57516f0-1f16-405a-9e99-662e7e305097",
   "metadata": {},
   "outputs": [
    {
     "name": "stdout",
     "output_type": "stream",
     "text": [
      "[0, 1, 2, 4, 5, 3] [4, 5, 0, 1, 2, 3]\n"
     ]
    }
   ],
   "source": [
    "def buildArray(nums: List[int]) -> List[int]:\n",
    "    return [nums[x] for x in nums]\n",
    "\n",
    "res1 = buildArray([0,2,1,5,3,4])\n",
    "res2 = buildArray([5,0,1,2,3,4])\n",
    "\n",
    "print(res1, res2)"
   ]
  },
  {
   "cell_type": "markdown",
   "id": "851373b2-3a84-4c2b-890a-9e5e1718173e",
   "metadata": {},
   "source": [
    "### 1512. Number of Good Pairs\n",
    "Easy\n",
    "Topics\n",
    "Companies\n",
    "Hint\n",
    "Given an array of integers nums, return the number of good pairs.\n",
    "\n",
    "A pair (i, j) is called good if nums[i] == nums[j] and i < j.\n",
    "\n",
    " \n",
    "\n",
    "Example 1:\n",
    "\n",
    "Input: nums = [1,2,3,1,1,3]\n",
    "Output: 4\n",
    "Explanation: There are 4 good pairs (0,3), (0,4), (3,4), (2,5) 0-indexed.\n",
    "Example 2:\n",
    "\n",
    "Input: nums = [1,1,1,1]\n",
    "Output: 6\n",
    "Explanation: Each pair in the array are good.\n",
    "Example 3:\n",
    "\n",
    "Input: nums = [1,2,3]\n",
    "Output: 0\n",
    " \n",
    "\n",
    "Constraints:\n",
    "\n",
    "1 <= nums.length <= 100\n",
    "1 <= nums[i] <= 100"
   ]
  },
  {
   "cell_type": "code",
   "execution_count": 32,
   "id": "820a0d2d-d9c2-43b3-b648-f6d538cfbfd9",
   "metadata": {},
   "outputs": [
    {
     "name": "stdout",
     "output_type": "stream",
     "text": [
      "4 6 0\n"
     ]
    }
   ],
   "source": [
    "def numIdenticalPairs(nums: List[int]) -> int:\n",
    "    counted_pairs = 0 \n",
    "    for i in range(len(nums)):\n",
    "        for j in range(i + 1, len(nums)):\n",
    "            if (nums[i] == nums[j]):\n",
    "                counted_pairs = counted_pairs + 1\n",
    "    return counted_pairs\n",
    "\n",
    "res1 = numIdenticalPairs([1,2,3,1,1,3])\n",
    "res2 = numIdenticalPairs([1,1,1,1])\n",
    "res3 = numIdenticalPairs([1,2,3])\n",
    "print(res1, res2, res3)"
   ]
  },
  {
   "cell_type": "markdown",
   "id": "939dd2bc-0619-407f-a5c7-497c6222f678",
   "metadata": {},
   "source": [
    "### 2011. Final Value of Variable After Performing Operations\n",
    "\n",
    "There is a programming language with only four operations and one variable X:\n",
    "\n",
    "++X and X++ increments the value of the variable X by 1.\n",
    "--X and X-- decrements the value of the variable X by 1.\n",
    "Initially, the value of X is 0.\n",
    "\n",
    "Given an array of strings operations containing a list of operations, return the final value of X after performing all the operations.\n",
    "\n",
    " \n",
    "\n",
    "Example 1:\n",
    "\n",
    "Input: operations = [\"--X\",\"X++\",\"X++\"]\n",
    "Output: 1\n",
    "Explanation: The operations are performed as follows:\n",
    "Initially, X = 0.\n",
    "--X: X is decremented by 1, X =  0 - 1 = -1.\n",
    "X++: X is incremented by 1, X = -1 + 1 =  0.\n",
    "X++: X is incremented by 1, X =  0 + 1 =  1.\n",
    "Example 2:\n",
    "\n",
    "Input: operations = [\"++X\",\"++X\",\"X++\"]\n",
    "Output: 3\n",
    "Explanation: The operations are performed as follows:\n",
    "Initially, X = 0.\n",
    "++X: X is incremented by 1, X = 0 + 1 = 1.\n",
    "++X: X is incremented by 1, X = 1 + 1 = 2.\n",
    "X++: X is incremented by 1, X = 2 + 1 = 3.\n",
    "Example 3:\n",
    "\n",
    "Input: operations = [\"X++\",\"++X\",\"--X\",\"X--\"]\n",
    "Output: 0\n",
    "Explanation: The operations are performed as follows:\n",
    "Initially, X = 0.\n",
    "X++: X is incremented by 1, X = 0 + 1 = 1.\n",
    "++X: X is incremented by 1, X = 1 + 1 = 2.\n",
    "--X: X is decremented by 1, X = 2 - 1 = 1.\n",
    "X--: X is decremented by 1, X = 1 - 1 = 0.\n",
    " \n",
    "\n",
    "Constraints:\n",
    "\n",
    "1 <= operations.length <= 100\n",
    "operations[i] will be either \"++X\", \"X++\", \"--X\", or \"X--\"."
   ]
  },
  {
   "cell_type": "code",
   "execution_count": 49,
   "id": "ae605bc7-9fc1-4ae5-b188-55ea9c1fda68",
   "metadata": {},
   "outputs": [
    {
     "name": "stdout",
     "output_type": "stream",
     "text": [
      "1 3\n"
     ]
    }
   ],
   "source": [
    "def finalValueAfterOperations(operations: List[str]) -> int:\n",
    "    x = 0 \n",
    "\n",
    "    for operation in operations:\n",
    "        if (operation == 'X++' or operation == '++X'):\n",
    "            x = 1 + x \n",
    "        if (operation == 'X--' or operation == '--X'):\n",
    "            x = x - 1\n",
    "    return x\n",
    "\n",
    "res1 = finalValueAfterOperations([\"--X\",\"X++\",\"X++\"])\n",
    "res2 = finalValueAfterOperations([\"++X\",\"++X\",\"X++\"])\n",
    "\n",
    "\n",
    "print(res1, res2)"
   ]
  },
  {
   "cell_type": "markdown",
   "id": "8fe05cca-587d-4294-af7a-ac80373fcaf1",
   "metadata": {},
   "source": [
    "### 1470. Shuffle the Array\n",
    "Easy\n",
    "Topics\n",
    "Companies\n",
    "Hint\n",
    "Given the array nums consisting of 2n elements in the form [x1,x2,...,xn,y1,y2,...,yn].\n",
    "\n",
    "Return the array in the form [x1,y1,x2,y2,...,xn,yn].\n",
    "\n",
    " \n",
    "\n",
    "Example 1:\n",
    "\n",
    "Input: nums = [2,5,1,3,4,7], n = 3\n",
    "Output: [2,3,5,4,1,7] \n",
    "Explanation: Since x1=2, x2=5, x3=1, y1=3, y2=4, y3=7 then the answer is [2,3,5,4,1,7].\n",
    "Example 2:\n",
    "\n",
    "Input: nums = [1,2,3,4,4,3,2,1], n = 4\n",
    "Output: [1,4,2,3,3,2,4,1]\n",
    "Example 3:\n",
    "\n",
    "Input: nums = [1,1,2,2], n = 2\n",
    "Output: [1,2,1,2]"
   ]
  },
  {
   "cell_type": "code",
   "execution_count": 55,
   "id": "a22d2cde-d514-4102-be3c-b59c00f7ba46",
   "metadata": {},
   "outputs": [
    {
     "name": "stdout",
     "output_type": "stream",
     "text": [
      "[2, 3, 5, 4, 1, 7] [1, 2, 1, 2] [1, 4, 2, 3, 3, 2, 4, 1]\n"
     ]
    }
   ],
   "source": [
    "def shuffle(nums: List[int], n: int) -> List[int]:\n",
    "    shuffled_arr = (2 * n) * [0]\n",
    "\n",
    "    i = 0 \n",
    "    j = 0 \n",
    "    k = n \n",
    "\n",
    "    while (i < (2 * n)):\n",
    "        if (i % 2 == 0):\n",
    "            shuffled_arr[i] = nums[j]\n",
    "            j = j + 1\n",
    "        else:\n",
    "            shuffled_arr[i] = nums[k]\n",
    "            k = k + 1\n",
    "\n",
    "        i = i + 1\n",
    "    \n",
    "    return shuffled_arr\n",
    "\n",
    "res1 = shuffle([2,5,1,3,4,7], 3)\n",
    "res2 = shuffle([1,1,2,2], 2)\n",
    "res3 = shuffle([1,2,3,4,4,3,2,1], 4)\n",
    "\n",
    "print(res1, res2, res3)"
   ]
  },
  {
   "cell_type": "markdown",
   "id": "9326b715-2ab2-498d-8a75-ded58628a17a",
   "metadata": {},
   "source": [
    "### 2942. Find Words Containing Character\n",
    "Easy\n",
    "Topics\n",
    "Companies\n",
    "Hint\n",
    "You are given a 0-indexed array of strings words and a character x.\n",
    "\n",
    "Return an array of indices representing the words that contain the character x.\n",
    "\n",
    "Note that the returned array may be in any order.\n",
    "\n",
    " \n",
    "\n",
    "Example 1:\n",
    "\n",
    "Input: words = [\"leet\",\"code\"], x = \"e\"\n",
    "Output: [0,1]\n",
    "Explanation: \"e\" occurs in both words: \"leet\", and \"code\". Hence, we return indices 0 and 1.\n",
    "Example 2:\n",
    "\n",
    "Input: words = [\"abc\",\"bcd\",\"aaaa\",\"cbc\"], x = \"a\"\n",
    "Output: [0,2]\n",
    "Explanation: \"a\" occurs in \"abc\", and \"aaaa\". Hence, we return indices 0 and 2.\n",
    "Example 3:\n",
    "\n",
    "Input: words = [\"abc\",\"bcd\",\"aaaa\",\"cbc\"], x = \"z\"\n",
    "Output: []\n",
    "Explanation: \"z\" does not occur in any of the words. Hence, we return an empty array."
   ]
  },
  {
   "cell_type": "code",
   "execution_count": 63,
   "id": "f036f31f-5416-4ddb-80e9-58019b038d3a",
   "metadata": {},
   "outputs": [
    {
     "name": "stdout",
     "output_type": "stream",
     "text": [
      "[0, 1] [0, 2]\n"
     ]
    }
   ],
   "source": [
    "def findWordsContaining(words: List[str], x: str) -> List[int]:\n",
    "    i = 0 \n",
    "    indices = []\n",
    "    \n",
    "    while (i < len(words)):\n",
    "        if (x in words[i]):\n",
    "            indices.append(i)\n",
    "\n",
    "        i = i + 1 \n",
    "\n",
    "    return indices\n",
    "\n",
    "res1 = findWordsContaining(['leet', 'code'], 'e')\n",
    "res2 = findWordsContaining(['abc', 'bcd', 'aaaa', 'cbc'], 'a')\n",
    "\n",
    "print(res1, res2)"
   ]
  },
  {
   "cell_type": "markdown",
   "id": "62dcb134-61ec-4899-8f9d-43f61033873c",
   "metadata": {},
   "source": [
    "## 1672. Richest Customer Wealth\n",
    "Easy\n",
    "Topics\n",
    "Companies\n",
    "Hint\n",
    "You are given an m x n integer grid accounts where accounts[i][j] is the amount of money the i​​​​​​​​​​​th​​​​ customer has in the j​​​​​​​​​​​th​​​​ bank. Return the wealth that the richest customer has.\n",
    "\n",
    "A customer's wealth is the amount of money they have in all their bank accounts. The richest customer is the customer that has the maximum wealth.\n",
    "\n",
    " \n",
    "\n",
    "Example 1:\n",
    "\n",
    "Input: accounts = [[1,2,3],[3,2,1]]\n",
    "Output: 6\n",
    "Explanation:\n",
    "1st customer has wealth = 1 + 2 + 3 = 6\n",
    "2nd customer has wealth = 3 + 2 + 1 = 6\n",
    "Both customers are considered the richest with a wealth of 6 each, so return 6.\n",
    "Example 2:\n",
    "\n",
    "Input: accounts = [[1,5],[7,3],[3,5]]\n",
    "Output: 10\n",
    "Explanation: \n",
    "1st customer has wealth = 6\n",
    "2nd customer has wealth = 10 \n",
    "3rd customer has wealth = 8\n",
    "The 2nd customer is the richest with a wealth of 10.\n",
    "Example 3:\n",
    "\n",
    "Input: accounts = [[2,8,7],[7,1,3],[1,9,5]]\n",
    "Output: 17\n",
    " \n",
    "\n",
    "Constraints:\n",
    "\n",
    "m == accounts.length\n",
    "n == accounts[i].length\n",
    "1 <= m, n <= 50\n",
    "1 <= accounts[i][j] <= 100"
   ]
  },
  {
   "cell_type": "code",
   "execution_count": 70,
   "id": "1f9e95dd-4125-4dad-8724-fdee69514b6e",
   "metadata": {},
   "outputs": [
    {
     "name": "stdout",
     "output_type": "stream",
     "text": [
      "6 10\n"
     ]
    }
   ],
   "source": [
    "def maximumWealth(accounts: List[List[int]]) -> int:\n",
    "    biggest_account = 0 \n",
    "\n",
    "    for customer_accounts in accounts:\n",
    "        biggest_account = max(biggest_account, sum(customer_accounts))\n",
    "    \n",
    "    return biggest_account\n",
    "\n",
    "res1 = maximumWealth([[1,2,3],[3,2,1]])\n",
    "res2 = maximumWealth([[1,5], [7,3],[3,5]])\n",
    "\n",
    "print(res1, res2)"
   ]
  },
  {
   "cell_type": "code",
   "execution_count": null,
   "id": "0512afe5-c8c2-4117-97f5-3d5a609f327b",
   "metadata": {},
   "outputs": [],
   "source": []
  }
 ],
 "metadata": {
  "kernelspec": {
   "display_name": "Python 3 (ipykernel)",
   "language": "python",
   "name": "python3"
  },
  "language_info": {
   "codemirror_mode": {
    "name": "ipython",
    "version": 3
   },
   "file_extension": ".py",
   "mimetype": "text/x-python",
   "name": "python",
   "nbconvert_exporter": "python",
   "pygments_lexer": "ipython3",
   "version": "3.12.2"
  }
 },
 "nbformat": 4,
 "nbformat_minor": 5
}
