{
 "cells": [
  {
   "cell_type": "markdown",
   "metadata": {},
   "source": [
    "### Backtracking (Leetcode Easy Problems)"
   ]
  },
  {
   "cell_type": "markdown",
   "metadata": {},
   "source": [
    "1863. Sum of All Subset XOR Totals\n",
    "Easy\n",
    "Topics\n",
    "Companies\n",
    "Hint\n",
    "The XOR total of an array is defined as the bitwise XOR of all its elements, or 0 if the array is empty.\n",
    "\n",
    "For example, the XOR total of the array [2,5,6] is 2 XOR 5 XOR 6 = 1.\n",
    "Given an array nums, return the sum of all XOR totals for every subset of nums. \n",
    "\n",
    "Note: Subsets with the same elements should be counted multiple times.\n",
    "\n",
    "An array a is a subset of an array b if a can be obtained from b by deleting some (possibly zero) elements of b.\n",
    "\n",
    "Example 1:\n",
    "\n",
    "Input: nums = [1,3]\n",
    "Output: 6\n",
    "Explanation: The 4 subsets of [1,3] are:\n",
    "- The empty subset has an XOR total of 0.\n",
    "- [1] has an XOR total of 1.\n",
    "- [3] has an XOR total of 3.\n",
    "- [1,3] has an XOR total of 1 XOR 3 = 2.\n",
    "0 + 1 + 3 + 2 = 6\n",
    "Example 2:\n",
    "\n",
    "Input: nums = [5,1,6]\n",
    "Output: 28\n",
    "Explanation: The 8 subsets of [5,1,6] are:\n",
    "- The empty subset has an XOR total of 0.\n",
    "- [5] has an XOR total of 5.\n",
    "- [1] has an XOR total of 1.\n",
    "- [6] has an XOR total of 6.\n",
    "- [5,1] has an XOR total of 5 XOR 1 = 4.\n",
    "- [5,6] has an XOR total of 5 XOR 6 = 3.\n",
    "- [1,6] has an XOR total of 1 XOR 6 = 7.\n",
    "- [5,1,6] has an XOR total of 5 XOR 1 XOR 6 = 2.\n",
    "0 + 5 + 1 + 6 + 4 + 3 + 7 + 2 = 28\n",
    "Example 3:\n",
    "\n",
    "Input: nums = [3,4,5,6,7,8]\n",
    "Output: 480\n",
    "Explanation: The sum of all XOR totals for every subset is 480.\n",
    " \n",
    "Constraints:\n",
    "\n",
    "- 1 <= nums.length <= 12\n",
    "- 1 <= nums[i] <= 20"
   ]
  },
  {
   "cell_type": "code",
   "execution_count": 29,
   "metadata": {},
   "outputs": [
    {
     "name": "stdout",
     "output_type": "stream",
     "text": [
      "6\n",
      "28\n"
     ]
    }
   ],
   "source": [
    "from typing import List \n",
    "\n",
    "# def subsetXORSum(self, nums: List[int]) -> int:\n",
    "#     def dfs(i, xor_total):\n",
    "#         if len(nums) == i:\n",
    "#             return xor_total\n",
    "        \n",
    "#         return dfs(i+1, xor_total ^ nums[i]) + dfs(i+1, xor_total)\n",
    "    \n",
    "#     return dfs(0, 0)\n",
    "\n",
    "\n",
    "def backtrack(start, path, result: List[int], nums):\n",
    "    # result.append(path[:])\n",
    "\n",
    "    ans = 0 \n",
    "    for num in path: \n",
    "        ans = ans ^ num \n",
    "    \n",
    "    result[0] += ans \n",
    "\n",
    "    for i in range(start, len(nums)):\n",
    "        # Include the current element\n",
    "        path.append(nums[i])\n",
    "        # Move to the next element\n",
    "        backtrack(i + 1, path, result, nums)\n",
    "        # Exclude the current element (backtrack)\n",
    "        path.pop()\n",
    "\n",
    "def subset_xor_sum(nums: List[int]):\n",
    "    result = [0] \n",
    "    backtrack(0, [], result, nums) \n",
    "    return result[0]\n",
    "\n",
    "nums = [1,3]\n",
    "print(subset_xor_sum(nums))\n",
    "\n",
    "nums = [5,1,6]\n",
    "print(subset_xor_sum(nums))"
   ]
  },
  {
   "cell_type": "markdown",
   "metadata": {},
   "source": []
  }
 ],
 "metadata": {
  "kernelspec": {
   "display_name": "Python 3",
   "language": "python",
   "name": "python3"
  },
  "language_info": {
   "codemirror_mode": {
    "name": "ipython",
    "version": 3
   },
   "file_extension": ".py",
   "mimetype": "text/x-python",
   "name": "python",
   "nbconvert_exporter": "python",
   "pygments_lexer": "ipython3",
   "version": "3.12.2"
  }
 },
 "nbformat": 4,
 "nbformat_minor": 2
}
