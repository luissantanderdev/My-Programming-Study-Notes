{
 "cells": [
  {
   "cell_type": "markdown",
   "metadata": {},
   "source": [
    "### Neetcode (Blind 75) - Sliding Window "
   ]
  },
  {
   "cell_type": "markdown",
   "metadata": {},
   "source": [
    "### Buy and Sell Crypto\n",
    "You are given an integer array prices where prices[i] is the price of NeetCoin on the ith day.\n",
    "\n",
    "You may choose a single day to buy one NeetCoin and choose a different day in the future to sell it.\n",
    "\n",
    "Return the maximum profit you can achieve. You may choose to not make any transactions, in which case the profit would be 0.\n",
    "\n",
    "Example 1:\n",
    "\n",
    "Input: prices = [10,1,5,6,7,1]\n",
    "\n",
    "Output: 6\n",
    "Explanation: Buy prices[1] and sell prices[4], profit = 7 - 1 = 6.\n",
    "\n",
    "Example 2:\n",
    "\n",
    "Input: prices = [10,8,7,5,2]\n",
    "\n",
    "Output: 0\n",
    "Explanation: No profitable transactions can be made, thus the max profit is 0.\n",
    "\n",
    "Constraints:\n",
    "\n",
    "- 1 <= prices.length <= 100\n",
    "- 0 <= prices[i] <= 100\n",
    "- Accepted: 2123  |  Submitted: 3084  |  Acceptance Rate: 69%"
   ]
  },
  {
   "cell_type": "markdown",
   "metadata": {},
   "source": []
  },
  {
   "cell_type": "code",
   "execution_count": 46,
   "metadata": {},
   "outputs": [
    {
     "name": "stdout",
     "output_type": "stream",
     "text": [
      "bought on day:  4 price:  5\n",
      "bought on day:  5 price:  3\n",
      "4\n"
     ]
    }
   ],
   "source": [
    "from typing import List\n",
    "\n",
    "# Wants:\n",
    "'''\n",
    "max profit \n",
    "you buy and then sell at a later day. \n",
    "\n",
    "'''\n",
    "\n",
    "def max_profit(prices: List[int]) -> int: \n",
    "    min_price_index, profit, n = 0, 0, len(prices)\n",
    "\n",
    "    for day in range(1, n):\n",
    "        curr_price = prices[day]\n",
    "\n",
    "        # Bought Stock \n",
    "        if (curr_price < prices[min_price_index]):\n",
    "            print('bought on day: ', day + 1, 'price: ', curr_price) \n",
    "            min_price_index = day \n",
    "\n",
    "        # Day is at later day than the bought stock index day then potentially sell. \n",
    "        elif (day > min_price_index): \n",
    "            diff = curr_price - prices[min_price_index]\n",
    "            if (diff > profit):\n",
    "                profit = diff \n",
    "            \n",
    "    return profit \n",
    "\n",
    "print(max_profit([7, 7, 7, 5, 3, 6, 7]))\n",
    "# print(max_profit([10,1,5,6,7,1]))\n",
    "# print(max_profit([7, 1, 5, 3, 6, 4]))"
   ]
  },
  {
   "cell_type": "markdown",
   "metadata": {},
   "source": [
    "### Longest Substring Without Duplicates\n",
    "Given a string s, find the length of the longest substring without duplicate characters.\n",
    "\n",
    "A substring is a contiguous sequence of characters within a string.\n",
    "\n",
    "Example 1:\n",
    "\n",
    "Input: s = \"zxyzxyz\"\n",
    "\n",
    "Output: 3\n",
    "Explanation: The string \"xyz\" is the longest without duplicate characters.\n",
    "\n",
    "Example 2:\n",
    "\n",
    "Input: s = \"xxxx\"\n",
    "\n",
    "Output: 1\n",
    "Constraints:\n",
    "\n",
    "0 <= s.length <= 1000\n",
    "s may consist of printable ASCII characters."
   ]
  },
  {
   "cell_type": "code",
   "execution_count": 4,
   "metadata": {},
   "outputs": [
    {
     "name": "stdout",
     "output_type": "stream",
     "text": [
      "['p']\n",
      "['p', 'w']\n",
      "['w']\n",
      "[]\n",
      "['w']\n",
      "['w', 'k']\n",
      "['w', 'k', 'e']\n",
      "['k', 'e']\n",
      "['k', 'e', 'w']\n",
      "3\n"
     ]
    }
   ],
   "source": [
    "# O(n^2) why because the j pointer resets to the i pointers position\n",
    "def length_of_longest_substring_slow(s: str) -> int:\n",
    "    '''gets the max length of the longest substring''' \n",
    "    max_length = 0 \n",
    "    i = 0 \n",
    "    j = i \n",
    "    n = len(s) \n",
    "\n",
    "    sequence = set() \n",
    "\n",
    "    while (i < n and j < n): \n",
    "        if (s[j] not in sequence):\n",
    "            sequence.add(s[j])\n",
    "            j = j + 1 \n",
    "        else: \n",
    "            max_length = max(max_length, len(sequence))\n",
    "            sequence = set() \n",
    "            i = i + 1 \n",
    "            j = i \n",
    "\n",
    "    max_length = max(max_length, len(sequence))\n",
    "\n",
    "    return max_length\n",
    "\n",
    "# How do we make this in O(n) linear time complexity? \n",
    "def length_of_longest_substring(s: str) -> int: \n",
    "    '''gets the max length of the longest substring''' \n",
    "    max_length = 0 \n",
    "    i = 0 \n",
    "    j = i \n",
    "    n = len(s) \n",
    "    sequence = set() \n",
    "\n",
    "    while (i < n and j < n): \n",
    "        if (i == j):\n",
    "            sequence.add(s[j])\n",
    "            j = j + 1 \n",
    "        elif (s[j] in sequence):\n",
    "            max_length = max(max_length, len(sequence))\n",
    "            sequence.remove(s[i])\n",
    "            i = i + 1 \n",
    "        else:\n",
    "            sequence.add(s[j])\n",
    "            j = j + 1 \n",
    "\n",
    "    max_length = max(max_length, len(sequence))\n",
    "\n",
    "    return max_length\n",
    "\n",
    "# print(length_of_longest_substring(\"abcabcbb\"))\n",
    "print(length_of_longest_substring(\"pwwkew\"))\n",
    "# print(length_of_longest_substring('dvdf'))"
   ]
  },
  {
   "cell_type": "code",
   "execution_count": null,
   "metadata": {},
   "outputs": [],
   "source": []
  }
 ],
 "metadata": {
  "kernelspec": {
   "display_name": "Python 3",
   "language": "python",
   "name": "python3"
  },
  "language_info": {
   "codemirror_mode": {
    "name": "ipython",
    "version": 3
   },
   "file_extension": ".py",
   "mimetype": "text/x-python",
   "name": "python",
   "nbconvert_exporter": "python",
   "pygments_lexer": "ipython3",
   "version": "3.12.2"
  }
 },
 "nbformat": 4,
 "nbformat_minor": 2
}
