{
 "cells": [
  {
   "cell_type": "markdown",
   "metadata": {},
   "source": [
    "### Neetcode Blind 75 - Two Pointers Problem Sets"
   ]
  },
  {
   "cell_type": "markdown",
   "metadata": {},
   "source": [
    "### Is Palindrome\n",
    "Given a string s, return true if it is a palindrome, otherwise return false.\n",
    "\n",
    "A palindrome is a string that reads the same forward and backward. It is also case-insensitive and ignores all non-alphanumeric characters.\n",
    "\n",
    "Example 1:\n",
    "\n",
    "Input: s = \"Was it a car or a cat I saw?\"\n",
    "\n",
    "Output: true\n",
    "Explanation: After considering only alphanumerical characters we have \"wasitacaroracatisaw\", which is a palindrome.\n",
    "\n",
    "Example 2:\n",
    "\n",
    "Input: s = \"tab a cat\"\n",
    "\n",
    "Output: false\n",
    "Explanation: \"tabacat\" is not a palindrome.\n",
    "\n",
    "Constraints:\n",
    "\n",
    "- 1 <= s.length <= 1000\n",
    "- s is made up of only printable ASCII characters."
   ]
  },
  {
   "cell_type": "code",
   "execution_count": 12,
   "metadata": {},
   "outputs": [
    {
     "name": "stdout",
     "output_type": "stream",
     "text": [
      "True\n",
      "False\n"
     ]
    }
   ],
   "source": [
    "from typing import List\n",
    "\n",
    "# Givens and Wants \n",
    "'''\n",
    "case insensitive \n",
    "ignores all alpha numerics \n",
    "'''\n",
    "\n",
    "def is_palindrome(s: str) -> bool: \n",
    "    '''checks if a string is palindrome using two pointers'''   \n",
    "    i = 0 \n",
    "    j = len(s) - 1\n",
    "\n",
    "    while (j > i): \n",
    "        while (j > i and not s[i].isalnum()):\n",
    "            i = i + 1\n",
    "        \n",
    "        while (j > i and not s[j].isalnum()):\n",
    "            j = j - 1\n",
    "\n",
    "        if (s[i].lower() != s[j].lower()):\n",
    "            return False \n",
    "\n",
    "        i = i + 1\n",
    "        j = j - 1\n",
    "\n",
    "    return True \n",
    "\n",
    "print(is_palindrome('Was it a car or a cat I saw?'))\n",
    "print(is_palindrome('tab a cat'))"
   ]
  }
 ],
 "metadata": {
  "kernelspec": {
   "display_name": "Python 3",
   "language": "python",
   "name": "python3"
  },
  "language_info": {
   "codemirror_mode": {
    "name": "ipython",
    "version": 3
   },
   "file_extension": ".py",
   "mimetype": "text/x-python",
   "name": "python",
   "nbconvert_exporter": "python",
   "pygments_lexer": "ipython3",
   "version": "3.12.2"
  }
 },
 "nbformat": 4,
 "nbformat_minor": 2
}
