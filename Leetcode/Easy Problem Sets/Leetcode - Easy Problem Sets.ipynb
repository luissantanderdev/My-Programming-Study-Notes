{
 "cells": [
  {
   "cell_type": "code",
   "execution_count": 1,
   "id": "1aa7e95c",
   "metadata": {},
   "outputs": [],
   "source": [
    "from typing import List\n",
    "from itertools import combinations\n",
    "from math import comb\n",
    "import unittest\n"
   ]
  },
  {
   "cell_type": "markdown",
   "id": "020d999d",
   "metadata": {},
   "source": [
    "## Programming Techniques for Arrays"
   ]
  },
  {
   "cell_type": "markdown",
   "id": "9c884cb8",
   "metadata": {},
   "source": [
    "### Sliding Window Technique"
   ]
  },
  {
   "cell_type": "code",
   "execution_count": 8,
   "id": "9d327864",
   "metadata": {},
   "outputs": [
    {
     "name": "stdout",
     "output_type": "stream",
     "text": [
      "Window 1: [1, 2]\n",
      "Window 2: [2, 3]\n",
      "Window 3: [3, 4]\n",
      "Window 4: [4, 5]\n",
      "Window 5: [5, 6]\n",
      "Window 6: [6, 7]\n",
      "Window 7: [7, 8]\n",
      "Window 8: [8, 9]\n"
     ]
    }
   ],
   "source": [
    "def sliding_window(sequence, window_size):\n",
    "    for i in range(len(sequence) - window_size + 1):\n",
    "        window = sequence[i:i + window_size]\n",
    "        # Perform operations on the current window\n",
    "        print(f\"Window {i+1}: {window}\")\n",
    "\n",
    "# Example usage:\n",
    "my_list = [1, 2, 3, 4, 5, 6, 7, 8, 9]\n",
    "sliding_window(my_list, 2)"
   ]
  },
  {
   "cell_type": "markdown",
   "id": "66f4fb85",
   "metadata": {},
   "source": [
    "### Get all Pairs in List"
   ]
  },
  {
   "cell_type": "code",
   "execution_count": 9,
   "id": "0dca84df",
   "metadata": {},
   "outputs": [],
   "source": [
    "def get_all_pairs(input_list):\n",
    "    return list(combinations(input_list, 2))"
   ]
  },
  {
   "cell_type": "markdown",
   "id": "b6b9fdf5",
   "metadata": {},
   "source": [
    "# (1) 1929. Concatenation of Array\n",
    "\n",
    "Given an integer array nums of length n, you want to create an array ans of length 2n where ans[i] == nums[i] and ans[i + n] == nums[i] for 0 <= i < n (0-indexed).\n",
    "\n",
    "Specifically, ans is the concatenation of two nums arrays.\n",
    "\n",
    "Return the array ans.\n",
    "\n",
    "Input: nums = [1,2,1]\n",
    "Output: [1,2,1,1,2,1]\n",
    "Explanation: The array ans is formed as follows:\n",
    "- ans = [nums[0],nums[1],nums[2],nums[0],nums[1],nums[2]]\n",
    "- ans = [1,2,1,1,2,1]"
   ]
  },
  {
   "cell_type": "code",
   "execution_count": 10,
   "id": "00349991",
   "metadata": {},
   "outputs": [],
   "source": [
    "class COA:\n",
    "    def run(self, inputs: any, optimal=True) -> any:\n",
    "        return self.getConcatenation(inputs)\n",
    "    \n",
    "    \n",
    "    def getConcatenation(self, nums: List[int]) -> List[int]:\n",
    "        return nums + nums"
   ]
  },
  {
   "cell_type": "markdown",
   "id": "42fc61f7",
   "metadata": {},
   "source": [
    "## (2) 2824. Count Pairs Whose Sum is Less than Target\n",
    "\n",
    "\n",
    "Given a 0-indexed integer array nums of length n and an integer target, return the number of pairs (i, j) where 0 <= i < j < n and nums[i] + nums[j] < target.\n",
    "\n",
    "Example 1:\n",
    "\n",
    "Input: nums = [-1,1,2,3,1], target = 2\n",
    "Output: 3\n",
    "Explanation: There are 3 pairs of indices that satisfy the conditions in the statement:\n",
    "- (0, 1) since 0 < 1 and nums[0] + nums[1] = 0 < target\n",
    "- (0, 2) since 0 < 2 and nums[0] + nums[2] = 1 < target \n",
    "- (0, 4) since 0 < 4 and nums[0] + nums[4] = 0 < target\n",
    "Note that (0, 3) is not counted since nums[0] + nums[3] is not strictly less than the target."
   ]
  },
  {
   "cell_type": "code",
   "execution_count": 11,
   "id": "499b0c4b",
   "metadata": {},
   "outputs": [
    {
     "data": {
      "text/plain": [
       "27"
      ]
     },
     "execution_count": 11,
     "metadata": {},
     "output_type": "execute_result"
    }
   ],
   "source": [
    "class CountPairsClass:\n",
    "    def run(self, inputs: any, optimal=True) -> any:\n",
    "        return self.countPairs(inputs[0], inputs[1])\n",
    "            \n",
    "    def countPairs(self, nums: List[int], target: int) -> int:\n",
    "        counted_pairs = 0 \n",
    "        \n",
    "        for i in range(len(nums)):\n",
    "            for j in range(i + 1, len(nums)): # Gives unique pairs\n",
    "                if nums[i] + nums[j] < target:\n",
    "                    counted_pairs = counted_pairs + 1  \n",
    "                    \n",
    "        return counted_pairs\n",
    "    \n",
    "sol1 = CountPairsClass()\n",
    "\n",
    "sol1.run([[9,-5,-5,5,-5,-4,-6,6,-6], 3])"
   ]
  },
  {
   "cell_type": "markdown",
   "id": "6b8ea786",
   "metadata": {},
   "source": [
    "## (3) 1637. Widest Vertical Area Between Two Points Containing No Points\n",
    "\n",
    "Given n points on a 2D plane where points[i] = [xi, yi], Return the widest vertical area between two points such that no points are inside the area.\n",
    "\n",
    "A vertical area is an area of fixed-width extending infinitely along the y-axis (i.e., infinite height). The widest vertical area is the one with the maximum width.\n",
    "\n",
    "Note that points on the edge of a vertical area are not considered included in the area.\n",
    "\n",
    "Input: points = [[8,7],[9,9],[7,4],[9,7]]\n",
    "Output: 1\n",
    "Explanation: Both the red and the blue area are optimal."
   ]
  },
  {
   "cell_type": "code",
   "execution_count": 40,
   "id": "262dc995",
   "metadata": {},
   "outputs": [],
   "source": [
    "class MaxWidthOfVerticalArea:\n",
    "    def run(self, inputs: any, optimal=True) -> any:\n",
    "        return self.maxWidthOfVerticalArea(inputs)\n",
    "    \n",
    "    def maxWidthOfVerticalArea(self, points: List[List[int]]) -> int: \n",
    "        points.sort(key=lambda x: x[0])\n",
    "        \n",
    "        max_width = 0\n",
    "        \n",
    "        for i in range(1, len(points)):\n",
    "            width = points[i][0] - points[i-1][0]\n",
    "            max_width = max(max_width, width)\n",
    "\n",
    "        return max_width"
   ]
  },
  {
   "cell_type": "markdown",
   "id": "a64ed4cf",
   "metadata": {},
   "source": [
    "## (4) 2942. Find Words Containing Character\n",
    "\n",
    "You are given a 0-indexed array of strings words and a character x.\n",
    "\n",
    "Return an array of indices representing the words that contain the character x.\n",
    "\n",
    "Note that the returned array may be in any order.\n",
    "\n",
    " \n",
    "\n",
    "Example 1:\n",
    "\n",
    "Input: words = [\"leet\",\"code\"], x = \"e\"\n",
    "Output: [0,1]\n",
    "Explanation: \"e\" occurs in both words: \"leet\", and \"code\". Hence, we return indices 0 and 1."
   ]
  },
  {
   "cell_type": "code",
   "execution_count": 75,
   "id": "81ebe873",
   "metadata": {},
   "outputs": [],
   "source": [
    "class FindWordsContainingCharacter:\n",
    "    def run(self, inputs: any, optimal=True):\n",
    "        return self.findWordsContaining(inputs[0], inputs[1])\n",
    "    \n",
    "    def findWordsContaining(self, words: List[str], x: str) -> List[int]:\n",
    "        indices = []\n",
    "        \n",
    "        for i in range(len(words)):\n",
    "            if x in words[i]:\n",
    "                indices.append(i)\n",
    "        \n",
    "        return indices"
   ]
  },
  {
   "cell_type": "markdown",
   "id": "1964e7af",
   "metadata": {},
   "source": [
    "## -----------------------------\n",
    "## (TDD) Test Driven Development\n",
    "\n",
    "### NOTE: Practice DRY Principle which means do not repeat yourself if you see a pattern emerging of duplicate code within a class or structure."
   ]
  },
  {
   "cell_type": "code",
   "execution_count": 82,
   "id": "d15c1e5d",
   "metadata": {},
   "outputs": [],
   "source": [
    "# Decorator Class        \n",
    "class Solution:\n",
    "    def __init__(self, decorated):\n",
    "        self.decorated = decorated()\n",
    "    \n",
    "    def run(self, *args, **kargs):\n",
    "        optimal = True \n",
    "        \n",
    "        if len(args) == 1:\n",
    "            if \"optimal\" in kargs: \n",
    "                optimal = kargs[\"optimal\"] \n",
    "            return self.decorated.run(args[0], optimal)\n",
    "            \n",
    "        return \"\"\n",
    "\n",
    "class TestEasyArrayProblems(unittest.TestCase):\n",
    "    \n",
    "    # MARK: - Testing Function with Output \n",
    "    def runTests(self, sol, test_inputs, expected_outputs):\n",
    "        test_counter = 0\n",
    "        \n",
    "        for _input, _output in zip(test_inputs, expected_outputs):\n",
    "            res = sol.run(_input)\n",
    "            # print(f\"Test {test_counter} Output: {res}\")\n",
    "            test_counter = test_counter + 1\n",
    "            self.assertEqual(res, _output)\n",
    "            \n",
    "            \n",
    "    def testConcatArray(self):\n",
    "        sol = Solution(COA)\n",
    "        \n",
    "        test_inputs = [[1,2,1]]\n",
    "        expected_outputs = [[1,2,1,1,2,1]]\n",
    "        \n",
    "        self.runTests(sol, test_inputs, expected_outputs)\n",
    "            \n",
    "    # MARK: - 2824. Count Pairs \n",
    "    \n",
    "    def testCountPairs(self):\n",
    "        sol = Solution(CountPairsClass)\n",
    "        \n",
    "        test_inputs = [\n",
    "            [[9,-5,-5,5,-5,-4,-6,6,-6], 3],\n",
    "            [[-1, 1, 2, 3, 1], 2],\n",
    "            [[-6,2,5,-2,-7,-1,3], -2]\n",
    "        ]\n",
    "        \n",
    "        expected_outputs = [27, 3, 10]\n",
    "        \n",
    "        self.runTests(sol, test_inputs, expected_outputs)\n",
    "        \n",
    "    # MARK: - (3) 1637\n",
    "    \n",
    "    def testMaxWidth(self):\n",
    "        print(\"Test Max Width\")\n",
    "        sol = Solution(MaxWidthOfVerticalArea)\n",
    "        \n",
    "        test_inputs = [\n",
    "                      [[8,7],[9,9],[7,4],[9,7]],\n",
    "                      [[3,1],[9,0],[1,0],[1,4],[5,3],[8,8]]\n",
    "                      ]\n",
    "        \n",
    "        expected_outputs = [1, 3]\n",
    "        \n",
    "        self.runTests(sol, test_inputs, expected_outputs)\n",
    "        \n",
    "    # MARK: - (4) findWordsContaining\n",
    "    \n",
    "    def testWordsContainingCharacter(self):        \n",
    "        sol = Solution(FindWordsContainingCharacter)\n",
    "        \n",
    "        test_inputs = [\n",
    "            [[\"leet\",\"code\"], \"e\"],\n",
    "            [[\"abc\",\"bcd\",\"aaaa\",\"cbc\"], \"a\"]\n",
    "        ]\n",
    "        \n",
    "        expected_outputs = [\n",
    "            [0,1],\n",
    "            [0,2]\n",
    "        ]\n",
    "        \n",
    "        self.runTests(sol, test_inputs, expected_outputs)\n",
    "        \n",
    "            \n",
    "\n",
    "            "
   ]
  },
  {
   "cell_type": "code",
   "execution_count": 83,
   "id": "ba590b12",
   "metadata": {},
   "outputs": [
    {
     "name": "stderr",
     "output_type": "stream",
     "text": [
      "testConcatArray (__main__.TestEasyArrayProblems.testConcatArray) ... ok\n",
      "testCountPairs (__main__.TestEasyArrayProblems.testCountPairs) ... ok\n",
      "testMaxWidth (__main__.TestEasyArrayProblems.testMaxWidth) ... ok\n",
      "testWordsContainingCharacter (__main__.TestEasyArrayProblems.testWordsContainingCharacter) ... ok\n",
      "\n",
      "----------------------------------------------------------------------\n",
      "Ran 4 tests in 0.023s\n",
      "\n",
      "OK\n"
     ]
    },
    {
     "name": "stdout",
     "output_type": "stream",
     "text": [
      "Test Max Width\n"
     ]
    },
    {
     "data": {
      "text/plain": [
       "<unittest.main.TestProgram at 0x10c1ef650>"
      ]
     },
     "execution_count": 83,
     "metadata": {},
     "output_type": "execute_result"
    }
   ],
   "source": [
    "unittest.main(argv=[''], verbosity=2, exit=False)"
   ]
  },
  {
   "cell_type": "code",
   "execution_count": null,
   "id": "dc748e31",
   "metadata": {},
   "outputs": [],
   "source": []
  },
  {
   "cell_type": "code",
   "execution_count": null,
   "id": "dc713361",
   "metadata": {},
   "outputs": [],
   "source": []
  },
  {
   "cell_type": "code",
   "execution_count": null,
   "id": "ae8bc4a0",
   "metadata": {},
   "outputs": [],
   "source": []
  }
 ],
 "metadata": {
  "kernelspec": {
   "display_name": "Python 3 (ipykernel)",
   "language": "python",
   "name": "python3"
  },
  "language_info": {
   "codemirror_mode": {
    "name": "ipython",
    "version": 3
   },
   "file_extension": ".py",
   "mimetype": "text/x-python",
   "name": "python",
   "nbconvert_exporter": "python",
   "pygments_lexer": "ipython3",
   "version": "3.11.3"
  }
 },
 "nbformat": 4,
 "nbformat_minor": 5
}
