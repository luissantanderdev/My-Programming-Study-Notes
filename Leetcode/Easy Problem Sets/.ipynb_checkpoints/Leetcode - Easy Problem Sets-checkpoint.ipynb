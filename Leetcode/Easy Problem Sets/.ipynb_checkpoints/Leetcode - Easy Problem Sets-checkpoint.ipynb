{
 "cells": [
  {
   "cell_type": "code",
   "execution_count": 6,
   "id": "1aa7e95c",
   "metadata": {},
   "outputs": [],
   "source": [
    "from typing import List\n",
    "from itertools import combinations\n",
    "from math import comb\n",
    "import unittest\n"
   ]
  },
  {
   "cell_type": "markdown",
   "id": "020d999d",
   "metadata": {},
   "source": [
    "## Programming Techniques for Arrays"
   ]
  },
  {
   "cell_type": "markdown",
   "id": "9c884cb8",
   "metadata": {},
   "source": [
    "### Sliding Window Technique"
   ]
  },
  {
   "cell_type": "code",
   "execution_count": 7,
   "id": "9d327864",
   "metadata": {},
   "outputs": [
    {
     "name": "stdout",
     "output_type": "stream",
     "text": [
      "Window 1: [1, 2]\n",
      "Window 2: [2, 3]\n",
      "Window 3: [3, 4]\n",
      "Window 4: [4, 5]\n",
      "Window 5: [5, 6]\n",
      "Window 6: [6, 7]\n",
      "Window 7: [7, 8]\n",
      "Window 8: [8, 9]\n"
     ]
    }
   ],
   "source": [
    "def sliding_window(sequence, window_size):\n",
    "    for i in range(len(sequence) - window_size + 1):\n",
    "        window = sequence[i:i + window_size]\n",
    "        # Perform operations on the current window\n",
    "        print(f\"Window {i+1}: {window}\")\n",
    "\n",
    "# Example usage:\n",
    "my_list = [1, 2, 3, 4, 5, 6, 7, 8, 9]\n",
    "sliding_window(my_list, 2)"
   ]
  },
  {
   "cell_type": "markdown",
   "id": "66f4fb85",
   "metadata": {},
   "source": [
    "### Get all Pairs in List"
   ]
  },
  {
   "cell_type": "code",
   "execution_count": 8,
   "id": "0dca84df",
   "metadata": {},
   "outputs": [],
   "source": [
    "def get_all_pairs(input_list):\n",
    "    return list(combinations(input_list, 2))"
   ]
  },
  {
   "cell_type": "markdown",
   "id": "b6b9fdf5",
   "metadata": {},
   "source": [
    "# (1) 1929. Concatenation of Array\n",
    "\n",
    "Given an integer array nums of length n, you want to create an array ans of length 2n where ans[i] == nums[i] and ans[i + n] == nums[i] for 0 <= i < n (0-indexed).\n",
    "\n",
    "Specifically, ans is the concatenation of two nums arrays.\n",
    "\n",
    "Return the array ans.\n",
    "\n",
    "Input: nums = [1,2,1]\n",
    "Output: [1,2,1,1,2,1]\n",
    "Explanation: The array ans is formed as follows:\n",
    "- ans = [nums[0],nums[1],nums[2],nums[0],nums[1],nums[2]]\n",
    "- ans = [1,2,1,1,2,1]"
   ]
  },
  {
   "cell_type": "code",
   "execution_count": 9,
   "id": "00349991",
   "metadata": {},
   "outputs": [],
   "source": [
    "class COA:\n",
    "    def run(self, inputs: any, optimal=True) -> any:\n",
    "        return self.getConcatenation(inputs)\n",
    "    \n",
    "    \n",
    "    def getConcatenation(self, nums: List[int]) -> List[int]:\n",
    "        return nums + nums"
   ]
  },
  {
   "cell_type": "markdown",
   "id": "42fc61f7",
   "metadata": {},
   "source": [
    "## (2) 2824. Count Pairs Whose Sum is Less than Target\n",
    "\n",
    "\n",
    "Given a 0-indexed integer array nums of length n and an integer target, return the number of pairs (i, j) where 0 <= i < j < n and nums[i] + nums[j] < target.\n",
    "\n",
    "Example 1:\n",
    "\n",
    "Input: nums = [-1,1,2,3,1], target = 2\n",
    "Output: 3\n",
    "Explanation: There are 3 pairs of indices that satisfy the conditions in the statement:\n",
    "- (0, 1) since 0 < 1 and nums[0] + nums[1] = 0 < target\n",
    "- (0, 2) since 0 < 2 and nums[0] + nums[2] = 1 < target \n",
    "- (0, 4) since 0 < 4 and nums[0] + nums[4] = 0 < target\n",
    "Note that (0, 3) is not counted since nums[0] + nums[3] is not strictly less than the target."
   ]
  },
  {
   "cell_type": "code",
   "execution_count": 10,
   "id": "499b0c4b",
   "metadata": {},
   "outputs": [
    {
     "data": {
      "text/plain": [
       "27"
      ]
     },
     "execution_count": 10,
     "metadata": {},
     "output_type": "execute_result"
    }
   ],
   "source": [
    "class CountPairsClass:\n",
    "    def run(self, inputs: any, optimal=True) -> any:\n",
    "        return self.countPairs(inputs[0], inputs[1])\n",
    "            \n",
    "    def countPairs(self, nums: List[int], target: int) -> int:\n",
    "        counted_pairs = 0 \n",
    "        \n",
    "        for i in range(len(nums)):\n",
    "            for j in range(i + 1, len(nums)): # Gives unique pairs\n",
    "                if nums[i] + nums[j] < target:\n",
    "                    counted_pairs = counted_pairs + 1  \n",
    "                    \n",
    "        return counted_pairs\n",
    "    \n",
    "sol1 = CountPairsClass()\n",
    "\n",
    "sol1.run([[9,-5,-5,5,-5,-4,-6,6,-6], 3])"
   ]
  },
  {
   "cell_type": "markdown",
   "id": "1964e7af",
   "metadata": {},
   "source": [
    "## -----------------------------\n",
    "## (TDD) Test Driven Development\n",
    "\n",
    "### NOTE: Practice DRY Principle which means do not repeat yourself if you see a pattern emerging of duplicate code within a class or structure."
   ]
  },
  {
   "cell_type": "code",
   "execution_count": 15,
   "id": "d15c1e5d",
   "metadata": {},
   "outputs": [],
   "source": [
    "# Decorator Class        \n",
    "class Solution:\n",
    "    def __init__(self, decorated):\n",
    "        self.decorated = decorated()\n",
    "    \n",
    "    def run(self, *args, **kargs):\n",
    "        optimal = True \n",
    "        \n",
    "        if len(args) == 1:\n",
    "            if \"optimal\" in kargs: \n",
    "                optimal = kargs[\"optimal\"] \n",
    "            return self.decorated.run(args[0], optimal)\n",
    "            \n",
    "        return \"\"\n",
    "\n",
    "class TestEasyArrayProblems(unittest.TestCase):\n",
    "    def testConcatArray(self):\n",
    "        sol = Solution(COA)\n",
    "        \n",
    "        test_inputs = [[1,2,1]]\n",
    "        expected_outputs = [[1,2,1,1,2,1]]\n",
    "        \n",
    "        self.runTests(sol, test_inputs, expected_outputs)\n",
    "            \n",
    "    # MARK: - 2824. Count Pairs \n",
    "    \n",
    "    def testCountPairs(self):\n",
    "        sol = Solution(CountPairsClass)\n",
    "        \n",
    "        test_inputs = [\n",
    "            [[9,-5,-5,5,-5,-4,-6,6,-6], 3],\n",
    "            [[-1, 1, 2, 3, 1], 2],\n",
    "            [[-6,2,5,-2,-7,-1,3], -2]\n",
    "        ]\n",
    "        \n",
    "        expected_outputs = [27, 3, 10]\n",
    "        \n",
    "        self.runTests(sol, test_inputs, expected_outputs)\n",
    "            \n",
    "    # MARK: - Testing Function with Output \n",
    "    def runTests(self, sol, test_inputs, expected_outputs):\n",
    "        test_counter = 0\n",
    "        \n",
    "        for _input, _output in zip(test_inputs, expected_outputs):\n",
    "            res = sol.run(_input)\n",
    "            print(f\"Test {test_counter} Output: {res}\")\n",
    "            test_counter = test_counter + 1\n",
    "            self.assertEqual(res, _output)"
   ]
  },
  {
   "cell_type": "code",
   "execution_count": 16,
   "id": "ba590b12",
   "metadata": {},
   "outputs": [
    {
     "name": "stderr",
     "output_type": "stream",
     "text": [
      "testConcatArray (__main__.TestEasyArrayProblems.testConcatArray) ... ok\n",
      "testCountPairs (__main__.TestEasyArrayProblems.testCountPairs) ... ok\n",
      "\n",
      "----------------------------------------------------------------------\n",
      "Ran 2 tests in 0.010s\n",
      "\n",
      "OK\n"
     ]
    },
    {
     "name": "stdout",
     "output_type": "stream",
     "text": [
      "Test 0 Output: [1, 2, 1, 1, 2, 1]\n",
      "Test 0 Output: 27\n",
      "Test 1 Output: 3\n",
      "Test 2 Output: 10\n"
     ]
    },
    {
     "data": {
      "text/plain": [
       "<unittest.main.TestProgram at 0x10eb2eed0>"
      ]
     },
     "execution_count": 16,
     "metadata": {},
     "output_type": "execute_result"
    }
   ],
   "source": [
    "unittest.main(argv=[''], verbosity=2, exit=False)"
   ]
  },
  {
   "cell_type": "code",
   "execution_count": null,
   "id": "dc748e31",
   "metadata": {},
   "outputs": [],
   "source": []
  },
  {
   "cell_type": "code",
   "execution_count": null,
   "id": "dc713361",
   "metadata": {},
   "outputs": [],
   "source": []
  }
 ],
 "metadata": {
  "kernelspec": {
   "display_name": "Python 3 (ipykernel)",
   "language": "python",
   "name": "python3"
  },
  "language_info": {
   "codemirror_mode": {
    "name": "ipython",
    "version": 3
   },
   "file_extension": ".py",
   "mimetype": "text/x-python",
   "name": "python",
   "nbconvert_exporter": "python",
   "pygments_lexer": "ipython3",
   "version": "3.11.3"
  }
 },
 "nbformat": 4,
 "nbformat_minor": 5
}
