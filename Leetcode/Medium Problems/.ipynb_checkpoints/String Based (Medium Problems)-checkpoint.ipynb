{
 "cells": [
  {
   "cell_type": "markdown",
   "id": "bab75cc9-7054-4402-a188-d086b6de6053",
   "metadata": {},
   "source": [
    "# String Based (Leetcode Medium Problem Sets) "
   ]
  },
  {
   "cell_type": "markdown",
   "id": "f48c282f-5c6d-4495-a5dc-4d764f38dafb",
   "metadata": {},
   "source": [
    "### Useful String Methods \n",
    "-----------------------------------------"
   ]
  },
  {
   "cell_type": "markdown",
   "id": "4136e2cc-f72b-4c59-83f8-cf61213e39d7",
   "metadata": {},
   "source": [
    "### 1689. Partitioning Into Minimum Number Of Deci-Binary Numbers\n",
    "Medium\n",
    "Topics\n",
    "Companies\n",
    "Hint\n",
    "A decimal number is called deci-binary if each of its digits is either 0 or 1 without any leading zeros. For example, 101 and 1100 are deci-binary, while 112 and 3001 are not.\n",
    "\n",
    "Given a string n that represents a positive decimal integer, return the minimum number of positive deci-binary numbers needed so that they sum up to n.\n",
    "\n",
    " \n",
    "\n",
    "Example 1:\n",
    "\n",
    "Input: n = \"32\"\n",
    "Output: 3\n",
    "Explanation: 10 + 11 + 11 = 32\n",
    "Example 2:\n",
    "\n",
    "Input: n = \"82734\"\n",
    "Output: 8\n",
    "Example 3:\n",
    "\n",
    "Input: n = \"27346209830709182346\"\n",
    "Output: 9\n",
    " \n",
    "\n",
    "Constraints:\n",
    "\n",
    "- 1 <= n.length <= 105\n",
    "- n consists of only digits.\n",
    "- n does not contain any leading zeros and represents a positive integer.\n",
    "\n",
    "### How this problem is solved \n",
    "When we're looking for the maximum digit in a number, we're essentially finding the largest digit present in that number. For example:\n",
    "\n",
    "In the number 332, the maximum digit is 3.\n",
    "In the number 82734, the maximum digit is 8.\n",
    "In the number 27346209830709182346, the maximum digit is 9.\n",
    "Finding the maximum digit is crucial for determining the minimum number of positive deci-binary numbers needed to sum up to a given decimal number. This is because the maximum digit directly corresponds to the minimum number of positive deci-binary numbers required.\n",
    "\n",
    "For example, if the maximum digit in a number is 5, then we need at least five positive deci-binary numbers to sum up to that number, because the maximum deci-binary digit is 1, and we need five of them to sum up to 5."
   ]
  },
  {
   "cell_type": "code",
   "execution_count": 9,
   "id": "a5f12f71-69a0-47c3-8eef-04416279d0ec",
   "metadata": {},
   "outputs": [
    {
     "name": "stdout",
     "output_type": "stream",
     "text": [
      "3\n",
      "3\n",
      "8\n",
      "8\n"
     ]
    }
   ],
   "source": [
    "def min_partitions_slow(n: str) -> int:\n",
    "    max_digit = 0 \n",
    "\n",
    "    for digit in n:\n",
    "        digit_int = int(digit)\n",
    "        max_digit = max(max_digit, digit_int)\n",
    "\n",
    "    \n",
    "    return max_digit\n",
    "\n",
    "def min_partitions(n: str) -> int:\n",
    "    print(max(n))\n",
    "    return int(max(n))\n",
    "\n",
    "\n",
    "print(min_partitions(\"332\"))\n",
    "print(min_partitions('82734'))\n",
    "# print(min_partitions(\"27346209830709182346\"))"
   ]
  },
  {
   "cell_type": "markdown",
   "id": "9935de83-5fee-4225-b9fa-661bc9856e4b",
   "metadata": {},
   "source": [
    "### 535. Encode and Decode TinyURL\n",
    "Medium\n",
    "Topics\n",
    "Companies\n",
    "Note: This is a companion problem to the System Design problem: Design TinyURL.\n",
    "TinyURL is a URL shortening service where you enter a URL such as https://leetcode.com/problems/design-tinyurl and it returns a short URL such as http://tinyurl.com/4e9iAk. Design a class to encode a URL and decode a tiny URL.\n",
    "\n",
    "There is no restriction on how your encode/decode algorithm should work. You just need to ensure that a URL can be encoded to a tiny URL and the tiny URL can be decoded to the original URL.\n",
    "\n",
    "Implement the Solution class:\n",
    "\n",
    "Solution() Initializes the object of the system.\n",
    "String encode(String longUrl) Returns a tiny URL for the given longUrl.\n",
    "String decode(String shortUrl) Returns the original long URL for the given shortUrl. It is guaranteed that the given shortUrl was encoded by the same object.\n",
    " \n",
    "\n",
    "Example 1:\n",
    "\n",
    "Input: url = \"https://leetcode.com/problems/design-tinyurl\"\n",
    "Output: \"https://leetcode.com/problems/design-tinyurl\"\n"
   ]
  },
  {
   "cell_type": "code",
   "execution_count": 34,
   "id": "cd0cceb3-37a5-4cf2-b3c3-f06890361b46",
   "metadata": {},
   "outputs": [
    {
     "name": "stdout",
     "output_type": "stream",
     "text": [
      "http://tinyurl.com/134819\n",
      "https://leetcode.com/problems/design-tinyurl\n"
     ]
    }
   ],
   "source": [
    "from typing import List \n",
    "\n",
    "class Codec:\n",
    "    def __init__(self): \n",
    "        self.codec_dic = {} \n",
    "        self.tiny_url_template = 'http://tinyurl.com/'\n",
    "    \n",
    "    def encode(self, long_url: str) -> str:\n",
    "        hash_value, prime = 0, 32\n",
    "\n",
    "        prime = 31\n",
    "        for c in long_url:\n",
    "            hash_value += ord(c) * prime\n",
    "\n",
    "        self.codec_dic[hash_value] = long_url\n",
    "        return self.tiny_url_template + str(hash_value)\n",
    "\n",
    "    def decode(self, short_url: str) -> str: \n",
    "        codec_code = int(short_url[short_url.rfind('/') + 1:])\n",
    "\n",
    "        return self.codec_dic[codec_code]\n",
    "\n",
    "codec = Codec() \n",
    "\n",
    "short_url = codec.encode('https://leetcode.com/problems/design-tinyurl')\n",
    "print(short_url)\n",
    "\n",
    "long_url = codec.decode(short_url)\n",
    "print(long_url)"
   ]
  },
  {
   "cell_type": "code",
   "execution_count": null,
   "id": "8f8166d2-067f-47c2-97e7-fcb33406b051",
   "metadata": {},
   "outputs": [],
   "source": []
  }
 ],
 "metadata": {
  "kernelspec": {
   "display_name": "Python 3 (ipykernel)",
   "language": "python",
   "name": "python3"
  },
  "language_info": {
   "codemirror_mode": {
    "name": "ipython",
    "version": 3
   },
   "file_extension": ".py",
   "mimetype": "text/x-python",
   "name": "python",
   "nbconvert_exporter": "python",
   "pygments_lexer": "ipython3",
   "version": "3.12.2"
  }
 },
 "nbformat": 4,
 "nbformat_minor": 5
}
