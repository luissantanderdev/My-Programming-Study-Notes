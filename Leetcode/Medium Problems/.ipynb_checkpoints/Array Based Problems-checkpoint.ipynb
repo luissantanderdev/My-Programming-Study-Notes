{
 "cells": [
  {
   "cell_type": "markdown",
   "id": "70b60d70-b90b-4005-806a-9e0f196e2bc3",
   "metadata": {},
   "source": [
    "# Array Based Problems (Leetcode Mediums)"
   ]
  },
  {
   "cell_type": "code",
   "execution_count": 2,
   "id": "b3b2eb1c-3199-4613-a1f6-c84a12fbc4c5",
   "metadata": {},
   "outputs": [],
   "source": [
    "from typing import List"
   ]
  },
  {
   "cell_type": "markdown",
   "id": "8967e757-04ae-429a-8d2d-09fb7083a008",
   "metadata": {},
   "source": [
    "### 1476. Subrectangle Queries\n",
    "Medium\n",
    "Topics\n",
    "Companies\n",
    "Hint\n",
    "Implement the class SubrectangleQueries which receives a rows x cols rectangle as a matrix of integers in the constructor and supports two methods:\n",
    "\n",
    "1. updateSubrectangle(int row1, int col1, int row2, int col2, int newValue)\n",
    "\n",
    "Updates all values with newValue in the subrectangle whose upper left coordinate is (row1,col1) and bottom right coordinate is (row2,col2).\n",
    "2. getValue(int row, int col)\n",
    "\n",
    "Returns the current value of the coordinate (row,col) from the rectangle.\n",
    " \n",
    "\n",
    "Example 1:\n",
    "\n",
    "Input\n",
    "[\"SubrectangleQueries\",\"getValue\",\"updateSubrectangle\",\"getValue\",\"getValue\",\"updateSubrectangle\",\"getValue\",\"getValue\"]\n",
    "[[[[1,2,1],[4,3,4],[3,2,1],[1,1,1]]],[0,2],[0,0,3,2,5],[0,2],[3,1],[3,0,3,2,10],[3,1],[0,2]]\n",
    "Output\n",
    "[null,1,null,5,5,null,10,5]\n",
    "Explanation\n",
    "SubrectangleQueries subrectangleQueries = new SubrectangleQueries([[1,2,1],[4,3,4],[3,2,1],[1,1,1]]);  \n",
    "// The initial rectangle (4x3) looks like:\n",
    "// 1 2 1\n",
    "// 4 3 4\n",
    "// 3 2 1\n",
    "// 1 1 1\n",
    "subrectangleQueries.getValue(0, 2); // return 1\n",
    "subrectangleQueries.updateSubrectangle(0, 0, 3, 2, 5);\n",
    "// After this update the rectangle looks like:\n",
    "// 5 5 5\n",
    "// 5 5 5\n",
    "// 5 5 5\n",
    "// 5 5 5 \n",
    "subrectangleQueries.getValue(0, 2); // return 5\n",
    "subrectangleQueries.getValue(3, 1); // return 5\n",
    "subrectangleQueries.updateSubrectangle(3, 0, 3, 2, 10);\n",
    "// After this update the rectangle looks like:\n",
    "// 5   5   5\n",
    "// 5   5   5\n",
    "// 5   5   5\n",
    "// 10  10  10 \n",
    "subrectangleQueries.getValue(3, 1); // return 10\n",
    "subrectangleQueries.getValue(0, 2); // return 5\n",
    "Example 2:\n",
    "\n",
    "Input\n",
    "[\"SubrectangleQueries\",\"getValue\",\"updateSubrectangle\",\"getValue\",\"getValue\",\"updateSubrectangle\",\"getValue\"]\n",
    "[[[[1,1,1],[2,2,2],[3,3,3]]],[0,0],[0,0,2,2,100],[0,0],[2,2],[1,1,2,2,20],[2,2]]\n",
    "Output\n",
    "[null,1,null,100,100,null,20]\n",
    "Explanation\n",
    "SubrectangleQueries subrectangleQueries = new SubrectangleQueries([[1,1,1],[2,2,2],[3,3,3]]);\n",
    "subrectangleQueries.getValue(0, 0); // return 1\n",
    "subrectangleQueries.updateSubrectangle(0, 0, 2, 2, 100);\n",
    "subrectangleQueries.getValue(0, 0); // return 100\n",
    "subrectangleQueries.getValue(2, 2); // return 100\n",
    "subrectangleQueries.updateSubrectangle(1, 1, 2, 2, 20);\n",
    "subrectangleQueries.getValue(2, 2); // return 20"
   ]
  },
  {
   "cell_type": "code",
   "execution_count": 4,
   "id": "d44142fc-2d8d-4b04-add8-055bb43d8aaa",
   "metadata": {},
   "outputs": [
    {
     "name": "stdout",
     "output_type": "stream",
     "text": [
      "1\n",
      "[[5, 5, 5], [5, 5, 5], [5, 5, 5], [5, 5, 5]]\n",
      "5\n",
      "5\n",
      "[[5, 5, 5], [5, 5, 5], [5, 5, 5], [10, 10, 10]]\n",
      "10\n",
      "5\n"
     ]
    }
   ],
   "source": [
    "class SubrectangleQueries:\n",
    "    def __init__(self, rectangle: List[List[int]]):\n",
    "        self.__rectangle = rectangle\n",
    "\n",
    "    def __iterate_subarray(self, row1, row2):\n",
    "        for row in range(row1, row2 + 1):\n",
    "            yield self.__rectangle[row]\n",
    "\n",
    "    def print_rectangle(self): \n",
    "        print(self.__rectangle)\n",
    "\n",
    "    def updateSubrectangle(self, row1: int, col1: int, row2: int, col2: int, newValue: int) -> None:\n",
    "        for row_subarray in self.__iterate_subarray(row1, row2):\n",
    "            for i in range(col1, col2 + 1):\n",
    "                row_subarray[i] = newValue\n",
    "\n",
    "    def getValue(self, row: int, col: int) -> int:\n",
    "        value = -1 \n",
    "        if (row >= 0 and row < len(self.__rectangle)):\n",
    "            if (col >= 0 and col < len(self.__rectangle[row])):\n",
    "                value = self.__rectangle[row][col]\n",
    "        return value\n",
    "\n",
    "query_commands = [\"SubrectangleQueries\",\"getValue\",\"updateSubrectangle\",\"getValue\",\"getValue\",\"updateSubrectangle\",\"getValue\",\"getValue\"]\n",
    "query_chain_values = [[[1,2,1],[4,3,4],[3,2,1],[1,1,1]],[0,2],[0,0,3,2,5],[0,2],[3,1],[3,0,3,2,10],[3,1],[0,2]]\n",
    "\n",
    "rect = None \n",
    "\n",
    "for i in range(len(query_commands)):\n",
    "    command = query_commands[i] \n",
    "\n",
    "    if (command == 'SubrectangleQueries'):\n",
    "        rect = SubrectangleQueries(query_chain_values[i])\n",
    "    elif (command == 'getValue'):\n",
    "        rect_value = rect.getValue(query_chain_values[i][0], query_chain_values[i][1])\n",
    "        print(rect_value)\n",
    "    elif (command == 'updateSubrectangle'):\n",
    "        (row1, col1, row2, col2, new_value) = query_chain_values[i]\n",
    "        rect.updateSubrectangle(row1, col1, row2, col2, new_value) \n",
    "        rect.print_rectangle() \n",
    "        "
   ]
  },
  {
   "cell_type": "code",
   "execution_count": null,
   "id": "d46fc0bf-0dfd-42ea-9da0-8b93f1f95b6d",
   "metadata": {},
   "outputs": [],
   "source": []
  }
 ],
 "metadata": {
  "kernelspec": {
   "display_name": "Python 3 (ipykernel)",
   "language": "python",
   "name": "python3"
  },
  "language_info": {
   "codemirror_mode": {
    "name": "ipython",
    "version": 3
   },
   "file_extension": ".py",
   "mimetype": "text/x-python",
   "name": "python",
   "nbconvert_exporter": "python",
   "pygments_lexer": "ipython3",
   "version": "3.12.2"
  }
 },
 "nbformat": 4,
 "nbformat_minor": 5
}
