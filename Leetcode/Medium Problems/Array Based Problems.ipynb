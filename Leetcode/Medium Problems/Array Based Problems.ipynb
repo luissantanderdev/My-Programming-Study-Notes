{
 "cells": [
  {
   "cell_type": "markdown",
   "id": "70b60d70-b90b-4005-806a-9e0f196e2bc3",
   "metadata": {},
   "source": [
    "# Array Based Problems (Leetcode Mediums)"
   ]
  },
  {
   "cell_type": "code",
   "execution_count": 2,
   "id": "b3b2eb1c-3199-4613-a1f6-c84a12fbc4c5",
   "metadata": {},
   "outputs": [],
   "source": [
    "from typing import List"
   ]
  },
  {
   "cell_type": "markdown",
   "id": "8967e757-04ae-429a-8d2d-09fb7083a008",
   "metadata": {},
   "source": [
    "### 1476. Subrectangle Queries\n",
    "Medium\n",
    "Topics\n",
    "Companies\n",
    "Hint\n",
    "Implement the class SubrectangleQueries which receives a rows x cols rectangle as a matrix of integers in the constructor and supports two methods:\n",
    "\n",
    "1. updateSubrectangle(int row1, int col1, int row2, int col2, int newValue)\n",
    "\n",
    "Updates all values with newValue in the subrectangle whose upper left coordinate is (row1,col1) and bottom right coordinate is (row2,col2).\n",
    "2. getValue(int row, int col)\n",
    "\n",
    "Returns the current value of the coordinate (row,col) from the rectangle.\n",
    " \n",
    "\n",
    "Example 1:\n",
    "\n",
    "Input\n",
    "[\"SubrectangleQueries\",\"getValue\",\"updateSubrectangle\",\"getValue\",\"getValue\",\"updateSubrectangle\",\"getValue\",\"getValue\"]\n",
    "[[[[1,2,1],[4,3,4],[3,2,1],[1,1,1]]],[0,2],[0,0,3,2,5],[0,2],[3,1],[3,0,3,2,10],[3,1],[0,2]]\n",
    "Output\n",
    "[null,1,null,5,5,null,10,5]\n",
    "Explanation\n",
    "SubrectangleQueries subrectangleQueries = new SubrectangleQueries([[1,2,1],[4,3,4],[3,2,1],[1,1,1]]);  \n",
    "// The initial rectangle (4x3) looks like:\n",
    "// 1 2 1\n",
    "// 4 3 4\n",
    "// 3 2 1\n",
    "// 1 1 1\n",
    "subrectangleQueries.getValue(0, 2); // return 1\n",
    "subrectangleQueries.updateSubrectangle(0, 0, 3, 2, 5);\n",
    "// After this update the rectangle looks like:\n",
    "// 5 5 5\n",
    "// 5 5 5\n",
    "// 5 5 5\n",
    "// 5 5 5 \n",
    "subrectangleQueries.getValue(0, 2); // return 5\n",
    "subrectangleQueries.getValue(3, 1); // return 5\n",
    "subrectangleQueries.updateSubrectangle(3, 0, 3, 2, 10);\n",
    "// After this update the rectangle looks like:\n",
    "// 5   5   5\n",
    "// 5   5   5\n",
    "// 5   5   5\n",
    "// 10  10  10 \n",
    "subrectangleQueries.getValue(3, 1); // return 10\n",
    "subrectangleQueries.getValue(0, 2); // return 5\n",
    "Example 2:\n",
    "\n",
    "Input\n",
    "[\"SubrectangleQueries\",\"getValue\",\"updateSubrectangle\",\"getValue\",\"getValue\",\"updateSubrectangle\",\"getValue\"]\n",
    "[[[[1,1,1],[2,2,2],[3,3,3]]],[0,0],[0,0,2,2,100],[0,0],[2,2],[1,1,2,2,20],[2,2]]\n",
    "Output\n",
    "[null,1,null,100,100,null,20]\n",
    "Explanation\n",
    "SubrectangleQueries subrectangleQueries = new SubrectangleQueries([[1,1,1],[2,2,2],[3,3,3]]);\n",
    "subrectangleQueries.getValue(0, 0); // return 1\n",
    "subrectangleQueries.updateSubrectangle(0, 0, 2, 2, 100);\n",
    "subrectangleQueries.getValue(0, 0); // return 100\n",
    "subrectangleQueries.getValue(2, 2); // return 100\n",
    "subrectangleQueries.updateSubrectangle(1, 1, 2, 2, 20);\n",
    "subrectangleQueries.getValue(2, 2); // return 20"
   ]
  },
  {
   "cell_type": "code",
   "execution_count": 4,
   "id": "d44142fc-2d8d-4b04-add8-055bb43d8aaa",
   "metadata": {},
   "outputs": [
    {
     "name": "stdout",
     "output_type": "stream",
     "text": [
      "1\n",
      "[[5, 5, 5], [5, 5, 5], [5, 5, 5], [5, 5, 5]]\n",
      "5\n",
      "5\n",
      "[[5, 5, 5], [5, 5, 5], [5, 5, 5], [10, 10, 10]]\n",
      "10\n",
      "5\n"
     ]
    }
   ],
   "source": [
    "class SubrectangleQueries:\n",
    "    def __init__(self, rectangle: List[List[int]]):\n",
    "        self.__rectangle = rectangle\n",
    "\n",
    "    def __iterate_subarray(self, row1, row2):\n",
    "        for row in range(row1, row2 + 1):\n",
    "            yield self.__rectangle[row]\n",
    "\n",
    "    def print_rectangle(self): \n",
    "        print(self.__rectangle)\n",
    "\n",
    "    def updateSubrectangle(self, row1: int, col1: int, row2: int, col2: int, newValue: int) -> None:\n",
    "        for row_subarray in self.__iterate_subarray(row1, row2):\n",
    "            for i in range(col1, col2 + 1):\n",
    "                row_subarray[i] = newValue\n",
    "\n",
    "    def getValue(self, row: int, col: int) -> int:\n",
    "        value = -1 \n",
    "        if (row >= 0 and row < len(self.__rectangle)):\n",
    "            if (col >= 0 and col < len(self.__rectangle[row])):\n",
    "                value = self.__rectangle[row][col]\n",
    "        return value\n",
    "\n",
    "query_commands = [\"SubrectangleQueries\",\"getValue\",\"updateSubrectangle\",\"getValue\",\"getValue\",\"updateSubrectangle\",\"getValue\",\"getValue\"]\n",
    "query_chain_values = [[[1,2,1],[4,3,4],[3,2,1],[1,1,1]],[0,2],[0,0,3,2,5],[0,2],[3,1],[3,0,3,2,10],[3,1],[0,2]]\n",
    "\n",
    "rect = None \n",
    "\n",
    "for i in range(len(query_commands)):\n",
    "    command = query_commands[i] \n",
    "\n",
    "    if (command == 'SubrectangleQueries'):\n",
    "        rect = SubrectangleQueries(query_chain_values[i])\n",
    "    elif (command == 'getValue'):\n",
    "        rect_value = rect.getValue(query_chain_values[i][0], query_chain_values[i][1])\n",
    "        print(rect_value)\n",
    "    elif (command == 'updateSubrectangle'):\n",
    "        (row1, col1, row2, col2, new_value) = query_chain_values[i]\n",
    "        rect.updateSubrectangle(row1, col1, row2, col2, new_value) \n",
    "        rect.print_rectangle() \n",
    "        "
   ]
  },
  {
   "cell_type": "markdown",
   "id": "1179a88d-585e-483b-b9b7-a931911f4489",
   "metadata": {},
   "source": [
    "### 2433. Find The Original Array of Prefix Xor\n",
    "Medium\n",
    "Topics\n",
    "Companies\n",
    "Hint\n",
    "You are given an integer array pref of size n. Find and return the array arr of size n that satisfies:\n",
    "\n",
    "pref[i] = arr[0] ^ arr[1] ^ ... ^ arr[i].\n",
    "Note that ^ denotes the bitwise-xor operation.\n",
    "\n",
    "It can be proven that the answer is unique.\n",
    "\n",
    " \n",
    "\n",
    "Example 1:\n",
    "\n",
    "Input: pref = [5,2,0,3,1]\n",
    "Output: [5,7,2,3,2]\n",
    "Explanation: From the array [5,7,2,3,2] we have the following:\n",
    "- pref[0] = 5.\n",
    "- pref[1] = 5 ^ 7 = 2.\n",
    "- pref[2] = 5 ^ 7 ^ 2 = 0.\n",
    "- pref[3] = 5 ^ 7 ^ 2 ^ 3 = 3.\n",
    "- pref[4] = 5 ^ 7 ^ 2 ^ 3 ^ 2 = 1.\n",
    "Example 2:\n",
    "\n",
    "Input: pref = [13]\n",
    "Output: [13]\n",
    "Explanation: We have pref[0] = arr[0] = 13.\n",
    " \n",
    "\n",
    "Constraints:\n",
    "\n",
    "1 <= pref.length <= 105\n",
    "0 <= pref[i] <= 106"
   ]
  },
  {
   "cell_type": "code",
   "execution_count": 66,
   "id": "92bc2ea1-4e12-4826-9394-630cd8b41226",
   "metadata": {},
   "outputs": [
    {
     "name": "stdout",
     "output_type": "stream",
     "text": [
      "[5, 7]\n",
      "[5, 7, 2]\n",
      "[5, 7, 2, 3]\n",
      "[5, 7, 2, 3, 2]\n"
     ]
    },
    {
     "data": {
      "text/plain": [
       "[5, 7, 2, 3, 2]"
      ]
     },
     "execution_count": 66,
     "metadata": {},
     "output_type": "execute_result"
    }
   ],
   "source": [
    "from typing import List \n",
    "\n",
    "def find_array(pref: List[int]) -> List[int]: \n",
    "    res = [pref[0]] \n",
    "\n",
    "    i = 1 \n",
    "\n",
    "    while (i < len(pref)): \n",
    "        res.append(pref[i] ^ pref[i-1])\n",
    "        print(res)\n",
    "        i = i + 1 \n",
    "\n",
    "    return res\n",
    "\n",
    "pref = [5, 2, 0, 3, 1] \n",
    "\n",
    "find_array(pref)"
   ]
  },
  {
   "cell_type": "markdown",
   "id": "c5c09ca3-1693-4742-a9f5-8dfcab313aee",
   "metadata": {},
   "source": [
    "### 1282. Group the People Given the Group Size They Belong To\n",
    "Medium\n",
    "Topics\n",
    "Companies\n",
    "Hint\n",
    "There are n people that are split into some unknown number of groups. Each person is labeled with a unique ID from 0 to n - 1.\n",
    "\n",
    "You are given an integer array groupSizes, where groupSizes[i] is the size of the group that person i is in. For example, if groupSizes[1] = 3, then person 1 must be in a group of size 3.\n",
    "\n",
    "Return a list of groups such that each person i is in a group of size groupSizes[i].\n",
    "\n",
    "Each person should appear in exactly one group, and every person must be in a group. If there are multiple answers, return any of them. It is guaranteed that there will be at least one valid solution for the given input.\n",
    "\n",
    " \n",
    "\n",
    "Example 1:\n",
    "\n",
    "Input: groupSizes = [3,3,3,3,3,1,3]\n",
    "Output: [[5],[0,1,2],[3,4,6]]\n",
    "Explanation: \n",
    "The first group is [5]. The size is 1, and groupSizes[5] = 1.\n",
    "The second group is [0,1,2]. The size is 3, and groupSizes[0] = groupSizes[1] = groupSizes[2] = 3.\n",
    "The third group is [3,4,6]. The size is 3, and groupSizes[3] = groupSizes[4] = groupSizes[6] = 3.\n",
    "Other possible solutions are [[2,1,6],[5],[0,4,3]] and [[5],[0,6,2],[4,3,1]].\n",
    "Example 2:\n",
    "\n",
    "Input: groupSizes = [2,1,3,3,3,2]\n",
    "Output: [[1],[0,5],[2,3,4]]\n",
    " "
   ]
  },
  {
   "cell_type": "code",
   "execution_count": 136,
   "id": "e77cc481-3ced-40e2-9907-44eb119af374",
   "metadata": {},
   "outputs": [
    {
     "name": "stdout",
     "output_type": "stream",
     "text": [
      "[[5], [0, 1, 2], [3, 4, 6]]\n",
      "[[1], [0, 5], [2, 3, 4]]\n"
     ]
    }
   ],
   "source": [
    "from typing import List \n",
    "from collections import OrderedDict \n",
    "\n",
    "def group_the_people(groupSizes: List[int]) -> List[int]:\n",
    "    res = [] \n",
    "    groups = {}\n",
    "    n = len(groupSizes)\n",
    "\n",
    "    for i, size in enumerate(groupSizes): \n",
    "        if (size not in groups): \n",
    "            groups[size] = [i] \n",
    "        else: \n",
    "            groups[size].append(i) \n",
    "    \n",
    "    \n",
    "    for key, value in groups.items():\n",
    "        if (len(value) > key):\n",
    "            for i in range(0, len(value), key):\n",
    "                res.append(value[i:i+key])\n",
    "        else:\n",
    "            res.append(value)\n",
    "            \n",
    "    res.sort(key=len)\n",
    "    \n",
    "    return res\n",
    "\n",
    "print(group_the_people([3,3,3,3,3,1,3]))\n",
    "print(group_the_people([2,1,3,3,3,2]))\n",
    "    "
   ]
  },
  {
   "cell_type": "code",
   "execution_count": null,
   "id": "f280c00f-154c-4ed0-96c5-f445f8a3ea77",
   "metadata": {},
   "outputs": [],
   "source": []
  },
  {
   "cell_type": "code",
   "execution_count": null,
   "id": "9e019d75-261f-4794-afb1-869865882d3e",
   "metadata": {},
   "outputs": [],
   "source": []
  }
 ],
 "metadata": {
  "kernelspec": {
   "display_name": "Python 3 (ipykernel)",
   "language": "python",
   "name": "python3"
  },
  "language_info": {
   "codemirror_mode": {
    "name": "ipython",
    "version": 3
   },
   "file_extension": ".py",
   "mimetype": "text/x-python",
   "name": "python",
   "nbconvert_exporter": "python",
   "pygments_lexer": "ipython3",
   "version": "3.12.2"
  }
 },
 "nbformat": 4,
 "nbformat_minor": 5
}
