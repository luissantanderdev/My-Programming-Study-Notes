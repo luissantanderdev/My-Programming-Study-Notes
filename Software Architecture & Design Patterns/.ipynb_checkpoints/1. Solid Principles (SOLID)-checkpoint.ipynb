{
 "cells": [
  {
   "cell_type": "markdown",
   "id": "e0e501a0",
   "metadata": {},
   "source": [
    "## SOLID Principles"
   ]
  },
  {
   "cell_type": "markdown",
   "id": "3d68b682",
   "metadata": {},
   "source": [
    "* in software engineering SOLID is an acronymn for 5 design principles.\n",
    "* why to use design patterns?\n",
    "* the aim of design patterns is to make software design more understandable and maintainable.\n",
    "* these principles are mainly promoted by Robert C. Marting in his book back in 2000\n",
    "\n",
    "1. Single Responsibility Principle\n",
    "2. Open-Closed Principle\n",
    "3. Liskov substituion principle\n",
    "4. Interface segregation principle\n",
    "5. Dependency inversion"
   ]
  },
  {
   "cell_type": "markdown",
   "id": "c5532044",
   "metadata": {},
   "source": [
    "### 1. Single Responsibility Principle\n",
    "\n",
    "The Single Responsibility Principle (SRP) in object-oriented design suggests that a class should have only one reason to change, meaning it should have only one responsibility. "
   ]
  },
  {
   "cell_type": "markdown",
   "id": "3ad90ce3",
   "metadata": {},
   "source": [
    "#### Without applying Single Responsibility Principle"
   ]
  },
  {
   "cell_type": "code",
   "execution_count": 2,
   "id": "2f6dc50c",
   "metadata": {},
   "outputs": [],
   "source": [
    "class User:\n",
    "    def __init__(self, name, email):\n",
    "        self.name = name\n",
    "        self.email = email\n",
    "\n",
    "    def save_to_database(self):\n",
    "        # Code for saving user to the database\n",
    "        pass\n",
    "\n",
    "    def send_notification_email(self):\n",
    "        # Code for sending a notification email\n",
    "        pass"
   ]
  },
  {
   "cell_type": "markdown",
   "id": "9cec2952",
   "metadata": {},
   "source": [
    "In the above example, the User class has two responsibilities: saving to the database and sending notification emails. This violates the SRP."
   ]
  },
  {
   "cell_type": "code",
   "execution_count": 3,
   "id": "a11bb60f",
   "metadata": {},
   "outputs": [],
   "source": [
    "# Applying Single Responsibility Principle\n",
    "\n",
    "class User:\n",
    "    def __init__(self, name, email):\n",
    "        self.name = name\n",
    "        self.email = email\n",
    "\n",
    "class UserRepository:\n",
    "    def save_to_database(self, user):\n",
    "        # Code for saving user to the database\n",
    "        pass\n",
    "\n",
    "class EmailService:\n",
    "    def send_notification_email(self, user):\n",
    "        # Code for sending a notification email\n",
    "        pass\n"
   ]
  },
  {
   "cell_type": "markdown",
   "id": "eb27c41d",
   "metadata": {},
   "source": [
    "### 2. Open-Closed Principle (OCP)\n",
    "\n",
    "The Open-Closed Principle (OCP) states that a class should be open for extension but closed for modification. This means that you should be able to add new functionality to a class without altering its existing code. "
   ]
  },
  {
   "cell_type": "code",
   "execution_count": 4,
   "id": "7b3de36f",
   "metadata": {},
   "outputs": [
    {
     "name": "stdout",
     "output_type": "stream",
     "text": [
      "Total area of shapes: 203.86\n"
     ]
    }
   ],
   "source": [
    "from abc import ABC, abstractmethod\n",
    "\n",
    "# Abstract class representing a shape\n",
    "class Shape(ABC):\n",
    "    @abstractmethod\n",
    "    def area(self):\n",
    "        pass\n",
    "\n",
    "# Concrete subclass for a rectangle\n",
    "class Rectangle(Shape):\n",
    "    def __init__(self, width, height):\n",
    "        self.width = width\n",
    "        self.height = height\n",
    "\n",
    "    def area(self):\n",
    "        return self.width * self.height\n",
    "\n",
    "# Concrete subclass for a circle\n",
    "class Circle(Shape):\n",
    "    def __init__(self, radius):\n",
    "        self.radius = radius\n",
    "\n",
    "    def area(self):\n",
    "        return 3.14 * self.radius * self.radius\n",
    "\n",
    "# Function that calculates the total area of shapes without modifying existing code\n",
    "def calculate_total_area(shapes):\n",
    "    total_area = 0\n",
    "    for shape in shapes:\n",
    "        total_area += shape.area()\n",
    "    return total_area\n",
    "\n",
    "# Example usage\n",
    "rectangle = Rectangle(5, 10)\n",
    "circle = Circle(7)\n",
    "\n",
    "total_area = calculate_total_area([rectangle, circle])\n",
    "print(\"Total area of shapes:\", total_area)\n"
   ]
  },
  {
   "cell_type": "markdown",
   "id": "40d41e25",
   "metadata": {},
   "source": [
    "In this example, the Shape class is the abstract class, and Rectangle and Circle are concrete subclasses. You can easily add new shapes (subclasses of Shape) without modifying the calculate_total_area function, demonstrating the Open-Closed Principle. This way, you can extend the functionality by adding new shapes without altering the existing code."
   ]
  },
  {
   "cell_type": "markdown",
   "id": "7757055b",
   "metadata": {},
   "source": [
    "### 3. Liskov Substitution Principle (LSP)\n",
    "\n",
    "The Liskov Substitution Principle (LSP) states that objects of a superclass should be replaceable with objects of a subclass without affecting the correctness of the program. \n",
    "\n",
    "There are 2 important design patterns that can guarantee that the Liskov Substition principle is not violated:\n",
    "\n",
    "1. Strategy Pattern\n",
    "\n",
    "2. Template Pattern"
   ]
  },
  {
   "cell_type": "code",
   "execution_count": 44,
   "id": "781c096c",
   "metadata": {},
   "outputs": [
    {
     "name": "stdout",
     "output_type": "stream",
     "text": [
      "Electric car is speeding up...\n",
      "Electric car is slowing down\n",
      "Electric car is being charged\n"
     ]
    }
   ],
   "source": [
    "from abc import ABC, abstractmethod\n",
    "\n",
    "class CustomError(Exception):\n",
    "    pass\n",
    "\n",
    "# Interface Abstraction\n",
    "class Fuel(ABC):\n",
    "    @abstractmethod\n",
    "    def fuel():\n",
    "        pass\n",
    "\n",
    "class Vehicle(ABC):\n",
    "    def __init__(self, type, age):\n",
    "        self._type = type\n",
    "        self._age = age\n",
    "        \n",
    "    def _speed_up(self):\n",
    "        print(\"Vehicle is speeding up...\")\n",
    "        \n",
    "    def _slow_down(self):\n",
    "        print(\"Vehicle is slowing down...\")\n",
    "                           \n",
    "class PetrolCar(Vehicle, Fuel):\n",
    "    def __init__(self, type, age):\n",
    "        super().__init__(type, age)\n",
    "    \n",
    "    def _speed_up(self):\n",
    "        print(\"Petrol car is speeding up...\")\n",
    "        \n",
    "    def _slow_down(self):\n",
    "        print(\"Petrol car is slowing down\")\n",
    "        \n",
    "    def fuel(self):\n",
    "        print(\"Petrol car is being fueld\")\n",
    "        \n",
    "class ElectricCar(Vehicle, Fuel):\n",
    "    def __init__(self, type, age):\n",
    "        super().__init__(type, age)\n",
    "    \n",
    "    def _speed_up(self):\n",
    "        print(\"Electric car is speeding up...\")\n",
    "        \n",
    "    def _slow_down(self):\n",
    "        print(\"Electric car is slowing down\")\n",
    "        \n",
    "    def fuel(self):\n",
    "        print(\"Electric car is being charged\")\n",
    "        \n",
    "v = ElectricCar(\"Ford\", 5)\n",
    "v._speed_up()\n",
    "v._slow_down()\n",
    "v.fuel()\n"
   ]
  },
  {
   "cell_type": "markdown",
   "id": "85c782c0",
   "metadata": {},
   "source": [
    "In this example, both PetrolCar and ElectricCar are subclasses of Vehicle. According to the Liskov Substitution Principle, we can substitute a PetrolCar object for a ElectricCar object or a Rectangle object without affecting the correctness of the program. The fuel function operates on a list of vehicles without needing to know the specific subclass, demonstrating the flexibility and substitutability allowed by the LSP.\n",
    "\n",
    "The Open-Closed Principle (OCP) and the Liskov Substitution Principle (LSP) are two distinct principles in object-oriented design, but they are related and often work together.\n",
    "\n",
    "1. **Open-Closed Principle (OCP):**\n",
    "   - **Focus:** The OCP emphasizes that a class should be open for extension but closed for modification.\n",
    "   - **Objective:** Encourages the design of systems that can be easily extended with new functionalities without modifying existing code.\n",
    "   - **Example:** Achieved by using abstract classes, interfaces, and polymorphism to allow adding new features through subclassing without changing existing code.\n",
    "\n",
    "2. **Liskov Substitution Principle (LSP):**\n",
    "   - **Focus:** The LSP emphasizes that objects of a superclass should be replaceable with objects of a subclass without affecting program correctness.\n",
    "   - **Objective:** Ensures that derived classes (subclasses) can be used interchangeably with their base classes (superclasses) without introducing errors.\n",
    "   - **Example:** Demonstrated by creating subclasses that adhere to the behavior expected by the superclass. Subclasses should extend, not override or contradict, the behavior of the superclass.\n",
    "\n",
    "**Key Differences:**\n",
    "- **Scope:**\n",
    "  - OCP is primarily concerned with the extensibility of a class or system by allowing new features to be added through extensions.\n",
    "  - LSP is concerned with the interchangeability of objects, ensuring that subclasses can be used wherever their superclass is expected.\n",
    "\n",
    "- **Nature of Change:**\n",
    "  - OCP deals with changes in functionality and encourages adding new features.\n",
    "  - LSP deals with changes in behavior and ensures that subclass behavior is consistent with the expectations of the superclass.\n",
    "\n",
    "- **Implementation:**\n",
    "  - OCP is often implemented using abstract classes, interfaces, and polymorphism.\n",
    "  - LSP is implemented by adhering to the behavioral contract established by the superclass when creating subclasses.\n",
    "\n",
    "In practice, these principles often complement each other. Following both principles helps create flexible, maintainable, and robust object-oriented systems. The OCP allows for easy extension, and the LSP ensures that extended classes can seamlessly replace their base classes."
   ]
  },
  {
   "cell_type": "code",
   "execution_count": null,
   "id": "32b894c4",
   "metadata": {},
   "outputs": [],
   "source": []
  }
 ],
 "metadata": {
  "kernelspec": {
   "display_name": "Python 3 (ipykernel)",
   "language": "python",
   "name": "python3"
  },
  "language_info": {
   "codemirror_mode": {
    "name": "ipython",
    "version": 3
   },
   "file_extension": ".py",
   "mimetype": "text/x-python",
   "name": "python",
   "nbconvert_exporter": "python",
   "pygments_lexer": "ipython3",
   "version": "3.11.3"
  }
 },
 "nbformat": 4,
 "nbformat_minor": 5
}
