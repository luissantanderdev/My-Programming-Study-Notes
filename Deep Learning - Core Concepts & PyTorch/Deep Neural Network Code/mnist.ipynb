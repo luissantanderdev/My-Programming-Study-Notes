{
 "cells": [
  {
   "cell_type": "markdown",
   "metadata": {},
   "source": [
    "# Big Picture \n",
    "- Get the data set (pairs of input and labels).\n",
    "- Forward pass: input -> function (model) -> output (prediction) <-> label to compute the loss. \n",
    "- Compute the loss\n",
    "- Backward pass (i.e. back propagation)\n",
    "- Update the parameters (i.e. weights and biases) "
   ]
  },
  {
   "cell_type": "code",
   "execution_count": 11,
   "metadata": {},
   "outputs": [
    {
     "name": "stdout",
     "output_type": "stream",
     "text": [
      "weights = pixels 28 784\n",
      "(50000, 784)\n",
      "(50000,)\n"
     ]
    }
   ],
   "source": [
    "from pathlib import Path \n",
    "import requests\n",
    "\n",
    "# Get the data set \n",
    "DATA_PATH = Path('data') \n",
    "PATH = DATA_PATH / 'mnist'\n",
    "\n",
    "PATH.mkdir(parents=True, exist_ok=True) \n",
    "\n",
    "URL = URL = \"https://github.com/pytorch/tutorials/raw/main/_static/\"\n",
    "FILENAME = 'mnist.pkl.gz'\n",
    "\n",
    "if (not (PATH / FILENAME).exists()):\n",
    "    content = requests.get(URL + FILENAME).content\n",
    "    (PATH / FILENAME).open('wb').write(content) \n",
    "\n",
    "import pickle\n",
    "import gzip \n",
    "\n",
    "with gzip.open((PATH / FILENAME).as_posix(), 'rb') as f:\n",
    "    ((x_train, y_train), (x_valid, y_valid), _) = pickle.load(f, encoding='latin-1')\n",
    "\n",
    "    print('weights = pixels', 28, (28 * 28))\n",
    "    print(x_train.shape)\n",
    "    print(y_train.shape) "
   ]
  },
  {
   "cell_type": "code",
   "execution_count": 39,
   "metadata": {},
   "outputs": [
    {
     "name": "stdout",
     "output_type": "stream",
     "text": [
      "tensor(2)\n"
     ]
    },
    {
     "data": {
      "image/png": "[encoded data removed]",
      "text/plain": [
       "<Figure size 640x480 with 1 Axes>"
      ]
     },
     "metadata": {},
     "output_type": "display_data"
    }
   ],
   "source": [
    "import matplotlib.pyplot as plt\n",
    "import numpy as np \n",
    "\n",
    "# examine the dataset \n",
    "\n",
    "plt.imshow(x_train[5].reshape((28, 28)), cmap='gray')\n",
    "print(y_train[5])"
   ]
  },
  {
   "cell_type": "code",
   "execution_count": 40,
   "metadata": {},
   "outputs": [],
   "source": [
    "import torch\n",
    "import math \n",
    "\n",
    "# Turn NumPy Arrays to PyTorch Vector Tensors \n",
    "x_train, y_train, x_valid, y_valid = map(torch.clone, (x_train, y_train,\n",
    "                                                        x_valid, y_valid)) \n",
    "\n",
    "# Initialize weights and biases (i.e. parameters) \n",
    "# NN architecture: input -> hidden -> hidden -> output \n",
    "# # of neurons in the input layer: 784 (28 * 28); output layer: 10 \n",
    "# (10, 784) * (784, 50000) -> w * x + b \n",
    "# (50000, 784) * (784, 10) -> x * w + b\n",
    "\n",
    "torch.manual_seed(0) # create the same random numbers \n",
    "weights = torch.randn(784, 10) / math.sqrt(784) # Xavier initialization \n",
    "weights.requires_grad_() # in-place only when used _ < - saves a lot of memory when using in place\n",
    "biases = torch.zeros(10, requires_grad=True) \n"
   ]
  },
  {
   "cell_type": "markdown",
   "metadata": {},
   "source": [
    "- numpy: is a really cool library for use in scientific and numerical computing research. \n",
    "- numpy array - multidimensional table of data - 2d, 3d, n... dimensional data.\n",
    "- when all the elements in an array is of simple type - like integer or float; numpy will store it as a compact c data structure in memory. It can run computations on the data at the same speed as optimize C code. \n",
    "- pytorch tensors are almost the same as numpy arrays - but: there are some restrictions that make it more performant. \n",
    "- Restrictions: A tensor can't be of any type - it has to be a single basic numeric type for all elements - it also has to be rectangular in shape. \n",
    "- Tensors can utilize GPUs and are optimized for computation in GPUs \n",
    "- Pytorch implements Autograd - automatically can compute gradients (derivates) of an operation we do on tensors."
   ]
  },
  {
   "cell_type": "code",
   "execution_count": 42,
   "metadata": {},
   "outputs": [],
   "source": [
    "# Define the model: input -> model -> output \n",
    "# (50000, 784) -> (... * 64, 784)\n",
    "\n",
    "# @ the at sign is matrix multiplication operator\n",
    "\n",
    "def model(xb): \n",
    "    return xb @ weights + biases  "
   ]
  },
  {
   "cell_type": "code",
   "execution_count": 1,
   "metadata": {},
   "outputs": [
    {
     "ename": "NameError",
     "evalue": "name 'model' is not defined",
     "output_type": "error",
     "traceback": [
      "\u001b[1;31m---------------------------------------------------------------------------\u001b[0m",
      "\u001b[1;31mNameError\u001b[0m                                 Traceback (most recent call last)",
      "Cell \u001b[1;32mIn[1], line 13\u001b[0m\n\u001b[0;32m     10\u001b[0m     \u001b[38;5;66;03m# - 1 / n sum p * log(q) -> n = bs \u001b[39;00m\n\u001b[0;32m     11\u001b[0m     \u001b[38;5;28;01mreturn\u001b[39;00m \u001b[38;5;241m-\u001b[39m(one_hot_encoded_targets \u001b[38;5;241m*\u001b[39m soft_max(pred)\u001b[38;5;241m.\u001b[39mlog())\u001b[38;5;241m.\u001b[39msum() \u001b[38;5;241m/\u001b[39m bs \n\u001b[1;32m---> 13\u001b[0m \u001b[38;5;28mprint\u001b[39m(soft_max(\u001b[43mmodel\u001b[49m(x_train)))\n",
      "\u001b[1;31mNameError\u001b[0m: name 'model' is not defined"
     ]
    }
   ],
   "source": [
    "# Loss Function -> 10 <-> label ('5' -> [0, 0, 0, 0, 1, 0, 0, 0, 0, 0, 0])\n",
    "# (64, 10) \n",
    "\n",
    "def soft_max(x): # (e^x_i) / sum(e^x_j)\n",
    "    return x.exp() / x.exp().sum(-1).unsqueeze(-1) \n",
    "\n",
    "def cross_entropy_loss(pred, targets):\n",
    "    bs, out_features = pred.shape\n",
    "    one_hot_encoded_targets = torch.eye(out_features)[targets]\n",
    "    # - 1 / n sum p * log(q) -> n = bs \n",
    "    return -(one_hot_encoded_targets * soft_max(pred).log()).sum() / bs \n",
    "    \n",
    "print(soft_max(model(x_train)))"
   ]
  },
  {
   "cell_type": "markdown",
   "metadata": {},
   "source": []
  }
 ],
 "metadata": {
  "kernelspec": {
   "display_name": "example",
   "language": "python",
   "name": "python3"
  },
  "language_info": {
   "codemirror_mode": {
    "name": "ipython",
    "version": 3
   },
   "file_extension": ".py",
   "mimetype": "text/x-python",
   "name": "python",
   "nbconvert_exporter": "python",
   "pygments_lexer": "ipython3",
   "version": "3.12.3"
  }
 },
 "nbformat": 4,
 "nbformat_minor": 2
}
